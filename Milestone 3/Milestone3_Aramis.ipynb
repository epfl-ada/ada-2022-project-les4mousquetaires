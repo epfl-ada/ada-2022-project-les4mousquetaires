{
 "cells": [
  {
   "cell_type": "code",
   "execution_count": 1,
   "id": "b4c5038e",
   "metadata": {},
   "outputs": [],
   "source": [
    "from dash import Dash, dcc, html, Input, Output\n",
    "import pandas as pd\n",
    "import numpy as np\n",
    "import plotly.graph_objects as go\n",
    "import plotly.express as px\n",
    "import country_converter as coco\n",
    "import json\n",
    "import plotly.io as pio\n",
    "from plotly.subplots import make_subplots\n",
    "\n",
    "cc = coco.CountryConverter()\n",
    "\n",
    "df_beer_export_sim = pd.read_pickle('df_beer_export_sim.pkl') #period, user_location = f(country)\n",
    "brew_country_list = pd.read_pickle('df_brew_country_list.pkl').index.to_list() # list of 204 country\n",
    "beer_style_list = pd.read_pickle('df_beer_style_list.pkl').to_list() # List of 22 beer style\n",
    "df_country_style = pd.read_pickle('res.pkl') # Cross tab country style\n",
    "df_scaling = pd.read_pickle('df_scaling.pkl') #period, user_location = f(style)\n",
    "df_damso = pd.read_pickle(\"the_sexiest_porthos.pkl\")\n",
    "\n",
    "df_scaling.drop('Sudan', level=1, axis=0, inplace=True) #J'enlève le Sudan ATTENTION\n",
    "\n",
    "\n",
    "years = np.arange(2004,2018)\n",
    "iso_code = cc.pandas_convert(series=pd.Series(brew_country_list), to='ISO3', not_found=None)"
   ]
  },
  {
   "cell_type": "code",
   "execution_count": null,
   "id": "ce2ffc52",
   "metadata": {},
   "outputs": [],
   "source": [
    "# List of the number of producted beers for each year\n",
    "\n",
    "app.layout = html.Div([\n",
    "    html.H2('Brewery succes simulation'),\n",
    "    html.P(\"Select a country where you construct your brewery:\"),\n",
    "    dcc.Dropdown(brew_country_list, 'Switzerland', id='country-dropdown'),\n",
    "    html.P(\"Select a type of beer that you produce in your brewery:\"),\n",
    "    dcc.Dropdown(beer_style_list, 'Ale', id='type-dropdown'),\n",
    "    html.Div(id='output-container'),\n",
    "    dcc.Graph(id=\"graph\")\n",
    "])"
   ]
  },
  {
   "cell_type": "code",
   "execution_count": 5,
   "id": "2984c55d",
   "metadata": {},
   "outputs": [
    {
     "name": "stdout",
     "output_type": "stream",
     "text": [
      "<option value=\"USA\">United States</option>\n",
      "<option value=\"GBR\">United Kingdom</option>\n",
      "<option value=\"DEU\">Germany</option>\n",
      "<option value=\"CAN\">Canada</option>\n",
      "<option value=\"ITA\">Italy</option>\n",
      "<option value=\"FRA\">France</option>\n",
      "<option value=\"ESP\">Spain</option>\n",
      "<option value=\"AUS\">Australia</option>\n",
      "<option value=\"NLD\">Netherlands</option>\n",
      "<option value=\"CHE\">Switzerland</option>\n",
      "<option value=\"BEL\">Belgium</option>\n",
      "<option value=\"RUS\">Russia</option>\n",
      "<option value=\"CZE\">Czech Republic</option>\n",
      "<option value=\"BRA\">Brazil</option>\n",
      "<option value=\"AUT\">Austria</option>\n",
      "<option value=\"JPN\">Japan</option>\n",
      "<option value=\"SWE\">Sweden</option>\n",
      "<option value=\"POL\">Poland</option>\n",
      "<option value=\"MEX\">Mexico</option>\n",
      "<option value=\"DNK\">Denmark</option>\n",
      "<option value=\"ARG\">Argentina</option>\n",
      "<option value=\"NZL\">New Zealand</option>\n",
      "<option value=\"NOR\">Norway</option>\n",
      "<option value=\"ZAF\">South Africa</option>\n",
      "<option value=\"CHN\">China</option>\n",
      "<option value=\"IRL\">Ireland</option>\n",
      "<option value=\"CHL\">Chile</option>\n",
      "<option value=\"UKR\">Ukraine</option>\n",
      "<option value=\"HUN\">Hungary</option>\n",
      "<option value=\"FIN\">Finland</option>\n",
      "<option value=\"PRT\">Portugal</option>\n",
      "<option value=\"LTU\">Lithuania</option>\n",
      "<option value=\"SVK\">Slovak Republic</option>\n",
      "<option value=\"SVN\">Slovenia</option>\n",
      "<option value=\"IND\">India</option>\n",
      "<option value=\"THA\">Thailand</option>\n",
      "<option value=\"VNM\">Vietnam</option>\n"
     ]
    }
   ],
   "source": [
    "# Generate dropdown menu for country :\n",
    "for i, c in enumerate(brew_country_list):\n",
    "    \n",
    "    print(f'<option value=\"{iso_code[i]}\">{c}</option>')"
   ]
  },
  {
   "cell_type": "code",
   "execution_count": 7,
   "id": "2a1ab788",
   "metadata": {},
   "outputs": [
    {
     "name": "stdout",
     "output_type": "stream",
     "text": [
      "<option value=\"Ale\">Ale</option>\n",
      "<option value=\"Amber Ale\">Amber Ale</option>\n",
      "<option value=\"Amber Lager\">Amber Lager</option>\n",
      "<option value=\"Belgian Ale\">Belgian Ale</option>\n",
      "<option value=\"Bitter Ale\">Bitter Ale</option>\n",
      "<option value=\"Bock\">Bock</option>\n",
      "<option value=\"Brown Ale\">Brown Ale</option>\n",
      "<option value=\"Cider\">Cider</option>\n",
      "<option value=\"Dark Ale\">Dark Ale</option>\n",
      "<option value=\"Dark Lager\">Dark Lager</option>\n",
      "<option value=\"IIPA\">IIPA</option>\n",
      "<option value=\"IPA\">IPA</option>\n",
      "<option value=\"Lager\">Lager</option>\n",
      "<option value=\"Mead\">Mead</option>\n",
      "<option value=\"Pale Ale\">Pale Ale</option>\n",
      "<option value=\"Pilsener\">Pilsener</option>\n",
      "<option value=\"Porter\">Porter</option>\n",
      "<option value=\"Saké\">Saké</option>\n",
      "<option value=\"Sour\">Sour</option>\n",
      "<option value=\"Specialty Beer\">Specialty Beer</option>\n",
      "<option value=\"Stout\">Stout</option>\n",
      "<option value=\"Strong Ale\">Strong Ale</option>\n",
      "<option value=\"Wheat Beer\">Wheat Beer</option>\n"
     ]
    }
   ],
   "source": [
    "for b in beer_style_list:\n",
    "    \n",
    "    print(f'<option value=\"{b}\">{b}</option>')"
   ]
  },
  {
   "cell_type": "code",
   "execution_count": 7,
   "id": "0c4aac42",
   "metadata": {},
   "outputs": [],
   "source": [
    "projection_types = ['natural earth', 'equirectangular', 'orthographic', 'mercator']\n",
    "\n",
    "# Layout for the figures\n",
    "layout4 = go.Layout(\n",
    "    height=500, width=900,\n",
    "    title='Cumulative results',\n",
    "    plot_bgcolor='rgba(0,0,0,0)',\n",
    "    hovermode='x unified',\n",
    "\n",
    "    yaxis = dict(\n",
    "      gridcolor = '#909090',\n",
    "      ticksuffix=' ', \n",
    "      showline=True, linewidth=1, linecolor='black', mirror=True,\n",
    "    ),\n",
    "    xaxis = dict(\n",
    "      gridcolor='#909090',\n",
    "      showline=True, linewidth=1, linecolor='black', mirror=True,\n",
    "      title = {'text':'year'})  \n",
    ")\n",
    "buttons = []\n",
    "for projection_type in projection_types:\n",
    "    buttons.append(dict(\n",
    "                label=projection_type,\n",
    "                method='relayout',\n",
    "                args=[{'geo': {'projection': {'type': projection_type}}}]\n",
    "                ))\n",
    "    \n",
    "updatemenus = list([dict(\n",
    "        buttons=buttons,\n",
    "        type='dropdown',\n",
    "        direction='down',\n",
    "        pad={'r': 10, 't': 10},\n",
    "        showactive=True,\n",
    "        x=0,\n",
    "        xanchor='left',\n",
    "        y=1.1,\n",
    "        yanchor='top'\n",
    ")])"
   ]
  },
  {
   "cell_type": "code",
   "execution_count": 10,
   "id": "2aa0fc36",
   "metadata": {},
   "outputs": [],
   "source": [
    "def simulation(brew_country='France', beer_type='Ale', projection='natural earth'):\n",
    "    # Dataframe to store the exportation distribution in each user countries\n",
    "    df_distribution = pd.DataFrame(columns=['brew_country','country', 'period', 'value'])\n",
    "    \n",
    "    NB_INIT_BEER = 1000\n",
    "    \n",
    "    beer_producted_per_year    = np.zeros(len(years)+1, int)\n",
    "    beer_producted_per_year[0] = NB_INIT_BEER\n",
    "    \n",
    "    # Dataframe to store cumulated country where there is distributed beer (False : no distrib, True : distrib)\n",
    "    country_reach_by_export = [False]*len(df_beer_export_sim.xs(2010).index) #2010 is a random id to have the size of the df\n",
    "    nb_export_country       = []\n",
    "    nb_cumul_beers          = []\n",
    "    \n",
    "    for i, year in enumerate(years[:-1]):\n",
    "\n",
    "        #D'Artagnan's part\n",
    "        beer_distribution = (beer_producted_per_year[i]*df_beer_export_sim.xs(year)[brew_country]).apply(np.ceil)\n",
    "        \n",
    "        #Athos part\n",
    "        if year == 2017:\n",
    "            beer_distribution = beer_distribution.mul(df_scaling.xs(2016)[beer_type]).mul(1 + df_damso[beer_type].loc[:,2016]).fillna(0).apply(np.ceil)\n",
    "        else:\n",
    "            beer_distribution = beer_distribution.mul(df_scaling.xs(year)[beer_type]).mul(1 + df_damso[beer_type].loc[:,year]).fillna(0).apply(np.ceil)\n",
    "\n",
    "        if beer_distribution.sum() == 0:\n",
    "            beer_producted_per_year[i+1] = beer_producted_per_year[i]\n",
    "        else:\n",
    "            beer_producted_per_year[i+1] = beer_distribution.sum()\n",
    "        \n",
    "        if i>0:\n",
    "            nb_cumul_beers.append(nb_cumul_beers[-1] + beer_distribution.sum())\n",
    "        else:\n",
    "            nb_cumul_beers.append(beer_distribution.sum())\n",
    "\n",
    "        # store this data in df_distribution (beer_distribution_store just used for manipulating data)\n",
    "        beer_distribution = beer_distribution.reset_index()\n",
    "        beer_distribution.columns = ['country', 'distribued beer']\n",
    "        beer_distribution['year'] = str(year)\n",
    "        beer_distribution['brew_country'] = brew_country\n",
    "        df_distribution = pd.concat([df_distribution,beer_distribution], axis=0)\n",
    "        \n",
    "        # Count the progression of country reached by export\n",
    "        country_reach_by_export = country_reach_by_export | (beer_distribution['distribued beer'] > 0)\n",
    "        nb_export_country.append(np.sum(country_reach_by_export))\n",
    "        \n",
    "    \n",
    "    # iso_code for the graph world map\n",
    "    df_distribution['iso_code'] = cc.pandas_convert(series=df_distribution.country, to='ISO3', not_found=None)\n",
    "    df_distribution['happiness gauge'] = np.log10(df_distribution['distribued beer'].replace(to_replace = 0, value = 1)).round(2)\n",
    "    df_distribution\n",
    "    \n",
    "    # Select the data for the input country, filter country with no data\n",
    "    mask = (df_distribution.brew_country == brew_country) & (df_distribution['happiness gauge'] > 0)\n",
    "    beer_map = px.choropleth(df_distribution[mask], locations=\"iso_code\",\n",
    "                     color=\"happiness gauge\",\n",
    "                     hover_name=\"country\",\n",
    "                     animation_frame=\"year\",\n",
    "                     title = f\"Distribution brewery in {brew_country} producing {beer_type}-type beers\",                 \n",
    "                     color_continuous_scale=px.colors.sequential.Oranges,\n",
    "                     width=900, height=700, range_color = [0, df_distribution['happiness gauge'].max()],\n",
    "                     hover_data={'iso_code':False,'year':False, 'distribued beer':':.0f', 'happiness gauge':':.2f'},\n",
    "                     )\n",
    "    # Replace the updatemenu\n",
    "    beer_map[\"layout\"].pop(\"updatemenus\")\n",
    "    beer_map.update_layout(margin={\"r\":0,\"t\":3,\"l\":0,\"b\":0}, \n",
    "                           title={'xanchor': 'center', 'yanchor': 'top', 'y':0.98, 'x':0.5},\n",
    "                           updatemenus=updatemenus)\n",
    "    \n",
    "    # Set the projection\n",
    "    beer_map.update_geos(projection_type=projection)\n",
    "    \n",
    "    # fig 4\n",
    "    \n",
    "    fig = make_subplots(specs=[[{\"secondary_y\": True}]])\n",
    "    \n",
    "    fig.add_trace(\n",
    "        go.Scatter(x    = years, \n",
    "                   y    = nb_export_country,\n",
    "                   line = go.scatter.Line(color='#B51F1F', width=2),\n",
    "                   name = \"number of country\"),\n",
    "        secondary_y=False\n",
    "    )\n",
    "    \n",
    "    fig.add_trace(\n",
    "        go.Scatter(x    = years, \n",
    "                   y    = nb_cumul_beers,\n",
    "                   line = go.scatter.Line(color='#636EFA', width=2),\n",
    "                   name = \"number of produced beers\"),\n",
    "        secondary_y=True\n",
    "    )\n",
    "    \n",
    "    # Set x-axis title\n",
    "    fig.update_xaxes(title_text=\"year\")\n",
    "\n",
    "    # Set y-axes titles\n",
    "    fig.update_yaxes(title_text=\"number of country\", secondary_y=False)\n",
    "    fig.update_yaxes(range = [0,np.max(nb_export_country)+2], secondary_y=False)\n",
    "    fig.update_yaxes(title_text=\"number of beers\", tickprefix=' ', secondary_y=True)\n",
    "    \n",
    "    fig.update_layout(layout4)\n",
    "    \n",
    "\n",
    "    return beer_map, fig"
   ]
  },
  {
   "cell_type": "code",
   "execution_count": 11,
   "id": "d173cbb9",
   "metadata": {},
   "outputs": [
    {
     "data": {
      "application/vnd.plotly.v1+json": {
       "config": {
        "plotlyServerURL": "https://plot.ly"
       },
       "data": [
        {
         "coloraxis": "coloraxis",
         "customdata": [
          [
           "AGO",
           "2004",
           2,
           0.3
          ],
          [
           "AUS",
           "2004",
           20,
           1.3
          ],
          [
           "BEL",
           "2004",
           12,
           1.08
          ],
          [
           "BOL",
           "2004",
           2,
           0.3
          ],
          [
           "CAN",
           "2004",
           138,
           2.14
          ],
          [
           "HRV",
           "2004",
           15,
           1.18
          ],
          [
           "CZE",
           "2004",
           3,
           0.48
          ],
          [
           "DNK",
           "2004",
           93,
           1.97
          ],
          [
           "FIN",
           "2004",
           10,
           1
          ],
          [
           "FRA",
           "2004",
           3,
           0.48
          ],
          [
           "DEU",
           "2004",
           15,
           1.18
          ],
          [
           "ISL",
           "2004",
           2,
           0.3
          ],
          [
           "ITA",
           "2004",
           19,
           1.28
          ],
          [
           "JPN",
           "2004",
           7,
           0.85
          ],
          [
           "NLD",
           "2004",
           28,
           1.45
          ],
          [
           "NOR",
           "2004",
           2,
           0.3
          ],
          [
           "POL",
           "2004",
           2,
           0.3
          ],
          [
           "KOR",
           "2004",
           2,
           0.3
          ],
          [
           "ESP",
           "2004",
           5,
           0.7
          ],
          [
           "SWE",
           "2004",
           24,
           1.38
          ],
          [
           "CHE",
           "2004",
           27,
           1.43
          ],
          [
           "TUR",
           "2004",
           2,
           0.3
          ],
          [
           "GBR",
           "2004",
           130,
           2.11
          ],
          [
           "USA",
           "2004",
           445,
           2.65
          ]
         ],
         "geo": "geo",
         "hovertemplate": "<b>%{hovertext}</b><br><br>distribued beer=%{customdata[2]:.0f}<br>happiness gauge=%{z:.2f}<extra></extra>",
         "hovertext": [
          "Angola",
          "Australia",
          "Belgium",
          "Bolivia",
          "Canada",
          "Croatia",
          "Czech Republic",
          "Denmark",
          "Finland",
          "France",
          "Germany",
          "Iceland",
          "Italy",
          "Japan",
          "Netherlands",
          "Norway",
          "Poland",
          "South Korea",
          "Spain",
          "Sweden",
          "Switzerland",
          "Turkey",
          "United Kingdom",
          "United States"
         ],
         "locations": [
          "AGO",
          "AUS",
          "BEL",
          "BOL",
          "CAN",
          "HRV",
          "CZE",
          "DNK",
          "FIN",
          "FRA",
          "DEU",
          "ISL",
          "ITA",
          "JPN",
          "NLD",
          "NOR",
          "POL",
          "KOR",
          "ESP",
          "SWE",
          "CHE",
          "TUR",
          "GBR",
          "USA"
         ],
         "name": "",
         "type": "choropleth",
         "z": [
          0.3,
          1.3,
          1.08,
          0.3,
          2.14,
          1.18,
          0.48,
          1.97,
          1,
          0.48,
          1.18,
          0.3,
          1.28,
          0.85,
          1.45,
          0.3,
          0.3,
          0.3,
          0.7,
          1.38,
          1.43,
          0.3,
          2.11,
          2.65
         ]
        }
       ],
       "frames": [
        {
         "data": [
          {
           "coloraxis": "coloraxis",
           "customdata": [
            [
             "AGO",
             "2004",
             2,
             0.3
            ],
            [
             "AUS",
             "2004",
             20,
             1.3
            ],
            [
             "BEL",
             "2004",
             12,
             1.08
            ],
            [
             "BOL",
             "2004",
             2,
             0.3
            ],
            [
             "CAN",
             "2004",
             138,
             2.14
            ],
            [
             "HRV",
             "2004",
             15,
             1.18
            ],
            [
             "CZE",
             "2004",
             3,
             0.48
            ],
            [
             "DNK",
             "2004",
             93,
             1.97
            ],
            [
             "FIN",
             "2004",
             10,
             1
            ],
            [
             "FRA",
             "2004",
             3,
             0.48
            ],
            [
             "DEU",
             "2004",
             15,
             1.18
            ],
            [
             "ISL",
             "2004",
             2,
             0.3
            ],
            [
             "ITA",
             "2004",
             19,
             1.28
            ],
            [
             "JPN",
             "2004",
             7,
             0.85
            ],
            [
             "NLD",
             "2004",
             28,
             1.45
            ],
            [
             "NOR",
             "2004",
             2,
             0.3
            ],
            [
             "POL",
             "2004",
             2,
             0.3
            ],
            [
             "KOR",
             "2004",
             2,
             0.3
            ],
            [
             "ESP",
             "2004",
             5,
             0.7
            ],
            [
             "SWE",
             "2004",
             24,
             1.38
            ],
            [
             "CHE",
             "2004",
             27,
             1.43
            ],
            [
             "TUR",
             "2004",
             2,
             0.3
            ],
            [
             "GBR",
             "2004",
             130,
             2.11
            ],
            [
             "USA",
             "2004",
             445,
             2.65
            ]
           ],
           "geo": "geo",
           "hovertemplate": "<b>%{hovertext}</b><br><br>distribued beer=%{customdata[2]:.0f}<br>happiness gauge=%{z:.2f}<extra></extra>",
           "hovertext": [
            "Angola",
            "Australia",
            "Belgium",
            "Bolivia",
            "Canada",
            "Croatia",
            "Czech Republic",
            "Denmark",
            "Finland",
            "France",
            "Germany",
            "Iceland",
            "Italy",
            "Japan",
            "Netherlands",
            "Norway",
            "Poland",
            "South Korea",
            "Spain",
            "Sweden",
            "Switzerland",
            "Turkey",
            "United Kingdom",
            "United States"
           ],
           "locations": [
            "AGO",
            "AUS",
            "BEL",
            "BOL",
            "CAN",
            "HRV",
            "CZE",
            "DNK",
            "FIN",
            "FRA",
            "DEU",
            "ISL",
            "ITA",
            "JPN",
            "NLD",
            "NOR",
            "POL",
            "KOR",
            "ESP",
            "SWE",
            "CHE",
            "TUR",
            "GBR",
            "USA"
           ],
           "name": "",
           "type": "choropleth",
           "z": [
            0.3,
            1.3,
            1.08,
            0.3,
            2.14,
            1.18,
            0.48,
            1.97,
            1,
            0.48,
            1.18,
            0.3,
            1.28,
            0.85,
            1.45,
            0.3,
            0.3,
            0.3,
            0.7,
            1.38,
            1.43,
            0.3,
            2.11,
            2.65
           ]
          }
         ],
         "name": "2004"
        },
        {
         "data": [
          {
           "coloraxis": "coloraxis",
           "customdata": [
            [
             "AUS",
             "2005",
             23,
             1.36
            ],
            [
             "AUT",
             "2005",
             13,
             1.11
            ],
            [
             "BEL",
             "2005",
             16,
             1.2
            ],
            [
             "CAN",
             "2005",
             120,
             2.08
            ],
            [
             "HRV",
             "2005",
             2,
             0.3
            ],
            [
             "DNK",
             "2005",
             218,
             2.34
            ],
            [
             "FIN",
             "2005",
             12,
             1.08
            ],
            [
             "FRA",
             "2005",
             8,
             0.9
            ],
            [
             "DEU",
             "2005",
             15,
             1.18
            ],
            [
             "IRL",
             "2005",
             3,
             0.48
            ],
            [
             "ITA",
             "2005",
             12,
             1.08
            ],
            [
             "JPN",
             "2005",
             3,
             0.48
            ],
            [
             "LUX",
             "2005",
             3,
             0.48
            ],
            [
             "NLD",
             "2005",
             16,
             1.2
            ],
            [
             "NZL",
             "2005",
             3,
             0.48
            ],
            [
             "NOR",
             "2005",
             10,
             1
            ],
            [
             "POL",
             "2005",
             3,
             0.48
            ],
            [
             "PRT",
             "2005",
             3,
             0.48
            ],
            [
             "ZAF",
             "2005",
             2,
             0.3
            ],
            [
             "KOR",
             "2005",
             2,
             0.3
            ],
            [
             "ESP",
             "2005",
             3,
             0.48
            ],
            [
             "SWE",
             "2005",
             33,
             1.52
            ],
            [
             "CHE",
             "2005",
             10,
             1
            ],
            [
             "TWN",
             "2005",
             2,
             0.3
            ],
            [
             "THA",
             "2005",
             2,
             0.3
            ],
            [
             "GBR",
             "2005",
             128,
             2.11
            ],
            [
             "USA",
             "2005",
             452,
             2.66
            ]
           ],
           "geo": "geo",
           "hovertemplate": "<b>%{hovertext}</b><br><br>distribued beer=%{customdata[2]:.0f}<br>happiness gauge=%{z:.2f}<extra></extra>",
           "hovertext": [
            "Australia",
            "Austria",
            "Belgium",
            "Canada",
            "Croatia",
            "Denmark",
            "Finland",
            "France",
            "Germany",
            "Ireland",
            "Italy",
            "Japan",
            "Luxembourg",
            "Netherlands",
            "New Zealand",
            "Norway",
            "Poland",
            "Portugal",
            "South Africa",
            "South Korea",
            "Spain",
            "Sweden",
            "Switzerland",
            "Taiwan",
            "Thailand",
            "United Kingdom",
            "United States"
           ],
           "locations": [
            "AUS",
            "AUT",
            "BEL",
            "CAN",
            "HRV",
            "DNK",
            "FIN",
            "FRA",
            "DEU",
            "IRL",
            "ITA",
            "JPN",
            "LUX",
            "NLD",
            "NZL",
            "NOR",
            "POL",
            "PRT",
            "ZAF",
            "KOR",
            "ESP",
            "SWE",
            "CHE",
            "TWN",
            "THA",
            "GBR",
            "USA"
           ],
           "name": "",
           "type": "choropleth",
           "z": [
            1.36,
            1.11,
            1.2,
            2.08,
            0.3,
            2.34,
            1.08,
            0.9,
            1.18,
            0.48,
            1.08,
            0.48,
            0.48,
            1.2,
            0.48,
            1,
            0.48,
            0.48,
            0.3,
            0.3,
            0.48,
            1.52,
            1,
            0.3,
            0.3,
            2.11,
            2.66
           ]
          }
         ],
         "name": "2005"
        },
        {
         "data": [
          {
           "coloraxis": "coloraxis",
           "customdata": [
            [
             "AUS",
             "2006",
             39,
             1.59
            ],
            [
             "AUT",
             "2006",
             3,
             0.48
            ],
            [
             "BEL",
             "2006",
             33,
             1.52
            ],
            [
             "BRA",
             "2006",
             3,
             0.48
            ],
            [
             "CAN",
             "2006",
             102,
             2.01
            ],
            [
             "HRV",
             "2006",
             12,
             1.08
            ],
            [
             "DNK",
             "2006",
             242,
             2.38
            ],
            [
             "SLV",
             "2006",
             3,
             0.48
            ],
            [
             "FIN",
             "2006",
             23,
             1.36
            ],
            [
             "FRA",
             "2006",
             4,
             0.6
            ],
            [
             "DEU",
             "2006",
             21,
             1.32
            ],
            [
             "GRC",
             "2006",
             2,
             0.3
            ],
            [
             "IRL",
             "2006",
             8,
             0.9
            ],
            [
             "ITA",
             "2006",
             5,
             0.7
            ],
            [
             "JPN",
             "2006",
             2,
             0.3
            ],
            [
             "MEX",
             "2006",
             6,
             0.78
            ],
            [
             "NLD",
             "2006",
             22,
             1.34
            ],
            [
             "NZL",
             "2006",
             9,
             0.95
            ],
            [
             "NOR",
             "2006",
             31,
             1.49
            ],
            [
             "POL",
             "2006",
             5,
             0.7
            ],
            [
             "PRT",
             "2006",
             3,
             0.48
            ],
            [
             "RUS",
             "2006",
             2,
             0.3
            ],
            [
             "SWE",
             "2006",
             32,
             1.51
            ],
            [
             "CHE",
             "2006",
             18,
             1.26
            ],
            [
             "GBR",
             "2006",
             158,
             2.2
            ],
            [
             "USA",
             "2006",
             390,
             2.59
            ]
           ],
           "geo": "geo",
           "hovertemplate": "<b>%{hovertext}</b><br><br>distribued beer=%{customdata[2]:.0f}<br>happiness gauge=%{z:.2f}<extra></extra>",
           "hovertext": [
            "Australia",
            "Austria",
            "Belgium",
            "Brazil",
            "Canada",
            "Croatia",
            "Denmark",
            "El Salvador",
            "Finland",
            "France",
            "Germany",
            "Greece",
            "Ireland",
            "Italy",
            "Japan",
            "Mexico",
            "Netherlands",
            "New Zealand",
            "Norway",
            "Poland",
            "Portugal",
            "Russia",
            "Sweden",
            "Switzerland",
            "United Kingdom",
            "United States"
           ],
           "locations": [
            "AUS",
            "AUT",
            "BEL",
            "BRA",
            "CAN",
            "HRV",
            "DNK",
            "SLV",
            "FIN",
            "FRA",
            "DEU",
            "GRC",
            "IRL",
            "ITA",
            "JPN",
            "MEX",
            "NLD",
            "NZL",
            "NOR",
            "POL",
            "PRT",
            "RUS",
            "SWE",
            "CHE",
            "GBR",
            "USA"
           ],
           "name": "",
           "type": "choropleth",
           "z": [
            1.59,
            0.48,
            1.52,
            0.48,
            2.01,
            1.08,
            2.38,
            0.48,
            1.36,
            0.6,
            1.32,
            0.3,
            0.9,
            0.7,
            0.3,
            0.78,
            1.34,
            0.95,
            1.49,
            0.7,
            0.48,
            0.3,
            1.51,
            1.26,
            2.2,
            2.59
           ]
          }
         ],
         "name": "2006"
        },
        {
         "data": [
          {
           "coloraxis": "coloraxis",
           "customdata": [
            [
             "AUS",
             "2007",
             13,
             1.11
            ],
            [
             "AUT",
             "2007",
             7,
             0.85
            ],
            [
             "BEL",
             "2007",
             38,
             1.58
            ],
            [
             "BOL",
             "2007",
             2,
             0.3
            ],
            [
             "BRA",
             "2007",
             5,
             0.7
            ],
            [
             "CAN",
             "2007",
             80,
             1.9
            ],
            [
             "CHL",
             "2007",
             2,
             0.3
            ],
            [
             "CHN",
             "2007",
             2,
             0.3
            ],
            [
             "HRV",
             "2007",
             8,
             0.9
            ],
            [
             "CZE",
             "2007",
             2,
             0.3
            ],
            [
             "DNK",
             "2007",
             231,
             2.36
            ],
            [
             "SLV",
             "2007",
             2,
             0.3
            ],
            [
             "EST",
             "2007",
             6,
             0.78
            ],
            [
             "FRO",
             "2007",
             22,
             1.34
            ],
            [
             "FIN",
             "2007",
             57,
             1.76
            ],
            [
             "FRA",
             "2007",
             6,
             0.78
            ],
            [
             "DEU",
             "2007",
             45,
             1.65
            ],
            [
             "HUN",
             "2007",
             2,
             0.3
            ],
            [
             "IRL",
             "2007",
             13,
             1.11
            ],
            [
             "ITA",
             "2007",
             20,
             1.3
            ],
            [
             "JPN",
             "2007",
             2,
             0.3
            ],
            [
             "LUX",
             "2007",
             3,
             0.48
            ],
            [
             "NLD",
             "2007",
             45,
             1.65
            ],
            [
             "NZL",
             "2007",
             4,
             0.6
            ],
            [
             "NOR",
             "2007",
             33,
             1.52
            ],
            [
             "POL",
             "2007",
             4,
             0.6
            ],
            [
             "ESP",
             "2007",
             5,
             0.7
            ],
            [
             "SWE",
             "2007",
             73,
             1.86
            ],
            [
             "CHE",
             "2007",
             10,
             1
            ],
            [
             "TWN",
             "2007",
             2,
             0.3
            ],
            [
             "THA",
             "2007",
             3,
             0.48
            ],
            [
             "GBR",
             "2007",
             92,
             1.96
            ],
            [
             "USA",
             "2007",
             364,
             2.56
            ],
            [
             "VEN",
             "2007",
             2,
             0.3
            ]
           ],
           "geo": "geo",
           "hovertemplate": "<b>%{hovertext}</b><br><br>distribued beer=%{customdata[2]:.0f}<br>happiness gauge=%{z:.2f}<extra></extra>",
           "hovertext": [
            "Australia",
            "Austria",
            "Belgium",
            "Bolivia",
            "Brazil",
            "Canada",
            "Chile",
            "China",
            "Croatia",
            "Czech Republic",
            "Denmark",
            "El Salvador",
            "Estonia",
            "Faroe Islands",
            "Finland",
            "France",
            "Germany",
            "Hungary",
            "Ireland",
            "Italy",
            "Japan",
            "Luxembourg",
            "Netherlands",
            "New Zealand",
            "Norway",
            "Poland",
            "Spain",
            "Sweden",
            "Switzerland",
            "Taiwan",
            "Thailand",
            "United Kingdom",
            "United States",
            "Venezuela"
           ],
           "locations": [
            "AUS",
            "AUT",
            "BEL",
            "BOL",
            "BRA",
            "CAN",
            "CHL",
            "CHN",
            "HRV",
            "CZE",
            "DNK",
            "SLV",
            "EST",
            "FRO",
            "FIN",
            "FRA",
            "DEU",
            "HUN",
            "IRL",
            "ITA",
            "JPN",
            "LUX",
            "NLD",
            "NZL",
            "NOR",
            "POL",
            "ESP",
            "SWE",
            "CHE",
            "TWN",
            "THA",
            "GBR",
            "USA",
            "VEN"
           ],
           "name": "",
           "type": "choropleth",
           "z": [
            1.11,
            0.85,
            1.58,
            0.3,
            0.7,
            1.9,
            0.3,
            0.3,
            0.9,
            0.3,
            2.36,
            0.3,
            0.78,
            1.34,
            1.76,
            0.78,
            1.65,
            0.3,
            1.11,
            1.3,
            0.3,
            0.48,
            1.65,
            0.6,
            1.52,
            0.6,
            0.7,
            1.86,
            1,
            0.3,
            0.48,
            1.96,
            2.56,
            0.3
           ]
          }
         ],
         "name": "2007"
        },
        {
         "data": [
          {
           "coloraxis": "coloraxis",
           "customdata": [
            [
             "AND",
             "2008",
             2,
             0.3
            ],
            [
             "AUS",
             "2008",
             11,
             1.04
            ],
            [
             "BEL",
             "2008",
             71,
             1.85
            ],
            [
             "BRA",
             "2008",
             6,
             0.78
            ],
            [
             "CAN",
             "2008",
             114,
             2.06
            ],
            [
             "HRV",
             "2008",
             15,
             1.18
            ],
            [
             "CYP",
             "2008",
             2,
             0.3
            ],
            [
             "CZE",
             "2008",
             2,
             0.3
            ],
            [
             "DNK",
             "2008",
             188,
             2.27
            ],
            [
             "SLV",
             "2008",
             2,
             0.3
            ],
            [
             "EST",
             "2008",
             11,
             1.04
            ],
            [
             "FRO",
             "2008",
             12,
             1.08
            ],
            [
             "FIN",
             "2008",
             69,
             1.84
            ],
            [
             "FRA",
             "2008",
             11,
             1.04
            ],
            [
             "DEU",
             "2008",
             20,
             1.3
            ],
            [
             "HUN",
             "2008",
             9,
             0.95
            ],
            [
             "ISL",
             "2008",
             2,
             0.3
            ],
            [
             "IRL",
             "2008",
             38,
             1.58
            ],
            [
             "ISR",
             "2008",
             3,
             0.48
            ],
            [
             "ITA",
             "2008",
             13,
             1.11
            ],
            [
             "JPN",
             "2008",
             10,
             1
            ],
            [
             "LTU",
             "2008",
             2,
             0.3
            ],
            [
             "LUX",
             "2008",
             3,
             0.48
            ],
            [
             "MEX",
             "2008",
             2,
             0.3
            ],
            [
             "NLD",
             "2008",
             45,
             1.65
            ],
            [
             "NOR",
             "2008",
             16,
             1.2
            ],
            [
             "PAN",
             "2008",
             2,
             0.3
            ],
            [
             "POL",
             "2008",
             7,
             0.85
            ],
            [
             "PRT",
             "2008",
             2,
             0.3
            ],
            [
             "ESP",
             "2008",
             8,
             0.9
            ],
            [
             "SWE",
             "2008",
             25,
             1.4
            ],
            [
             "CHE",
             "2008",
             24,
             1.38
            ],
            [
             "GBR",
             "2008",
             117,
             2.07
            ],
            [
             "USA",
             "2008",
             391,
             2.59
            ]
           ],
           "geo": "geo",
           "hovertemplate": "<b>%{hovertext}</b><br><br>distribued beer=%{customdata[2]:.0f}<br>happiness gauge=%{z:.2f}<extra></extra>",
           "hovertext": [
            "Andorra",
            "Australia",
            "Belgium",
            "Brazil",
            "Canada",
            "Croatia",
            "Cyprus",
            "Czech Republic",
            "Denmark",
            "El Salvador",
            "Estonia",
            "Faroe Islands",
            "Finland",
            "France",
            "Germany",
            "Hungary",
            "Iceland",
            "Ireland",
            "Israel",
            "Italy",
            "Japan",
            "Lithuania",
            "Luxembourg",
            "Mexico",
            "Netherlands",
            "Norway",
            "Panama",
            "Poland",
            "Portugal",
            "Spain",
            "Sweden",
            "Switzerland",
            "United Kingdom",
            "United States"
           ],
           "locations": [
            "AND",
            "AUS",
            "BEL",
            "BRA",
            "CAN",
            "HRV",
            "CYP",
            "CZE",
            "DNK",
            "SLV",
            "EST",
            "FRO",
            "FIN",
            "FRA",
            "DEU",
            "HUN",
            "ISL",
            "IRL",
            "ISR",
            "ITA",
            "JPN",
            "LTU",
            "LUX",
            "MEX",
            "NLD",
            "NOR",
            "PAN",
            "POL",
            "PRT",
            "ESP",
            "SWE",
            "CHE",
            "GBR",
            "USA"
           ],
           "name": "",
           "type": "choropleth",
           "z": [
            0.3,
            1.04,
            1.85,
            0.78,
            2.06,
            1.18,
            0.3,
            0.3,
            2.27,
            0.3,
            1.04,
            1.08,
            1.84,
            1.04,
            1.3,
            0.95,
            0.3,
            1.58,
            0.48,
            1.11,
            1,
            0.3,
            0.48,
            0.3,
            1.65,
            1.2,
            0.3,
            0.85,
            0.3,
            0.9,
            1.4,
            1.38,
            2.07,
            2.59
           ]
          }
         ],
         "name": "2008"
        },
        {
         "data": [
          {
           "coloraxis": "coloraxis",
           "customdata": [
            [
             "AUS",
             "2009",
             10,
             1
            ],
            [
             "AUT",
             "2009",
             4,
             0.6
            ],
            [
             "BEL",
             "2009",
             37,
             1.57
            ],
            [
             "BRA",
             "2009",
             5,
             0.7
            ],
            [
             "CAN",
             "2009",
             185,
             2.27
            ],
            [
             "CHL",
             "2009",
             2,
             0.3
            ],
            [
             "HRV",
             "2009",
             27,
             1.43
            ],
            [
             "CZE",
             "2009",
             2,
             0.3
            ],
            [
             "DNK",
             "2009",
             177,
             2.25
            ],
            [
             "EST",
             "2009",
             2,
             0.3
            ],
            [
             "FRO",
             "2009",
             12,
             1.08
            ],
            [
             "FIN",
             "2009",
             32,
             1.51
            ],
            [
             "FRA",
             "2009",
             12,
             1.08
            ],
            [
             "DEU",
             "2009",
             22,
             1.34
            ],
            [
             "GRC",
             "2009",
             4,
             0.6
            ],
            [
             "HUN",
             "2009",
             3,
             0.48
            ],
            [
             "IRL",
             "2009",
             22,
             1.34
            ],
            [
             "ISR",
             "2009",
             4,
             0.6
            ],
            [
             "ITA",
             "2009",
             20,
             1.3
            ],
            [
             "JPN",
             "2009",
             8,
             0.9
            ],
            [
             "LTU",
             "2009",
             2,
             0.3
            ],
            [
             "MEX",
             "2009",
             2,
             0.3
            ],
            [
             "NLD",
             "2009",
             31,
             1.49
            ],
            [
             "NZL",
             "2009",
             3,
             0.48
            ],
            [
             "NOR",
             "2009",
             76,
             1.88
            ],
            [
             "POL",
             "2009",
             4,
             0.6
            ],
            [
             "PRT",
             "2009",
             2,
             0.3
            ],
            [
             "ESP",
             "2009",
             4,
             0.6
            ],
            [
             "SWE",
             "2009",
             51,
             1.71
            ],
            [
             "CHE",
             "2009",
             25,
             1.4
            ],
            [
             "TWN",
             "2009",
             3,
             0.48
            ],
            [
             "TUR",
             "2009",
             2,
             0.3
            ],
            [
             "GBR",
             "2009",
             118,
             2.07
            ],
            [
             "USA",
             "2009",
             405,
             2.61
            ],
            [
             "VEN",
             "2009",
             4,
             0.6
            ]
           ],
           "geo": "geo",
           "hovertemplate": "<b>%{hovertext}</b><br><br>distribued beer=%{customdata[2]:.0f}<br>happiness gauge=%{z:.2f}<extra></extra>",
           "hovertext": [
            "Australia",
            "Austria",
            "Belgium",
            "Brazil",
            "Canada",
            "Chile",
            "Croatia",
            "Czech Republic",
            "Denmark",
            "Estonia",
            "Faroe Islands",
            "Finland",
            "France",
            "Germany",
            "Greece",
            "Hungary",
            "Ireland",
            "Israel",
            "Italy",
            "Japan",
            "Lithuania",
            "Mexico",
            "Netherlands",
            "New Zealand",
            "Norway",
            "Poland",
            "Portugal",
            "Spain",
            "Sweden",
            "Switzerland",
            "Taiwan",
            "Turkey",
            "United Kingdom",
            "United States",
            "Venezuela"
           ],
           "locations": [
            "AUS",
            "AUT",
            "BEL",
            "BRA",
            "CAN",
            "CHL",
            "HRV",
            "CZE",
            "DNK",
            "EST",
            "FRO",
            "FIN",
            "FRA",
            "DEU",
            "GRC",
            "HUN",
            "IRL",
            "ISR",
            "ITA",
            "JPN",
            "LTU",
            "MEX",
            "NLD",
            "NZL",
            "NOR",
            "POL",
            "PRT",
            "ESP",
            "SWE",
            "CHE",
            "TWN",
            "TUR",
            "GBR",
            "USA",
            "VEN"
           ],
           "name": "",
           "type": "choropleth",
           "z": [
            1,
            0.6,
            1.57,
            0.7,
            2.27,
            0.3,
            1.43,
            0.3,
            2.25,
            0.3,
            1.08,
            1.51,
            1.08,
            1.34,
            0.6,
            0.48,
            1.34,
            0.6,
            1.3,
            0.9,
            0.3,
            0.3,
            1.49,
            0.48,
            1.88,
            0.6,
            0.3,
            0.6,
            1.71,
            1.4,
            0.48,
            0.3,
            2.07,
            2.61,
            0.6
           ]
          }
         ],
         "name": "2009"
        },
        {
         "data": [
          {
           "coloraxis": "coloraxis",
           "customdata": [
            [
             "AUS",
             "2010",
             6,
             0.78
            ],
            [
             "AUT",
             "2010",
             7,
             0.85
            ],
            [
             "BEL",
             "2010",
             43,
             1.63
            ],
            [
             "BMU",
             "2010",
             2,
             0.3
            ],
            [
             "BRA",
             "2010",
             4,
             0.6
            ],
            [
             "CAN",
             "2010",
             207,
             2.32
            ],
            [
             "HRV",
             "2010",
             8,
             0.9
            ],
            [
             "CZE",
             "2010",
             3,
             0.48
            ],
            [
             "DNK",
             "2010",
             593,
             2.77
            ],
            [
             "EST",
             "2010",
             3,
             0.48
            ],
            [
             "FRO",
             "2010",
             4,
             0.6
            ],
            [
             "FIN",
             "2010",
             23,
             1.36
            ],
            [
             "FRA",
             "2010",
             87,
             1.94
            ],
            [
             "DEU",
             "2010",
             26,
             1.41
            ],
            [
             "GRC",
             "2010",
             3,
             0.48
            ],
            [
             "HUN",
             "2010",
             5,
             0.7
            ],
            [
             "IRL",
             "2010",
             5,
             0.7
            ],
            [
             "ISR",
             "2010",
             7,
             0.85
            ],
            [
             "ITA",
             "2010",
             15,
             1.18
            ],
            [
             "JPN",
             "2010",
             10,
             1
            ],
            [
             "LUX",
             "2010",
             2,
             0.3
            ],
            [
             "MEX",
             "2010",
             3,
             0.48
            ],
            [
             "MCO",
             "2010",
             2,
             0.3
            ],
            [
             "NLD",
             "2010",
             29,
             1.46
            ],
            [
             "NOR",
             "2010",
             60,
             1.78
            ],
            [
             "POL",
             "2010",
             3,
             0.48
            ],
            [
             "PRT",
             "2010",
             2,
             0.3
            ],
            [
             "SVK",
             "2010",
             3,
             0.48
            ],
            [
             "SVN",
             "2010",
             3,
             0.48
            ],
            [
             "ESP",
             "2010",
             7,
             0.85
            ],
            [
             "SWE",
             "2010",
             18,
             1.26
            ],
            [
             "CHE",
             "2010",
             50,
             1.7
            ],
            [
             "THA",
             "2010",
             3,
             0.48
            ],
            [
             "GBR",
             "2010",
             44,
             1.64
            ],
            [
             "USA",
             "2010",
             415,
             2.62
            ]
           ],
           "geo": "geo",
           "hovertemplate": "<b>%{hovertext}</b><br><br>distribued beer=%{customdata[2]:.0f}<br>happiness gauge=%{z:.2f}<extra></extra>",
           "hovertext": [
            "Australia",
            "Austria",
            "Belgium",
            "Bermuda",
            "Brazil",
            "Canada",
            "Croatia",
            "Czech Republic",
            "Denmark",
            "Estonia",
            "Faroe Islands",
            "Finland",
            "France",
            "Germany",
            "Greece",
            "Hungary",
            "Ireland",
            "Israel",
            "Italy",
            "Japan",
            "Luxembourg",
            "Mexico",
            "Monaco",
            "Netherlands",
            "Norway",
            "Poland",
            "Portugal",
            "Slovak Republic",
            "Slovenia",
            "Spain",
            "Sweden",
            "Switzerland",
            "Thailand",
            "United Kingdom",
            "United States"
           ],
           "locations": [
            "AUS",
            "AUT",
            "BEL",
            "BMU",
            "BRA",
            "CAN",
            "HRV",
            "CZE",
            "DNK",
            "EST",
            "FRO",
            "FIN",
            "FRA",
            "DEU",
            "GRC",
            "HUN",
            "IRL",
            "ISR",
            "ITA",
            "JPN",
            "LUX",
            "MEX",
            "MCO",
            "NLD",
            "NOR",
            "POL",
            "PRT",
            "SVK",
            "SVN",
            "ESP",
            "SWE",
            "CHE",
            "THA",
            "GBR",
            "USA"
           ],
           "name": "",
           "type": "choropleth",
           "z": [
            0.78,
            0.85,
            1.63,
            0.3,
            0.6,
            2.32,
            0.9,
            0.48,
            2.77,
            0.48,
            0.6,
            1.36,
            1.94,
            1.41,
            0.48,
            0.7,
            0.7,
            0.85,
            1.18,
            1,
            0.3,
            0.48,
            0.3,
            1.46,
            1.78,
            0.48,
            0.3,
            0.48,
            0.48,
            0.85,
            1.26,
            1.7,
            0.48,
            1.64,
            2.62
           ]
          }
         ],
         "name": "2010"
        },
        {
         "data": [
          {
           "coloraxis": "coloraxis",
           "customdata": [
            [
             "AUS",
             "2011",
             13,
             1.11
            ],
            [
             "BEL",
             "2011",
             56,
             1.75
            ],
            [
             "BMU",
             "2011",
             3,
             0.48
            ],
            [
             "BRA",
             "2011",
             2,
             0.3
            ],
            [
             "CAN",
             "2011",
             110,
             2.04
            ],
            [
             "HRV",
             "2011",
             40,
             1.6
            ],
            [
             "CYP",
             "2011",
             2,
             0.3
            ],
            [
             "CZE",
             "2011",
             4,
             0.6
            ],
            [
             "DNK",
             "2011",
             438,
             2.64
            ],
            [
             "SLV",
             "2011",
             2,
             0.3
            ],
            [
             "EST",
             "2011",
             4,
             0.6
            ],
            [
             "FRO",
             "2011",
             8,
             0.9
            ],
            [
             "FIN",
             "2011",
             32,
             1.51
            ],
            [
             "FRA",
             "2011",
             141,
             2.15
            ],
            [
             "DEU",
             "2011",
             119,
             2.08
            ],
            [
             "GRC",
             "2011",
             7,
             0.85
            ],
            [
             "HUN",
             "2011",
             3,
             0.48
            ],
            [
             "IRL",
             "2011",
             20,
             1.3
            ],
            [
             "ISR",
             "2011",
             6,
             0.78
            ],
            [
             "ITA",
             "2011",
             19,
             1.28
            ],
            [
             "JPN",
             "2011",
             2,
             0.3
            ],
            [
             "LUX",
             "2011",
             3,
             0.48
            ],
            [
             "MDA",
             "2011",
             2,
             0.3
            ],
            [
             "NLD",
             "2011",
             72,
             1.86
            ],
            [
             "NZL",
             "2011",
             3,
             0.48
            ],
            [
             "PRK",
             "2011",
             3,
             0.48
            ],
            [
             "NOR",
             "2011",
             96,
             1.98
            ],
            [
             "POL",
             "2011",
             6,
             0.78
            ],
            [
             "PRT",
             "2011",
             3,
             0.48
            ],
            [
             "ROU",
             "2011",
             2,
             0.3
            ],
            [
             "RUS",
             "2011",
             2,
             0.3
            ],
            [
             "SVK",
             "2011",
             5,
             0.7
            ],
            [
             "SVN",
             "2011",
             2,
             0.3
            ],
            [
             "ESP",
             "2011",
             15,
             1.18
            ],
            [
             "SWE",
             "2011",
             58,
             1.76
            ],
            [
             "CHE",
             "2011",
             34,
             1.53
            ],
            [
             "THA",
             "2011",
             7,
             0.85
            ],
            [
             "GBR",
             "2011",
             86,
             1.93
            ],
            [
             "USA",
             "2011",
             429,
             2.63
            ]
           ],
           "geo": "geo",
           "hovertemplate": "<b>%{hovertext}</b><br><br>distribued beer=%{customdata[2]:.0f}<br>happiness gauge=%{z:.2f}<extra></extra>",
           "hovertext": [
            "Australia",
            "Belgium",
            "Bermuda",
            "Brazil",
            "Canada",
            "Croatia",
            "Cyprus",
            "Czech Republic",
            "Denmark",
            "El Salvador",
            "Estonia",
            "Faroe Islands",
            "Finland",
            "France",
            "Germany",
            "Greece",
            "Hungary",
            "Ireland",
            "Israel",
            "Italy",
            "Japan",
            "Luxembourg",
            "Moldova",
            "Netherlands",
            "New Zealand",
            "North Korea",
            "Norway",
            "Poland",
            "Portugal",
            "Romania",
            "Russia",
            "Slovak Republic",
            "Slovenia",
            "Spain",
            "Sweden",
            "Switzerland",
            "Thailand",
            "United Kingdom",
            "United States"
           ],
           "locations": [
            "AUS",
            "BEL",
            "BMU",
            "BRA",
            "CAN",
            "HRV",
            "CYP",
            "CZE",
            "DNK",
            "SLV",
            "EST",
            "FRO",
            "FIN",
            "FRA",
            "DEU",
            "GRC",
            "HUN",
            "IRL",
            "ISR",
            "ITA",
            "JPN",
            "LUX",
            "MDA",
            "NLD",
            "NZL",
            "PRK",
            "NOR",
            "POL",
            "PRT",
            "ROU",
            "RUS",
            "SVK",
            "SVN",
            "ESP",
            "SWE",
            "CHE",
            "THA",
            "GBR",
            "USA"
           ],
           "name": "",
           "type": "choropleth",
           "z": [
            1.11,
            1.75,
            0.48,
            0.3,
            2.04,
            1.6,
            0.3,
            0.6,
            2.64,
            0.3,
            0.6,
            0.9,
            1.51,
            2.15,
            2.08,
            0.85,
            0.48,
            1.3,
            0.78,
            1.28,
            0.3,
            0.48,
            0.3,
            1.86,
            0.48,
            0.48,
            1.98,
            0.78,
            0.48,
            0.3,
            0.3,
            0.7,
            0.3,
            1.18,
            1.76,
            1.53,
            0.85,
            1.93,
            2.63
           ]
          }
         ],
         "name": "2011"
        },
        {
         "data": [
          {
           "coloraxis": "coloraxis",
           "customdata": [
            [
             "AUS",
             "2012",
             11,
             1.04
            ],
            [
             "AUT",
             "2012",
             2,
             0.3
            ],
            [
             "BLR",
             "2012",
             2,
             0.3
            ],
            [
             "BEL",
             "2012",
             35,
             1.54
            ],
            [
             "BMU",
             "2012",
             2,
             0.3
            ],
            [
             "BRA",
             "2012",
             2,
             0.3
            ],
            [
             "KHM",
             "2012",
             2,
             0.3
            ],
            [
             "CAN",
             "2012",
             99,
             2
            ],
            [
             "CHL",
             "2012",
             2,
             0.3
            ],
            [
             "HRV",
             "2012",
             16,
             1.2
            ],
            [
             "CYP",
             "2012",
             4,
             0.6
            ],
            [
             "CZE",
             "2012",
             7,
             0.85
            ],
            [
             "DNK",
             "2012",
             489,
             2.69
            ],
            [
             "EST",
             "2012",
             10,
             1
            ],
            [
             "FRO",
             "2012",
             6,
             0.78
            ],
            [
             "FIN",
             "2012",
             28,
             1.45
            ],
            [
             "FRA",
             "2012",
             67,
             1.83
            ],
            [
             "DEU",
             "2012",
             89,
             1.95
            ],
            [
             "GRC",
             "2012",
             4,
             0.6
            ],
            [
             "HUN",
             "2012",
             6,
             0.78
            ],
            [
             "IRL",
             "2012",
             10,
             1
            ],
            [
             "ISR",
             "2012",
             4,
             0.6
            ],
            [
             "ITA",
             "2012",
             21,
             1.32
            ],
            [
             "JPN",
             "2012",
             8,
             0.9
            ],
            [
             "LUX",
             "2012",
             2,
             0.3
            ],
            [
             "MYS",
             "2012",
             4,
             0.6
            ],
            [
             "MEX",
             "2012",
             2,
             0.3
            ],
            [
             "NLD",
             "2012",
             143,
             2.16
            ],
            [
             "NZL",
             "2012",
             14,
             1.15
            ],
            [
             "NOR",
             "2012",
             92,
             1.96
            ],
            [
             "POL",
             "2012",
             28,
             1.45
            ],
            [
             "PRT",
             "2012",
             6,
             0.78
            ],
            [
             "ROU",
             "2012",
             4,
             0.6
            ],
            [
             "SGP",
             "2012",
             2,
             0.3
            ],
            [
             "SVK",
             "2012",
             2,
             0.3
            ],
            [
             "SVN",
             "2012",
             7,
             0.85
            ],
            [
             "ZAF",
             "2012",
             3,
             0.48
            ],
            [
             "ESP",
             "2012",
             11,
             1.04
            ],
            [
             "SWE",
             "2012",
             127,
             2.1
            ],
            [
             "CHE",
             "2012",
             36,
             1.56
            ],
            [
             "THA",
             "2012",
             11,
             1.04
            ],
            [
             "UKR",
             "2012",
             2,
             0.3
            ],
            [
             "GBR",
             "2012",
             87,
             1.94
            ],
            [
             "USA",
             "2012",
             385,
             2.59
            ],
            [
             "VEN",
             "2012",
             2,
             0.3
            ]
           ],
           "geo": "geo",
           "hovertemplate": "<b>%{hovertext}</b><br><br>distribued beer=%{customdata[2]:.0f}<br>happiness gauge=%{z:.2f}<extra></extra>",
           "hovertext": [
            "Australia",
            "Austria",
            "Belarus",
            "Belgium",
            "Bermuda",
            "Brazil",
            "Cambodia",
            "Canada",
            "Chile",
            "Croatia",
            "Cyprus",
            "Czech Republic",
            "Denmark",
            "Estonia",
            "Faroe Islands",
            "Finland",
            "France",
            "Germany",
            "Greece",
            "Hungary",
            "Ireland",
            "Israel",
            "Italy",
            "Japan",
            "Luxembourg",
            "Malaysia",
            "Mexico",
            "Netherlands",
            "New Zealand",
            "Norway",
            "Poland",
            "Portugal",
            "Romania",
            "Singapore",
            "Slovak Republic",
            "Slovenia",
            "South Africa",
            "Spain",
            "Sweden",
            "Switzerland",
            "Thailand",
            "Ukraine",
            "United Kingdom",
            "United States",
            "Venezuela"
           ],
           "locations": [
            "AUS",
            "AUT",
            "BLR",
            "BEL",
            "BMU",
            "BRA",
            "KHM",
            "CAN",
            "CHL",
            "HRV",
            "CYP",
            "CZE",
            "DNK",
            "EST",
            "FRO",
            "FIN",
            "FRA",
            "DEU",
            "GRC",
            "HUN",
            "IRL",
            "ISR",
            "ITA",
            "JPN",
            "LUX",
            "MYS",
            "MEX",
            "NLD",
            "NZL",
            "NOR",
            "POL",
            "PRT",
            "ROU",
            "SGP",
            "SVK",
            "SVN",
            "ZAF",
            "ESP",
            "SWE",
            "CHE",
            "THA",
            "UKR",
            "GBR",
            "USA",
            "VEN"
           ],
           "name": "",
           "type": "choropleth",
           "z": [
            1.04,
            0.3,
            0.3,
            1.54,
            0.3,
            0.3,
            0.3,
            2,
            0.3,
            1.2,
            0.6,
            0.85,
            2.69,
            1,
            0.78,
            1.45,
            1.83,
            1.95,
            0.6,
            0.78,
            1,
            0.6,
            1.32,
            0.9,
            0.3,
            0.6,
            0.3,
            2.16,
            1.15,
            1.96,
            1.45,
            0.78,
            0.6,
            0.3,
            0.3,
            0.85,
            0.48,
            1.04,
            2.1,
            1.56,
            1.04,
            0.3,
            1.94,
            2.59,
            0.3
           ]
          }
         ],
         "name": "2012"
        },
        {
         "data": [
          {
           "coloraxis": "coloraxis",
           "customdata": [
            [
             "AUS",
             "2013",
             19,
             1.28
            ],
            [
             "BEL",
             "2013",
             140,
             2.15
            ],
            [
             "BRA",
             "2013",
             8,
             0.9
            ],
            [
             "KHM",
             "2013",
             3,
             0.48
            ],
            [
             "CAN",
             "2013",
             81,
             1.91
            ],
            [
             "HRV",
             "2013",
             12,
             1.08
            ],
            [
             "CYP",
             "2013",
             7,
             0.85
            ],
            [
             "CZE",
             "2013",
             8,
             0.9
            ],
            [
             "DNK",
             "2013",
             183,
             2.26
            ],
            [
             "EST",
             "2013",
             22,
             1.34
            ],
            [
             "FRO",
             "2013",
             2,
             0.3
            ],
            [
             "FIN",
             "2013",
             143,
             2.16
            ],
            [
             "FRA",
             "2013",
             102,
             2.01
            ],
            [
             "DEU",
             "2013",
             71,
             1.85
            ],
            [
             "GRC",
             "2013",
             3,
             0.48
            ],
            [
             "HKG",
             "2013",
             3,
             0.48
            ],
            [
             "HUN",
             "2013",
             2,
             0.3
            ],
            [
             "IRL",
             "2013",
             14,
             1.15
            ],
            [
             "ISR",
             "2013",
             14,
             1.15
            ],
            [
             "ITA",
             "2013",
             12,
             1.08
            ],
            [
             "JPN",
             "2013",
             11,
             1.04
            ],
            [
             "KAZ",
             "2013",
             2,
             0.3
            ],
            [
             "LVA",
             "2013",
             3,
             0.48
            ],
            [
             "LTU",
             "2013",
             2,
             0.3
            ],
            [
             "LUX",
             "2013",
             3,
             0.48
            ],
            [
             "MYS",
             "2013",
             4,
             0.6
            ],
            [
             "MEX",
             "2013",
             2,
             0.3
            ],
            [
             "MDA",
             "2013",
             2,
             0.3
            ],
            [
             "MOZ",
             "2013",
             2,
             0.3
            ],
            [
             "NLD",
             "2013",
             154,
             2.19
            ],
            [
             "NZL",
             "2013",
             3,
             0.48
            ],
            [
             "NOR",
             "2013",
             95,
             1.98
            ],
            [
             "PAN",
             "2013",
             2,
             0.3
            ],
            [
             "POL",
             "2013",
             26,
             1.41
            ],
            [
             "PRT",
             "2013",
             8,
             0.9
            ],
            [
             "ROU",
             "2013",
             2,
             0.3
            ],
            [
             "RUS",
             "2013",
             2,
             0.3
            ],
            [
             "SRB",
             "2013",
             2,
             0.3
            ],
            [
             "SGP",
             "2013",
             2,
             0.3
            ],
            [
             "SVK",
             "2013",
             8,
             0.9
            ],
            [
             "SVN",
             "2013",
             11,
             1.04
            ],
            [
             "ESP",
             "2013",
             29,
             1.46
            ],
            [
             "SWE",
             "2013",
             44,
             1.64
            ],
            [
             "CHE",
             "2013",
             18,
             1.26
            ],
            [
             "THA",
             "2013",
             8,
             0.9
            ],
            [
             "TUR",
             "2013",
             2,
             0.3
            ],
            [
             "GBR",
             "2013",
             165,
             2.22
            ],
            [
             "USA",
             "2013",
             479,
             2.68
            ]
           ],
           "geo": "geo",
           "hovertemplate": "<b>%{hovertext}</b><br><br>distribued beer=%{customdata[2]:.0f}<br>happiness gauge=%{z:.2f}<extra></extra>",
           "hovertext": [
            "Australia",
            "Belgium",
            "Brazil",
            "Cambodia",
            "Canada",
            "Croatia",
            "Cyprus",
            "Czech Republic",
            "Denmark",
            "Estonia",
            "Faroe Islands",
            "Finland",
            "France",
            "Germany",
            "Greece",
            "Hong Kong",
            "Hungary",
            "Ireland",
            "Israel",
            "Italy",
            "Japan",
            "Kazakhstan",
            "Latvia",
            "Lithuania",
            "Luxembourg",
            "Malaysia",
            "Mexico",
            "Moldova",
            "Mozambique",
            "Netherlands",
            "New Zealand",
            "Norway",
            "Panama",
            "Poland",
            "Portugal",
            "Romania",
            "Russia",
            "Serbia",
            "Singapore",
            "Slovak Republic",
            "Slovenia",
            "Spain",
            "Sweden",
            "Switzerland",
            "Thailand",
            "Turkey",
            "United Kingdom",
            "United States"
           ],
           "locations": [
            "AUS",
            "BEL",
            "BRA",
            "KHM",
            "CAN",
            "HRV",
            "CYP",
            "CZE",
            "DNK",
            "EST",
            "FRO",
            "FIN",
            "FRA",
            "DEU",
            "GRC",
            "HKG",
            "HUN",
            "IRL",
            "ISR",
            "ITA",
            "JPN",
            "KAZ",
            "LVA",
            "LTU",
            "LUX",
            "MYS",
            "MEX",
            "MDA",
            "MOZ",
            "NLD",
            "NZL",
            "NOR",
            "PAN",
            "POL",
            "PRT",
            "ROU",
            "RUS",
            "SRB",
            "SGP",
            "SVK",
            "SVN",
            "ESP",
            "SWE",
            "CHE",
            "THA",
            "TUR",
            "GBR",
            "USA"
           ],
           "name": "",
           "type": "choropleth",
           "z": [
            1.28,
            2.15,
            0.9,
            0.48,
            1.91,
            1.08,
            0.85,
            0.9,
            2.26,
            1.34,
            0.3,
            2.16,
            2.01,
            1.85,
            0.48,
            0.48,
            0.3,
            1.15,
            1.15,
            1.08,
            1.04,
            0.3,
            0.48,
            0.3,
            0.48,
            0.6,
            0.3,
            0.3,
            0.3,
            2.19,
            0.48,
            1.98,
            0.3,
            1.41,
            0.9,
            0.3,
            0.3,
            0.3,
            0.3,
            0.9,
            1.04,
            1.46,
            1.64,
            1.26,
            0.9,
            0.3,
            2.22,
            2.68
           ]
          }
         ],
         "name": "2013"
        },
        {
         "data": [
          {
           "coloraxis": "coloraxis",
           "customdata": [
            [
             "ARG",
             "2014",
             2,
             0.3
            ],
            [
             "AUS",
             "2014",
             8,
             0.9
            ],
            [
             "AUT",
             "2014",
             2,
             0.3
            ],
            [
             "BEL",
             "2014",
             149,
             2.17
            ],
            [
             "BMU",
             "2014",
             2,
             0.3
            ],
            [
             "BRA",
             "2014",
             9,
             0.95
            ],
            [
             "CAN",
             "2014",
             50,
             1.7
            ],
            [
             "HRV",
             "2014",
             10,
             1
            ],
            [
             "CYP",
             "2014",
             10,
             1
            ],
            [
             "CZE",
             "2014",
             8,
             0.9
            ],
            [
             "DNK",
             "2014",
             112,
             2.05
            ],
            [
             "DOM",
             "2014",
             4,
             0.6
            ],
            [
             "EST",
             "2014",
             23,
             1.36
            ],
            [
             "FIN",
             "2014",
             33,
             1.52
            ],
            [
             "FRA",
             "2014",
             312,
             2.49
            ],
            [
             "DEU",
             "2014",
             130,
             2.11
            ],
            [
             "GRC",
             "2014",
             4,
             0.6
            ],
            [
             "HKG",
             "2014",
             4,
             0.6
            ],
            [
             "HUN",
             "2014",
             4,
             0.6
            ],
            [
             "ISL",
             "2014",
             3,
             0.48
            ],
            [
             "IRL",
             "2014",
             10,
             1
            ],
            [
             "ISR",
             "2014",
             25,
             1.4
            ],
            [
             "ITA",
             "2014",
             23,
             1.36
            ],
            [
             "JPN",
             "2014",
             3,
             0.48
            ],
            [
             "LVA",
             "2014",
             2,
             0.3
            ],
            [
             "LUX",
             "2014",
             2,
             0.3
            ],
            [
             "MYS",
             "2014",
             3,
             0.48
            ],
            [
             "MEX",
             "2014",
             2,
             0.3
            ],
            [
             "MDA",
             "2014",
             2,
             0.3
            ],
            [
             "NLD",
             "2014",
             173,
             2.24
            ],
            [
             "NZL",
             "2014",
             3,
             0.48
            ],
            [
             "PRK",
             "2014",
             2,
             0.3
            ],
            [
             "NOR",
             "2014",
             51,
             1.71
            ],
            [
             "PRY",
             "2014",
             2,
             0.3
            ],
            [
             "PHL",
             "2014",
             2,
             0.3
            ],
            [
             "POL",
             "2014",
             24,
             1.38
            ],
            [
             "PRT",
             "2014",
             14,
             1.15
            ],
            [
             "ROU",
             "2014",
             3,
             0.48
            ],
            [
             "RUS",
             "2014",
             4,
             0.6
            ],
            [
             "SRB",
             "2014",
             2,
             0.3
            ],
            [
             "SVK",
             "2014",
             6,
             0.78
            ],
            [
             "SVN",
             "2014",
             10,
             1
            ],
            [
             "ZAF",
             "2014",
             2,
             0.3
            ],
            [
             "KOR",
             "2014",
             2,
             0.3
            ],
            [
             "ESP",
             "2014",
             33,
             1.52
            ],
            [
             "SJM",
             "2014",
             2,
             0.3
            ],
            [
             "SWE",
             "2014",
             58,
             1.76
            ],
            [
             "CHE",
             "2014",
             26,
             1.41
            ],
            [
             "THA",
             "2014",
             6,
             0.78
            ],
            [
             "TUR",
             "2014",
             2,
             0.3
            ],
            [
             "UKR",
             "2014",
             3,
             0.48
            ],
            [
             "ARE",
             "2014",
             2,
             0.3
            ],
            [
             "GBR",
             "2014",
             136,
             2.13
            ],
            [
             "USA",
             "2014",
             436,
             2.64
            ]
           ],
           "geo": "geo",
           "hovertemplate": "<b>%{hovertext}</b><br><br>distribued beer=%{customdata[2]:.0f}<br>happiness gauge=%{z:.2f}<extra></extra>",
           "hovertext": [
            "Argentina",
            "Australia",
            "Austria",
            "Belgium",
            "Bermuda",
            "Brazil",
            "Canada",
            "Croatia",
            "Cyprus",
            "Czech Republic",
            "Denmark",
            "Dominican Republic",
            "Estonia",
            "Finland",
            "France",
            "Germany",
            "Greece",
            "Hong Kong",
            "Hungary",
            "Iceland",
            "Ireland",
            "Israel",
            "Italy",
            "Japan",
            "Latvia",
            "Luxembourg",
            "Malaysia",
            "Mexico",
            "Moldova",
            "Netherlands",
            "New Zealand",
            "North Korea",
            "Norway",
            "Paraguay",
            "Philippines",
            "Poland",
            "Portugal",
            "Romania",
            "Russia",
            "Serbia",
            "Slovak Republic",
            "Slovenia",
            "South Africa",
            "South Korea",
            "Spain",
            "Svalbard and Jan Mayen Islands",
            "Sweden",
            "Switzerland",
            "Thailand",
            "Turkey",
            "Ukraine",
            "United Arab Emirates",
            "United Kingdom",
            "United States"
           ],
           "locations": [
            "ARG",
            "AUS",
            "AUT",
            "BEL",
            "BMU",
            "BRA",
            "CAN",
            "HRV",
            "CYP",
            "CZE",
            "DNK",
            "DOM",
            "EST",
            "FIN",
            "FRA",
            "DEU",
            "GRC",
            "HKG",
            "HUN",
            "ISL",
            "IRL",
            "ISR",
            "ITA",
            "JPN",
            "LVA",
            "LUX",
            "MYS",
            "MEX",
            "MDA",
            "NLD",
            "NZL",
            "PRK",
            "NOR",
            "PRY",
            "PHL",
            "POL",
            "PRT",
            "ROU",
            "RUS",
            "SRB",
            "SVK",
            "SVN",
            "ZAF",
            "KOR",
            "ESP",
            "SJM",
            "SWE",
            "CHE",
            "THA",
            "TUR",
            "UKR",
            "ARE",
            "GBR",
            "USA"
           ],
           "name": "",
           "type": "choropleth",
           "z": [
            0.3,
            0.9,
            0.3,
            2.17,
            0.3,
            0.95,
            1.7,
            1,
            1,
            0.9,
            2.05,
            0.6,
            1.36,
            1.52,
            2.49,
            2.11,
            0.6,
            0.6,
            0.6,
            0.48,
            1,
            1.4,
            1.36,
            0.48,
            0.3,
            0.3,
            0.48,
            0.3,
            0.3,
            2.24,
            0.48,
            0.3,
            1.71,
            0.3,
            0.3,
            1.38,
            1.15,
            0.48,
            0.6,
            0.3,
            0.78,
            1,
            0.3,
            0.3,
            1.52,
            0.3,
            1.76,
            1.41,
            0.78,
            0.3,
            0.48,
            0.3,
            2.13,
            2.64
           ]
          }
         ],
         "name": "2014"
        },
        {
         "data": [
          {
           "coloraxis": "coloraxis",
           "customdata": [
            [
             "AUS",
             "2015",
             13,
             1.11
            ],
            [
             "AUT",
             "2015",
             5,
             0.7
            ],
            [
             "BLR",
             "2015",
             4,
             0.6
            ],
            [
             "BEL",
             "2015",
             100,
             2
            ],
            [
             "BRA",
             "2015",
             10,
             1
            ],
            [
             "CAN",
             "2015",
             73,
             1.86
            ],
            [
             "CHN",
             "2015",
             3,
             0.48
            ],
            [
             "HRV",
             "2015",
             12,
             1.08
            ],
            [
             "CZE",
             "2015",
             10,
             1
            ],
            [
             "DNK",
             "2015",
             185,
             2.27
            ],
            [
             "EST",
             "2015",
             12,
             1.08
            ],
            [
             "FIN",
             "2015",
             36,
             1.56
            ],
            [
             "FRA",
             "2015",
             236,
             2.37
            ],
            [
             "DEU",
             "2015",
             142,
             2.15
            ],
            [
             "GRC",
             "2015",
             23,
             1.36
            ],
            [
             "HKG",
             "2015",
             6,
             0.78
            ],
            [
             "HUN",
             "2015",
             4,
             0.6
            ],
            [
             "ISL",
             "2015",
             2,
             0.3
            ],
            [
             "IRL",
             "2015",
             4,
             0.6
            ],
            [
             "ISR",
             "2015",
             17,
             1.23
            ],
            [
             "ITA",
             "2015",
             22,
             1.34
            ],
            [
             "JPN",
             "2015",
             12,
             1.08
            ],
            [
             "LVA",
             "2015",
             5,
             0.7
            ],
            [
             "LTU",
             "2015",
             2,
             0.3
            ],
            [
             "LUX",
             "2015",
             5,
             0.7
            ],
            [
             "MYS",
             "2015",
             6,
             0.78
            ],
            [
             "MHL",
             "2015",
             5,
             0.7
            ],
            [
             "MDA",
             "2015",
             3,
             0.48
            ],
            [
             "NLD",
             "2015",
             162,
             2.21
            ],
            [
             "NZL",
             "2015",
             4,
             0.6
            ],
            [
             "NOR",
             "2015",
             64,
             1.81
            ],
            [
             "POL",
             "2015",
             36,
             1.56
            ],
            [
             "PRT",
             "2015",
             10,
             1
            ],
            [
             "ROU",
             "2015",
             6,
             0.78
            ],
            [
             "RUS",
             "2015",
             9,
             0.95
            ],
            [
             "SRB",
             "2015",
             3,
             0.48
            ],
            [
             "SXM",
             "2015",
             2,
             0.3
            ],
            [
             "SVK",
             "2015",
             15,
             1.18
            ],
            [
             "SVN",
             "2015",
             10,
             1
            ],
            [
             "ZAF",
             "2015",
             3,
             0.48
            ],
            [
             "ESP",
             "2015",
             56,
             1.75
            ],
            [
             "SWE",
             "2015",
             81,
             1.91
            ],
            [
             "CHE",
             "2015",
             51,
             1.71
            ],
            [
             "TWN",
             "2015",
             2,
             0.3
            ],
            [
             "THA",
             "2015",
             5,
             0.7
            ],
            [
             "TUR",
             "2015",
             2,
             0.3
            ],
            [
             "UKR",
             "2015",
             6,
             0.78
            ],
            [
             "GBR",
             "2015",
             100,
             2
            ],
            [
             "USA",
             "2015",
             125,
             2.1
            ]
           ],
           "geo": "geo",
           "hovertemplate": "<b>%{hovertext}</b><br><br>distribued beer=%{customdata[2]:.0f}<br>happiness gauge=%{z:.2f}<extra></extra>",
           "hovertext": [
            "Australia",
            "Austria",
            "Belarus",
            "Belgium",
            "Brazil",
            "Canada",
            "China",
            "Croatia",
            "Czech Republic",
            "Denmark",
            "Estonia",
            "Finland",
            "France",
            "Germany",
            "Greece",
            "Hong Kong",
            "Hungary",
            "Iceland",
            "Ireland",
            "Israel",
            "Italy",
            "Japan",
            "Latvia",
            "Lithuania",
            "Luxembourg",
            "Malaysia",
            "Marshall Islands",
            "Moldova",
            "Netherlands",
            "New Zealand",
            "Norway",
            "Poland",
            "Portugal",
            "Romania",
            "Russia",
            "Serbia",
            "Sint Maarten",
            "Slovak Republic",
            "Slovenia",
            "South Africa",
            "Spain",
            "Sweden",
            "Switzerland",
            "Taiwan",
            "Thailand",
            "Turkey",
            "Ukraine",
            "United Kingdom",
            "United States"
           ],
           "locations": [
            "AUS",
            "AUT",
            "BLR",
            "BEL",
            "BRA",
            "CAN",
            "CHN",
            "HRV",
            "CZE",
            "DNK",
            "EST",
            "FIN",
            "FRA",
            "DEU",
            "GRC",
            "HKG",
            "HUN",
            "ISL",
            "IRL",
            "ISR",
            "ITA",
            "JPN",
            "LVA",
            "LTU",
            "LUX",
            "MYS",
            "MHL",
            "MDA",
            "NLD",
            "NZL",
            "NOR",
            "POL",
            "PRT",
            "ROU",
            "RUS",
            "SRB",
            "SXM",
            "SVK",
            "SVN",
            "ZAF",
            "ESP",
            "SWE",
            "CHE",
            "TWN",
            "THA",
            "TUR",
            "UKR",
            "GBR",
            "USA"
           ],
           "name": "",
           "type": "choropleth",
           "z": [
            1.11,
            0.7,
            0.6,
            2,
            1,
            1.86,
            0.48,
            1.08,
            1,
            2.27,
            1.08,
            1.56,
            2.37,
            2.15,
            1.36,
            0.78,
            0.6,
            0.3,
            0.6,
            1.23,
            1.34,
            1.08,
            0.7,
            0.3,
            0.7,
            0.78,
            0.7,
            0.48,
            2.21,
            0.6,
            1.81,
            1.56,
            1,
            0.78,
            0.95,
            0.48,
            0.3,
            1.18,
            1,
            0.48,
            1.75,
            1.91,
            1.71,
            0.3,
            0.7,
            0.3,
            0.78,
            2,
            2.1
           ]
          }
         ],
         "name": "2015"
        },
        {
         "data": [
          {
           "coloraxis": "coloraxis",
           "customdata": [
            [
             "ARG",
             "2016",
             2,
             0.3
            ],
            [
             "AUS",
             "2016",
             6,
             0.78
            ],
            [
             "AUT",
             "2016",
             4,
             0.6
            ],
            [
             "BLR",
             "2016",
             4,
             0.6
            ],
            [
             "BEL",
             "2016",
             134,
             2.13
            ],
            [
             "BRA",
             "2016",
             4,
             0.6
            ],
            [
             "CAN",
             "2016",
             38,
             1.58
            ],
            [
             "CHN",
             "2016",
             3,
             0.48
            ],
            [
             "HRV",
             "2016",
             8,
             0.9
            ],
            [
             "CZE",
             "2016",
             5,
             0.7
            ],
            [
             "DNK",
             "2016",
             149,
             2.17
            ],
            [
             "DOM",
             "2016",
             3,
             0.48
            ],
            [
             "EST",
             "2016",
             15,
             1.18
            ],
            [
             "FIN",
             "2016",
             52,
             1.72
            ],
            [
             "FRA",
             "2016",
             606,
             2.78
            ],
            [
             "DEU",
             "2016",
             104,
             2.02
            ],
            [
             "GRC",
             "2016",
             5,
             0.7
            ],
            [
             "HKG",
             "2016",
             4,
             0.6
            ],
            [
             "HUN",
             "2016",
             9,
             0.95
            ],
            [
             "ISL",
             "2016",
             3,
             0.48
            ],
            [
             "IDN",
             "2016",
             2,
             0.3
            ],
            [
             "IRL",
             "2016",
             4,
             0.6
            ],
            [
             "ISR",
             "2016",
             10,
             1
            ],
            [
             "ITA",
             "2016",
             14,
             1.15
            ],
            [
             "JPN",
             "2016",
             2,
             0.3
            ],
            [
             "LVA",
             "2016",
             3,
             0.48
            ],
            [
             "LTU",
             "2016",
             4,
             0.6
            ],
            [
             "MYS",
             "2016",
             4,
             0.6
            ],
            [
             "MHL",
             "2016",
             2,
             0.3
            ],
            [
             "MEX",
             "2016",
             2,
             0.3
            ],
            [
             "NLD",
             "2016",
             115,
             2.06
            ],
            [
             "NZL",
             "2016",
             3,
             0.48
            ],
            [
             "PRK",
             "2016",
             2,
             0.3
            ],
            [
             "NOR",
             "2016",
             32,
             1.51
            ],
            [
             "POL",
             "2016",
             12,
             1.08
            ],
            [
             "PRT",
             "2016",
             18,
             1.26
            ],
            [
             "ROU",
             "2016",
             4,
             0.6
            ],
            [
             "RUS",
             "2016",
             4,
             0.6
            ],
            [
             "SRB",
             "2016",
             3,
             0.48
            ],
            [
             "SGP",
             "2016",
             2,
             0.3
            ],
            [
             "SVK",
             "2016",
             9,
             0.95
            ],
            [
             "SVN",
             "2016",
             3,
             0.48
            ],
            [
             "ZAF",
             "2016",
             4,
             0.6
            ],
            [
             "KOR",
             "2016",
             2,
             0.3
            ],
            [
             "ESP",
             "2016",
             49,
             1.69
            ],
            [
             "SWE",
             "2016",
             62,
             1.79
            ],
            [
             "CHE",
             "2016",
             46,
             1.66
            ],
            [
             "TWN",
             "2016",
             3,
             0.48
            ],
            [
             "THA",
             "2016",
             11,
             1.04
            ],
            [
             "UKR",
             "2016",
             3,
             0.48
            ],
            [
             "GBR",
             "2016",
             98,
             1.99
            ],
            [
             "USA",
             "2016",
             112,
             2.05
            ]
           ],
           "geo": "geo",
           "hovertemplate": "<b>%{hovertext}</b><br><br>distribued beer=%{customdata[2]:.0f}<br>happiness gauge=%{z:.2f}<extra></extra>",
           "hovertext": [
            "Argentina",
            "Australia",
            "Austria",
            "Belarus",
            "Belgium",
            "Brazil",
            "Canada",
            "China",
            "Croatia",
            "Czech Republic",
            "Denmark",
            "Dominican Republic",
            "Estonia",
            "Finland",
            "France",
            "Germany",
            "Greece",
            "Hong Kong",
            "Hungary",
            "Iceland",
            "Indonesia",
            "Ireland",
            "Israel",
            "Italy",
            "Japan",
            "Latvia",
            "Lithuania",
            "Malaysia",
            "Marshall Islands",
            "Mexico",
            "Netherlands",
            "New Zealand",
            "North Korea",
            "Norway",
            "Poland",
            "Portugal",
            "Romania",
            "Russia",
            "Serbia",
            "Singapore",
            "Slovak Republic",
            "Slovenia",
            "South Africa",
            "South Korea",
            "Spain",
            "Sweden",
            "Switzerland",
            "Taiwan",
            "Thailand",
            "Ukraine",
            "United Kingdom",
            "United States"
           ],
           "locations": [
            "ARG",
            "AUS",
            "AUT",
            "BLR",
            "BEL",
            "BRA",
            "CAN",
            "CHN",
            "HRV",
            "CZE",
            "DNK",
            "DOM",
            "EST",
            "FIN",
            "FRA",
            "DEU",
            "GRC",
            "HKG",
            "HUN",
            "ISL",
            "IDN",
            "IRL",
            "ISR",
            "ITA",
            "JPN",
            "LVA",
            "LTU",
            "MYS",
            "MHL",
            "MEX",
            "NLD",
            "NZL",
            "PRK",
            "NOR",
            "POL",
            "PRT",
            "ROU",
            "RUS",
            "SRB",
            "SGP",
            "SVK",
            "SVN",
            "ZAF",
            "KOR",
            "ESP",
            "SWE",
            "CHE",
            "TWN",
            "THA",
            "UKR",
            "GBR",
            "USA"
           ],
           "name": "",
           "type": "choropleth",
           "z": [
            0.3,
            0.78,
            0.6,
            0.6,
            2.13,
            0.6,
            1.58,
            0.48,
            0.9,
            0.7,
            2.17,
            0.48,
            1.18,
            1.72,
            2.78,
            2.02,
            0.7,
            0.6,
            0.95,
            0.48,
            0.3,
            0.6,
            1,
            1.15,
            0.3,
            0.48,
            0.6,
            0.6,
            0.3,
            0.3,
            2.06,
            0.48,
            0.3,
            1.51,
            1.08,
            1.26,
            0.6,
            0.6,
            0.48,
            0.3,
            0.95,
            0.48,
            0.6,
            0.3,
            1.69,
            1.79,
            1.66,
            0.48,
            1.04,
            0.48,
            1.99,
            2.05
           ]
          }
         ],
         "name": "2016"
        }
       ],
       "layout": {
        "coloraxis": {
         "cmax": 2.78,
         "cmin": 0,
         "colorbar": {
          "title": {
           "text": "happiness gauge"
          }
         },
         "colorscale": [
          [
           0,
           "rgb(255,245,235)"
          ],
          [
           0.125,
           "rgb(254,230,206)"
          ],
          [
           0.25,
           "rgb(253,208,162)"
          ],
          [
           0.375,
           "rgb(253,174,107)"
          ],
          [
           0.5,
           "rgb(253,141,60)"
          ],
          [
           0.625,
           "rgb(241,105,19)"
          ],
          [
           0.75,
           "rgb(217,72,1)"
          ],
          [
           0.875,
           "rgb(166,54,3)"
          ],
          [
           1,
           "rgb(127,39,4)"
          ]
         ]
        },
        "geo": {
         "center": {},
         "domain": {
          "x": [
           0,
           1
          ],
          "y": [
           0,
           1
          ]
         },
         "projection": {
          "type": "natural earth"
         }
        },
        "height": 700,
        "legend": {
         "tracegroupgap": 0
        },
        "margin": {
         "b": 0,
         "l": 0,
         "r": 0,
         "t": 3
        },
        "sliders": [
         {
          "active": 0,
          "currentvalue": {
           "prefix": "year="
          },
          "len": 0.9,
          "pad": {
           "b": 10,
           "t": 60
          },
          "steps": [
           {
            "args": [
             [
              "2004"
             ],
             {
              "frame": {
               "duration": 0,
               "redraw": true
              },
              "fromcurrent": true,
              "mode": "immediate",
              "transition": {
               "duration": 0,
               "easing": "linear"
              }
             }
            ],
            "label": "2004",
            "method": "animate"
           },
           {
            "args": [
             [
              "2005"
             ],
             {
              "frame": {
               "duration": 0,
               "redraw": true
              },
              "fromcurrent": true,
              "mode": "immediate",
              "transition": {
               "duration": 0,
               "easing": "linear"
              }
             }
            ],
            "label": "2005",
            "method": "animate"
           },
           {
            "args": [
             [
              "2006"
             ],
             {
              "frame": {
               "duration": 0,
               "redraw": true
              },
              "fromcurrent": true,
              "mode": "immediate",
              "transition": {
               "duration": 0,
               "easing": "linear"
              }
             }
            ],
            "label": "2006",
            "method": "animate"
           },
           {
            "args": [
             [
              "2007"
             ],
             {
              "frame": {
               "duration": 0,
               "redraw": true
              },
              "fromcurrent": true,
              "mode": "immediate",
              "transition": {
               "duration": 0,
               "easing": "linear"
              }
             }
            ],
            "label": "2007",
            "method": "animate"
           },
           {
            "args": [
             [
              "2008"
             ],
             {
              "frame": {
               "duration": 0,
               "redraw": true
              },
              "fromcurrent": true,
              "mode": "immediate",
              "transition": {
               "duration": 0,
               "easing": "linear"
              }
             }
            ],
            "label": "2008",
            "method": "animate"
           },
           {
            "args": [
             [
              "2009"
             ],
             {
              "frame": {
               "duration": 0,
               "redraw": true
              },
              "fromcurrent": true,
              "mode": "immediate",
              "transition": {
               "duration": 0,
               "easing": "linear"
              }
             }
            ],
            "label": "2009",
            "method": "animate"
           },
           {
            "args": [
             [
              "2010"
             ],
             {
              "frame": {
               "duration": 0,
               "redraw": true
              },
              "fromcurrent": true,
              "mode": "immediate",
              "transition": {
               "duration": 0,
               "easing": "linear"
              }
             }
            ],
            "label": "2010",
            "method": "animate"
           },
           {
            "args": [
             [
              "2011"
             ],
             {
              "frame": {
               "duration": 0,
               "redraw": true
              },
              "fromcurrent": true,
              "mode": "immediate",
              "transition": {
               "duration": 0,
               "easing": "linear"
              }
             }
            ],
            "label": "2011",
            "method": "animate"
           },
           {
            "args": [
             [
              "2012"
             ],
             {
              "frame": {
               "duration": 0,
               "redraw": true
              },
              "fromcurrent": true,
              "mode": "immediate",
              "transition": {
               "duration": 0,
               "easing": "linear"
              }
             }
            ],
            "label": "2012",
            "method": "animate"
           },
           {
            "args": [
             [
              "2013"
             ],
             {
              "frame": {
               "duration": 0,
               "redraw": true
              },
              "fromcurrent": true,
              "mode": "immediate",
              "transition": {
               "duration": 0,
               "easing": "linear"
              }
             }
            ],
            "label": "2013",
            "method": "animate"
           },
           {
            "args": [
             [
              "2014"
             ],
             {
              "frame": {
               "duration": 0,
               "redraw": true
              },
              "fromcurrent": true,
              "mode": "immediate",
              "transition": {
               "duration": 0,
               "easing": "linear"
              }
             }
            ],
            "label": "2014",
            "method": "animate"
           },
           {
            "args": [
             [
              "2015"
             ],
             {
              "frame": {
               "duration": 0,
               "redraw": true
              },
              "fromcurrent": true,
              "mode": "immediate",
              "transition": {
               "duration": 0,
               "easing": "linear"
              }
             }
            ],
            "label": "2015",
            "method": "animate"
           },
           {
            "args": [
             [
              "2016"
             ],
             {
              "frame": {
               "duration": 0,
               "redraw": true
              },
              "fromcurrent": true,
              "mode": "immediate",
              "transition": {
               "duration": 0,
               "easing": "linear"
              }
             }
            ],
            "label": "2016",
            "method": "animate"
           }
          ],
          "x": 0.1,
          "xanchor": "left",
          "y": 0,
          "yanchor": "top"
         }
        ],
        "template": {
         "data": {
          "bar": [
           {
            "error_x": {
             "color": "#2a3f5f"
            },
            "error_y": {
             "color": "#2a3f5f"
            },
            "marker": {
             "line": {
              "color": "#E5ECF6",
              "width": 0.5
             },
             "pattern": {
              "fillmode": "overlay",
              "size": 10,
              "solidity": 0.2
             }
            },
            "type": "bar"
           }
          ],
          "barpolar": [
           {
            "marker": {
             "line": {
              "color": "#E5ECF6",
              "width": 0.5
             },
             "pattern": {
              "fillmode": "overlay",
              "size": 10,
              "solidity": 0.2
             }
            },
            "type": "barpolar"
           }
          ],
          "carpet": [
           {
            "aaxis": {
             "endlinecolor": "#2a3f5f",
             "gridcolor": "white",
             "linecolor": "white",
             "minorgridcolor": "white",
             "startlinecolor": "#2a3f5f"
            },
            "baxis": {
             "endlinecolor": "#2a3f5f",
             "gridcolor": "white",
             "linecolor": "white",
             "minorgridcolor": "white",
             "startlinecolor": "#2a3f5f"
            },
            "type": "carpet"
           }
          ],
          "choropleth": [
           {
            "colorbar": {
             "outlinewidth": 0,
             "ticks": ""
            },
            "type": "choropleth"
           }
          ],
          "contour": [
           {
            "colorbar": {
             "outlinewidth": 0,
             "ticks": ""
            },
            "colorscale": [
             [
              0,
              "#0d0887"
             ],
             [
              0.1111111111111111,
              "#46039f"
             ],
             [
              0.2222222222222222,
              "#7201a8"
             ],
             [
              0.3333333333333333,
              "#9c179e"
             ],
             [
              0.4444444444444444,
              "#bd3786"
             ],
             [
              0.5555555555555556,
              "#d8576b"
             ],
             [
              0.6666666666666666,
              "#ed7953"
             ],
             [
              0.7777777777777778,
              "#fb9f3a"
             ],
             [
              0.8888888888888888,
              "#fdca26"
             ],
             [
              1,
              "#f0f921"
             ]
            ],
            "type": "contour"
           }
          ],
          "contourcarpet": [
           {
            "colorbar": {
             "outlinewidth": 0,
             "ticks": ""
            },
            "type": "contourcarpet"
           }
          ],
          "heatmap": [
           {
            "colorbar": {
             "outlinewidth": 0,
             "ticks": ""
            },
            "colorscale": [
             [
              0,
              "#0d0887"
             ],
             [
              0.1111111111111111,
              "#46039f"
             ],
             [
              0.2222222222222222,
              "#7201a8"
             ],
             [
              0.3333333333333333,
              "#9c179e"
             ],
             [
              0.4444444444444444,
              "#bd3786"
             ],
             [
              0.5555555555555556,
              "#d8576b"
             ],
             [
              0.6666666666666666,
              "#ed7953"
             ],
             [
              0.7777777777777778,
              "#fb9f3a"
             ],
             [
              0.8888888888888888,
              "#fdca26"
             ],
             [
              1,
              "#f0f921"
             ]
            ],
            "type": "heatmap"
           }
          ],
          "heatmapgl": [
           {
            "colorbar": {
             "outlinewidth": 0,
             "ticks": ""
            },
            "colorscale": [
             [
              0,
              "#0d0887"
             ],
             [
              0.1111111111111111,
              "#46039f"
             ],
             [
              0.2222222222222222,
              "#7201a8"
             ],
             [
              0.3333333333333333,
              "#9c179e"
             ],
             [
              0.4444444444444444,
              "#bd3786"
             ],
             [
              0.5555555555555556,
              "#d8576b"
             ],
             [
              0.6666666666666666,
              "#ed7953"
             ],
             [
              0.7777777777777778,
              "#fb9f3a"
             ],
             [
              0.8888888888888888,
              "#fdca26"
             ],
             [
              1,
              "#f0f921"
             ]
            ],
            "type": "heatmapgl"
           }
          ],
          "histogram": [
           {
            "marker": {
             "pattern": {
              "fillmode": "overlay",
              "size": 10,
              "solidity": 0.2
             }
            },
            "type": "histogram"
           }
          ],
          "histogram2d": [
           {
            "colorbar": {
             "outlinewidth": 0,
             "ticks": ""
            },
            "colorscale": [
             [
              0,
              "#0d0887"
             ],
             [
              0.1111111111111111,
              "#46039f"
             ],
             [
              0.2222222222222222,
              "#7201a8"
             ],
             [
              0.3333333333333333,
              "#9c179e"
             ],
             [
              0.4444444444444444,
              "#bd3786"
             ],
             [
              0.5555555555555556,
              "#d8576b"
             ],
             [
              0.6666666666666666,
              "#ed7953"
             ],
             [
              0.7777777777777778,
              "#fb9f3a"
             ],
             [
              0.8888888888888888,
              "#fdca26"
             ],
             [
              1,
              "#f0f921"
             ]
            ],
            "type": "histogram2d"
           }
          ],
          "histogram2dcontour": [
           {
            "colorbar": {
             "outlinewidth": 0,
             "ticks": ""
            },
            "colorscale": [
             [
              0,
              "#0d0887"
             ],
             [
              0.1111111111111111,
              "#46039f"
             ],
             [
              0.2222222222222222,
              "#7201a8"
             ],
             [
              0.3333333333333333,
              "#9c179e"
             ],
             [
              0.4444444444444444,
              "#bd3786"
             ],
             [
              0.5555555555555556,
              "#d8576b"
             ],
             [
              0.6666666666666666,
              "#ed7953"
             ],
             [
              0.7777777777777778,
              "#fb9f3a"
             ],
             [
              0.8888888888888888,
              "#fdca26"
             ],
             [
              1,
              "#f0f921"
             ]
            ],
            "type": "histogram2dcontour"
           }
          ],
          "mesh3d": [
           {
            "colorbar": {
             "outlinewidth": 0,
             "ticks": ""
            },
            "type": "mesh3d"
           }
          ],
          "parcoords": [
           {
            "line": {
             "colorbar": {
              "outlinewidth": 0,
              "ticks": ""
             }
            },
            "type": "parcoords"
           }
          ],
          "pie": [
           {
            "automargin": true,
            "type": "pie"
           }
          ],
          "scatter": [
           {
            "fillpattern": {
             "fillmode": "overlay",
             "size": 10,
             "solidity": 0.2
            },
            "type": "scatter"
           }
          ],
          "scatter3d": [
           {
            "line": {
             "colorbar": {
              "outlinewidth": 0,
              "ticks": ""
             }
            },
            "marker": {
             "colorbar": {
              "outlinewidth": 0,
              "ticks": ""
             }
            },
            "type": "scatter3d"
           }
          ],
          "scattercarpet": [
           {
            "marker": {
             "colorbar": {
              "outlinewidth": 0,
              "ticks": ""
             }
            },
            "type": "scattercarpet"
           }
          ],
          "scattergeo": [
           {
            "marker": {
             "colorbar": {
              "outlinewidth": 0,
              "ticks": ""
             }
            },
            "type": "scattergeo"
           }
          ],
          "scattergl": [
           {
            "marker": {
             "colorbar": {
              "outlinewidth": 0,
              "ticks": ""
             }
            },
            "type": "scattergl"
           }
          ],
          "scattermapbox": [
           {
            "marker": {
             "colorbar": {
              "outlinewidth": 0,
              "ticks": ""
             }
            },
            "type": "scattermapbox"
           }
          ],
          "scatterpolar": [
           {
            "marker": {
             "colorbar": {
              "outlinewidth": 0,
              "ticks": ""
             }
            },
            "type": "scatterpolar"
           }
          ],
          "scatterpolargl": [
           {
            "marker": {
             "colorbar": {
              "outlinewidth": 0,
              "ticks": ""
             }
            },
            "type": "scatterpolargl"
           }
          ],
          "scatterternary": [
           {
            "marker": {
             "colorbar": {
              "outlinewidth": 0,
              "ticks": ""
             }
            },
            "type": "scatterternary"
           }
          ],
          "surface": [
           {
            "colorbar": {
             "outlinewidth": 0,
             "ticks": ""
            },
            "colorscale": [
             [
              0,
              "#0d0887"
             ],
             [
              0.1111111111111111,
              "#46039f"
             ],
             [
              0.2222222222222222,
              "#7201a8"
             ],
             [
              0.3333333333333333,
              "#9c179e"
             ],
             [
              0.4444444444444444,
              "#bd3786"
             ],
             [
              0.5555555555555556,
              "#d8576b"
             ],
             [
              0.6666666666666666,
              "#ed7953"
             ],
             [
              0.7777777777777778,
              "#fb9f3a"
             ],
             [
              0.8888888888888888,
              "#fdca26"
             ],
             [
              1,
              "#f0f921"
             ]
            ],
            "type": "surface"
           }
          ],
          "table": [
           {
            "cells": {
             "fill": {
              "color": "#EBF0F8"
             },
             "line": {
              "color": "white"
             }
            },
            "header": {
             "fill": {
              "color": "#C8D4E3"
             },
             "line": {
              "color": "white"
             }
            },
            "type": "table"
           }
          ]
         },
         "layout": {
          "annotationdefaults": {
           "arrowcolor": "#2a3f5f",
           "arrowhead": 0,
           "arrowwidth": 1
          },
          "autotypenumbers": "strict",
          "coloraxis": {
           "colorbar": {
            "outlinewidth": 0,
            "ticks": ""
           }
          },
          "colorscale": {
           "diverging": [
            [
             0,
             "#8e0152"
            ],
            [
             0.1,
             "#c51b7d"
            ],
            [
             0.2,
             "#de77ae"
            ],
            [
             0.3,
             "#f1b6da"
            ],
            [
             0.4,
             "#fde0ef"
            ],
            [
             0.5,
             "#f7f7f7"
            ],
            [
             0.6,
             "#e6f5d0"
            ],
            [
             0.7,
             "#b8e186"
            ],
            [
             0.8,
             "#7fbc41"
            ],
            [
             0.9,
             "#4d9221"
            ],
            [
             1,
             "#276419"
            ]
           ],
           "sequential": [
            [
             0,
             "#0d0887"
            ],
            [
             0.1111111111111111,
             "#46039f"
            ],
            [
             0.2222222222222222,
             "#7201a8"
            ],
            [
             0.3333333333333333,
             "#9c179e"
            ],
            [
             0.4444444444444444,
             "#bd3786"
            ],
            [
             0.5555555555555556,
             "#d8576b"
            ],
            [
             0.6666666666666666,
             "#ed7953"
            ],
            [
             0.7777777777777778,
             "#fb9f3a"
            ],
            [
             0.8888888888888888,
             "#fdca26"
            ],
            [
             1,
             "#f0f921"
            ]
           ],
           "sequentialminus": [
            [
             0,
             "#0d0887"
            ],
            [
             0.1111111111111111,
             "#46039f"
            ],
            [
             0.2222222222222222,
             "#7201a8"
            ],
            [
             0.3333333333333333,
             "#9c179e"
            ],
            [
             0.4444444444444444,
             "#bd3786"
            ],
            [
             0.5555555555555556,
             "#d8576b"
            ],
            [
             0.6666666666666666,
             "#ed7953"
            ],
            [
             0.7777777777777778,
             "#fb9f3a"
            ],
            [
             0.8888888888888888,
             "#fdca26"
            ],
            [
             1,
             "#f0f921"
            ]
           ]
          },
          "colorway": [
           "#636efa",
           "#EF553B",
           "#00cc96",
           "#ab63fa",
           "#FFA15A",
           "#19d3f3",
           "#FF6692",
           "#B6E880",
           "#FF97FF",
           "#FECB52"
          ],
          "font": {
           "color": "#2a3f5f"
          },
          "geo": {
           "bgcolor": "white",
           "lakecolor": "white",
           "landcolor": "#E5ECF6",
           "showlakes": true,
           "showland": true,
           "subunitcolor": "white"
          },
          "hoverlabel": {
           "align": "left"
          },
          "hovermode": "closest",
          "mapbox": {
           "style": "light"
          },
          "paper_bgcolor": "white",
          "plot_bgcolor": "#E5ECF6",
          "polar": {
           "angularaxis": {
            "gridcolor": "white",
            "linecolor": "white",
            "ticks": ""
           },
           "bgcolor": "#E5ECF6",
           "radialaxis": {
            "gridcolor": "white",
            "linecolor": "white",
            "ticks": ""
           }
          },
          "scene": {
           "xaxis": {
            "backgroundcolor": "#E5ECF6",
            "gridcolor": "white",
            "gridwidth": 2,
            "linecolor": "white",
            "showbackground": true,
            "ticks": "",
            "zerolinecolor": "white"
           },
           "yaxis": {
            "backgroundcolor": "#E5ECF6",
            "gridcolor": "white",
            "gridwidth": 2,
            "linecolor": "white",
            "showbackground": true,
            "ticks": "",
            "zerolinecolor": "white"
           },
           "zaxis": {
            "backgroundcolor": "#E5ECF6",
            "gridcolor": "white",
            "gridwidth": 2,
            "linecolor": "white",
            "showbackground": true,
            "ticks": "",
            "zerolinecolor": "white"
           }
          },
          "shapedefaults": {
           "line": {
            "color": "#2a3f5f"
           }
          },
          "ternary": {
           "aaxis": {
            "gridcolor": "white",
            "linecolor": "white",
            "ticks": ""
           },
           "baxis": {
            "gridcolor": "white",
            "linecolor": "white",
            "ticks": ""
           },
           "bgcolor": "#E5ECF6",
           "caxis": {
            "gridcolor": "white",
            "linecolor": "white",
            "ticks": ""
           }
          },
          "title": {
           "x": 0.05
          },
          "xaxis": {
           "automargin": true,
           "gridcolor": "white",
           "linecolor": "white",
           "ticks": "",
           "title": {
            "standoff": 15
           },
           "zerolinecolor": "white",
           "zerolinewidth": 2
          },
          "yaxis": {
           "automargin": true,
           "gridcolor": "white",
           "linecolor": "white",
           "ticks": "",
           "title": {
            "standoff": 15
           },
           "zerolinecolor": "white",
           "zerolinewidth": 2
          }
         }
        },
        "title": {
         "text": "Distribution brewery in France producing Ale-type beers",
         "x": 0.5,
         "xanchor": "center",
         "y": 0.98,
         "yanchor": "top"
        },
        "updatemenus": [
         {
          "buttons": [
           {
            "args": [
             {
              "geo": {
               "projection": {
                "type": "natural earth"
               }
              }
             }
            ],
            "label": "natural earth",
            "method": "relayout"
           },
           {
            "args": [
             {
              "geo": {
               "projection": {
                "type": "equirectangular"
               }
              }
             }
            ],
            "label": "equirectangular",
            "method": "relayout"
           },
           {
            "args": [
             {
              "geo": {
               "projection": {
                "type": "orthographic"
               }
              }
             }
            ],
            "label": "orthographic",
            "method": "relayout"
           },
           {
            "args": [
             {
              "geo": {
               "projection": {
                "type": "mercator"
               }
              }
             }
            ],
            "label": "mercator",
            "method": "relayout"
           }
          ],
          "direction": "down",
          "pad": {
           "r": 10,
           "t": 10
          },
          "showactive": true,
          "type": "dropdown",
          "x": 0,
          "xanchor": "left",
          "y": 1.1,
          "yanchor": "top"
         }
        ],
        "width": 900
       }
      },
      "text/html": [
       "<div>                            <div id=\"558e2e47-8237-419a-a0f9-919712f1e71e\" class=\"plotly-graph-div\" style=\"height:700px; width:900px;\"></div>            <script type=\"text/javascript\">                require([\"plotly\"], function(Plotly) {                    window.PLOTLYENV=window.PLOTLYENV || {};                                    if (document.getElementById(\"558e2e47-8237-419a-a0f9-919712f1e71e\")) {                    Plotly.newPlot(                        \"558e2e47-8237-419a-a0f9-919712f1e71e\",                        [{\"coloraxis\":\"coloraxis\",\"customdata\":[[\"AGO\",\"2004\",2.0,0.3],[\"AUS\",\"2004\",20.0,1.3],[\"BEL\",\"2004\",12.0,1.08],[\"BOL\",\"2004\",2.0,0.3],[\"CAN\",\"2004\",138.0,2.14],[\"HRV\",\"2004\",15.0,1.18],[\"CZE\",\"2004\",3.0,0.48],[\"DNK\",\"2004\",93.0,1.97],[\"FIN\",\"2004\",10.0,1.0],[\"FRA\",\"2004\",3.0,0.48],[\"DEU\",\"2004\",15.0,1.18],[\"ISL\",\"2004\",2.0,0.3],[\"ITA\",\"2004\",19.0,1.28],[\"JPN\",\"2004\",7.0,0.85],[\"NLD\",\"2004\",28.0,1.45],[\"NOR\",\"2004\",2.0,0.3],[\"POL\",\"2004\",2.0,0.3],[\"KOR\",\"2004\",2.0,0.3],[\"ESP\",\"2004\",5.0,0.7],[\"SWE\",\"2004\",24.0,1.38],[\"CHE\",\"2004\",27.0,1.43],[\"TUR\",\"2004\",2.0,0.3],[\"GBR\",\"2004\",130.0,2.11],[\"USA\",\"2004\",445.0,2.65]],\"geo\":\"geo\",\"hovertemplate\":\"<b>%{hovertext}</b><br><br>distribued beer=%{customdata[2]:.0f}<br>happiness gauge=%{z:.2f}<extra></extra>\",\"hovertext\":[\"Angola\",\"Australia\",\"Belgium\",\"Bolivia\",\"Canada\",\"Croatia\",\"Czech Republic\",\"Denmark\",\"Finland\",\"France\",\"Germany\",\"Iceland\",\"Italy\",\"Japan\",\"Netherlands\",\"Norway\",\"Poland\",\"South Korea\",\"Spain\",\"Sweden\",\"Switzerland\",\"Turkey\",\"United Kingdom\",\"United States\"],\"locations\":[\"AGO\",\"AUS\",\"BEL\",\"BOL\",\"CAN\",\"HRV\",\"CZE\",\"DNK\",\"FIN\",\"FRA\",\"DEU\",\"ISL\",\"ITA\",\"JPN\",\"NLD\",\"NOR\",\"POL\",\"KOR\",\"ESP\",\"SWE\",\"CHE\",\"TUR\",\"GBR\",\"USA\"],\"name\":\"\",\"z\":[0.3,1.3,1.08,0.3,2.14,1.18,0.48,1.97,1.0,0.48,1.18,0.3,1.28,0.85,1.45,0.3,0.3,0.3,0.7,1.38,1.43,0.3,2.11,2.65],\"type\":\"choropleth\"}],                        {\"template\":{\"data\":{\"histogram2dcontour\":[{\"type\":\"histogram2dcontour\",\"colorbar\":{\"outlinewidth\":0,\"ticks\":\"\"},\"colorscale\":[[0.0,\"#0d0887\"],[0.1111111111111111,\"#46039f\"],[0.2222222222222222,\"#7201a8\"],[0.3333333333333333,\"#9c179e\"],[0.4444444444444444,\"#bd3786\"],[0.5555555555555556,\"#d8576b\"],[0.6666666666666666,\"#ed7953\"],[0.7777777777777778,\"#fb9f3a\"],[0.8888888888888888,\"#fdca26\"],[1.0,\"#f0f921\"]]}],\"choropleth\":[{\"type\":\"choropleth\",\"colorbar\":{\"outlinewidth\":0,\"ticks\":\"\"}}],\"histogram2d\":[{\"type\":\"histogram2d\",\"colorbar\":{\"outlinewidth\":0,\"ticks\":\"\"},\"colorscale\":[[0.0,\"#0d0887\"],[0.1111111111111111,\"#46039f\"],[0.2222222222222222,\"#7201a8\"],[0.3333333333333333,\"#9c179e\"],[0.4444444444444444,\"#bd3786\"],[0.5555555555555556,\"#d8576b\"],[0.6666666666666666,\"#ed7953\"],[0.7777777777777778,\"#fb9f3a\"],[0.8888888888888888,\"#fdca26\"],[1.0,\"#f0f921\"]]}],\"heatmap\":[{\"type\":\"heatmap\",\"colorbar\":{\"outlinewidth\":0,\"ticks\":\"\"},\"colorscale\":[[0.0,\"#0d0887\"],[0.1111111111111111,\"#46039f\"],[0.2222222222222222,\"#7201a8\"],[0.3333333333333333,\"#9c179e\"],[0.4444444444444444,\"#bd3786\"],[0.5555555555555556,\"#d8576b\"],[0.6666666666666666,\"#ed7953\"],[0.7777777777777778,\"#fb9f3a\"],[0.8888888888888888,\"#fdca26\"],[1.0,\"#f0f921\"]]}],\"heatmapgl\":[{\"type\":\"heatmapgl\",\"colorbar\":{\"outlinewidth\":0,\"ticks\":\"\"},\"colorscale\":[[0.0,\"#0d0887\"],[0.1111111111111111,\"#46039f\"],[0.2222222222222222,\"#7201a8\"],[0.3333333333333333,\"#9c179e\"],[0.4444444444444444,\"#bd3786\"],[0.5555555555555556,\"#d8576b\"],[0.6666666666666666,\"#ed7953\"],[0.7777777777777778,\"#fb9f3a\"],[0.8888888888888888,\"#fdca26\"],[1.0,\"#f0f921\"]]}],\"contourcarpet\":[{\"type\":\"contourcarpet\",\"colorbar\":{\"outlinewidth\":0,\"ticks\":\"\"}}],\"contour\":[{\"type\":\"contour\",\"colorbar\":{\"outlinewidth\":0,\"ticks\":\"\"},\"colorscale\":[[0.0,\"#0d0887\"],[0.1111111111111111,\"#46039f\"],[0.2222222222222222,\"#7201a8\"],[0.3333333333333333,\"#9c179e\"],[0.4444444444444444,\"#bd3786\"],[0.5555555555555556,\"#d8576b\"],[0.6666666666666666,\"#ed7953\"],[0.7777777777777778,\"#fb9f3a\"],[0.8888888888888888,\"#fdca26\"],[1.0,\"#f0f921\"]]}],\"surface\":[{\"type\":\"surface\",\"colorbar\":{\"outlinewidth\":0,\"ticks\":\"\"},\"colorscale\":[[0.0,\"#0d0887\"],[0.1111111111111111,\"#46039f\"],[0.2222222222222222,\"#7201a8\"],[0.3333333333333333,\"#9c179e\"],[0.4444444444444444,\"#bd3786\"],[0.5555555555555556,\"#d8576b\"],[0.6666666666666666,\"#ed7953\"],[0.7777777777777778,\"#fb9f3a\"],[0.8888888888888888,\"#fdca26\"],[1.0,\"#f0f921\"]]}],\"mesh3d\":[{\"type\":\"mesh3d\",\"colorbar\":{\"outlinewidth\":0,\"ticks\":\"\"}}],\"scatter\":[{\"fillpattern\":{\"fillmode\":\"overlay\",\"size\":10,\"solidity\":0.2},\"type\":\"scatter\"}],\"parcoords\":[{\"type\":\"parcoords\",\"line\":{\"colorbar\":{\"outlinewidth\":0,\"ticks\":\"\"}}}],\"scatterpolargl\":[{\"type\":\"scatterpolargl\",\"marker\":{\"colorbar\":{\"outlinewidth\":0,\"ticks\":\"\"}}}],\"bar\":[{\"error_x\":{\"color\":\"#2a3f5f\"},\"error_y\":{\"color\":\"#2a3f5f\"},\"marker\":{\"line\":{\"color\":\"#E5ECF6\",\"width\":0.5},\"pattern\":{\"fillmode\":\"overlay\",\"size\":10,\"solidity\":0.2}},\"type\":\"bar\"}],\"scattergeo\":[{\"type\":\"scattergeo\",\"marker\":{\"colorbar\":{\"outlinewidth\":0,\"ticks\":\"\"}}}],\"scatterpolar\":[{\"type\":\"scatterpolar\",\"marker\":{\"colorbar\":{\"outlinewidth\":0,\"ticks\":\"\"}}}],\"histogram\":[{\"marker\":{\"pattern\":{\"fillmode\":\"overlay\",\"size\":10,\"solidity\":0.2}},\"type\":\"histogram\"}],\"scattergl\":[{\"type\":\"scattergl\",\"marker\":{\"colorbar\":{\"outlinewidth\":0,\"ticks\":\"\"}}}],\"scatter3d\":[{\"type\":\"scatter3d\",\"line\":{\"colorbar\":{\"outlinewidth\":0,\"ticks\":\"\"}},\"marker\":{\"colorbar\":{\"outlinewidth\":0,\"ticks\":\"\"}}}],\"scattermapbox\":[{\"type\":\"scattermapbox\",\"marker\":{\"colorbar\":{\"outlinewidth\":0,\"ticks\":\"\"}}}],\"scatterternary\":[{\"type\":\"scatterternary\",\"marker\":{\"colorbar\":{\"outlinewidth\":0,\"ticks\":\"\"}}}],\"scattercarpet\":[{\"type\":\"scattercarpet\",\"marker\":{\"colorbar\":{\"outlinewidth\":0,\"ticks\":\"\"}}}],\"carpet\":[{\"aaxis\":{\"endlinecolor\":\"#2a3f5f\",\"gridcolor\":\"white\",\"linecolor\":\"white\",\"minorgridcolor\":\"white\",\"startlinecolor\":\"#2a3f5f\"},\"baxis\":{\"endlinecolor\":\"#2a3f5f\",\"gridcolor\":\"white\",\"linecolor\":\"white\",\"minorgridcolor\":\"white\",\"startlinecolor\":\"#2a3f5f\"},\"type\":\"carpet\"}],\"table\":[{\"cells\":{\"fill\":{\"color\":\"#EBF0F8\"},\"line\":{\"color\":\"white\"}},\"header\":{\"fill\":{\"color\":\"#C8D4E3\"},\"line\":{\"color\":\"white\"}},\"type\":\"table\"}],\"barpolar\":[{\"marker\":{\"line\":{\"color\":\"#E5ECF6\",\"width\":0.5},\"pattern\":{\"fillmode\":\"overlay\",\"size\":10,\"solidity\":0.2}},\"type\":\"barpolar\"}],\"pie\":[{\"automargin\":true,\"type\":\"pie\"}]},\"layout\":{\"autotypenumbers\":\"strict\",\"colorway\":[\"#636efa\",\"#EF553B\",\"#00cc96\",\"#ab63fa\",\"#FFA15A\",\"#19d3f3\",\"#FF6692\",\"#B6E880\",\"#FF97FF\",\"#FECB52\"],\"font\":{\"color\":\"#2a3f5f\"},\"hovermode\":\"closest\",\"hoverlabel\":{\"align\":\"left\"},\"paper_bgcolor\":\"white\",\"plot_bgcolor\":\"#E5ECF6\",\"polar\":{\"bgcolor\":\"#E5ECF6\",\"angularaxis\":{\"gridcolor\":\"white\",\"linecolor\":\"white\",\"ticks\":\"\"},\"radialaxis\":{\"gridcolor\":\"white\",\"linecolor\":\"white\",\"ticks\":\"\"}},\"ternary\":{\"bgcolor\":\"#E5ECF6\",\"aaxis\":{\"gridcolor\":\"white\",\"linecolor\":\"white\",\"ticks\":\"\"},\"baxis\":{\"gridcolor\":\"white\",\"linecolor\":\"white\",\"ticks\":\"\"},\"caxis\":{\"gridcolor\":\"white\",\"linecolor\":\"white\",\"ticks\":\"\"}},\"coloraxis\":{\"colorbar\":{\"outlinewidth\":0,\"ticks\":\"\"}},\"colorscale\":{\"sequential\":[[0.0,\"#0d0887\"],[0.1111111111111111,\"#46039f\"],[0.2222222222222222,\"#7201a8\"],[0.3333333333333333,\"#9c179e\"],[0.4444444444444444,\"#bd3786\"],[0.5555555555555556,\"#d8576b\"],[0.6666666666666666,\"#ed7953\"],[0.7777777777777778,\"#fb9f3a\"],[0.8888888888888888,\"#fdca26\"],[1.0,\"#f0f921\"]],\"sequentialminus\":[[0.0,\"#0d0887\"],[0.1111111111111111,\"#46039f\"],[0.2222222222222222,\"#7201a8\"],[0.3333333333333333,\"#9c179e\"],[0.4444444444444444,\"#bd3786\"],[0.5555555555555556,\"#d8576b\"],[0.6666666666666666,\"#ed7953\"],[0.7777777777777778,\"#fb9f3a\"],[0.8888888888888888,\"#fdca26\"],[1.0,\"#f0f921\"]],\"diverging\":[[0,\"#8e0152\"],[0.1,\"#c51b7d\"],[0.2,\"#de77ae\"],[0.3,\"#f1b6da\"],[0.4,\"#fde0ef\"],[0.5,\"#f7f7f7\"],[0.6,\"#e6f5d0\"],[0.7,\"#b8e186\"],[0.8,\"#7fbc41\"],[0.9,\"#4d9221\"],[1,\"#276419\"]]},\"xaxis\":{\"gridcolor\":\"white\",\"linecolor\":\"white\",\"ticks\":\"\",\"title\":{\"standoff\":15},\"zerolinecolor\":\"white\",\"automargin\":true,\"zerolinewidth\":2},\"yaxis\":{\"gridcolor\":\"white\",\"linecolor\":\"white\",\"ticks\":\"\",\"title\":{\"standoff\":15},\"zerolinecolor\":\"white\",\"automargin\":true,\"zerolinewidth\":2},\"scene\":{\"xaxis\":{\"backgroundcolor\":\"#E5ECF6\",\"gridcolor\":\"white\",\"linecolor\":\"white\",\"showbackground\":true,\"ticks\":\"\",\"zerolinecolor\":\"white\",\"gridwidth\":2},\"yaxis\":{\"backgroundcolor\":\"#E5ECF6\",\"gridcolor\":\"white\",\"linecolor\":\"white\",\"showbackground\":true,\"ticks\":\"\",\"zerolinecolor\":\"white\",\"gridwidth\":2},\"zaxis\":{\"backgroundcolor\":\"#E5ECF6\",\"gridcolor\":\"white\",\"linecolor\":\"white\",\"showbackground\":true,\"ticks\":\"\",\"zerolinecolor\":\"white\",\"gridwidth\":2}},\"shapedefaults\":{\"line\":{\"color\":\"#2a3f5f\"}},\"annotationdefaults\":{\"arrowcolor\":\"#2a3f5f\",\"arrowhead\":0,\"arrowwidth\":1},\"geo\":{\"bgcolor\":\"white\",\"landcolor\":\"#E5ECF6\",\"subunitcolor\":\"white\",\"showland\":true,\"showlakes\":true,\"lakecolor\":\"white\"},\"title\":{\"x\":0.05},\"mapbox\":{\"style\":\"light\"}}},\"geo\":{\"domain\":{\"x\":[0.0,1.0],\"y\":[0.0,1.0]},\"center\":{},\"projection\":{\"type\":\"natural earth\"}},\"coloraxis\":{\"colorbar\":{\"title\":{\"text\":\"happiness gauge\"}},\"colorscale\":[[0.0,\"rgb(255,245,235)\"],[0.125,\"rgb(254,230,206)\"],[0.25,\"rgb(253,208,162)\"],[0.375,\"rgb(253,174,107)\"],[0.5,\"rgb(253,141,60)\"],[0.625,\"rgb(241,105,19)\"],[0.75,\"rgb(217,72,1)\"],[0.875,\"rgb(166,54,3)\"],[1.0,\"rgb(127,39,4)\"]],\"cmin\":0,\"cmax\":2.78},\"legend\":{\"tracegroupgap\":0},\"title\":{\"text\":\"Distribution brewery in France producing Ale-type beers\",\"xanchor\":\"center\",\"yanchor\":\"top\",\"y\":0.98,\"x\":0.5},\"height\":700,\"width\":900,\"sliders\":[{\"active\":0,\"currentvalue\":{\"prefix\":\"year=\"},\"len\":0.9,\"pad\":{\"b\":10,\"t\":60},\"steps\":[{\"args\":[[\"2004\"],{\"frame\":{\"duration\":0,\"redraw\":true},\"mode\":\"immediate\",\"fromcurrent\":true,\"transition\":{\"duration\":0,\"easing\":\"linear\"}}],\"label\":\"2004\",\"method\":\"animate\"},{\"args\":[[\"2005\"],{\"frame\":{\"duration\":0,\"redraw\":true},\"mode\":\"immediate\",\"fromcurrent\":true,\"transition\":{\"duration\":0,\"easing\":\"linear\"}}],\"label\":\"2005\",\"method\":\"animate\"},{\"args\":[[\"2006\"],{\"frame\":{\"duration\":0,\"redraw\":true},\"mode\":\"immediate\",\"fromcurrent\":true,\"transition\":{\"duration\":0,\"easing\":\"linear\"}}],\"label\":\"2006\",\"method\":\"animate\"},{\"args\":[[\"2007\"],{\"frame\":{\"duration\":0,\"redraw\":true},\"mode\":\"immediate\",\"fromcurrent\":true,\"transition\":{\"duration\":0,\"easing\":\"linear\"}}],\"label\":\"2007\",\"method\":\"animate\"},{\"args\":[[\"2008\"],{\"frame\":{\"duration\":0,\"redraw\":true},\"mode\":\"immediate\",\"fromcurrent\":true,\"transition\":{\"duration\":0,\"easing\":\"linear\"}}],\"label\":\"2008\",\"method\":\"animate\"},{\"args\":[[\"2009\"],{\"frame\":{\"duration\":0,\"redraw\":true},\"mode\":\"immediate\",\"fromcurrent\":true,\"transition\":{\"duration\":0,\"easing\":\"linear\"}}],\"label\":\"2009\",\"method\":\"animate\"},{\"args\":[[\"2010\"],{\"frame\":{\"duration\":0,\"redraw\":true},\"mode\":\"immediate\",\"fromcurrent\":true,\"transition\":{\"duration\":0,\"easing\":\"linear\"}}],\"label\":\"2010\",\"method\":\"animate\"},{\"args\":[[\"2011\"],{\"frame\":{\"duration\":0,\"redraw\":true},\"mode\":\"immediate\",\"fromcurrent\":true,\"transition\":{\"duration\":0,\"easing\":\"linear\"}}],\"label\":\"2011\",\"method\":\"animate\"},{\"args\":[[\"2012\"],{\"frame\":{\"duration\":0,\"redraw\":true},\"mode\":\"immediate\",\"fromcurrent\":true,\"transition\":{\"duration\":0,\"easing\":\"linear\"}}],\"label\":\"2012\",\"method\":\"animate\"},{\"args\":[[\"2013\"],{\"frame\":{\"duration\":0,\"redraw\":true},\"mode\":\"immediate\",\"fromcurrent\":true,\"transition\":{\"duration\":0,\"easing\":\"linear\"}}],\"label\":\"2013\",\"method\":\"animate\"},{\"args\":[[\"2014\"],{\"frame\":{\"duration\":0,\"redraw\":true},\"mode\":\"immediate\",\"fromcurrent\":true,\"transition\":{\"duration\":0,\"easing\":\"linear\"}}],\"label\":\"2014\",\"method\":\"animate\"},{\"args\":[[\"2015\"],{\"frame\":{\"duration\":0,\"redraw\":true},\"mode\":\"immediate\",\"fromcurrent\":true,\"transition\":{\"duration\":0,\"easing\":\"linear\"}}],\"label\":\"2015\",\"method\":\"animate\"},{\"args\":[[\"2016\"],{\"frame\":{\"duration\":0,\"redraw\":true},\"mode\":\"immediate\",\"fromcurrent\":true,\"transition\":{\"duration\":0,\"easing\":\"linear\"}}],\"label\":\"2016\",\"method\":\"animate\"}],\"x\":0.1,\"xanchor\":\"left\",\"y\":0,\"yanchor\":\"top\"}],\"margin\":{\"r\":0,\"t\":3,\"l\":0,\"b\":0},\"updatemenus\":[{\"buttons\":[{\"args\":[{\"geo\":{\"projection\":{\"type\":\"natural earth\"}}}],\"label\":\"natural earth\",\"method\":\"relayout\"},{\"args\":[{\"geo\":{\"projection\":{\"type\":\"equirectangular\"}}}],\"label\":\"equirectangular\",\"method\":\"relayout\"},{\"args\":[{\"geo\":{\"projection\":{\"type\":\"orthographic\"}}}],\"label\":\"orthographic\",\"method\":\"relayout\"},{\"args\":[{\"geo\":{\"projection\":{\"type\":\"mercator\"}}}],\"label\":\"mercator\",\"method\":\"relayout\"}],\"direction\":\"down\",\"pad\":{\"r\":10,\"t\":10},\"showactive\":true,\"type\":\"dropdown\",\"x\":0,\"xanchor\":\"left\",\"y\":1.1,\"yanchor\":\"top\"}]},                        {\"responsive\": true}                    ).then(function(){\n",
       "                            Plotly.addFrames('558e2e47-8237-419a-a0f9-919712f1e71e', [{\"data\":[{\"coloraxis\":\"coloraxis\",\"customdata\":[[\"AGO\",\"2004\",2.0,0.3],[\"AUS\",\"2004\",20.0,1.3],[\"BEL\",\"2004\",12.0,1.08],[\"BOL\",\"2004\",2.0,0.3],[\"CAN\",\"2004\",138.0,2.14],[\"HRV\",\"2004\",15.0,1.18],[\"CZE\",\"2004\",3.0,0.48],[\"DNK\",\"2004\",93.0,1.97],[\"FIN\",\"2004\",10.0,1.0],[\"FRA\",\"2004\",3.0,0.48],[\"DEU\",\"2004\",15.0,1.18],[\"ISL\",\"2004\",2.0,0.3],[\"ITA\",\"2004\",19.0,1.28],[\"JPN\",\"2004\",7.0,0.85],[\"NLD\",\"2004\",28.0,1.45],[\"NOR\",\"2004\",2.0,0.3],[\"POL\",\"2004\",2.0,0.3],[\"KOR\",\"2004\",2.0,0.3],[\"ESP\",\"2004\",5.0,0.7],[\"SWE\",\"2004\",24.0,1.38],[\"CHE\",\"2004\",27.0,1.43],[\"TUR\",\"2004\",2.0,0.3],[\"GBR\",\"2004\",130.0,2.11],[\"USA\",\"2004\",445.0,2.65]],\"geo\":\"geo\",\"hovertemplate\":\"<b>%{hovertext}</b><br><br>distribued beer=%{customdata[2]:.0f}<br>happiness gauge=%{z:.2f}<extra></extra>\",\"hovertext\":[\"Angola\",\"Australia\",\"Belgium\",\"Bolivia\",\"Canada\",\"Croatia\",\"Czech Republic\",\"Denmark\",\"Finland\",\"France\",\"Germany\",\"Iceland\",\"Italy\",\"Japan\",\"Netherlands\",\"Norway\",\"Poland\",\"South Korea\",\"Spain\",\"Sweden\",\"Switzerland\",\"Turkey\",\"United Kingdom\",\"United States\"],\"locations\":[\"AGO\",\"AUS\",\"BEL\",\"BOL\",\"CAN\",\"HRV\",\"CZE\",\"DNK\",\"FIN\",\"FRA\",\"DEU\",\"ISL\",\"ITA\",\"JPN\",\"NLD\",\"NOR\",\"POL\",\"KOR\",\"ESP\",\"SWE\",\"CHE\",\"TUR\",\"GBR\",\"USA\"],\"name\":\"\",\"z\":[0.3,1.3,1.08,0.3,2.14,1.18,0.48,1.97,1.0,0.48,1.18,0.3,1.28,0.85,1.45,0.3,0.3,0.3,0.7,1.38,1.43,0.3,2.11,2.65],\"type\":\"choropleth\"}],\"name\":\"2004\"},{\"data\":[{\"coloraxis\":\"coloraxis\",\"customdata\":[[\"AUS\",\"2005\",23.0,1.36],[\"AUT\",\"2005\",13.0,1.11],[\"BEL\",\"2005\",16.0,1.2],[\"CAN\",\"2005\",120.0,2.08],[\"HRV\",\"2005\",2.0,0.3],[\"DNK\",\"2005\",218.0,2.34],[\"FIN\",\"2005\",12.0,1.08],[\"FRA\",\"2005\",8.0,0.9],[\"DEU\",\"2005\",15.0,1.18],[\"IRL\",\"2005\",3.0,0.48],[\"ITA\",\"2005\",12.0,1.08],[\"JPN\",\"2005\",3.0,0.48],[\"LUX\",\"2005\",3.0,0.48],[\"NLD\",\"2005\",16.0,1.2],[\"NZL\",\"2005\",3.0,0.48],[\"NOR\",\"2005\",10.0,1.0],[\"POL\",\"2005\",3.0,0.48],[\"PRT\",\"2005\",3.0,0.48],[\"ZAF\",\"2005\",2.0,0.3],[\"KOR\",\"2005\",2.0,0.3],[\"ESP\",\"2005\",3.0,0.48],[\"SWE\",\"2005\",33.0,1.52],[\"CHE\",\"2005\",10.0,1.0],[\"TWN\",\"2005\",2.0,0.3],[\"THA\",\"2005\",2.0,0.3],[\"GBR\",\"2005\",128.0,2.11],[\"USA\",\"2005\",452.0,2.66]],\"geo\":\"geo\",\"hovertemplate\":\"<b>%{hovertext}</b><br><br>distribued beer=%{customdata[2]:.0f}<br>happiness gauge=%{z:.2f}<extra></extra>\",\"hovertext\":[\"Australia\",\"Austria\",\"Belgium\",\"Canada\",\"Croatia\",\"Denmark\",\"Finland\",\"France\",\"Germany\",\"Ireland\",\"Italy\",\"Japan\",\"Luxembourg\",\"Netherlands\",\"New Zealand\",\"Norway\",\"Poland\",\"Portugal\",\"South Africa\",\"South Korea\",\"Spain\",\"Sweden\",\"Switzerland\",\"Taiwan\",\"Thailand\",\"United Kingdom\",\"United States\"],\"locations\":[\"AUS\",\"AUT\",\"BEL\",\"CAN\",\"HRV\",\"DNK\",\"FIN\",\"FRA\",\"DEU\",\"IRL\",\"ITA\",\"JPN\",\"LUX\",\"NLD\",\"NZL\",\"NOR\",\"POL\",\"PRT\",\"ZAF\",\"KOR\",\"ESP\",\"SWE\",\"CHE\",\"TWN\",\"THA\",\"GBR\",\"USA\"],\"name\":\"\",\"z\":[1.36,1.11,1.2,2.08,0.3,2.34,1.08,0.9,1.18,0.48,1.08,0.48,0.48,1.2,0.48,1.0,0.48,0.48,0.3,0.3,0.48,1.52,1.0,0.3,0.3,2.11,2.66],\"type\":\"choropleth\"}],\"name\":\"2005\"},{\"data\":[{\"coloraxis\":\"coloraxis\",\"customdata\":[[\"AUS\",\"2006\",39.0,1.59],[\"AUT\",\"2006\",3.0,0.48],[\"BEL\",\"2006\",33.0,1.52],[\"BRA\",\"2006\",3.0,0.48],[\"CAN\",\"2006\",102.0,2.01],[\"HRV\",\"2006\",12.0,1.08],[\"DNK\",\"2006\",242.0,2.38],[\"SLV\",\"2006\",3.0,0.48],[\"FIN\",\"2006\",23.0,1.36],[\"FRA\",\"2006\",4.0,0.6],[\"DEU\",\"2006\",21.0,1.32],[\"GRC\",\"2006\",2.0,0.3],[\"IRL\",\"2006\",8.0,0.9],[\"ITA\",\"2006\",5.0,0.7],[\"JPN\",\"2006\",2.0,0.3],[\"MEX\",\"2006\",6.0,0.78],[\"NLD\",\"2006\",22.0,1.34],[\"NZL\",\"2006\",9.0,0.95],[\"NOR\",\"2006\",31.0,1.49],[\"POL\",\"2006\",5.0,0.7],[\"PRT\",\"2006\",3.0,0.48],[\"RUS\",\"2006\",2.0,0.3],[\"SWE\",\"2006\",32.0,1.51],[\"CHE\",\"2006\",18.0,1.26],[\"GBR\",\"2006\",158.0,2.2],[\"USA\",\"2006\",390.0,2.59]],\"geo\":\"geo\",\"hovertemplate\":\"<b>%{hovertext}</b><br><br>distribued beer=%{customdata[2]:.0f}<br>happiness gauge=%{z:.2f}<extra></extra>\",\"hovertext\":[\"Australia\",\"Austria\",\"Belgium\",\"Brazil\",\"Canada\",\"Croatia\",\"Denmark\",\"El Salvador\",\"Finland\",\"France\",\"Germany\",\"Greece\",\"Ireland\",\"Italy\",\"Japan\",\"Mexico\",\"Netherlands\",\"New Zealand\",\"Norway\",\"Poland\",\"Portugal\",\"Russia\",\"Sweden\",\"Switzerland\",\"United Kingdom\",\"United States\"],\"locations\":[\"AUS\",\"AUT\",\"BEL\",\"BRA\",\"CAN\",\"HRV\",\"DNK\",\"SLV\",\"FIN\",\"FRA\",\"DEU\",\"GRC\",\"IRL\",\"ITA\",\"JPN\",\"MEX\",\"NLD\",\"NZL\",\"NOR\",\"POL\",\"PRT\",\"RUS\",\"SWE\",\"CHE\",\"GBR\",\"USA\"],\"name\":\"\",\"z\":[1.59,0.48,1.52,0.48,2.01,1.08,2.38,0.48,1.36,0.6,1.32,0.3,0.9,0.7,0.3,0.78,1.34,0.95,1.49,0.7,0.48,0.3,1.51,1.26,2.2,2.59],\"type\":\"choropleth\"}],\"name\":\"2006\"},{\"data\":[{\"coloraxis\":\"coloraxis\",\"customdata\":[[\"AUS\",\"2007\",13.0,1.11],[\"AUT\",\"2007\",7.0,0.85],[\"BEL\",\"2007\",38.0,1.58],[\"BOL\",\"2007\",2.0,0.3],[\"BRA\",\"2007\",5.0,0.7],[\"CAN\",\"2007\",80.0,1.9],[\"CHL\",\"2007\",2.0,0.3],[\"CHN\",\"2007\",2.0,0.3],[\"HRV\",\"2007\",8.0,0.9],[\"CZE\",\"2007\",2.0,0.3],[\"DNK\",\"2007\",231.0,2.36],[\"SLV\",\"2007\",2.0,0.3],[\"EST\",\"2007\",6.0,0.78],[\"FRO\",\"2007\",22.0,1.34],[\"FIN\",\"2007\",57.0,1.76],[\"FRA\",\"2007\",6.0,0.78],[\"DEU\",\"2007\",45.0,1.65],[\"HUN\",\"2007\",2.0,0.3],[\"IRL\",\"2007\",13.0,1.11],[\"ITA\",\"2007\",20.0,1.3],[\"JPN\",\"2007\",2.0,0.3],[\"LUX\",\"2007\",3.0,0.48],[\"NLD\",\"2007\",45.0,1.65],[\"NZL\",\"2007\",4.0,0.6],[\"NOR\",\"2007\",33.0,1.52],[\"POL\",\"2007\",4.0,0.6],[\"ESP\",\"2007\",5.0,0.7],[\"SWE\",\"2007\",73.0,1.86],[\"CHE\",\"2007\",10.0,1.0],[\"TWN\",\"2007\",2.0,0.3],[\"THA\",\"2007\",3.0,0.48],[\"GBR\",\"2007\",92.0,1.96],[\"USA\",\"2007\",364.0,2.56],[\"VEN\",\"2007\",2.0,0.3]],\"geo\":\"geo\",\"hovertemplate\":\"<b>%{hovertext}</b><br><br>distribued beer=%{customdata[2]:.0f}<br>happiness gauge=%{z:.2f}<extra></extra>\",\"hovertext\":[\"Australia\",\"Austria\",\"Belgium\",\"Bolivia\",\"Brazil\",\"Canada\",\"Chile\",\"China\",\"Croatia\",\"Czech Republic\",\"Denmark\",\"El Salvador\",\"Estonia\",\"Faroe Islands\",\"Finland\",\"France\",\"Germany\",\"Hungary\",\"Ireland\",\"Italy\",\"Japan\",\"Luxembourg\",\"Netherlands\",\"New Zealand\",\"Norway\",\"Poland\",\"Spain\",\"Sweden\",\"Switzerland\",\"Taiwan\",\"Thailand\",\"United Kingdom\",\"United States\",\"Venezuela\"],\"locations\":[\"AUS\",\"AUT\",\"BEL\",\"BOL\",\"BRA\",\"CAN\",\"CHL\",\"CHN\",\"HRV\",\"CZE\",\"DNK\",\"SLV\",\"EST\",\"FRO\",\"FIN\",\"FRA\",\"DEU\",\"HUN\",\"IRL\",\"ITA\",\"JPN\",\"LUX\",\"NLD\",\"NZL\",\"NOR\",\"POL\",\"ESP\",\"SWE\",\"CHE\",\"TWN\",\"THA\",\"GBR\",\"USA\",\"VEN\"],\"name\":\"\",\"z\":[1.11,0.85,1.58,0.3,0.7,1.9,0.3,0.3,0.9,0.3,2.36,0.3,0.78,1.34,1.76,0.78,1.65,0.3,1.11,1.3,0.3,0.48,1.65,0.6,1.52,0.6,0.7,1.86,1.0,0.3,0.48,1.96,2.56,0.3],\"type\":\"choropleth\"}],\"name\":\"2007\"},{\"data\":[{\"coloraxis\":\"coloraxis\",\"customdata\":[[\"AND\",\"2008\",2.0,0.3],[\"AUS\",\"2008\",11.0,1.04],[\"BEL\",\"2008\",71.0,1.85],[\"BRA\",\"2008\",6.0,0.78],[\"CAN\",\"2008\",114.0,2.06],[\"HRV\",\"2008\",15.0,1.18],[\"CYP\",\"2008\",2.0,0.3],[\"CZE\",\"2008\",2.0,0.3],[\"DNK\",\"2008\",188.0,2.27],[\"SLV\",\"2008\",2.0,0.3],[\"EST\",\"2008\",11.0,1.04],[\"FRO\",\"2008\",12.0,1.08],[\"FIN\",\"2008\",69.0,1.84],[\"FRA\",\"2008\",11.0,1.04],[\"DEU\",\"2008\",20.0,1.3],[\"HUN\",\"2008\",9.0,0.95],[\"ISL\",\"2008\",2.0,0.3],[\"IRL\",\"2008\",38.0,1.58],[\"ISR\",\"2008\",3.0,0.48],[\"ITA\",\"2008\",13.0,1.11],[\"JPN\",\"2008\",10.0,1.0],[\"LTU\",\"2008\",2.0,0.3],[\"LUX\",\"2008\",3.0,0.48],[\"MEX\",\"2008\",2.0,0.3],[\"NLD\",\"2008\",45.0,1.65],[\"NOR\",\"2008\",16.0,1.2],[\"PAN\",\"2008\",2.0,0.3],[\"POL\",\"2008\",7.0,0.85],[\"PRT\",\"2008\",2.0,0.3],[\"ESP\",\"2008\",8.0,0.9],[\"SWE\",\"2008\",25.0,1.4],[\"CHE\",\"2008\",24.0,1.38],[\"GBR\",\"2008\",117.0,2.07],[\"USA\",\"2008\",391.0,2.59]],\"geo\":\"geo\",\"hovertemplate\":\"<b>%{hovertext}</b><br><br>distribued beer=%{customdata[2]:.0f}<br>happiness gauge=%{z:.2f}<extra></extra>\",\"hovertext\":[\"Andorra\",\"Australia\",\"Belgium\",\"Brazil\",\"Canada\",\"Croatia\",\"Cyprus\",\"Czech Republic\",\"Denmark\",\"El Salvador\",\"Estonia\",\"Faroe Islands\",\"Finland\",\"France\",\"Germany\",\"Hungary\",\"Iceland\",\"Ireland\",\"Israel\",\"Italy\",\"Japan\",\"Lithuania\",\"Luxembourg\",\"Mexico\",\"Netherlands\",\"Norway\",\"Panama\",\"Poland\",\"Portugal\",\"Spain\",\"Sweden\",\"Switzerland\",\"United Kingdom\",\"United States\"],\"locations\":[\"AND\",\"AUS\",\"BEL\",\"BRA\",\"CAN\",\"HRV\",\"CYP\",\"CZE\",\"DNK\",\"SLV\",\"EST\",\"FRO\",\"FIN\",\"FRA\",\"DEU\",\"HUN\",\"ISL\",\"IRL\",\"ISR\",\"ITA\",\"JPN\",\"LTU\",\"LUX\",\"MEX\",\"NLD\",\"NOR\",\"PAN\",\"POL\",\"PRT\",\"ESP\",\"SWE\",\"CHE\",\"GBR\",\"USA\"],\"name\":\"\",\"z\":[0.3,1.04,1.85,0.78,2.06,1.18,0.3,0.3,2.27,0.3,1.04,1.08,1.84,1.04,1.3,0.95,0.3,1.58,0.48,1.11,1.0,0.3,0.48,0.3,1.65,1.2,0.3,0.85,0.3,0.9,1.4,1.38,2.07,2.59],\"type\":\"choropleth\"}],\"name\":\"2008\"},{\"data\":[{\"coloraxis\":\"coloraxis\",\"customdata\":[[\"AUS\",\"2009\",10.0,1.0],[\"AUT\",\"2009\",4.0,0.6],[\"BEL\",\"2009\",37.0,1.57],[\"BRA\",\"2009\",5.0,0.7],[\"CAN\",\"2009\",185.0,2.27],[\"CHL\",\"2009\",2.0,0.3],[\"HRV\",\"2009\",27.0,1.43],[\"CZE\",\"2009\",2.0,0.3],[\"DNK\",\"2009\",177.0,2.25],[\"EST\",\"2009\",2.0,0.3],[\"FRO\",\"2009\",12.0,1.08],[\"FIN\",\"2009\",32.0,1.51],[\"FRA\",\"2009\",12.0,1.08],[\"DEU\",\"2009\",22.0,1.34],[\"GRC\",\"2009\",4.0,0.6],[\"HUN\",\"2009\",3.0,0.48],[\"IRL\",\"2009\",22.0,1.34],[\"ISR\",\"2009\",4.0,0.6],[\"ITA\",\"2009\",20.0,1.3],[\"JPN\",\"2009\",8.0,0.9],[\"LTU\",\"2009\",2.0,0.3],[\"MEX\",\"2009\",2.0,0.3],[\"NLD\",\"2009\",31.0,1.49],[\"NZL\",\"2009\",3.0,0.48],[\"NOR\",\"2009\",76.0,1.88],[\"POL\",\"2009\",4.0,0.6],[\"PRT\",\"2009\",2.0,0.3],[\"ESP\",\"2009\",4.0,0.6],[\"SWE\",\"2009\",51.0,1.71],[\"CHE\",\"2009\",25.0,1.4],[\"TWN\",\"2009\",3.0,0.48],[\"TUR\",\"2009\",2.0,0.3],[\"GBR\",\"2009\",118.0,2.07],[\"USA\",\"2009\",405.0,2.61],[\"VEN\",\"2009\",4.0,0.6]],\"geo\":\"geo\",\"hovertemplate\":\"<b>%{hovertext}</b><br><br>distribued beer=%{customdata[2]:.0f}<br>happiness gauge=%{z:.2f}<extra></extra>\",\"hovertext\":[\"Australia\",\"Austria\",\"Belgium\",\"Brazil\",\"Canada\",\"Chile\",\"Croatia\",\"Czech Republic\",\"Denmark\",\"Estonia\",\"Faroe Islands\",\"Finland\",\"France\",\"Germany\",\"Greece\",\"Hungary\",\"Ireland\",\"Israel\",\"Italy\",\"Japan\",\"Lithuania\",\"Mexico\",\"Netherlands\",\"New Zealand\",\"Norway\",\"Poland\",\"Portugal\",\"Spain\",\"Sweden\",\"Switzerland\",\"Taiwan\",\"Turkey\",\"United Kingdom\",\"United States\",\"Venezuela\"],\"locations\":[\"AUS\",\"AUT\",\"BEL\",\"BRA\",\"CAN\",\"CHL\",\"HRV\",\"CZE\",\"DNK\",\"EST\",\"FRO\",\"FIN\",\"FRA\",\"DEU\",\"GRC\",\"HUN\",\"IRL\",\"ISR\",\"ITA\",\"JPN\",\"LTU\",\"MEX\",\"NLD\",\"NZL\",\"NOR\",\"POL\",\"PRT\",\"ESP\",\"SWE\",\"CHE\",\"TWN\",\"TUR\",\"GBR\",\"USA\",\"VEN\"],\"name\":\"\",\"z\":[1.0,0.6,1.57,0.7,2.27,0.3,1.43,0.3,2.25,0.3,1.08,1.51,1.08,1.34,0.6,0.48,1.34,0.6,1.3,0.9,0.3,0.3,1.49,0.48,1.88,0.6,0.3,0.6,1.71,1.4,0.48,0.3,2.07,2.61,0.6],\"type\":\"choropleth\"}],\"name\":\"2009\"},{\"data\":[{\"coloraxis\":\"coloraxis\",\"customdata\":[[\"AUS\",\"2010\",6.0,0.78],[\"AUT\",\"2010\",7.0,0.85],[\"BEL\",\"2010\",43.0,1.63],[\"BMU\",\"2010\",2.0,0.3],[\"BRA\",\"2010\",4.0,0.6],[\"CAN\",\"2010\",207.0,2.32],[\"HRV\",\"2010\",8.0,0.9],[\"CZE\",\"2010\",3.0,0.48],[\"DNK\",\"2010\",593.0,2.77],[\"EST\",\"2010\",3.0,0.48],[\"FRO\",\"2010\",4.0,0.6],[\"FIN\",\"2010\",23.0,1.36],[\"FRA\",\"2010\",87.0,1.94],[\"DEU\",\"2010\",26.0,1.41],[\"GRC\",\"2010\",3.0,0.48],[\"HUN\",\"2010\",5.0,0.7],[\"IRL\",\"2010\",5.0,0.7],[\"ISR\",\"2010\",7.0,0.85],[\"ITA\",\"2010\",15.0,1.18],[\"JPN\",\"2010\",10.0,1.0],[\"LUX\",\"2010\",2.0,0.3],[\"MEX\",\"2010\",3.0,0.48],[\"MCO\",\"2010\",2.0,0.3],[\"NLD\",\"2010\",29.0,1.46],[\"NOR\",\"2010\",60.0,1.78],[\"POL\",\"2010\",3.0,0.48],[\"PRT\",\"2010\",2.0,0.3],[\"SVK\",\"2010\",3.0,0.48],[\"SVN\",\"2010\",3.0,0.48],[\"ESP\",\"2010\",7.0,0.85],[\"SWE\",\"2010\",18.0,1.26],[\"CHE\",\"2010\",50.0,1.7],[\"THA\",\"2010\",3.0,0.48],[\"GBR\",\"2010\",44.0,1.64],[\"USA\",\"2010\",415.0,2.62]],\"geo\":\"geo\",\"hovertemplate\":\"<b>%{hovertext}</b><br><br>distribued beer=%{customdata[2]:.0f}<br>happiness gauge=%{z:.2f}<extra></extra>\",\"hovertext\":[\"Australia\",\"Austria\",\"Belgium\",\"Bermuda\",\"Brazil\",\"Canada\",\"Croatia\",\"Czech Republic\",\"Denmark\",\"Estonia\",\"Faroe Islands\",\"Finland\",\"France\",\"Germany\",\"Greece\",\"Hungary\",\"Ireland\",\"Israel\",\"Italy\",\"Japan\",\"Luxembourg\",\"Mexico\",\"Monaco\",\"Netherlands\",\"Norway\",\"Poland\",\"Portugal\",\"Slovak Republic\",\"Slovenia\",\"Spain\",\"Sweden\",\"Switzerland\",\"Thailand\",\"United Kingdom\",\"United States\"],\"locations\":[\"AUS\",\"AUT\",\"BEL\",\"BMU\",\"BRA\",\"CAN\",\"HRV\",\"CZE\",\"DNK\",\"EST\",\"FRO\",\"FIN\",\"FRA\",\"DEU\",\"GRC\",\"HUN\",\"IRL\",\"ISR\",\"ITA\",\"JPN\",\"LUX\",\"MEX\",\"MCO\",\"NLD\",\"NOR\",\"POL\",\"PRT\",\"SVK\",\"SVN\",\"ESP\",\"SWE\",\"CHE\",\"THA\",\"GBR\",\"USA\"],\"name\":\"\",\"z\":[0.78,0.85,1.63,0.3,0.6,2.32,0.9,0.48,2.77,0.48,0.6,1.36,1.94,1.41,0.48,0.7,0.7,0.85,1.18,1.0,0.3,0.48,0.3,1.46,1.78,0.48,0.3,0.48,0.48,0.85,1.26,1.7,0.48,1.64,2.62],\"type\":\"choropleth\"}],\"name\":\"2010\"},{\"data\":[{\"coloraxis\":\"coloraxis\",\"customdata\":[[\"AUS\",\"2011\",13.0,1.11],[\"BEL\",\"2011\",56.0,1.75],[\"BMU\",\"2011\",3.0,0.48],[\"BRA\",\"2011\",2.0,0.3],[\"CAN\",\"2011\",110.0,2.04],[\"HRV\",\"2011\",40.0,1.6],[\"CYP\",\"2011\",2.0,0.3],[\"CZE\",\"2011\",4.0,0.6],[\"DNK\",\"2011\",438.0,2.64],[\"SLV\",\"2011\",2.0,0.3],[\"EST\",\"2011\",4.0,0.6],[\"FRO\",\"2011\",8.0,0.9],[\"FIN\",\"2011\",32.0,1.51],[\"FRA\",\"2011\",141.0,2.15],[\"DEU\",\"2011\",119.0,2.08],[\"GRC\",\"2011\",7.0,0.85],[\"HUN\",\"2011\",3.0,0.48],[\"IRL\",\"2011\",20.0,1.3],[\"ISR\",\"2011\",6.0,0.78],[\"ITA\",\"2011\",19.0,1.28],[\"JPN\",\"2011\",2.0,0.3],[\"LUX\",\"2011\",3.0,0.48],[\"MDA\",\"2011\",2.0,0.3],[\"NLD\",\"2011\",72.0,1.86],[\"NZL\",\"2011\",3.0,0.48],[\"PRK\",\"2011\",3.0,0.48],[\"NOR\",\"2011\",96.0,1.98],[\"POL\",\"2011\",6.0,0.78],[\"PRT\",\"2011\",3.0,0.48],[\"ROU\",\"2011\",2.0,0.3],[\"RUS\",\"2011\",2.0,0.3],[\"SVK\",\"2011\",5.0,0.7],[\"SVN\",\"2011\",2.0,0.3],[\"ESP\",\"2011\",15.0,1.18],[\"SWE\",\"2011\",58.0,1.76],[\"CHE\",\"2011\",34.0,1.53],[\"THA\",\"2011\",7.0,0.85],[\"GBR\",\"2011\",86.0,1.93],[\"USA\",\"2011\",429.0,2.63]],\"geo\":\"geo\",\"hovertemplate\":\"<b>%{hovertext}</b><br><br>distribued beer=%{customdata[2]:.0f}<br>happiness gauge=%{z:.2f}<extra></extra>\",\"hovertext\":[\"Australia\",\"Belgium\",\"Bermuda\",\"Brazil\",\"Canada\",\"Croatia\",\"Cyprus\",\"Czech Republic\",\"Denmark\",\"El Salvador\",\"Estonia\",\"Faroe Islands\",\"Finland\",\"France\",\"Germany\",\"Greece\",\"Hungary\",\"Ireland\",\"Israel\",\"Italy\",\"Japan\",\"Luxembourg\",\"Moldova\",\"Netherlands\",\"New Zealand\",\"North Korea\",\"Norway\",\"Poland\",\"Portugal\",\"Romania\",\"Russia\",\"Slovak Republic\",\"Slovenia\",\"Spain\",\"Sweden\",\"Switzerland\",\"Thailand\",\"United Kingdom\",\"United States\"],\"locations\":[\"AUS\",\"BEL\",\"BMU\",\"BRA\",\"CAN\",\"HRV\",\"CYP\",\"CZE\",\"DNK\",\"SLV\",\"EST\",\"FRO\",\"FIN\",\"FRA\",\"DEU\",\"GRC\",\"HUN\",\"IRL\",\"ISR\",\"ITA\",\"JPN\",\"LUX\",\"MDA\",\"NLD\",\"NZL\",\"PRK\",\"NOR\",\"POL\",\"PRT\",\"ROU\",\"RUS\",\"SVK\",\"SVN\",\"ESP\",\"SWE\",\"CHE\",\"THA\",\"GBR\",\"USA\"],\"name\":\"\",\"z\":[1.11,1.75,0.48,0.3,2.04,1.6,0.3,0.6,2.64,0.3,0.6,0.9,1.51,2.15,2.08,0.85,0.48,1.3,0.78,1.28,0.3,0.48,0.3,1.86,0.48,0.48,1.98,0.78,0.48,0.3,0.3,0.7,0.3,1.18,1.76,1.53,0.85,1.93,2.63],\"type\":\"choropleth\"}],\"name\":\"2011\"},{\"data\":[{\"coloraxis\":\"coloraxis\",\"customdata\":[[\"AUS\",\"2012\",11.0,1.04],[\"AUT\",\"2012\",2.0,0.3],[\"BLR\",\"2012\",2.0,0.3],[\"BEL\",\"2012\",35.0,1.54],[\"BMU\",\"2012\",2.0,0.3],[\"BRA\",\"2012\",2.0,0.3],[\"KHM\",\"2012\",2.0,0.3],[\"CAN\",\"2012\",99.0,2.0],[\"CHL\",\"2012\",2.0,0.3],[\"HRV\",\"2012\",16.0,1.2],[\"CYP\",\"2012\",4.0,0.6],[\"CZE\",\"2012\",7.0,0.85],[\"DNK\",\"2012\",489.0,2.69],[\"EST\",\"2012\",10.0,1.0],[\"FRO\",\"2012\",6.0,0.78],[\"FIN\",\"2012\",28.0,1.45],[\"FRA\",\"2012\",67.0,1.83],[\"DEU\",\"2012\",89.0,1.95],[\"GRC\",\"2012\",4.0,0.6],[\"HUN\",\"2012\",6.0,0.78],[\"IRL\",\"2012\",10.0,1.0],[\"ISR\",\"2012\",4.0,0.6],[\"ITA\",\"2012\",21.0,1.32],[\"JPN\",\"2012\",8.0,0.9],[\"LUX\",\"2012\",2.0,0.3],[\"MYS\",\"2012\",4.0,0.6],[\"MEX\",\"2012\",2.0,0.3],[\"NLD\",\"2012\",143.0,2.16],[\"NZL\",\"2012\",14.0,1.15],[\"NOR\",\"2012\",92.0,1.96],[\"POL\",\"2012\",28.0,1.45],[\"PRT\",\"2012\",6.0,0.78],[\"ROU\",\"2012\",4.0,0.6],[\"SGP\",\"2012\",2.0,0.3],[\"SVK\",\"2012\",2.0,0.3],[\"SVN\",\"2012\",7.0,0.85],[\"ZAF\",\"2012\",3.0,0.48],[\"ESP\",\"2012\",11.0,1.04],[\"SWE\",\"2012\",127.0,2.1],[\"CHE\",\"2012\",36.0,1.56],[\"THA\",\"2012\",11.0,1.04],[\"UKR\",\"2012\",2.0,0.3],[\"GBR\",\"2012\",87.0,1.94],[\"USA\",\"2012\",385.0,2.59],[\"VEN\",\"2012\",2.0,0.3]],\"geo\":\"geo\",\"hovertemplate\":\"<b>%{hovertext}</b><br><br>distribued beer=%{customdata[2]:.0f}<br>happiness gauge=%{z:.2f}<extra></extra>\",\"hovertext\":[\"Australia\",\"Austria\",\"Belarus\",\"Belgium\",\"Bermuda\",\"Brazil\",\"Cambodia\",\"Canada\",\"Chile\",\"Croatia\",\"Cyprus\",\"Czech Republic\",\"Denmark\",\"Estonia\",\"Faroe Islands\",\"Finland\",\"France\",\"Germany\",\"Greece\",\"Hungary\",\"Ireland\",\"Israel\",\"Italy\",\"Japan\",\"Luxembourg\",\"Malaysia\",\"Mexico\",\"Netherlands\",\"New Zealand\",\"Norway\",\"Poland\",\"Portugal\",\"Romania\",\"Singapore\",\"Slovak Republic\",\"Slovenia\",\"South Africa\",\"Spain\",\"Sweden\",\"Switzerland\",\"Thailand\",\"Ukraine\",\"United Kingdom\",\"United States\",\"Venezuela\"],\"locations\":[\"AUS\",\"AUT\",\"BLR\",\"BEL\",\"BMU\",\"BRA\",\"KHM\",\"CAN\",\"CHL\",\"HRV\",\"CYP\",\"CZE\",\"DNK\",\"EST\",\"FRO\",\"FIN\",\"FRA\",\"DEU\",\"GRC\",\"HUN\",\"IRL\",\"ISR\",\"ITA\",\"JPN\",\"LUX\",\"MYS\",\"MEX\",\"NLD\",\"NZL\",\"NOR\",\"POL\",\"PRT\",\"ROU\",\"SGP\",\"SVK\",\"SVN\",\"ZAF\",\"ESP\",\"SWE\",\"CHE\",\"THA\",\"UKR\",\"GBR\",\"USA\",\"VEN\"],\"name\":\"\",\"z\":[1.04,0.3,0.3,1.54,0.3,0.3,0.3,2.0,0.3,1.2,0.6,0.85,2.69,1.0,0.78,1.45,1.83,1.95,0.6,0.78,1.0,0.6,1.32,0.9,0.3,0.6,0.3,2.16,1.15,1.96,1.45,0.78,0.6,0.3,0.3,0.85,0.48,1.04,2.1,1.56,1.04,0.3,1.94,2.59,0.3],\"type\":\"choropleth\"}],\"name\":\"2012\"},{\"data\":[{\"coloraxis\":\"coloraxis\",\"customdata\":[[\"AUS\",\"2013\",19.0,1.28],[\"BEL\",\"2013\",140.0,2.15],[\"BRA\",\"2013\",8.0,0.9],[\"KHM\",\"2013\",3.0,0.48],[\"CAN\",\"2013\",81.0,1.91],[\"HRV\",\"2013\",12.0,1.08],[\"CYP\",\"2013\",7.0,0.85],[\"CZE\",\"2013\",8.0,0.9],[\"DNK\",\"2013\",183.0,2.26],[\"EST\",\"2013\",22.0,1.34],[\"FRO\",\"2013\",2.0,0.3],[\"FIN\",\"2013\",143.0,2.16],[\"FRA\",\"2013\",102.0,2.01],[\"DEU\",\"2013\",71.0,1.85],[\"GRC\",\"2013\",3.0,0.48],[\"HKG\",\"2013\",3.0,0.48],[\"HUN\",\"2013\",2.0,0.3],[\"IRL\",\"2013\",14.0,1.15],[\"ISR\",\"2013\",14.0,1.15],[\"ITA\",\"2013\",12.0,1.08],[\"JPN\",\"2013\",11.0,1.04],[\"KAZ\",\"2013\",2.0,0.3],[\"LVA\",\"2013\",3.0,0.48],[\"LTU\",\"2013\",2.0,0.3],[\"LUX\",\"2013\",3.0,0.48],[\"MYS\",\"2013\",4.0,0.6],[\"MEX\",\"2013\",2.0,0.3],[\"MDA\",\"2013\",2.0,0.3],[\"MOZ\",\"2013\",2.0,0.3],[\"NLD\",\"2013\",154.0,2.19],[\"NZL\",\"2013\",3.0,0.48],[\"NOR\",\"2013\",95.0,1.98],[\"PAN\",\"2013\",2.0,0.3],[\"POL\",\"2013\",26.0,1.41],[\"PRT\",\"2013\",8.0,0.9],[\"ROU\",\"2013\",2.0,0.3],[\"RUS\",\"2013\",2.0,0.3],[\"SRB\",\"2013\",2.0,0.3],[\"SGP\",\"2013\",2.0,0.3],[\"SVK\",\"2013\",8.0,0.9],[\"SVN\",\"2013\",11.0,1.04],[\"ESP\",\"2013\",29.0,1.46],[\"SWE\",\"2013\",44.0,1.64],[\"CHE\",\"2013\",18.0,1.26],[\"THA\",\"2013\",8.0,0.9],[\"TUR\",\"2013\",2.0,0.3],[\"GBR\",\"2013\",165.0,2.22],[\"USA\",\"2013\",479.0,2.68]],\"geo\":\"geo\",\"hovertemplate\":\"<b>%{hovertext}</b><br><br>distribued beer=%{customdata[2]:.0f}<br>happiness gauge=%{z:.2f}<extra></extra>\",\"hovertext\":[\"Australia\",\"Belgium\",\"Brazil\",\"Cambodia\",\"Canada\",\"Croatia\",\"Cyprus\",\"Czech Republic\",\"Denmark\",\"Estonia\",\"Faroe Islands\",\"Finland\",\"France\",\"Germany\",\"Greece\",\"Hong Kong\",\"Hungary\",\"Ireland\",\"Israel\",\"Italy\",\"Japan\",\"Kazakhstan\",\"Latvia\",\"Lithuania\",\"Luxembourg\",\"Malaysia\",\"Mexico\",\"Moldova\",\"Mozambique\",\"Netherlands\",\"New Zealand\",\"Norway\",\"Panama\",\"Poland\",\"Portugal\",\"Romania\",\"Russia\",\"Serbia\",\"Singapore\",\"Slovak Republic\",\"Slovenia\",\"Spain\",\"Sweden\",\"Switzerland\",\"Thailand\",\"Turkey\",\"United Kingdom\",\"United States\"],\"locations\":[\"AUS\",\"BEL\",\"BRA\",\"KHM\",\"CAN\",\"HRV\",\"CYP\",\"CZE\",\"DNK\",\"EST\",\"FRO\",\"FIN\",\"FRA\",\"DEU\",\"GRC\",\"HKG\",\"HUN\",\"IRL\",\"ISR\",\"ITA\",\"JPN\",\"KAZ\",\"LVA\",\"LTU\",\"LUX\",\"MYS\",\"MEX\",\"MDA\",\"MOZ\",\"NLD\",\"NZL\",\"NOR\",\"PAN\",\"POL\",\"PRT\",\"ROU\",\"RUS\",\"SRB\",\"SGP\",\"SVK\",\"SVN\",\"ESP\",\"SWE\",\"CHE\",\"THA\",\"TUR\",\"GBR\",\"USA\"],\"name\":\"\",\"z\":[1.28,2.15,0.9,0.48,1.91,1.08,0.85,0.9,2.26,1.34,0.3,2.16,2.01,1.85,0.48,0.48,0.3,1.15,1.15,1.08,1.04,0.3,0.48,0.3,0.48,0.6,0.3,0.3,0.3,2.19,0.48,1.98,0.3,1.41,0.9,0.3,0.3,0.3,0.3,0.9,1.04,1.46,1.64,1.26,0.9,0.3,2.22,2.68],\"type\":\"choropleth\"}],\"name\":\"2013\"},{\"data\":[{\"coloraxis\":\"coloraxis\",\"customdata\":[[\"ARG\",\"2014\",2.0,0.3],[\"AUS\",\"2014\",8.0,0.9],[\"AUT\",\"2014\",2.0,0.3],[\"BEL\",\"2014\",149.0,2.17],[\"BMU\",\"2014\",2.0,0.3],[\"BRA\",\"2014\",9.0,0.95],[\"CAN\",\"2014\",50.0,1.7],[\"HRV\",\"2014\",10.0,1.0],[\"CYP\",\"2014\",10.0,1.0],[\"CZE\",\"2014\",8.0,0.9],[\"DNK\",\"2014\",112.0,2.05],[\"DOM\",\"2014\",4.0,0.6],[\"EST\",\"2014\",23.0,1.36],[\"FIN\",\"2014\",33.0,1.52],[\"FRA\",\"2014\",312.0,2.49],[\"DEU\",\"2014\",130.0,2.11],[\"GRC\",\"2014\",4.0,0.6],[\"HKG\",\"2014\",4.0,0.6],[\"HUN\",\"2014\",4.0,0.6],[\"ISL\",\"2014\",3.0,0.48],[\"IRL\",\"2014\",10.0,1.0],[\"ISR\",\"2014\",25.0,1.4],[\"ITA\",\"2014\",23.0,1.36],[\"JPN\",\"2014\",3.0,0.48],[\"LVA\",\"2014\",2.0,0.3],[\"LUX\",\"2014\",2.0,0.3],[\"MYS\",\"2014\",3.0,0.48],[\"MEX\",\"2014\",2.0,0.3],[\"MDA\",\"2014\",2.0,0.3],[\"NLD\",\"2014\",173.0,2.24],[\"NZL\",\"2014\",3.0,0.48],[\"PRK\",\"2014\",2.0,0.3],[\"NOR\",\"2014\",51.0,1.71],[\"PRY\",\"2014\",2.0,0.3],[\"PHL\",\"2014\",2.0,0.3],[\"POL\",\"2014\",24.0,1.38],[\"PRT\",\"2014\",14.0,1.15],[\"ROU\",\"2014\",3.0,0.48],[\"RUS\",\"2014\",4.0,0.6],[\"SRB\",\"2014\",2.0,0.3],[\"SVK\",\"2014\",6.0,0.78],[\"SVN\",\"2014\",10.0,1.0],[\"ZAF\",\"2014\",2.0,0.3],[\"KOR\",\"2014\",2.0,0.3],[\"ESP\",\"2014\",33.0,1.52],[\"SJM\",\"2014\",2.0,0.3],[\"SWE\",\"2014\",58.0,1.76],[\"CHE\",\"2014\",26.0,1.41],[\"THA\",\"2014\",6.0,0.78],[\"TUR\",\"2014\",2.0,0.3],[\"UKR\",\"2014\",3.0,0.48],[\"ARE\",\"2014\",2.0,0.3],[\"GBR\",\"2014\",136.0,2.13],[\"USA\",\"2014\",436.0,2.64]],\"geo\":\"geo\",\"hovertemplate\":\"<b>%{hovertext}</b><br><br>distribued beer=%{customdata[2]:.0f}<br>happiness gauge=%{z:.2f}<extra></extra>\",\"hovertext\":[\"Argentina\",\"Australia\",\"Austria\",\"Belgium\",\"Bermuda\",\"Brazil\",\"Canada\",\"Croatia\",\"Cyprus\",\"Czech Republic\",\"Denmark\",\"Dominican Republic\",\"Estonia\",\"Finland\",\"France\",\"Germany\",\"Greece\",\"Hong Kong\",\"Hungary\",\"Iceland\",\"Ireland\",\"Israel\",\"Italy\",\"Japan\",\"Latvia\",\"Luxembourg\",\"Malaysia\",\"Mexico\",\"Moldova\",\"Netherlands\",\"New Zealand\",\"North Korea\",\"Norway\",\"Paraguay\",\"Philippines\",\"Poland\",\"Portugal\",\"Romania\",\"Russia\",\"Serbia\",\"Slovak Republic\",\"Slovenia\",\"South Africa\",\"South Korea\",\"Spain\",\"Svalbard and Jan Mayen Islands\",\"Sweden\",\"Switzerland\",\"Thailand\",\"Turkey\",\"Ukraine\",\"United Arab Emirates\",\"United Kingdom\",\"United States\"],\"locations\":[\"ARG\",\"AUS\",\"AUT\",\"BEL\",\"BMU\",\"BRA\",\"CAN\",\"HRV\",\"CYP\",\"CZE\",\"DNK\",\"DOM\",\"EST\",\"FIN\",\"FRA\",\"DEU\",\"GRC\",\"HKG\",\"HUN\",\"ISL\",\"IRL\",\"ISR\",\"ITA\",\"JPN\",\"LVA\",\"LUX\",\"MYS\",\"MEX\",\"MDA\",\"NLD\",\"NZL\",\"PRK\",\"NOR\",\"PRY\",\"PHL\",\"POL\",\"PRT\",\"ROU\",\"RUS\",\"SRB\",\"SVK\",\"SVN\",\"ZAF\",\"KOR\",\"ESP\",\"SJM\",\"SWE\",\"CHE\",\"THA\",\"TUR\",\"UKR\",\"ARE\",\"GBR\",\"USA\"],\"name\":\"\",\"z\":[0.3,0.9,0.3,2.17,0.3,0.95,1.7,1.0,1.0,0.9,2.05,0.6,1.36,1.52,2.49,2.11,0.6,0.6,0.6,0.48,1.0,1.4,1.36,0.48,0.3,0.3,0.48,0.3,0.3,2.24,0.48,0.3,1.71,0.3,0.3,1.38,1.15,0.48,0.6,0.3,0.78,1.0,0.3,0.3,1.52,0.3,1.76,1.41,0.78,0.3,0.48,0.3,2.13,2.64],\"type\":\"choropleth\"}],\"name\":\"2014\"},{\"data\":[{\"coloraxis\":\"coloraxis\",\"customdata\":[[\"AUS\",\"2015\",13.0,1.11],[\"AUT\",\"2015\",5.0,0.7],[\"BLR\",\"2015\",4.0,0.6],[\"BEL\",\"2015\",100.0,2.0],[\"BRA\",\"2015\",10.0,1.0],[\"CAN\",\"2015\",73.0,1.86],[\"CHN\",\"2015\",3.0,0.48],[\"HRV\",\"2015\",12.0,1.08],[\"CZE\",\"2015\",10.0,1.0],[\"DNK\",\"2015\",185.0,2.27],[\"EST\",\"2015\",12.0,1.08],[\"FIN\",\"2015\",36.0,1.56],[\"FRA\",\"2015\",236.0,2.37],[\"DEU\",\"2015\",142.0,2.15],[\"GRC\",\"2015\",23.0,1.36],[\"HKG\",\"2015\",6.0,0.78],[\"HUN\",\"2015\",4.0,0.6],[\"ISL\",\"2015\",2.0,0.3],[\"IRL\",\"2015\",4.0,0.6],[\"ISR\",\"2015\",17.0,1.23],[\"ITA\",\"2015\",22.0,1.34],[\"JPN\",\"2015\",12.0,1.08],[\"LVA\",\"2015\",5.0,0.7],[\"LTU\",\"2015\",2.0,0.3],[\"LUX\",\"2015\",5.0,0.7],[\"MYS\",\"2015\",6.0,0.78],[\"MHL\",\"2015\",5.0,0.7],[\"MDA\",\"2015\",3.0,0.48],[\"NLD\",\"2015\",162.0,2.21],[\"NZL\",\"2015\",4.0,0.6],[\"NOR\",\"2015\",64.0,1.81],[\"POL\",\"2015\",36.0,1.56],[\"PRT\",\"2015\",10.0,1.0],[\"ROU\",\"2015\",6.0,0.78],[\"RUS\",\"2015\",9.0,0.95],[\"SRB\",\"2015\",3.0,0.48],[\"SXM\",\"2015\",2.0,0.3],[\"SVK\",\"2015\",15.0,1.18],[\"SVN\",\"2015\",10.0,1.0],[\"ZAF\",\"2015\",3.0,0.48],[\"ESP\",\"2015\",56.0,1.75],[\"SWE\",\"2015\",81.0,1.91],[\"CHE\",\"2015\",51.0,1.71],[\"TWN\",\"2015\",2.0,0.3],[\"THA\",\"2015\",5.0,0.7],[\"TUR\",\"2015\",2.0,0.3],[\"UKR\",\"2015\",6.0,0.78],[\"GBR\",\"2015\",100.0,2.0],[\"USA\",\"2015\",125.0,2.1]],\"geo\":\"geo\",\"hovertemplate\":\"<b>%{hovertext}</b><br><br>distribued beer=%{customdata[2]:.0f}<br>happiness gauge=%{z:.2f}<extra></extra>\",\"hovertext\":[\"Australia\",\"Austria\",\"Belarus\",\"Belgium\",\"Brazil\",\"Canada\",\"China\",\"Croatia\",\"Czech Republic\",\"Denmark\",\"Estonia\",\"Finland\",\"France\",\"Germany\",\"Greece\",\"Hong Kong\",\"Hungary\",\"Iceland\",\"Ireland\",\"Israel\",\"Italy\",\"Japan\",\"Latvia\",\"Lithuania\",\"Luxembourg\",\"Malaysia\",\"Marshall Islands\",\"Moldova\",\"Netherlands\",\"New Zealand\",\"Norway\",\"Poland\",\"Portugal\",\"Romania\",\"Russia\",\"Serbia\",\"Sint Maarten\",\"Slovak Republic\",\"Slovenia\",\"South Africa\",\"Spain\",\"Sweden\",\"Switzerland\",\"Taiwan\",\"Thailand\",\"Turkey\",\"Ukraine\",\"United Kingdom\",\"United States\"],\"locations\":[\"AUS\",\"AUT\",\"BLR\",\"BEL\",\"BRA\",\"CAN\",\"CHN\",\"HRV\",\"CZE\",\"DNK\",\"EST\",\"FIN\",\"FRA\",\"DEU\",\"GRC\",\"HKG\",\"HUN\",\"ISL\",\"IRL\",\"ISR\",\"ITA\",\"JPN\",\"LVA\",\"LTU\",\"LUX\",\"MYS\",\"MHL\",\"MDA\",\"NLD\",\"NZL\",\"NOR\",\"POL\",\"PRT\",\"ROU\",\"RUS\",\"SRB\",\"SXM\",\"SVK\",\"SVN\",\"ZAF\",\"ESP\",\"SWE\",\"CHE\",\"TWN\",\"THA\",\"TUR\",\"UKR\",\"GBR\",\"USA\"],\"name\":\"\",\"z\":[1.11,0.7,0.6,2.0,1.0,1.86,0.48,1.08,1.0,2.27,1.08,1.56,2.37,2.15,1.36,0.78,0.6,0.3,0.6,1.23,1.34,1.08,0.7,0.3,0.7,0.78,0.7,0.48,2.21,0.6,1.81,1.56,1.0,0.78,0.95,0.48,0.3,1.18,1.0,0.48,1.75,1.91,1.71,0.3,0.7,0.3,0.78,2.0,2.1],\"type\":\"choropleth\"}],\"name\":\"2015\"},{\"data\":[{\"coloraxis\":\"coloraxis\",\"customdata\":[[\"ARG\",\"2016\",2.0,0.3],[\"AUS\",\"2016\",6.0,0.78],[\"AUT\",\"2016\",4.0,0.6],[\"BLR\",\"2016\",4.0,0.6],[\"BEL\",\"2016\",134.0,2.13],[\"BRA\",\"2016\",4.0,0.6],[\"CAN\",\"2016\",38.0,1.58],[\"CHN\",\"2016\",3.0,0.48],[\"HRV\",\"2016\",8.0,0.9],[\"CZE\",\"2016\",5.0,0.7],[\"DNK\",\"2016\",149.0,2.17],[\"DOM\",\"2016\",3.0,0.48],[\"EST\",\"2016\",15.0,1.18],[\"FIN\",\"2016\",52.0,1.72],[\"FRA\",\"2016\",606.0,2.78],[\"DEU\",\"2016\",104.0,2.02],[\"GRC\",\"2016\",5.0,0.7],[\"HKG\",\"2016\",4.0,0.6],[\"HUN\",\"2016\",9.0,0.95],[\"ISL\",\"2016\",3.0,0.48],[\"IDN\",\"2016\",2.0,0.3],[\"IRL\",\"2016\",4.0,0.6],[\"ISR\",\"2016\",10.0,1.0],[\"ITA\",\"2016\",14.0,1.15],[\"JPN\",\"2016\",2.0,0.3],[\"LVA\",\"2016\",3.0,0.48],[\"LTU\",\"2016\",4.0,0.6],[\"MYS\",\"2016\",4.0,0.6],[\"MHL\",\"2016\",2.0,0.3],[\"MEX\",\"2016\",2.0,0.3],[\"NLD\",\"2016\",115.0,2.06],[\"NZL\",\"2016\",3.0,0.48],[\"PRK\",\"2016\",2.0,0.3],[\"NOR\",\"2016\",32.0,1.51],[\"POL\",\"2016\",12.0,1.08],[\"PRT\",\"2016\",18.0,1.26],[\"ROU\",\"2016\",4.0,0.6],[\"RUS\",\"2016\",4.0,0.6],[\"SRB\",\"2016\",3.0,0.48],[\"SGP\",\"2016\",2.0,0.3],[\"SVK\",\"2016\",9.0,0.95],[\"SVN\",\"2016\",3.0,0.48],[\"ZAF\",\"2016\",4.0,0.6],[\"KOR\",\"2016\",2.0,0.3],[\"ESP\",\"2016\",49.0,1.69],[\"SWE\",\"2016\",62.0,1.79],[\"CHE\",\"2016\",46.0,1.66],[\"TWN\",\"2016\",3.0,0.48],[\"THA\",\"2016\",11.0,1.04],[\"UKR\",\"2016\",3.0,0.48],[\"GBR\",\"2016\",98.0,1.99],[\"USA\",\"2016\",112.0,2.05]],\"geo\":\"geo\",\"hovertemplate\":\"<b>%{hovertext}</b><br><br>distribued beer=%{customdata[2]:.0f}<br>happiness gauge=%{z:.2f}<extra></extra>\",\"hovertext\":[\"Argentina\",\"Australia\",\"Austria\",\"Belarus\",\"Belgium\",\"Brazil\",\"Canada\",\"China\",\"Croatia\",\"Czech Republic\",\"Denmark\",\"Dominican Republic\",\"Estonia\",\"Finland\",\"France\",\"Germany\",\"Greece\",\"Hong Kong\",\"Hungary\",\"Iceland\",\"Indonesia\",\"Ireland\",\"Israel\",\"Italy\",\"Japan\",\"Latvia\",\"Lithuania\",\"Malaysia\",\"Marshall Islands\",\"Mexico\",\"Netherlands\",\"New Zealand\",\"North Korea\",\"Norway\",\"Poland\",\"Portugal\",\"Romania\",\"Russia\",\"Serbia\",\"Singapore\",\"Slovak Republic\",\"Slovenia\",\"South Africa\",\"South Korea\",\"Spain\",\"Sweden\",\"Switzerland\",\"Taiwan\",\"Thailand\",\"Ukraine\",\"United Kingdom\",\"United States\"],\"locations\":[\"ARG\",\"AUS\",\"AUT\",\"BLR\",\"BEL\",\"BRA\",\"CAN\",\"CHN\",\"HRV\",\"CZE\",\"DNK\",\"DOM\",\"EST\",\"FIN\",\"FRA\",\"DEU\",\"GRC\",\"HKG\",\"HUN\",\"ISL\",\"IDN\",\"IRL\",\"ISR\",\"ITA\",\"JPN\",\"LVA\",\"LTU\",\"MYS\",\"MHL\",\"MEX\",\"NLD\",\"NZL\",\"PRK\",\"NOR\",\"POL\",\"PRT\",\"ROU\",\"RUS\",\"SRB\",\"SGP\",\"SVK\",\"SVN\",\"ZAF\",\"KOR\",\"ESP\",\"SWE\",\"CHE\",\"TWN\",\"THA\",\"UKR\",\"GBR\",\"USA\"],\"name\":\"\",\"z\":[0.3,0.78,0.6,0.6,2.13,0.6,1.58,0.48,0.9,0.7,2.17,0.48,1.18,1.72,2.78,2.02,0.7,0.6,0.95,0.48,0.3,0.6,1.0,1.15,0.3,0.48,0.6,0.6,0.3,0.3,2.06,0.48,0.3,1.51,1.08,1.26,0.6,0.6,0.48,0.3,0.95,0.48,0.6,0.3,1.69,1.79,1.66,0.48,1.04,0.48,1.99,2.05],\"type\":\"choropleth\"}],\"name\":\"2016\"}]);\n",
       "                        }).then(function(){\n",
       "                            \n",
       "var gd = document.getElementById('558e2e47-8237-419a-a0f9-919712f1e71e');\n",
       "var x = new MutationObserver(function (mutations, observer) {{\n",
       "        var display = window.getComputedStyle(gd).display;\n",
       "        if (!display || display === 'none') {{\n",
       "            console.log([gd, 'removed!']);\n",
       "            Plotly.purge(gd);\n",
       "            observer.disconnect();\n",
       "        }}\n",
       "}});\n",
       "\n",
       "// Listen for the removal of the full notebook cells\n",
       "var notebookContainer = gd.closest('#notebook-container');\n",
       "if (notebookContainer) {{\n",
       "    x.observe(notebookContainer, {childList: true});\n",
       "}}\n",
       "\n",
       "// Listen for the clearing of the current output cell\n",
       "var outputEl = gd.closest('.output');\n",
       "if (outputEl) {{\n",
       "    x.observe(outputEl, {childList: true});\n",
       "}}\n",
       "\n",
       "                        })                };                });            </script>        </div>"
      ]
     },
     "metadata": {},
     "output_type": "display_data"
    },
    {
     "data": {
      "application/vnd.plotly.v1+json": {
       "config": {
        "plotlyServerURL": "https://plot.ly"
       },
       "data": [
        {
         "line": {
          "color": "#B51F1F",
          "width": 2
         },
         "name": "number of country",
         "type": "scatter",
         "x": [
          2004,
          2005,
          2006,
          2007,
          2008,
          2009,
          2010,
          2011,
          2012,
          2013,
          2014,
          2015,
          2016,
          2017
         ],
         "xaxis": "x",
         "y": [
          27,
          36,
          42,
          52,
          56,
          57,
          61,
          64,
          68,
          73,
          80,
          82,
          86
         ],
         "yaxis": "y"
        },
        {
         "line": {
          "color": "#636EFA",
          "width": 2
         },
         "name": "number of produced beers",
         "type": "scatter",
         "x": [
          2004,
          2005,
          2006,
          2007,
          2008,
          2009,
          2010,
          2011,
          2012,
          2013,
          2014,
          2015,
          2016,
          2017
         ],
         "xaxis": "x",
         "y": [
          1011,
          2130,
          3311,
          4523,
          5783,
          7110,
          8820,
          10685,
          12588,
          14537,
          16501,
          18214,
          20022
         ],
         "yaxis": "y2"
        }
       ],
       "layout": {
        "height": 500,
        "hovermode": "x unified",
        "plot_bgcolor": "rgba(0,0,0,0)",
        "template": {
         "data": {
          "bar": [
           {
            "error_x": {
             "color": "#2a3f5f"
            },
            "error_y": {
             "color": "#2a3f5f"
            },
            "marker": {
             "line": {
              "color": "#E5ECF6",
              "width": 0.5
             },
             "pattern": {
              "fillmode": "overlay",
              "size": 10,
              "solidity": 0.2
             }
            },
            "type": "bar"
           }
          ],
          "barpolar": [
           {
            "marker": {
             "line": {
              "color": "#E5ECF6",
              "width": 0.5
             },
             "pattern": {
              "fillmode": "overlay",
              "size": 10,
              "solidity": 0.2
             }
            },
            "type": "barpolar"
           }
          ],
          "carpet": [
           {
            "aaxis": {
             "endlinecolor": "#2a3f5f",
             "gridcolor": "white",
             "linecolor": "white",
             "minorgridcolor": "white",
             "startlinecolor": "#2a3f5f"
            },
            "baxis": {
             "endlinecolor": "#2a3f5f",
             "gridcolor": "white",
             "linecolor": "white",
             "minorgridcolor": "white",
             "startlinecolor": "#2a3f5f"
            },
            "type": "carpet"
           }
          ],
          "choropleth": [
           {
            "colorbar": {
             "outlinewidth": 0,
             "ticks": ""
            },
            "type": "choropleth"
           }
          ],
          "contour": [
           {
            "colorbar": {
             "outlinewidth": 0,
             "ticks": ""
            },
            "colorscale": [
             [
              0,
              "#0d0887"
             ],
             [
              0.1111111111111111,
              "#46039f"
             ],
             [
              0.2222222222222222,
              "#7201a8"
             ],
             [
              0.3333333333333333,
              "#9c179e"
             ],
             [
              0.4444444444444444,
              "#bd3786"
             ],
             [
              0.5555555555555556,
              "#d8576b"
             ],
             [
              0.6666666666666666,
              "#ed7953"
             ],
             [
              0.7777777777777778,
              "#fb9f3a"
             ],
             [
              0.8888888888888888,
              "#fdca26"
             ],
             [
              1,
              "#f0f921"
             ]
            ],
            "type": "contour"
           }
          ],
          "contourcarpet": [
           {
            "colorbar": {
             "outlinewidth": 0,
             "ticks": ""
            },
            "type": "contourcarpet"
           }
          ],
          "heatmap": [
           {
            "colorbar": {
             "outlinewidth": 0,
             "ticks": ""
            },
            "colorscale": [
             [
              0,
              "#0d0887"
             ],
             [
              0.1111111111111111,
              "#46039f"
             ],
             [
              0.2222222222222222,
              "#7201a8"
             ],
             [
              0.3333333333333333,
              "#9c179e"
             ],
             [
              0.4444444444444444,
              "#bd3786"
             ],
             [
              0.5555555555555556,
              "#d8576b"
             ],
             [
              0.6666666666666666,
              "#ed7953"
             ],
             [
              0.7777777777777778,
              "#fb9f3a"
             ],
             [
              0.8888888888888888,
              "#fdca26"
             ],
             [
              1,
              "#f0f921"
             ]
            ],
            "type": "heatmap"
           }
          ],
          "heatmapgl": [
           {
            "colorbar": {
             "outlinewidth": 0,
             "ticks": ""
            },
            "colorscale": [
             [
              0,
              "#0d0887"
             ],
             [
              0.1111111111111111,
              "#46039f"
             ],
             [
              0.2222222222222222,
              "#7201a8"
             ],
             [
              0.3333333333333333,
              "#9c179e"
             ],
             [
              0.4444444444444444,
              "#bd3786"
             ],
             [
              0.5555555555555556,
              "#d8576b"
             ],
             [
              0.6666666666666666,
              "#ed7953"
             ],
             [
              0.7777777777777778,
              "#fb9f3a"
             ],
             [
              0.8888888888888888,
              "#fdca26"
             ],
             [
              1,
              "#f0f921"
             ]
            ],
            "type": "heatmapgl"
           }
          ],
          "histogram": [
           {
            "marker": {
             "pattern": {
              "fillmode": "overlay",
              "size": 10,
              "solidity": 0.2
             }
            },
            "type": "histogram"
           }
          ],
          "histogram2d": [
           {
            "colorbar": {
             "outlinewidth": 0,
             "ticks": ""
            },
            "colorscale": [
             [
              0,
              "#0d0887"
             ],
             [
              0.1111111111111111,
              "#46039f"
             ],
             [
              0.2222222222222222,
              "#7201a8"
             ],
             [
              0.3333333333333333,
              "#9c179e"
             ],
             [
              0.4444444444444444,
              "#bd3786"
             ],
             [
              0.5555555555555556,
              "#d8576b"
             ],
             [
              0.6666666666666666,
              "#ed7953"
             ],
             [
              0.7777777777777778,
              "#fb9f3a"
             ],
             [
              0.8888888888888888,
              "#fdca26"
             ],
             [
              1,
              "#f0f921"
             ]
            ],
            "type": "histogram2d"
           }
          ],
          "histogram2dcontour": [
           {
            "colorbar": {
             "outlinewidth": 0,
             "ticks": ""
            },
            "colorscale": [
             [
              0,
              "#0d0887"
             ],
             [
              0.1111111111111111,
              "#46039f"
             ],
             [
              0.2222222222222222,
              "#7201a8"
             ],
             [
              0.3333333333333333,
              "#9c179e"
             ],
             [
              0.4444444444444444,
              "#bd3786"
             ],
             [
              0.5555555555555556,
              "#d8576b"
             ],
             [
              0.6666666666666666,
              "#ed7953"
             ],
             [
              0.7777777777777778,
              "#fb9f3a"
             ],
             [
              0.8888888888888888,
              "#fdca26"
             ],
             [
              1,
              "#f0f921"
             ]
            ],
            "type": "histogram2dcontour"
           }
          ],
          "mesh3d": [
           {
            "colorbar": {
             "outlinewidth": 0,
             "ticks": ""
            },
            "type": "mesh3d"
           }
          ],
          "parcoords": [
           {
            "line": {
             "colorbar": {
              "outlinewidth": 0,
              "ticks": ""
             }
            },
            "type": "parcoords"
           }
          ],
          "pie": [
           {
            "automargin": true,
            "type": "pie"
           }
          ],
          "scatter": [
           {
            "fillpattern": {
             "fillmode": "overlay",
             "size": 10,
             "solidity": 0.2
            },
            "type": "scatter"
           }
          ],
          "scatter3d": [
           {
            "line": {
             "colorbar": {
              "outlinewidth": 0,
              "ticks": ""
             }
            },
            "marker": {
             "colorbar": {
              "outlinewidth": 0,
              "ticks": ""
             }
            },
            "type": "scatter3d"
           }
          ],
          "scattercarpet": [
           {
            "marker": {
             "colorbar": {
              "outlinewidth": 0,
              "ticks": ""
             }
            },
            "type": "scattercarpet"
           }
          ],
          "scattergeo": [
           {
            "marker": {
             "colorbar": {
              "outlinewidth": 0,
              "ticks": ""
             }
            },
            "type": "scattergeo"
           }
          ],
          "scattergl": [
           {
            "marker": {
             "colorbar": {
              "outlinewidth": 0,
              "ticks": ""
             }
            },
            "type": "scattergl"
           }
          ],
          "scattermapbox": [
           {
            "marker": {
             "colorbar": {
              "outlinewidth": 0,
              "ticks": ""
             }
            },
            "type": "scattermapbox"
           }
          ],
          "scatterpolar": [
           {
            "marker": {
             "colorbar": {
              "outlinewidth": 0,
              "ticks": ""
             }
            },
            "type": "scatterpolar"
           }
          ],
          "scatterpolargl": [
           {
            "marker": {
             "colorbar": {
              "outlinewidth": 0,
              "ticks": ""
             }
            },
            "type": "scatterpolargl"
           }
          ],
          "scatterternary": [
           {
            "marker": {
             "colorbar": {
              "outlinewidth": 0,
              "ticks": ""
             }
            },
            "type": "scatterternary"
           }
          ],
          "surface": [
           {
            "colorbar": {
             "outlinewidth": 0,
             "ticks": ""
            },
            "colorscale": [
             [
              0,
              "#0d0887"
             ],
             [
              0.1111111111111111,
              "#46039f"
             ],
             [
              0.2222222222222222,
              "#7201a8"
             ],
             [
              0.3333333333333333,
              "#9c179e"
             ],
             [
              0.4444444444444444,
              "#bd3786"
             ],
             [
              0.5555555555555556,
              "#d8576b"
             ],
             [
              0.6666666666666666,
              "#ed7953"
             ],
             [
              0.7777777777777778,
              "#fb9f3a"
             ],
             [
              0.8888888888888888,
              "#fdca26"
             ],
             [
              1,
              "#f0f921"
             ]
            ],
            "type": "surface"
           }
          ],
          "table": [
           {
            "cells": {
             "fill": {
              "color": "#EBF0F8"
             },
             "line": {
              "color": "white"
             }
            },
            "header": {
             "fill": {
              "color": "#C8D4E3"
             },
             "line": {
              "color": "white"
             }
            },
            "type": "table"
           }
          ]
         },
         "layout": {
          "annotationdefaults": {
           "arrowcolor": "#2a3f5f",
           "arrowhead": 0,
           "arrowwidth": 1
          },
          "autotypenumbers": "strict",
          "coloraxis": {
           "colorbar": {
            "outlinewidth": 0,
            "ticks": ""
           }
          },
          "colorscale": {
           "diverging": [
            [
             0,
             "#8e0152"
            ],
            [
             0.1,
             "#c51b7d"
            ],
            [
             0.2,
             "#de77ae"
            ],
            [
             0.3,
             "#f1b6da"
            ],
            [
             0.4,
             "#fde0ef"
            ],
            [
             0.5,
             "#f7f7f7"
            ],
            [
             0.6,
             "#e6f5d0"
            ],
            [
             0.7,
             "#b8e186"
            ],
            [
             0.8,
             "#7fbc41"
            ],
            [
             0.9,
             "#4d9221"
            ],
            [
             1,
             "#276419"
            ]
           ],
           "sequential": [
            [
             0,
             "#0d0887"
            ],
            [
             0.1111111111111111,
             "#46039f"
            ],
            [
             0.2222222222222222,
             "#7201a8"
            ],
            [
             0.3333333333333333,
             "#9c179e"
            ],
            [
             0.4444444444444444,
             "#bd3786"
            ],
            [
             0.5555555555555556,
             "#d8576b"
            ],
            [
             0.6666666666666666,
             "#ed7953"
            ],
            [
             0.7777777777777778,
             "#fb9f3a"
            ],
            [
             0.8888888888888888,
             "#fdca26"
            ],
            [
             1,
             "#f0f921"
            ]
           ],
           "sequentialminus": [
            [
             0,
             "#0d0887"
            ],
            [
             0.1111111111111111,
             "#46039f"
            ],
            [
             0.2222222222222222,
             "#7201a8"
            ],
            [
             0.3333333333333333,
             "#9c179e"
            ],
            [
             0.4444444444444444,
             "#bd3786"
            ],
            [
             0.5555555555555556,
             "#d8576b"
            ],
            [
             0.6666666666666666,
             "#ed7953"
            ],
            [
             0.7777777777777778,
             "#fb9f3a"
            ],
            [
             0.8888888888888888,
             "#fdca26"
            ],
            [
             1,
             "#f0f921"
            ]
           ]
          },
          "colorway": [
           "#636efa",
           "#EF553B",
           "#00cc96",
           "#ab63fa",
           "#FFA15A",
           "#19d3f3",
           "#FF6692",
           "#B6E880",
           "#FF97FF",
           "#FECB52"
          ],
          "font": {
           "color": "#2a3f5f"
          },
          "geo": {
           "bgcolor": "white",
           "lakecolor": "white",
           "landcolor": "#E5ECF6",
           "showlakes": true,
           "showland": true,
           "subunitcolor": "white"
          },
          "hoverlabel": {
           "align": "left"
          },
          "hovermode": "closest",
          "mapbox": {
           "style": "light"
          },
          "paper_bgcolor": "white",
          "plot_bgcolor": "#E5ECF6",
          "polar": {
           "angularaxis": {
            "gridcolor": "white",
            "linecolor": "white",
            "ticks": ""
           },
           "bgcolor": "#E5ECF6",
           "radialaxis": {
            "gridcolor": "white",
            "linecolor": "white",
            "ticks": ""
           }
          },
          "scene": {
           "xaxis": {
            "backgroundcolor": "#E5ECF6",
            "gridcolor": "white",
            "gridwidth": 2,
            "linecolor": "white",
            "showbackground": true,
            "ticks": "",
            "zerolinecolor": "white"
           },
           "yaxis": {
            "backgroundcolor": "#E5ECF6",
            "gridcolor": "white",
            "gridwidth": 2,
            "linecolor": "white",
            "showbackground": true,
            "ticks": "",
            "zerolinecolor": "white"
           },
           "zaxis": {
            "backgroundcolor": "#E5ECF6",
            "gridcolor": "white",
            "gridwidth": 2,
            "linecolor": "white",
            "showbackground": true,
            "ticks": "",
            "zerolinecolor": "white"
           }
          },
          "shapedefaults": {
           "line": {
            "color": "#2a3f5f"
           }
          },
          "ternary": {
           "aaxis": {
            "gridcolor": "white",
            "linecolor": "white",
            "ticks": ""
           },
           "baxis": {
            "gridcolor": "white",
            "linecolor": "white",
            "ticks": ""
           },
           "bgcolor": "#E5ECF6",
           "caxis": {
            "gridcolor": "white",
            "linecolor": "white",
            "ticks": ""
           }
          },
          "title": {
           "x": 0.05
          },
          "xaxis": {
           "automargin": true,
           "gridcolor": "white",
           "linecolor": "white",
           "ticks": "",
           "title": {
            "standoff": 15
           },
           "zerolinecolor": "white",
           "zerolinewidth": 2
          },
          "yaxis": {
           "automargin": true,
           "gridcolor": "white",
           "linecolor": "white",
           "ticks": "",
           "title": {
            "standoff": 15
           },
           "zerolinecolor": "white",
           "zerolinewidth": 2
          }
         }
        },
        "title": {
         "text": "Cumulative results"
        },
        "width": 900,
        "xaxis": {
         "anchor": "y",
         "domain": [
          0,
          0.94
         ],
         "gridcolor": "#909090",
         "linecolor": "black",
         "linewidth": 1,
         "mirror": true,
         "showline": true,
         "title": {
          "text": "year"
         }
        },
        "yaxis": {
         "anchor": "x",
         "domain": [
          0,
          1
         ],
         "gridcolor": "#909090",
         "linecolor": "black",
         "linewidth": 1,
         "mirror": true,
         "range": [
          0,
          88
         ],
         "showline": true,
         "ticksuffix": " ",
         "title": {
          "text": "number of country"
         }
        },
        "yaxis2": {
         "anchor": "x",
         "overlaying": "y",
         "side": "right",
         "tickprefix": " ",
         "title": {
          "text": "number of beers"
         }
        }
       }
      },
      "text/html": [
       "<div>                            <div id=\"84da4aec-81f6-48c6-8358-0f3dc3707c57\" class=\"plotly-graph-div\" style=\"height:500px; width:900px;\"></div>            <script type=\"text/javascript\">                require([\"plotly\"], function(Plotly) {                    window.PLOTLYENV=window.PLOTLYENV || {};                                    if (document.getElementById(\"84da4aec-81f6-48c6-8358-0f3dc3707c57\")) {                    Plotly.newPlot(                        \"84da4aec-81f6-48c6-8358-0f3dc3707c57\",                        [{\"line\":{\"color\":\"#B51F1F\",\"width\":2},\"name\":\"number of country\",\"x\":[2004,2005,2006,2007,2008,2009,2010,2011,2012,2013,2014,2015,2016,2017],\"y\":[27,36,42,52,56,57,61,64,68,73,80,82,86],\"type\":\"scatter\",\"xaxis\":\"x\",\"yaxis\":\"y\"},{\"line\":{\"color\":\"#636EFA\",\"width\":2},\"name\":\"number of produced beers\",\"x\":[2004,2005,2006,2007,2008,2009,2010,2011,2012,2013,2014,2015,2016,2017],\"y\":[1011.0,2130.0,3311.0,4523.0,5783.0,7110.0,8820.0,10685.0,12588.0,14537.0,16501.0,18214.0,20022.0],\"type\":\"scatter\",\"xaxis\":\"x\",\"yaxis\":\"y2\"}],                        {\"template\":{\"data\":{\"histogram2dcontour\":[{\"type\":\"histogram2dcontour\",\"colorbar\":{\"outlinewidth\":0,\"ticks\":\"\"},\"colorscale\":[[0.0,\"#0d0887\"],[0.1111111111111111,\"#46039f\"],[0.2222222222222222,\"#7201a8\"],[0.3333333333333333,\"#9c179e\"],[0.4444444444444444,\"#bd3786\"],[0.5555555555555556,\"#d8576b\"],[0.6666666666666666,\"#ed7953\"],[0.7777777777777778,\"#fb9f3a\"],[0.8888888888888888,\"#fdca26\"],[1.0,\"#f0f921\"]]}],\"choropleth\":[{\"type\":\"choropleth\",\"colorbar\":{\"outlinewidth\":0,\"ticks\":\"\"}}],\"histogram2d\":[{\"type\":\"histogram2d\",\"colorbar\":{\"outlinewidth\":0,\"ticks\":\"\"},\"colorscale\":[[0.0,\"#0d0887\"],[0.1111111111111111,\"#46039f\"],[0.2222222222222222,\"#7201a8\"],[0.3333333333333333,\"#9c179e\"],[0.4444444444444444,\"#bd3786\"],[0.5555555555555556,\"#d8576b\"],[0.6666666666666666,\"#ed7953\"],[0.7777777777777778,\"#fb9f3a\"],[0.8888888888888888,\"#fdca26\"],[1.0,\"#f0f921\"]]}],\"heatmap\":[{\"type\":\"heatmap\",\"colorbar\":{\"outlinewidth\":0,\"ticks\":\"\"},\"colorscale\":[[0.0,\"#0d0887\"],[0.1111111111111111,\"#46039f\"],[0.2222222222222222,\"#7201a8\"],[0.3333333333333333,\"#9c179e\"],[0.4444444444444444,\"#bd3786\"],[0.5555555555555556,\"#d8576b\"],[0.6666666666666666,\"#ed7953\"],[0.7777777777777778,\"#fb9f3a\"],[0.8888888888888888,\"#fdca26\"],[1.0,\"#f0f921\"]]}],\"heatmapgl\":[{\"type\":\"heatmapgl\",\"colorbar\":{\"outlinewidth\":0,\"ticks\":\"\"},\"colorscale\":[[0.0,\"#0d0887\"],[0.1111111111111111,\"#46039f\"],[0.2222222222222222,\"#7201a8\"],[0.3333333333333333,\"#9c179e\"],[0.4444444444444444,\"#bd3786\"],[0.5555555555555556,\"#d8576b\"],[0.6666666666666666,\"#ed7953\"],[0.7777777777777778,\"#fb9f3a\"],[0.8888888888888888,\"#fdca26\"],[1.0,\"#f0f921\"]]}],\"contourcarpet\":[{\"type\":\"contourcarpet\",\"colorbar\":{\"outlinewidth\":0,\"ticks\":\"\"}}],\"contour\":[{\"type\":\"contour\",\"colorbar\":{\"outlinewidth\":0,\"ticks\":\"\"},\"colorscale\":[[0.0,\"#0d0887\"],[0.1111111111111111,\"#46039f\"],[0.2222222222222222,\"#7201a8\"],[0.3333333333333333,\"#9c179e\"],[0.4444444444444444,\"#bd3786\"],[0.5555555555555556,\"#d8576b\"],[0.6666666666666666,\"#ed7953\"],[0.7777777777777778,\"#fb9f3a\"],[0.8888888888888888,\"#fdca26\"],[1.0,\"#f0f921\"]]}],\"surface\":[{\"type\":\"surface\",\"colorbar\":{\"outlinewidth\":0,\"ticks\":\"\"},\"colorscale\":[[0.0,\"#0d0887\"],[0.1111111111111111,\"#46039f\"],[0.2222222222222222,\"#7201a8\"],[0.3333333333333333,\"#9c179e\"],[0.4444444444444444,\"#bd3786\"],[0.5555555555555556,\"#d8576b\"],[0.6666666666666666,\"#ed7953\"],[0.7777777777777778,\"#fb9f3a\"],[0.8888888888888888,\"#fdca26\"],[1.0,\"#f0f921\"]]}],\"mesh3d\":[{\"type\":\"mesh3d\",\"colorbar\":{\"outlinewidth\":0,\"ticks\":\"\"}}],\"scatter\":[{\"fillpattern\":{\"fillmode\":\"overlay\",\"size\":10,\"solidity\":0.2},\"type\":\"scatter\"}],\"parcoords\":[{\"type\":\"parcoords\",\"line\":{\"colorbar\":{\"outlinewidth\":0,\"ticks\":\"\"}}}],\"scatterpolargl\":[{\"type\":\"scatterpolargl\",\"marker\":{\"colorbar\":{\"outlinewidth\":0,\"ticks\":\"\"}}}],\"bar\":[{\"error_x\":{\"color\":\"#2a3f5f\"},\"error_y\":{\"color\":\"#2a3f5f\"},\"marker\":{\"line\":{\"color\":\"#E5ECF6\",\"width\":0.5},\"pattern\":{\"fillmode\":\"overlay\",\"size\":10,\"solidity\":0.2}},\"type\":\"bar\"}],\"scattergeo\":[{\"type\":\"scattergeo\",\"marker\":{\"colorbar\":{\"outlinewidth\":0,\"ticks\":\"\"}}}],\"scatterpolar\":[{\"type\":\"scatterpolar\",\"marker\":{\"colorbar\":{\"outlinewidth\":0,\"ticks\":\"\"}}}],\"histogram\":[{\"marker\":{\"pattern\":{\"fillmode\":\"overlay\",\"size\":10,\"solidity\":0.2}},\"type\":\"histogram\"}],\"scattergl\":[{\"type\":\"scattergl\",\"marker\":{\"colorbar\":{\"outlinewidth\":0,\"ticks\":\"\"}}}],\"scatter3d\":[{\"type\":\"scatter3d\",\"line\":{\"colorbar\":{\"outlinewidth\":0,\"ticks\":\"\"}},\"marker\":{\"colorbar\":{\"outlinewidth\":0,\"ticks\":\"\"}}}],\"scattermapbox\":[{\"type\":\"scattermapbox\",\"marker\":{\"colorbar\":{\"outlinewidth\":0,\"ticks\":\"\"}}}],\"scatterternary\":[{\"type\":\"scatterternary\",\"marker\":{\"colorbar\":{\"outlinewidth\":0,\"ticks\":\"\"}}}],\"scattercarpet\":[{\"type\":\"scattercarpet\",\"marker\":{\"colorbar\":{\"outlinewidth\":0,\"ticks\":\"\"}}}],\"carpet\":[{\"aaxis\":{\"endlinecolor\":\"#2a3f5f\",\"gridcolor\":\"white\",\"linecolor\":\"white\",\"minorgridcolor\":\"white\",\"startlinecolor\":\"#2a3f5f\"},\"baxis\":{\"endlinecolor\":\"#2a3f5f\",\"gridcolor\":\"white\",\"linecolor\":\"white\",\"minorgridcolor\":\"white\",\"startlinecolor\":\"#2a3f5f\"},\"type\":\"carpet\"}],\"table\":[{\"cells\":{\"fill\":{\"color\":\"#EBF0F8\"},\"line\":{\"color\":\"white\"}},\"header\":{\"fill\":{\"color\":\"#C8D4E3\"},\"line\":{\"color\":\"white\"}},\"type\":\"table\"}],\"barpolar\":[{\"marker\":{\"line\":{\"color\":\"#E5ECF6\",\"width\":0.5},\"pattern\":{\"fillmode\":\"overlay\",\"size\":10,\"solidity\":0.2}},\"type\":\"barpolar\"}],\"pie\":[{\"automargin\":true,\"type\":\"pie\"}]},\"layout\":{\"autotypenumbers\":\"strict\",\"colorway\":[\"#636efa\",\"#EF553B\",\"#00cc96\",\"#ab63fa\",\"#FFA15A\",\"#19d3f3\",\"#FF6692\",\"#B6E880\",\"#FF97FF\",\"#FECB52\"],\"font\":{\"color\":\"#2a3f5f\"},\"hovermode\":\"closest\",\"hoverlabel\":{\"align\":\"left\"},\"paper_bgcolor\":\"white\",\"plot_bgcolor\":\"#E5ECF6\",\"polar\":{\"bgcolor\":\"#E5ECF6\",\"angularaxis\":{\"gridcolor\":\"white\",\"linecolor\":\"white\",\"ticks\":\"\"},\"radialaxis\":{\"gridcolor\":\"white\",\"linecolor\":\"white\",\"ticks\":\"\"}},\"ternary\":{\"bgcolor\":\"#E5ECF6\",\"aaxis\":{\"gridcolor\":\"white\",\"linecolor\":\"white\",\"ticks\":\"\"},\"baxis\":{\"gridcolor\":\"white\",\"linecolor\":\"white\",\"ticks\":\"\"},\"caxis\":{\"gridcolor\":\"white\",\"linecolor\":\"white\",\"ticks\":\"\"}},\"coloraxis\":{\"colorbar\":{\"outlinewidth\":0,\"ticks\":\"\"}},\"colorscale\":{\"sequential\":[[0.0,\"#0d0887\"],[0.1111111111111111,\"#46039f\"],[0.2222222222222222,\"#7201a8\"],[0.3333333333333333,\"#9c179e\"],[0.4444444444444444,\"#bd3786\"],[0.5555555555555556,\"#d8576b\"],[0.6666666666666666,\"#ed7953\"],[0.7777777777777778,\"#fb9f3a\"],[0.8888888888888888,\"#fdca26\"],[1.0,\"#f0f921\"]],\"sequentialminus\":[[0.0,\"#0d0887\"],[0.1111111111111111,\"#46039f\"],[0.2222222222222222,\"#7201a8\"],[0.3333333333333333,\"#9c179e\"],[0.4444444444444444,\"#bd3786\"],[0.5555555555555556,\"#d8576b\"],[0.6666666666666666,\"#ed7953\"],[0.7777777777777778,\"#fb9f3a\"],[0.8888888888888888,\"#fdca26\"],[1.0,\"#f0f921\"]],\"diverging\":[[0,\"#8e0152\"],[0.1,\"#c51b7d\"],[0.2,\"#de77ae\"],[0.3,\"#f1b6da\"],[0.4,\"#fde0ef\"],[0.5,\"#f7f7f7\"],[0.6,\"#e6f5d0\"],[0.7,\"#b8e186\"],[0.8,\"#7fbc41\"],[0.9,\"#4d9221\"],[1,\"#276419\"]]},\"xaxis\":{\"gridcolor\":\"white\",\"linecolor\":\"white\",\"ticks\":\"\",\"title\":{\"standoff\":15},\"zerolinecolor\":\"white\",\"automargin\":true,\"zerolinewidth\":2},\"yaxis\":{\"gridcolor\":\"white\",\"linecolor\":\"white\",\"ticks\":\"\",\"title\":{\"standoff\":15},\"zerolinecolor\":\"white\",\"automargin\":true,\"zerolinewidth\":2},\"scene\":{\"xaxis\":{\"backgroundcolor\":\"#E5ECF6\",\"gridcolor\":\"white\",\"linecolor\":\"white\",\"showbackground\":true,\"ticks\":\"\",\"zerolinecolor\":\"white\",\"gridwidth\":2},\"yaxis\":{\"backgroundcolor\":\"#E5ECF6\",\"gridcolor\":\"white\",\"linecolor\":\"white\",\"showbackground\":true,\"ticks\":\"\",\"zerolinecolor\":\"white\",\"gridwidth\":2},\"zaxis\":{\"backgroundcolor\":\"#E5ECF6\",\"gridcolor\":\"white\",\"linecolor\":\"white\",\"showbackground\":true,\"ticks\":\"\",\"zerolinecolor\":\"white\",\"gridwidth\":2}},\"shapedefaults\":{\"line\":{\"color\":\"#2a3f5f\"}},\"annotationdefaults\":{\"arrowcolor\":\"#2a3f5f\",\"arrowhead\":0,\"arrowwidth\":1},\"geo\":{\"bgcolor\":\"white\",\"landcolor\":\"#E5ECF6\",\"subunitcolor\":\"white\",\"showland\":true,\"showlakes\":true,\"lakecolor\":\"white\"},\"title\":{\"x\":0.05},\"mapbox\":{\"style\":\"light\"}}},\"xaxis\":{\"anchor\":\"y\",\"domain\":[0.0,0.94],\"title\":{\"text\":\"year\"},\"gridcolor\":\"#909090\",\"linecolor\":\"black\",\"linewidth\":1,\"mirror\":true,\"showline\":true},\"yaxis\":{\"anchor\":\"x\",\"domain\":[0.0,1.0],\"title\":{\"text\":\"number of country\"},\"range\":[0,88],\"gridcolor\":\"#909090\",\"linecolor\":\"black\",\"linewidth\":1,\"mirror\":true,\"showline\":true,\"ticksuffix\":\" \"},\"yaxis2\":{\"anchor\":\"x\",\"overlaying\":\"y\",\"side\":\"right\",\"title\":{\"text\":\"number of beers\"},\"tickprefix\":\" \"},\"title\":{\"text\":\"Cumulative results\"},\"height\":500,\"hovermode\":\"x unified\",\"plot_bgcolor\":\"rgba(0,0,0,0)\",\"width\":900},                        {\"responsive\": true}                    ).then(function(){\n",
       "                            \n",
       "var gd = document.getElementById('84da4aec-81f6-48c6-8358-0f3dc3707c57');\n",
       "var x = new MutationObserver(function (mutations, observer) {{\n",
       "        var display = window.getComputedStyle(gd).display;\n",
       "        if (!display || display === 'none') {{\n",
       "            console.log([gd, 'removed!']);\n",
       "            Plotly.purge(gd);\n",
       "            observer.disconnect();\n",
       "        }}\n",
       "}});\n",
       "\n",
       "// Listen for the removal of the full notebook cells\n",
       "var notebookContainer = gd.closest('#notebook-container');\n",
       "if (notebookContainer) {{\n",
       "    x.observe(notebookContainer, {childList: true});\n",
       "}}\n",
       "\n",
       "// Listen for the clearing of the current output cell\n",
       "var outputEl = gd.closest('.output');\n",
       "if (outputEl) {{\n",
       "    x.observe(outputEl, {childList: true});\n",
       "}}\n",
       "\n",
       "                        })                };                });            </script>        </div>"
      ]
     },
     "metadata": {},
     "output_type": "display_data"
    }
   ],
   "source": [
    "f1, f2 = simulation()\n",
    "f1.show()\n",
    "f2.show()"
   ]
  },
  {
   "cell_type": "code",
   "execution_count": 14,
   "id": "cd5ee159",
   "metadata": {},
   "outputs": [],
   "source": [
    "figure1_list = '{'\n",
    "figure2_list = '{'\n",
    "figure3_list = '{'\n",
    "\n",
    "for i, c in enumerate(brew_country_list):\n",
    "    dico1 = '{'\n",
    "    dico2 = '{'\n",
    "    #dico3 = '{'\n",
    "    for s in beer_style_list:\n",
    "        fig1, fig2 = simulation(c,s)\n",
    "        dico1 += '\"{}\" : {},'.format(s, fig1.to_json())\n",
    "        dico2 += '\"{}\" : {},'.format(s, fig2.to_json())\n",
    "        #dico3 += '\"{}\" : {},'.format(s, fig3.to_json())\n",
    "        #dico[s] = json.loads(fig_json)\n",
    "        \n",
    "    dico1 = dico1[:-1] + '}'\n",
    "    dico2 = dico2[:-1] + '}'\n",
    "    #dico3 = dico3[:-1] + '}'\n",
    "    \n",
    "    figure1_list += '\"{}\" : {},'.format(iso_code[i], dico1)\n",
    "    figure2_list += '\"{}\" : {},'.format(iso_code[i], dico2)\n",
    "    #figure3_list += '\"{}\" : {},'.format(iso_code[i], dico3)\n",
    "    #figure_list[iso_code[i]] = dico\n",
    "    \n",
    "figure1_list = figure1_list[:-1] + '}'\n",
    "figure2_list = figure2_list[:-1] + '}'\n",
    "#figure3_list = figure3_list[:-1] + '}'"
   ]
  },
  {
   "cell_type": "code",
   "execution_count": 15,
   "id": "36cf2c4e",
   "metadata": {},
   "outputs": [
    {
     "name": "stdout",
     "output_type": "stream",
     "text": [
      "beermap.json written !\n",
      "exportfig.json written !\n"
     ]
    }
   ],
   "source": [
    "# Writing to sample.json\n",
    "with open(\"beermap.json\", \"w\", encoding='utf-8') as outfile:\n",
    "    outfile.write(\"beermap_data = '\" + figure1_list + \"'\")\n",
    "\n",
    "print(\"beermap.json written !\")\n",
    "\n",
    "with open(\"exportfig.json\", \"w\",encoding='utf-8') as outfile:\n",
    "    outfile.write(\"exportfig_data = '\" + figure2_list + \"'\")\n",
    "    \n",
    "print(\"exportfig.json written !\")\n",
    "    \n",
    "#with open(\"countryfig.json\", \"w\", encoding='utf-8') as outfile:\n",
    "#    outfile.write(\"countryfig_data = '\" + figure3_list + \"'\")\n",
    "#    \n",
    "#print(\"countryfig.json written !\")"
   ]
  },
  {
   "cell_type": "code",
   "execution_count": 22,
   "id": "0f50993f",
   "metadata": {},
   "outputs": [
    {
     "name": "stdout",
     "output_type": "stream",
     "text": [
      "{'data': [{'coloraxis': 'coloraxis', 'geo': 'geo', 'hovertemplate': '<b>%{hovertext}</b><br><br>period=2003<br>iso_code=%{location}<br>score=%{z}<extra></extra>', 'hovertext': ['Afghanistan', 'Albania', 'Algeria', 'American Samoa', 'Andorra', 'Angola', 'Anguilla', 'Antarctica', 'Antigua and Barbuda', 'Argentina', 'Armenia', 'Aruba', 'Australia', 'Austria', 'Azerbaijan', 'Bahamas', 'Bangladesh', 'Barbados', 'Belarus', 'Belgium', 'Belize', 'Bermuda', 'Bhutan', 'Bolivia', 'Bosnia and Herzegovina', 'Botswana', 'Bouvet Island', 'Brazil', 'Bulgaria', 'Burkina Faso', 'Burundi', 'Cambodia', 'Canada', 'Cayman Islands', 'Chile', 'China', 'Colombia', 'Congo', 'Costa Rica', 'Croatia', 'Cuba', 'Cyprus', 'Czech Republic', 'Denmark', 'Dominican Republic', 'East Timor', 'Ecuador', 'Egypt', 'El Salvador', 'Equatorial Guinea', 'Estonia', 'Ethiopia', 'Falkland Islands', 'Faroe Islands', 'Fiji Islands', 'Finland', 'France', 'French Guiana', 'Georgia', 'Germany', 'Ghana', 'Gibraltar', 'Greece', 'Greenland', 'Guam', 'Guatemala', 'Guernsey', 'Haiti', 'Heard and McDonald Islands', 'Honduras', 'Hong Kong', 'Hungary', 'Iceland', 'India', 'Indonesia', 'Iran', 'Iraq', 'Ireland', 'Isle of Man', 'Israel', 'Italy', 'Ivory Coast', 'Jamaica', 'Japan', 'Jersey', 'Jordan', 'Kazakhstan', 'Kenya', 'Kosovo', 'Kyrgyzstan', 'Laos', 'Latvia', 'Lebanon', 'Lesotho', 'Liechtenstein', 'Lithuania', 'Luxembourg', 'Macau', 'Macedonia', 'Malaysia', 'Malta', 'Malvinas', 'Marshall Islands', 'Mauritania', 'Mauritius', 'Mexico', 'Micronesia', 'Moldova', 'Monaco', 'Mongolia', 'Montenegro', 'Montserrat', 'Morocco', 'Mozambique', 'Namibia', 'Nepal', 'Netherlands', 'New Caledonia', 'New Zealand', 'Nicaragua', 'Nigeria', 'Norfolk Island', 'North Korea', 'Northern Mariana Islands', 'Norway', 'Oman', 'Pakistan', 'Palestine', 'Panama', 'Papua New Guinea', 'Paraguay', 'Peru', 'Philippines', 'Poland', 'Portugal', 'Puerto Rico', 'Romania', 'Russia', 'Rwanda', 'Saint Helena', 'Saint Lucia', 'Saint Vincent and The Grenadines', 'San Marino', 'Saudi Arabia', 'Serbia', 'Singapore', 'Sint Maarten', 'Slovak Republic', 'Slovakia', 'Slovenia', 'Solomon Islands', 'South Africa', 'South Georgia and South Sandwich Islands', 'South Korea', 'Spain', 'Sri Lanka', 'Sudan', 'Svalbard and Jan Mayen Islands', 'Sweden', 'Switzerland', 'Syria', 'Taiwan', 'Tajikistan', 'Tanzania', 'Thailand', 'Togo', 'Tokelau', 'Trinidad and Tobago', 'Tunisia', 'Turkey', 'Turkmenistan', 'Tuvalu', 'Uganda', 'Ukraine', 'United Arab Emirates', 'United Kingdom', 'United States', 'Uruguay', 'Uzbekistan', 'Vanuatu', 'Vatican City', 'Venezuela', 'Vietnam', 'Yemen', 'Zambia', 'Zimbabwe'], 'locations': ['AFG', 'ALB', 'DZA', 'ASM', 'AND', 'AGO', 'AIA', 'ATA', 'ATG', 'ARG', 'ARM', 'ABW', 'AUS', 'AUT', 'AZE', 'BHS', 'BGD', 'BRB', 'BLR', 'BEL', 'BLZ', 'BMU', 'BTN', 'BOL', 'BIH', 'BWA', 'BVT', 'BRA', 'BGR', 'BFA', 'BDI', 'KHM', 'CAN', 'CYM', 'CHL', 'CHN', 'COL', 'COG', 'CRI', 'HRV', 'CUB', 'CYP', 'CZE', 'DNK', 'DOM', 'TLS', 'ECU', 'EGY', 'SLV', 'GNQ', 'EST', 'ETH', 'FLK', 'FRO', 'FJI', 'FIN', 'FRA', 'GUF', 'GEO', 'DEU', 'GHA', 'GIB', 'GRC', 'GRL', 'GUM', 'GTM', 'GGY', 'HTI', 'HMD', 'HND', 'HKG', 'HUN', 'ISL', 'IND', 'IDN', 'IRN', 'IRQ', 'IRL', 'IMN', 'ISR', 'ITA', 'CIV', 'JAM', 'JPN', 'JEY', 'JOR', 'KAZ', 'KEN', 'XKX', 'KGZ', 'LAO', 'LVA', 'LBN', 'LSO', 'LIE', 'LTU', 'LUX', 'MAC', 'MKD', 'MYS', 'MLT', 'FLK', 'MHL', 'MRT', 'MUS', 'MEX', 'FSM', 'MDA', 'MCO', 'MNG', 'MNE', 'MSR', 'MAR', 'MOZ', 'NAM', 'NPL', 'NLD', 'NCL', 'NZL', 'NIC', 'NGA', 'NFK', 'PRK', 'MNP', 'NOR', 'OMN', 'PAK', 'PSE', 'PAN', 'PNG', 'PRY', 'PER', 'PHL', 'POL', 'PRT', 'PRI', 'ROU', 'RUS', 'RWA', 'SHN', 'LCA', 'VCT', 'SMR', 'SAU', 'SRB', 'SGP', 'SXM', 'SVK', 'SVK', 'SVN', 'SLB', 'ZAF', 'SGS', 'KOR', 'ESP', 'LKA', 'SDN', 'SJM', 'SWE', 'CHE', 'SYR', 'TWN', 'TJK', 'TZA', 'THA', 'TGO', 'TKL', 'TTO', 'TUN', 'TUR', 'TKM', 'TUV', 'UGA', 'UKR', 'ARE', 'GBR', 'USA', 'URY', 'UZB', 'VUT', 'VAT', 'VEN', 'VNM', 'YEM', 'ZMB', 'ZWE'], 'name': '', 'z': [0.0, 0.0, 0.0, 0.0, 0.0, 0.0, 0.0, 0.0, 0.0, 0.0, 0.0, 0.0, 5.9371825261376, 1.5063657272942863, 0.0, 0.0, 0.0, 0.0, 0.0, 4.61031158548851, 0.0, 0.0, 0.0, 0.0, 0.0, 0.0, 0.0, 0.0, 0.0, 0.0, 0.0, 0.0, 7.396430159960539, 0.0, 0.0, 0.0, 0.0, 0.0, 0.0, 3.249335032352909, 0.0, 0.0, 4.730939573277125, 6.860252944997134, 0.0, 0.0, 0.0, 0.0, 0.0, 0.0, 0.0, 0.0, 0.0, 0.0, 0.0, 0.0, 3.917164404928565, 0.0, 0.0, 5.669703161003338, 0.0, 0.0, 0.0, 0.0, 0.0, 0.0, 0.0, 0.0, 0.0, 0.0, 0.0, 0.0, 4.071315084755823, 1.352215047467028, 0.0, 0.0, 0.0, 0.0, 0.0, 0.0, 5.303458766048456, 0.0, 0.0, 2.045362228026973, 0.0, 0.0, 0.0, 0.0, 0.0, 0.0, 0.0, 0.0, 0.0, 0.0, 0.0, 0.0, 0.0, 0.0, 0.0, 0.0, 0.0, 0.0, 0.0, 0.0, 0.0, 0.0, 0.0, 2.450827336135138, 0.0, 0.0, 0.0, 0.0, 0.0, 0.0, 0.0, 0.0, 4.976555980443393, 0.0, 0.0, 0.0, 0.0, 0.0, 0.0, 0.0, 2.045362228026973, 0.0, 1.352215047467028, 0.0, 0.0, 0.0, 0.0, 0.0, 0.0, 4.071315084755823, 0.0, 0.0, 0.0, 0.0, 0.0, 0.0, 0.0, 0.0, 0.0, 0.0, 0.0, 0.0, 0.0, 0.0, 0.0, 1.352215047467028, 0.0, 0.0, 0.0, 0.0, 1.352215047467028, 0.0, 0.0, 0.0, 6.621789945149411, 5.97391453540633, 0.0, 0.0, 0.0, 0.0, 0.0, 0.0, 0.0, 0.0, 0.0, 0.0, 0.0, 0.0, 0.0, 0.0, 0.0, 6.358395991213904, 8.096666775490972, 0.0, 0.0, 0.0, 0.0, 0.0, 0.0, 0.0, 0.0, 0.0], 'type': 'choropleth'}], 'layout': {'template': {'data': {'histogram2dcontour': [{'type': 'histogram2dcontour', 'colorbar': {'outlinewidth': 0, 'ticks': ''}, 'colorscale': [[0.0, '#0d0887'], [0.1111111111111111, '#46039f'], [0.2222222222222222, '#7201a8'], [0.3333333333333333, '#9c179e'], [0.4444444444444444, '#bd3786'], [0.5555555555555556, '#d8576b'], [0.6666666666666666, '#ed7953'], [0.7777777777777778, '#fb9f3a'], [0.8888888888888888, '#fdca26'], [1.0, '#f0f921']]}], 'choropleth': [{'type': 'choropleth', 'colorbar': {'outlinewidth': 0, 'ticks': ''}}], 'histogram2d': [{'type': 'histogram2d', 'colorbar': {'outlinewidth': 0, 'ticks': ''}, 'colorscale': [[0.0, '#0d0887'], [0.1111111111111111, '#46039f'], [0.2222222222222222, '#7201a8'], [0.3333333333333333, '#9c179e'], [0.4444444444444444, '#bd3786'], [0.5555555555555556, '#d8576b'], [0.6666666666666666, '#ed7953'], [0.7777777777777778, '#fb9f3a'], [0.8888888888888888, '#fdca26'], [1.0, '#f0f921']]}], 'heatmap': [{'type': 'heatmap', 'colorbar': {'outlinewidth': 0, 'ticks': ''}, 'colorscale': [[0.0, '#0d0887'], [0.1111111111111111, '#46039f'], [0.2222222222222222, '#7201a8'], [0.3333333333333333, '#9c179e'], [0.4444444444444444, '#bd3786'], [0.5555555555555556, '#d8576b'], [0.6666666666666666, '#ed7953'], [0.7777777777777778, '#fb9f3a'], [0.8888888888888888, '#fdca26'], [1.0, '#f0f921']]}], 'heatmapgl': [{'type': 'heatmapgl', 'colorbar': {'outlinewidth': 0, 'ticks': ''}, 'colorscale': [[0.0, '#0d0887'], [0.1111111111111111, '#46039f'], [0.2222222222222222, '#7201a8'], [0.3333333333333333, '#9c179e'], [0.4444444444444444, '#bd3786'], [0.5555555555555556, '#d8576b'], [0.6666666666666666, '#ed7953'], [0.7777777777777778, '#fb9f3a'], [0.8888888888888888, '#fdca26'], [1.0, '#f0f921']]}], 'contourcarpet': [{'type': 'contourcarpet', 'colorbar': {'outlinewidth': 0, 'ticks': ''}}], 'contour': [{'type': 'contour', 'colorbar': {'outlinewidth': 0, 'ticks': ''}, 'colorscale': [[0.0, '#0d0887'], [0.1111111111111111, '#46039f'], [0.2222222222222222, '#7201a8'], [0.3333333333333333, '#9c179e'], [0.4444444444444444, '#bd3786'], [0.5555555555555556, '#d8576b'], [0.6666666666666666, '#ed7953'], [0.7777777777777778, '#fb9f3a'], [0.8888888888888888, '#fdca26'], [1.0, '#f0f921']]}], 'surface': [{'type': 'surface', 'colorbar': {'outlinewidth': 0, 'ticks': ''}, 'colorscale': [[0.0, '#0d0887'], [0.1111111111111111, '#46039f'], [0.2222222222222222, '#7201a8'], [0.3333333333333333, '#9c179e'], [0.4444444444444444, '#bd3786'], [0.5555555555555556, '#d8576b'], [0.6666666666666666, '#ed7953'], [0.7777777777777778, '#fb9f3a'], [0.8888888888888888, '#fdca26'], [1.0, '#f0f921']]}], 'mesh3d': [{'type': 'mesh3d', 'colorbar': {'outlinewidth': 0, 'ticks': ''}}], 'scatter': [{'fillpattern': {'fillmode': 'overlay', 'size': 10, 'solidity': 0.2}, 'type': 'scatter'}], 'parcoords': [{'type': 'parcoords', 'line': {'colorbar': {'outlinewidth': 0, 'ticks': ''}}}], 'scatterpolargl': [{'type': 'scatterpolargl', 'marker': {'colorbar': {'outlinewidth': 0, 'ticks': ''}}}], 'bar': [{'error_x': {'color': '#2a3f5f'}, 'error_y': {'color': '#2a3f5f'}, 'marker': {'line': {'color': '#E5ECF6', 'width': 0.5}, 'pattern': {'fillmode': 'overlay', 'size': 10, 'solidity': 0.2}}, 'type': 'bar'}], 'scattergeo': [{'type': 'scattergeo', 'marker': {'colorbar': {'outlinewidth': 0, 'ticks': ''}}}], 'scatterpolar': [{'type': 'scatterpolar', 'marker': {'colorbar': {'outlinewidth': 0, 'ticks': ''}}}], 'histogram': [{'marker': {'pattern': {'fillmode': 'overlay', 'size': 10, 'solidity': 0.2}}, 'type': 'histogram'}], 'scattergl': [{'type': 'scattergl', 'marker': {'colorbar': {'outlinewidth': 0, 'ticks': ''}}}], 'scatter3d': [{'type': 'scatter3d', 'line': {'colorbar': {'outlinewidth': 0, 'ticks': ''}}, 'marker': {'colorbar': {'outlinewidth': 0, 'ticks': ''}}}], 'scattermapbox': [{'type': 'scattermapbox', 'marker': {'colorbar': {'outlinewidth': 0, 'ticks': ''}}}], 'scatterternary': [{'type': 'scatterternary', 'marker': {'colorbar': {'outlinewidth': 0, 'ticks': ''}}}], 'scattercarpet': [{'type': 'scattercarpet', 'marker': {'colorbar': {'outlinewidth': 0, 'ticks': ''}}}], 'carpet': [{'aaxis': {'endlinecolor': '#2a3f5f', 'gridcolor': 'white', 'linecolor': 'white', 'minorgridcolor': 'white', 'startlinecolor': '#2a3f5f'}, 'baxis': {'endlinecolor': '#2a3f5f', 'gridcolor': 'white', 'linecolor': 'white', 'minorgridcolor': 'white', 'startlinecolor': '#2a3f5f'}, 'type': 'carpet'}], 'table': [{'cells': {'fill': {'color': '#EBF0F8'}, 'line': {'color': 'white'}}, 'header': {'fill': {'color': '#C8D4E3'}, 'line': {'color': 'white'}}, 'type': 'table'}], 'barpolar': [{'marker': {'line': {'color': '#E5ECF6', 'width': 0.5}, 'pattern': {'fillmode': 'overlay', 'size': 10, 'solidity': 0.2}}, 'type': 'barpolar'}], 'pie': [{'automargin': True, 'type': 'pie'}]}, 'layout': {'autotypenumbers': 'strict', 'colorway': ['#636efa', '#EF553B', '#00cc96', '#ab63fa', '#FFA15A', '#19d3f3', '#FF6692', '#B6E880', '#FF97FF', '#FECB52'], 'font': {'color': '#2a3f5f'}, 'hovermode': 'closest', 'hoverlabel': {'align': 'left'}, 'paper_bgcolor': 'white', 'plot_bgcolor': '#E5ECF6', 'polar': {'bgcolor': '#E5ECF6', 'angularaxis': {'gridcolor': 'white', 'linecolor': 'white', 'ticks': ''}, 'radialaxis': {'gridcolor': 'white', 'linecolor': 'white', 'ticks': ''}}, 'ternary': {'bgcolor': '#E5ECF6', 'aaxis': {'gridcolor': 'white', 'linecolor': 'white', 'ticks': ''}, 'baxis': {'gridcolor': 'white', 'linecolor': 'white', 'ticks': ''}, 'caxis': {'gridcolor': 'white', 'linecolor': 'white', 'ticks': ''}}, 'coloraxis': {'colorbar': {'outlinewidth': 0, 'ticks': ''}}, 'colorscale': {'sequential': [[0.0, '#0d0887'], [0.1111111111111111, '#46039f'], [0.2222222222222222, '#7201a8'], [0.3333333333333333, '#9c179e'], [0.4444444444444444, '#bd3786'], [0.5555555555555556, '#d8576b'], [0.6666666666666666, '#ed7953'], [0.7777777777777778, '#fb9f3a'], [0.8888888888888888, '#fdca26'], [1.0, '#f0f921']], 'sequentialminus': [[0.0, '#0d0887'], [0.1111111111111111, '#46039f'], [0.2222222222222222, '#7201a8'], [0.3333333333333333, '#9c179e'], [0.4444444444444444, '#bd3786'], [0.5555555555555556, '#d8576b'], [0.6666666666666666, '#ed7953'], [0.7777777777777778, '#fb9f3a'], [0.8888888888888888, '#fdca26'], [1.0, '#f0f921']], 'diverging': [[0, '#8e0152'], [0.1, '#c51b7d'], [0.2, '#de77ae'], [0.3, '#f1b6da'], [0.4, '#fde0ef'], [0.5, '#f7f7f7'], [0.6, '#e6f5d0'], [0.7, '#b8e186'], [0.8, '#7fbc41'], [0.9, '#4d9221'], [1, '#276419']]}, 'xaxis': {'gridcolor': 'white', 'linecolor': 'white', 'ticks': '', 'title': {'standoff': 15}, 'zerolinecolor': 'white', 'automargin': True, 'zerolinewidth': 2}, 'yaxis': {'gridcolor': 'white', 'linecolor': 'white', 'ticks': '', 'title': {'standoff': 15}, 'zerolinecolor': 'white', 'automargin': True, 'zerolinewidth': 2}, 'scene': {'xaxis': {'backgroundcolor': '#E5ECF6', 'gridcolor': 'white', 'linecolor': 'white', 'showbackground': True, 'ticks': '', 'zerolinecolor': 'white', 'gridwidth': 2}, 'yaxis': {'backgroundcolor': '#E5ECF6', 'gridcolor': 'white', 'linecolor': 'white', 'showbackground': True, 'ticks': '', 'zerolinecolor': 'white', 'gridwidth': 2}, 'zaxis': {'backgroundcolor': '#E5ECF6', 'gridcolor': 'white', 'linecolor': 'white', 'showbackground': True, 'ticks': '', 'zerolinecolor': 'white', 'gridwidth': 2}}, 'shapedefaults': {'line': {'color': '#2a3f5f'}}, 'annotationdefaults': {'arrowcolor': '#2a3f5f', 'arrowhead': 0, 'arrowwidth': 1}, 'geo': {'bgcolor': 'white', 'landcolor': '#E5ECF6', 'subunitcolor': 'white', 'showland': True, 'showlakes': True, 'lakecolor': 'white'}, 'title': {'x': 0.05}, 'mapbox': {'style': 'light'}}}, 'geo': {'domain': {'x': [0.0, 1.0], 'y': [0.0, 1.0]}, 'center': {}}, 'coloraxis': {'colorbar': {'title': {'text': 'score'}}, 'colorscale': [[0.0, 'rgb(255,245,235)'], [0.125, 'rgb(254,230,206)'], [0.25, 'rgb(253,208,162)'], [0.375, 'rgb(253,174,107)'], [0.5, 'rgb(253,141,60)'], [0.625, 'rgb(241,105,19)'], [0.75, 'rgb(217,72,1)'], [0.875, 'rgb(166,54,3)'], [1.0, 'rgb(127,39,4)']], 'cmin': 0, 'cmax': 8.404459053551495}, 'legend': {'tracegroupgap': 0}, 'title': {'text': 'Brewery in France products beer of type Ale'}, 'height': 700, 'width': 900, 'sliders': [{'active': 0, 'currentvalue': {'prefix': 'period='}, 'len': 0.9, 'pad': {'b': 10, 't': 60}, 'steps': [{'args': [['2003'], {'frame': {'duration': 0, 'redraw': True}, 'mode': 'immediate', 'fromcurrent': True, 'transition': {'duration': 0, 'easing': 'linear'}}], 'label': '2003', 'method': 'animate'}, {'args': [['2004'], {'frame': {'duration': 0, 'redraw': True}, 'mode': 'immediate', 'fromcurrent': True, 'transition': {'duration': 0, 'easing': 'linear'}}], 'label': '2004', 'method': 'animate'}, {'args': [['2005'], {'frame': {'duration': 0, 'redraw': True}, 'mode': 'immediate', 'fromcurrent': True, 'transition': {'duration': 0, 'easing': 'linear'}}], 'label': '2005', 'method': 'animate'}, {'args': [['2006'], {'frame': {'duration': 0, 'redraw': True}, 'mode': 'immediate', 'fromcurrent': True, 'transition': {'duration': 0, 'easing': 'linear'}}], 'label': '2006', 'method': 'animate'}, {'args': [['2007'], {'frame': {'duration': 0, 'redraw': True}, 'mode': 'immediate', 'fromcurrent': True, 'transition': {'duration': 0, 'easing': 'linear'}}], 'label': '2007', 'method': 'animate'}, {'args': [['2008'], {'frame': {'duration': 0, 'redraw': True}, 'mode': 'immediate', 'fromcurrent': True, 'transition': {'duration': 0, 'easing': 'linear'}}], 'label': '2008', 'method': 'animate'}, {'args': [['2009'], {'frame': {'duration': 0, 'redraw': True}, 'mode': 'immediate', 'fromcurrent': True, 'transition': {'duration': 0, 'easing': 'linear'}}], 'label': '2009', 'method': 'animate'}, {'args': [['2010'], {'frame': {'duration': 0, 'redraw': True}, 'mode': 'immediate', 'fromcurrent': True, 'transition': {'duration': 0, 'easing': 'linear'}}], 'label': '2010', 'method': 'animate'}, {'args': [['2011'], {'frame': {'duration': 0, 'redraw': True}, 'mode': 'immediate', 'fromcurrent': True, 'transition': {'duration': 0, 'easing': 'linear'}}], 'label': '2011', 'method': 'animate'}, {'args': [['2012'], {'frame': {'duration': 0, 'redraw': True}, 'mode': 'immediate', 'fromcurrent': True, 'transition': {'duration': 0, 'easing': 'linear'}}], 'label': '2012', 'method': 'animate'}, {'args': [['2013'], {'frame': {'duration': 0, 'redraw': True}, 'mode': 'immediate', 'fromcurrent': True, 'transition': {'duration': 0, 'easing': 'linear'}}], 'label': '2013', 'method': 'animate'}, {'args': [['2014'], {'frame': {'duration': 0, 'redraw': True}, 'mode': 'immediate', 'fromcurrent': True, 'transition': {'duration': 0, 'easing': 'linear'}}], 'label': '2014', 'method': 'animate'}, {'args': [['2015'], {'frame': {'duration': 0, 'redraw': True}, 'mode': 'immediate', 'fromcurrent': True, 'transition': {'duration': 0, 'easing': 'linear'}}], 'label': '2015', 'method': 'animate'}, {'args': [['2016'], {'frame': {'duration': 0, 'redraw': True}, 'mode': 'immediate', 'fromcurrent': True, 'transition': {'duration': 0, 'easing': 'linear'}}], 'label': '2016', 'method': 'animate'}, {'args': [['2017'], {'frame': {'duration': 0, 'redraw': True}, 'mode': 'immediate', 'fromcurrent': True, 'transition': {'duration': 0, 'easing': 'linear'}}], 'label': '2017', 'method': 'animate'}], 'x': 0.1, 'xanchor': 'left', 'y': 0, 'yanchor': 'top'}], 'margin': {'r': 0, 't': 0, 'l': 0, 'b': 0}}, 'frames': [{'data': [{'coloraxis': 'coloraxis', 'geo': 'geo', 'hovertemplate': '<b>%{hovertext}</b><br><br>period=2003<br>iso_code=%{location}<br>score=%{z}<extra></extra>', 'hovertext': ['Afghanistan', 'Albania', 'Algeria', 'American Samoa', 'Andorra', 'Angola', 'Anguilla', 'Antarctica', 'Antigua and Barbuda', 'Argentina', 'Armenia', 'Aruba', 'Australia', 'Austria', 'Azerbaijan', 'Bahamas', 'Bangladesh', 'Barbados', 'Belarus', 'Belgium', 'Belize', 'Bermuda', 'Bhutan', 'Bolivia', 'Bosnia and Herzegovina', 'Botswana', 'Bouvet Island', 'Brazil', 'Bulgaria', 'Burkina Faso', 'Burundi', 'Cambodia', 'Canada', 'Cayman Islands', 'Chile', 'China', 'Colombia', 'Congo', 'Costa Rica', 'Croatia', 'Cuba', 'Cyprus', 'Czech Republic', 'Denmark', 'Dominican Republic', 'East Timor', 'Ecuador', 'Egypt', 'El Salvador', 'Equatorial Guinea', 'Estonia', 'Ethiopia', 'Falkland Islands', 'Faroe Islands', 'Fiji Islands', 'Finland', 'France', 'French Guiana', 'Georgia', 'Germany', 'Ghana', 'Gibraltar', 'Greece', 'Greenland', 'Guam', 'Guatemala', 'Guernsey', 'Haiti', 'Heard and McDonald Islands', 'Honduras', 'Hong Kong', 'Hungary', 'Iceland', 'India', 'Indonesia', 'Iran', 'Iraq', 'Ireland', 'Isle of Man', 'Israel', 'Italy', 'Ivory Coast', 'Jamaica', 'Japan', 'Jersey', 'Jordan', 'Kazakhstan', 'Kenya', 'Kosovo', 'Kyrgyzstan', 'Laos', 'Latvia', 'Lebanon', 'Lesotho', 'Liechtenstein', 'Lithuania', 'Luxembourg', 'Macau', 'Macedonia', 'Malaysia', 'Malta', 'Malvinas', 'Marshall Islands', 'Mauritania', 'Mauritius', 'Mexico', 'Micronesia', 'Moldova', 'Monaco', 'Mongolia', 'Montenegro', 'Montserrat', 'Morocco', 'Mozambique', 'Namibia', 'Nepal', 'Netherlands', 'New Caledonia', 'New Zealand', 'Nicaragua', 'Nigeria', 'Norfolk Island', 'North Korea', 'Northern Mariana Islands', 'Norway', 'Oman', 'Pakistan', 'Palestine', 'Panama', 'Papua New Guinea', 'Paraguay', 'Peru', 'Philippines', 'Poland', 'Portugal', 'Puerto Rico', 'Romania', 'Russia', 'Rwanda', 'Saint Helena', 'Saint Lucia', 'Saint Vincent and The Grenadines', 'San Marino', 'Saudi Arabia', 'Serbia', 'Singapore', 'Sint Maarten', 'Slovak Republic', 'Slovakia', 'Slovenia', 'Solomon Islands', 'South Africa', 'South Georgia and South Sandwich Islands', 'South Korea', 'Spain', 'Sri Lanka', 'Sudan', 'Svalbard and Jan Mayen Islands', 'Sweden', 'Switzerland', 'Syria', 'Taiwan', 'Tajikistan', 'Tanzania', 'Thailand', 'Togo', 'Tokelau', 'Trinidad and Tobago', 'Tunisia', 'Turkey', 'Turkmenistan', 'Tuvalu', 'Uganda', 'Ukraine', 'United Arab Emirates', 'United Kingdom', 'United States', 'Uruguay', 'Uzbekistan', 'Vanuatu', 'Vatican City', 'Venezuela', 'Vietnam', 'Yemen', 'Zambia', 'Zimbabwe'], 'locations': ['AFG', 'ALB', 'DZA', 'ASM', 'AND', 'AGO', 'AIA', 'ATA', 'ATG', 'ARG', 'ARM', 'ABW', 'AUS', 'AUT', 'AZE', 'BHS', 'BGD', 'BRB', 'BLR', 'BEL', 'BLZ', 'BMU', 'BTN', 'BOL', 'BIH', 'BWA', 'BVT', 'BRA', 'BGR', 'BFA', 'BDI', 'KHM', 'CAN', 'CYM', 'CHL', 'CHN', 'COL', 'COG', 'CRI', 'HRV', 'CUB', 'CYP', 'CZE', 'DNK', 'DOM', 'TLS', 'ECU', 'EGY', 'SLV', 'GNQ', 'EST', 'ETH', 'FLK', 'FRO', 'FJI', 'FIN', 'FRA', 'GUF', 'GEO', 'DEU', 'GHA', 'GIB', 'GRC', 'GRL', 'GUM', 'GTM', 'GGY', 'HTI', 'HMD', 'HND', 'HKG', 'HUN', 'ISL', 'IND', 'IDN', 'IRN', 'IRQ', 'IRL', 'IMN', 'ISR', 'ITA', 'CIV', 'JAM', 'JPN', 'JEY', 'JOR', 'KAZ', 'KEN', 'XKX', 'KGZ', 'LAO', 'LVA', 'LBN', 'LSO', 'LIE', 'LTU', 'LUX', 'MAC', 'MKD', 'MYS', 'MLT', 'FLK', 'MHL', 'MRT', 'MUS', 'MEX', 'FSM', 'MDA', 'MCO', 'MNG', 'MNE', 'MSR', 'MAR', 'MOZ', 'NAM', 'NPL', 'NLD', 'NCL', 'NZL', 'NIC', 'NGA', 'NFK', 'PRK', 'MNP', 'NOR', 'OMN', 'PAK', 'PSE', 'PAN', 'PNG', 'PRY', 'PER', 'PHL', 'POL', 'PRT', 'PRI', 'ROU', 'RUS', 'RWA', 'SHN', 'LCA', 'VCT', 'SMR', 'SAU', 'SRB', 'SGP', 'SXM', 'SVK', 'SVK', 'SVN', 'SLB', 'ZAF', 'SGS', 'KOR', 'ESP', 'LKA', 'SDN', 'SJM', 'SWE', 'CHE', 'SYR', 'TWN', 'TJK', 'TZA', 'THA', 'TGO', 'TKL', 'TTO', 'TUN', 'TUR', 'TKM', 'TUV', 'UGA', 'UKR', 'ARE', 'GBR', 'USA', 'URY', 'UZB', 'VUT', 'VAT', 'VEN', 'VNM', 'YEM', 'ZMB', 'ZWE'], 'name': '', 'z': [0.0, 0.0, 0.0, 0.0, 0.0, 0.0, 0.0, 0.0, 0.0, 0.0, 0.0, 0.0, 5.9371825261376, 1.5063657272942863, 0.0, 0.0, 0.0, 0.0, 0.0, 4.61031158548851, 0.0, 0.0, 0.0, 0.0, 0.0, 0.0, 0.0, 0.0, 0.0, 0.0, 0.0, 0.0, 7.396430159960539, 0.0, 0.0, 0.0, 0.0, 0.0, 0.0, 3.249335032352909, 0.0, 0.0, 4.730939573277125, 6.860252944997134, 0.0, 0.0, 0.0, 0.0, 0.0, 0.0, 0.0, 0.0, 0.0, 0.0, 0.0, 0.0, 3.917164404928565, 0.0, 0.0, 5.669703161003338, 0.0, 0.0, 0.0, 0.0, 0.0, 0.0, 0.0, 0.0, 0.0, 0.0, 0.0, 0.0, 4.071315084755823, 1.352215047467028, 0.0, 0.0, 0.0, 0.0, 0.0, 0.0, 5.303458766048456, 0.0, 0.0, 2.045362228026973, 0.0, 0.0, 0.0, 0.0, 0.0, 0.0, 0.0, 0.0, 0.0, 0.0, 0.0, 0.0, 0.0, 0.0, 0.0, 0.0, 0.0, 0.0, 0.0, 0.0, 0.0, 0.0, 0.0, 2.450827336135138, 0.0, 0.0, 0.0, 0.0, 0.0, 0.0, 0.0, 0.0, 4.976555980443393, 0.0, 0.0, 0.0, 0.0, 0.0, 0.0, 0.0, 2.045362228026973, 0.0, 1.352215047467028, 0.0, 0.0, 0.0, 0.0, 0.0, 0.0, 4.071315084755823, 0.0, 0.0, 0.0, 0.0, 0.0, 0.0, 0.0, 0.0, 0.0, 0.0, 0.0, 0.0, 0.0, 0.0, 0.0, 1.352215047467028, 0.0, 0.0, 0.0, 0.0, 1.352215047467028, 0.0, 0.0, 0.0, 6.621789945149411, 5.97391453540633, 0.0, 0.0, 0.0, 0.0, 0.0, 0.0, 0.0, 0.0, 0.0, 0.0, 0.0, 0.0, 0.0, 0.0, 0.0, 6.358395991213904, 8.096666775490972, 0.0, 0.0, 0.0, 0.0, 0.0, 0.0, 0.0, 0.0, 0.0], 'type': 'choropleth'}], 'name': '2003'}, {'data': [{'coloraxis': 'coloraxis', 'geo': 'geo', 'hovertemplate': '<b>%{hovertext}</b><br><br>period=2004<br>iso_code=%{location}<br>score=%{z}<extra></extra>', 'hovertext': ['Afghanistan', 'Albania', 'Algeria', 'American Samoa', 'Andorra', 'Angola', 'Anguilla', 'Antarctica', 'Antigua and Barbuda', 'Argentina', 'Armenia', 'Aruba', 'Australia', 'Austria', 'Azerbaijan', 'Bahamas', 'Bangladesh', 'Barbados', 'Belarus', 'Belgium', 'Belize', 'Bermuda', 'Bhutan', 'Bolivia', 'Bosnia and Herzegovina', 'Botswana', 'Bouvet Island', 'Brazil', 'Bulgaria', 'Burkina Faso', 'Burundi', 'Cambodia', 'Canada', 'Cayman Islands', 'Chile', 'China', 'Colombia', 'Congo', 'Costa Rica', 'Croatia', 'Cuba', 'Cyprus', 'Czech Republic', 'Denmark', 'Dominican Republic', 'East Timor', 'Ecuador', 'Egypt', 'El Salvador', 'Equatorial Guinea', 'Estonia', 'Ethiopia', 'Falkland Islands', 'Faroe Islands', 'Fiji Islands', 'Finland', 'France', 'French Guiana', 'Georgia', 'Germany', 'Ghana', 'Gibraltar', 'Greece', 'Greenland', 'Guam', 'Guatemala', 'Guernsey', 'Haiti', 'Heard and McDonald Islands', 'Honduras', 'Hong Kong', 'Hungary', 'Iceland', 'India', 'Indonesia', 'Iran', 'Iraq', 'Ireland', 'Isle of Man', 'Israel', 'Italy', 'Ivory Coast', 'Jamaica', 'Japan', 'Jersey', 'Jordan', 'Kazakhstan', 'Kenya', 'Kosovo', 'Kyrgyzstan', 'Laos', 'Latvia', 'Lebanon', 'Lesotho', 'Liechtenstein', 'Lithuania', 'Luxembourg', 'Macau', 'Macedonia', 'Malaysia', 'Malta', 'Malvinas', 'Marshall Islands', 'Mauritania', 'Mauritius', 'Mexico', 'Micronesia', 'Moldova', 'Monaco', 'Mongolia', 'Montenegro', 'Montserrat', 'Morocco', 'Mozambique', 'Namibia', 'Nepal', 'Netherlands', 'New Caledonia', 'New Zealand', 'Nicaragua', 'Nigeria', 'Norfolk Island', 'North Korea', 'Northern Mariana Islands', 'Norway', 'Oman', 'Pakistan', 'Palestine', 'Panama', 'Papua New Guinea', 'Paraguay', 'Peru', 'Philippines', 'Poland', 'Portugal', 'Puerto Rico', 'Romania', 'Russia', 'Rwanda', 'Saint Helena', 'Saint Lucia', 'Saint Vincent and The Grenadines', 'San Marino', 'Saudi Arabia', 'Serbia', 'Singapore', 'Sint Maarten', 'Slovak Republic', 'Slovakia', 'Slovenia', 'Solomon Islands', 'South Africa', 'South Georgia and South Sandwich Islands', 'South Korea', 'Spain', 'Sri Lanka', 'Sudan', 'Svalbard and Jan Mayen Islands', 'Sweden', 'Switzerland', 'Syria', 'Taiwan', 'Tajikistan', 'Tanzania', 'Thailand', 'Togo', 'Tokelau', 'Trinidad and Tobago', 'Tunisia', 'Turkey', 'Turkmenistan', 'Tuvalu', 'Uganda', 'Ukraine', 'United Arab Emirates', 'United Kingdom', 'United States', 'Uruguay', 'Uzbekistan', 'Vanuatu', 'Vatican City', 'Venezuela', 'Vietnam', 'Yemen', 'Zambia', 'Zimbabwe'], 'locations': ['AFG', 'ALB', 'DZA', 'ASM', 'AND', 'AGO', 'AIA', 'ATA', 'ATG', 'ARG', 'ARM', 'ABW', 'AUS', 'AUT', 'AZE', 'BHS', 'BGD', 'BRB', 'BLR', 'BEL', 'BLZ', 'BMU', 'BTN', 'BOL', 'BIH', 'BWA', 'BVT', 'BRA', 'BGR', 'BFA', 'BDI', 'KHM', 'CAN', 'CYM', 'CHL', 'CHN', 'COL', 'COG', 'CRI', 'HRV', 'CUB', 'CYP', 'CZE', 'DNK', 'DOM', 'TLS', 'ECU', 'EGY', 'SLV', 'GNQ', 'EST', 'ETH', 'FLK', 'FRO', 'FJI', 'FIN', 'FRA', 'GUF', 'GEO', 'DEU', 'GHA', 'GIB', 'GRC', 'GRL', 'GUM', 'GTM', 'GGY', 'HTI', 'HMD', 'HND', 'HKG', 'HUN', 'ISL', 'IND', 'IDN', 'IRN', 'IRQ', 'IRL', 'IMN', 'ISR', 'ITA', 'CIV', 'JAM', 'JPN', 'JEY', 'JOR', 'KAZ', 'KEN', 'XKX', 'KGZ', 'LAO', 'LVA', 'LBN', 'LSO', 'LIE', 'LTU', 'LUX', 'MAC', 'MKD', 'MYS', 'MLT', 'FLK', 'MHL', 'MRT', 'MUS', 'MEX', 'FSM', 'MDA', 'MCO', 'MNG', 'MNE', 'MSR', 'MAR', 'MOZ', 'NAM', 'NPL', 'NLD', 'NCL', 'NZL', 'NIC', 'NGA', 'NFK', 'PRK', 'MNP', 'NOR', 'OMN', 'PAK', 'PSE', 'PAN', 'PNG', 'PRY', 'PER', 'PHL', 'POL', 'PRT', 'PRI', 'ROU', 'RUS', 'RWA', 'SHN', 'LCA', 'VCT', 'SMR', 'SAU', 'SRB', 'SGP', 'SXM', 'SVK', 'SVK', 'SVN', 'SLB', 'ZAF', 'SGS', 'KOR', 'ESP', 'LKA', 'SDN', 'SJM', 'SWE', 'CHE', 'SYR', 'TWN', 'TJK', 'TZA', 'THA', 'TGO', 'TKL', 'TTO', 'TUN', 'TUR', 'TKM', 'TUV', 'UGA', 'UKR', 'ARE', 'GBR', 'USA', 'URY', 'UZB', 'VUT', 'VAT', 'VEN', 'VNM', 'YEM', 'ZMB', 'ZWE'], 'name': '', 'z': [0.0, 0.0, 0.0, 0.0, 0.0, 2.483574204554222, 0.0, 0.0, 0.0, 0.0, 0.0, 0.0, 5.242176684819263, 0.0, 0.0, 0.0, 0.0, 0.0, 0.0, 4.717166426061316, 0.0, 0.0, 0.0, 1.4903224315439383, 0.0, 0.0, 0.0, 0.0, 0.0, 0.0, 0.0, 0.0, 7.217170179131136, 0.0, 0.0, 0.0, 0.0, 0.0, 0.0, 4.871317105888574, 0.0, 0.0, 3.13898105713132, 6.820138465151346, 0.0, 0.0, 0.0, 0.0, 0.0, 0.0, 0.0, 0.0, 0.0, 0.0, 0.0, 4.4347614107103785, 2.925406956833261, 0.0, 0.0, 4.968480854342222, 0.0, 0.0, 0.0, 0.0, 0.0, 0.0, 0.0, 0.0, 0.0, 0.0, 0.0, 0.0, 2.4458338765713745, 0.0, 0.0, 0.0, 0.0, 0.0, 0.0, 0.0, 5.1589991783403555, 0.0, 0.0, 4.093012116988322, 0.0, 0.0, 0.0, 0.0, 0.0, 0.0, 0.0, 0.0, 0.0, 0.0, 0.0, 0.0, 0.0, 0.0, 0.0, 0.0, 0.0, 0.0, 0.0, 0.0, 0.0, 0.0, 0.0, 1.1336474876052058, 0.0, 0.0, 0.0, 0.0, 0.0, 0.0, 0.0, 0.0, 5.584666993766039, 0.0, 1.826794668165151, 0.0, 0.0, 0.0, 0.0, 0.0, 2.365791168897838, 0.0, 0.0, 0.0, 0.0, 0.0, 0.0, 0.0, 0.0, 2.876616792663829, 0.0, 0.0, 0.0, 0.9794968077779476, 0.0, 0.0, 0.0, 0.0, 0.0, 0.0, 0.0, 0.0, 0.0, 0.0, 0.0, 0.0, 0.0, 0.0, 0.0, 2.365791168897838, 3.792907524537984, 0.0, 0.0, 0.0, 5.451135601141516, 5.574616657912538, 0.0, 0.0, 0.0, 0.0, 0.0, 0.0, 0.0, 0.0, 0.0, 1.826794668165151, 0.0, 0.0, 0.0, 0.0, 0.0, 7.146314242363791, 8.397077210192492, 0.0, 0.0, 0.0, 0.0, 0.0, 0.0, 0.0, 0.0, 0.0], 'type': 'choropleth'}], 'name': '2004'}, {'data': [{'coloraxis': 'coloraxis', 'geo': 'geo', 'hovertemplate': '<b>%{hovertext}</b><br><br>period=2005<br>iso_code=%{location}<br>score=%{z}<extra></extra>', 'hovertext': ['Afghanistan', 'Albania', 'Algeria', 'American Samoa', 'Andorra', 'Angola', 'Anguilla', 'Antarctica', 'Antigua and Barbuda', 'Argentina', 'Armenia', 'Aruba', 'Australia', 'Austria', 'Azerbaijan', 'Bahamas', 'Bangladesh', 'Barbados', 'Belarus', 'Belgium', 'Belize', 'Bermuda', 'Bhutan', 'Bolivia', 'Bosnia and Herzegovina', 'Botswana', 'Bouvet Island', 'Brazil', 'Bulgaria', 'Burkina Faso', 'Burundi', 'Cambodia', 'Canada', 'Cayman Islands', 'Chile', 'China', 'Colombia', 'Congo', 'Costa Rica', 'Croatia', 'Cuba', 'Cyprus', 'Czech Republic', 'Denmark', 'Dominican Republic', 'East Timor', 'Ecuador', 'Egypt', 'El Salvador', 'Equatorial Guinea', 'Estonia', 'Ethiopia', 'Falkland Islands', 'Faroe Islands', 'Fiji Islands', 'Finland', 'France', 'French Guiana', 'Georgia', 'Germany', 'Ghana', 'Gibraltar', 'Greece', 'Greenland', 'Guam', 'Guatemala', 'Guernsey', 'Haiti', 'Heard and McDonald Islands', 'Honduras', 'Hong Kong', 'Hungary', 'Iceland', 'India', 'Indonesia', 'Iran', 'Iraq', 'Ireland', 'Isle of Man', 'Israel', 'Italy', 'Ivory Coast', 'Jamaica', 'Japan', 'Jersey', 'Jordan', 'Kazakhstan', 'Kenya', 'Kosovo', 'Kyrgyzstan', 'Laos', 'Latvia', 'Lebanon', 'Lesotho', 'Liechtenstein', 'Lithuania', 'Luxembourg', 'Macau', 'Macedonia', 'Malaysia', 'Malta', 'Malvinas', 'Marshall Islands', 'Mauritania', 'Mauritius', 'Mexico', 'Micronesia', 'Moldova', 'Monaco', 'Mongolia', 'Montenegro', 'Montserrat', 'Morocco', 'Mozambique', 'Namibia', 'Nepal', 'Netherlands', 'New Caledonia', 'New Zealand', 'Nicaragua', 'Nigeria', 'Norfolk Island', 'North Korea', 'Northern Mariana Islands', 'Norway', 'Oman', 'Pakistan', 'Palestine', 'Panama', 'Papua New Guinea', 'Paraguay', 'Peru', 'Philippines', 'Poland', 'Portugal', 'Puerto Rico', 'Romania', 'Russia', 'Rwanda', 'Saint Helena', 'Saint Lucia', 'Saint Vincent and The Grenadines', 'San Marino', 'Saudi Arabia', 'Serbia', 'Singapore', 'Sint Maarten', 'Slovak Republic', 'Slovakia', 'Slovenia', 'Solomon Islands', 'South Africa', 'South Georgia and South Sandwich Islands', 'South Korea', 'Spain', 'Sri Lanka', 'Sudan', 'Svalbard and Jan Mayen Islands', 'Sweden', 'Switzerland', 'Syria', 'Taiwan', 'Tajikistan', 'Tanzania', 'Thailand', 'Togo', 'Tokelau', 'Trinidad and Tobago', 'Tunisia', 'Turkey', 'Turkmenistan', 'Tuvalu', 'Uganda', 'Ukraine', 'United Arab Emirates', 'United Kingdom', 'United States', 'Uruguay', 'Uzbekistan', 'Vanuatu', 'Vatican City', 'Venezuela', 'Vietnam', 'Yemen', 'Zambia', 'Zimbabwe'], 'locations': ['AFG', 'ALB', 'DZA', 'ASM', 'AND', 'AGO', 'AIA', 'ATA', 'ATG', 'ARG', 'ARM', 'ABW', 'AUS', 'AUT', 'AZE', 'BHS', 'BGD', 'BRB', 'BLR', 'BEL', 'BLZ', 'BMU', 'BTN', 'BOL', 'BIH', 'BWA', 'BVT', 'BRA', 'BGR', 'BFA', 'BDI', 'KHM', 'CAN', 'CYM', 'CHL', 'CHN', 'COL', 'COG', 'CRI', 'HRV', 'CUB', 'CYP', 'CZE', 'DNK', 'DOM', 'TLS', 'ECU', 'EGY', 'SLV', 'GNQ', 'EST', 'ETH', 'FLK', 'FRO', 'FJI', 'FIN', 'FRA', 'GUF', 'GEO', 'DEU', 'GHA', 'GIB', 'GRC', 'GRL', 'GUM', 'GTM', 'GGY', 'HTI', 'HMD', 'HND', 'HKG', 'HUN', 'ISL', 'IND', 'IDN', 'IRN', 'IRQ', 'IRL', 'IMN', 'ISR', 'ITA', 'CIV', 'JAM', 'JPN', 'JEY', 'JOR', 'KAZ', 'KEN', 'XKX', 'KGZ', 'LAO', 'LVA', 'LBN', 'LSO', 'LIE', 'LTU', 'LUX', 'MAC', 'MKD', 'MYS', 'MLT', 'FLK', 'MHL', 'MRT', 'MUS', 'MEX', 'FSM', 'MDA', 'MCO', 'MNG', 'MNE', 'MSR', 'MAR', 'MOZ', 'NAM', 'NPL', 'NLD', 'NCL', 'NZL', 'NIC', 'NGA', 'NFK', 'PRK', 'MNP', 'NOR', 'OMN', 'PAK', 'PSE', 'PAN', 'PNG', 'PRY', 'PER', 'PHL', 'POL', 'PRT', 'PRI', 'ROU', 'RUS', 'RWA', 'SHN', 'LCA', 'VCT', 'SMR', 'SAU', 'SRB', 'SGP', 'SXM', 'SVK', 'SVK', 'SVN', 'SLB', 'ZAF', 'SGS', 'KOR', 'ESP', 'LKA', 'SDN', 'SJM', 'SWE', 'CHE', 'SYR', 'TWN', 'TJK', 'TZA', 'THA', 'TGO', 'TKL', 'TTO', 'TUN', 'TUR', 'TKM', 'TUV', 'UGA', 'UKR', 'ARE', 'GBR', 'USA', 'URY', 'UZB', 'VUT', 'VAT', 'VEN', 'VNM', 'YEM', 'ZMB', 'ZWE'], 'name': '', 'z': [0.0, 0.0, 0.0, 0.0, 1.1259834854642417, 0.0, 0.0, 0.0, 0.0, 1.0082004498078583, 0.0, 0.0, 5.402649604480297, 4.709502423920352, 0.0, 0.0, 0.0, 0.0, 0.0, 5.015533635040329, 0.0, 0.0, 0.0, 0.0, 0.0, 0.0, 0.0, 0.0, 0.0, 0.0, 0.0, 0.0, 7.071113184977856, 0.0, 0.0, 0.0, 0.0, 0.0, 0.0, 2.3299562897901778, 0.0, 0.0, 0.0, 7.670534615052723, 0.0, 0.0, 0.0, 0.0, 0.0, 0.0, 0.0, 0.0, 0.0, 0.0, 0.0, 4.697079903921795, 4.322386454480384, 0.0, 0.0, 4.8820022424158065, 0.0, 0.0, 0.0, 0.0, 0.0, 0.0, 0.0, 0.0, 0.0, 0.0, 0.0, 0.0, 0.0, 0.0, 0.0, 0.0, 0.0, 3.177254150177381, 0.0, 0.0, 4.658858691101597, 0.0, 0.0, 2.6664285264113907, 0.0, 0.0, 0.0, 0.0, 0.0, 0.0, 0.0, 0.0, 0.0, 0.0, 0.0, 0.0, 2.3299562897901778, 0.0, 0.0, 0.0, 0.0, 0.0, 0.0, 0.0, 0.0, 0.0, 0.0, 0.0, 0.0, 0.0, 0.0, 0.0, 0.0, 0.0, 0.0, 0.0, 5.020068790205721, 0.0, 2.7129485420462833, 0.0, 0.0, 0.0, 0.0, 0.0, 4.438147244755999, 0.0, 0.0, 0.0, 0.0, 0.0, 0.0, 0.0, 0.0, 2.917742954692297, 2.9360920933604935, 0.0, 0.0, 0.0, 0.0, 0.0, 0.0, 0.0, 0.0, 0.0, 0.0, 0.0, 0.0, 0.0, 0.0, 0.0, 0.0, 1.231344001122068, 0.0, 1.4136655579160227, 3.310785542801904, 0.0, 0.0, 0.0, 5.757470979769707, 4.430017118672749, 0.0, 2.6176383622419586, 0.0, 0.0, 2.260963418303226, 0.0, 0.0, 0.0, 0.0, 0.0, 0.0, 0.0, 0.0, 0.0, 0.0, 7.122435574083263, 8.404459053551495, 0.0, 0.0, 0.0, 0.0, 0.0, 0.0, 0.0, 0.0, 0.0], 'type': 'choropleth'}], 'name': '2005'}, {'data': [{'coloraxis': 'coloraxis', 'geo': 'geo', 'hovertemplate': '<b>%{hovertext}</b><br><br>period=2006<br>iso_code=%{location}<br>score=%{z}<extra></extra>', 'hovertext': ['Afghanistan', 'Albania', 'Algeria', 'American Samoa', 'Andorra', 'Angola', 'Anguilla', 'Antarctica', 'Antigua and Barbuda', 'Argentina', 'Armenia', 'Aruba', 'Australia', 'Austria', 'Azerbaijan', 'Bahamas', 'Bangladesh', 'Barbados', 'Belarus', 'Belgium', 'Belize', 'Bermuda', 'Bhutan', 'Bolivia', 'Bosnia and Herzegovina', 'Botswana', 'Bouvet Island', 'Brazil', 'Bulgaria', 'Burkina Faso', 'Burundi', 'Cambodia', 'Canada', 'Cayman Islands', 'Chile', 'China', 'Colombia', 'Congo', 'Costa Rica', 'Croatia', 'Cuba', 'Cyprus', 'Czech Republic', 'Denmark', 'Dominican Republic', 'East Timor', 'Ecuador', 'Egypt', 'El Salvador', 'Equatorial Guinea', 'Estonia', 'Ethiopia', 'Falkland Islands', 'Faroe Islands', 'Fiji Islands', 'Finland', 'France', 'French Guiana', 'Georgia', 'Germany', 'Ghana', 'Gibraltar', 'Greece', 'Greenland', 'Guam', 'Guatemala', 'Guernsey', 'Haiti', 'Heard and McDonald Islands', 'Honduras', 'Hong Kong', 'Hungary', 'Iceland', 'India', 'Indonesia', 'Iran', 'Iraq', 'Ireland', 'Isle of Man', 'Israel', 'Italy', 'Ivory Coast', 'Jamaica', 'Japan', 'Jersey', 'Jordan', 'Kazakhstan', 'Kenya', 'Kosovo', 'Kyrgyzstan', 'Laos', 'Latvia', 'Lebanon', 'Lesotho', 'Liechtenstein', 'Lithuania', 'Luxembourg', 'Macau', 'Macedonia', 'Malaysia', 'Malta', 'Malvinas', 'Marshall Islands', 'Mauritania', 'Mauritius', 'Mexico', 'Micronesia', 'Moldova', 'Monaco', 'Mongolia', 'Montenegro', 'Montserrat', 'Morocco', 'Mozambique', 'Namibia', 'Nepal', 'Netherlands', 'New Caledonia', 'New Zealand', 'Nicaragua', 'Nigeria', 'Norfolk Island', 'North Korea', 'Northern Mariana Islands', 'Norway', 'Oman', 'Pakistan', 'Palestine', 'Panama', 'Papua New Guinea', 'Paraguay', 'Peru', 'Philippines', 'Poland', 'Portugal', 'Puerto Rico', 'Romania', 'Russia', 'Rwanda', 'Saint Helena', 'Saint Lucia', 'Saint Vincent and The Grenadines', 'San Marino', 'Saudi Arabia', 'Serbia', 'Singapore', 'Sint Maarten', 'Slovak Republic', 'Slovakia', 'Slovenia', 'Solomon Islands', 'South Africa', 'South Georgia and South Sandwich Islands', 'South Korea', 'Spain', 'Sri Lanka', 'Sudan', 'Svalbard and Jan Mayen Islands', 'Sweden', 'Switzerland', 'Syria', 'Taiwan', 'Tajikistan', 'Tanzania', 'Thailand', 'Togo', 'Tokelau', 'Trinidad and Tobago', 'Tunisia', 'Turkey', 'Turkmenistan', 'Tuvalu', 'Uganda', 'Ukraine', 'United Arab Emirates', 'United Kingdom', 'United States', 'Uruguay', 'Uzbekistan', 'Vanuatu', 'Vatican City', 'Venezuela', 'Vietnam', 'Yemen', 'Zambia', 'Zimbabwe'], 'locations': ['AFG', 'ALB', 'DZA', 'ASM', 'AND', 'AGO', 'AIA', 'ATA', 'ATG', 'ARG', 'ARM', 'ABW', 'AUS', 'AUT', 'AZE', 'BHS', 'BGD', 'BRB', 'BLR', 'BEL', 'BLZ', 'BMU', 'BTN', 'BOL', 'BIH', 'BWA', 'BVT', 'BRA', 'BGR', 'BFA', 'BDI', 'KHM', 'CAN', 'CYM', 'CHL', 'CHN', 'COL', 'COG', 'CRI', 'HRV', 'CUB', 'CYP', 'CZE', 'DNK', 'DOM', 'TLS', 'ECU', 'EGY', 'SLV', 'GNQ', 'EST', 'ETH', 'FLK', 'FRO', 'FJI', 'FIN', 'FRA', 'GUF', 'GEO', 'DEU', 'GHA', 'GIB', 'GRC', 'GRL', 'GUM', 'GTM', 'GGY', 'HTI', 'HMD', 'HND', 'HKG', 'HUN', 'ISL', 'IND', 'IDN', 'IRN', 'IRQ', 'IRL', 'IMN', 'ISR', 'ITA', 'CIV', 'JAM', 'JPN', 'JEY', 'JOR', 'KAZ', 'KEN', 'XKX', 'KGZ', 'LAO', 'LVA', 'LBN', 'LSO', 'LIE', 'LTU', 'LUX', 'MAC', 'MKD', 'MYS', 'MLT', 'FLK', 'MHL', 'MRT', 'MUS', 'MEX', 'FSM', 'MDA', 'MCO', 'MNG', 'MNE', 'MSR', 'MAR', 'MOZ', 'NAM', 'NPL', 'NLD', 'NCL', 'NZL', 'NIC', 'NGA', 'NFK', 'PRK', 'MNP', 'NOR', 'OMN', 'PAK', 'PSE', 'PAN', 'PNG', 'PRY', 'PER', 'PHL', 'POL', 'PRT', 'PRI', 'ROU', 'RUS', 'RWA', 'SHN', 'LCA', 'VCT', 'SMR', 'SAU', 'SRB', 'SGP', 'SXM', 'SVK', 'SVK', 'SVN', 'SLB', 'ZAF', 'SGS', 'KOR', 'ESP', 'LKA', 'SDN', 'SJM', 'SWE', 'CHE', 'SYR', 'TWN', 'TJK', 'TZA', 'THA', 'TGO', 'TKL', 'TTO', 'TUN', 'TUR', 'TKM', 'TUV', 'UGA', 'UKR', 'ARE', 'GBR', 'USA', 'URY', 'UZB', 'VUT', 'VAT', 'VEN', 'VNM', 'YEM', 'ZMB', 'ZWE'], 'name': '', 'z': [0.0, 0.0, 0.0, 0.0, 0.0, 0.0, 0.0, 0.0, 0.0, 0.0, 0.0, 0.0, 5.851659170850045, 3.0860391179263567, 1.2454894845288695, 0.0, 0.0, 0.0, 0.0, 5.671533004619525, 0.0, 0.0, 0.0, 0.0, 0.0, 0.0, 0.0, 2.526423329990934, 0.0, 0.0, 0.0, 0.0, 6.814597055858469, 0.0, 0.0, 0.0, 0.0, 0.0, 0.0, 4.577693994704074, 0.0, 0.0, 0.0, 7.67327160322778, 0.0, 0.0, 0.0, 0.0, 3.191399633584183, 0.0, 0.0, 0.0, 0.0, 0.0, 0.0, 5.299012052230715, 3.3249310262087057, 0.0, 0.0, 5.177315117253196, 0.0, 0.0, 1.938636665088815, 0.0, 0.0, 0.0, 0.0, 0.0, 0.0, 0.0, 0.0, 0.0, 0.0, 0.0, 0.0, 0.0, 0.0, 4.066868370938082, 0.0, 0.0, 3.6250356186590436, 0.0, 0.0, 2.275108901710028, 0.0, 0.0, 0.0, 0.0, 0.0, 0.0, 0.0, 1.1401289688710434, 0.0, 0.0, 0.0, 0.0, 0.0, 0.0, 0.0, 0.0, 0.0, 0.0, 0.0, 0.0, 0.0, 3.8257063141211947, 0.0, 0.0, 0.0, 0.0, 0.0, 0.0, 0.0, 0.0, 0.0, 0.0, 5.251002833044355, 0.0, 4.261024385379041, 0.0, 0.0, 0.0, 0.0, 0.0, 5.614937336995891, 0.0, 0.0, 0.0, 0.0, 0.0, 0.0, 0.0, 0.0, 3.50725258300266, 2.814105402442715, 0.0, 0.0, 1.5819617211500825, 0.0, 0.0, 0.0, 0.0, 0.0, 0.0, 0.0, 0.0, 0.0, 0.0, 0.0, 0.0, 0.0, 0.0, 0.0, 0.0, 0.0, 0.0, 0.0, 0.0, 5.61746578334925, 5.074130881017965, 0.0, 1.8332761494309886, 0.0, 0.0, 0.0, 0.0, 0.0, 0.0, 0.0, 0.0, 0.0, 0.0, 0.0, 0.0, 0.0, 7.244922201286029, 8.15424426384409, 0.0, 0.0, 0.0, 0.0, 0.0, 0.0, 0.0, 0.0, 0.0], 'type': 'choropleth'}], 'name': '2006'}, {'data': [{'coloraxis': 'coloraxis', 'geo': 'geo', 'hovertemplate': '<b>%{hovertext}</b><br><br>period=2007<br>iso_code=%{location}<br>score=%{z}<extra></extra>', 'hovertext': ['Afghanistan', 'Albania', 'Algeria', 'American Samoa', 'Andorra', 'Angola', 'Anguilla', 'Antarctica', 'Antigua and Barbuda', 'Argentina', 'Armenia', 'Aruba', 'Australia', 'Austria', 'Azerbaijan', 'Bahamas', 'Bangladesh', 'Barbados', 'Belarus', 'Belgium', 'Belize', 'Bermuda', 'Bhutan', 'Bolivia', 'Bosnia and Herzegovina', 'Botswana', 'Bouvet Island', 'Brazil', 'Bulgaria', 'Burkina Faso', 'Burundi', 'Cambodia', 'Canada', 'Cayman Islands', 'Chile', 'China', 'Colombia', 'Congo', 'Costa Rica', 'Croatia', 'Cuba', 'Cyprus', 'Czech Republic', 'Denmark', 'Dominican Republic', 'East Timor', 'Ecuador', 'Egypt', 'El Salvador', 'Equatorial Guinea', 'Estonia', 'Ethiopia', 'Falkland Islands', 'Faroe Islands', 'Fiji Islands', 'Finland', 'France', 'French Guiana', 'Georgia', 'Germany', 'Ghana', 'Gibraltar', 'Greece', 'Greenland', 'Guam', 'Guatemala', 'Guernsey', 'Haiti', 'Heard and McDonald Islands', 'Honduras', 'Hong Kong', 'Hungary', 'Iceland', 'India', 'Indonesia', 'Iran', 'Iraq', 'Ireland', 'Isle of Man', 'Israel', 'Italy', 'Ivory Coast', 'Jamaica', 'Japan', 'Jersey', 'Jordan', 'Kazakhstan', 'Kenya', 'Kosovo', 'Kyrgyzstan', 'Laos', 'Latvia', 'Lebanon', 'Lesotho', 'Liechtenstein', 'Lithuania', 'Luxembourg', 'Macau', 'Macedonia', 'Malaysia', 'Malta', 'Malvinas', 'Marshall Islands', 'Mauritania', 'Mauritius', 'Mexico', 'Micronesia', 'Moldova', 'Monaco', 'Mongolia', 'Montenegro', 'Montserrat', 'Morocco', 'Mozambique', 'Namibia', 'Nepal', 'Netherlands', 'New Caledonia', 'New Zealand', 'Nicaragua', 'Nigeria', 'Norfolk Island', 'North Korea', 'Northern Mariana Islands', 'Norway', 'Oman', 'Pakistan', 'Palestine', 'Panama', 'Papua New Guinea', 'Paraguay', 'Peru', 'Philippines', 'Poland', 'Portugal', 'Puerto Rico', 'Romania', 'Russia', 'Rwanda', 'Saint Helena', 'Saint Lucia', 'Saint Vincent and The Grenadines', 'San Marino', 'Saudi Arabia', 'Serbia', 'Singapore', 'Sint Maarten', 'Slovak Republic', 'Slovakia', 'Slovenia', 'Solomon Islands', 'South Africa', 'South Georgia and South Sandwich Islands', 'South Korea', 'Spain', 'Sri Lanka', 'Sudan', 'Svalbard and Jan Mayen Islands', 'Sweden', 'Switzerland', 'Syria', 'Taiwan', 'Tajikistan', 'Tanzania', 'Thailand', 'Togo', 'Tokelau', 'Trinidad and Tobago', 'Tunisia', 'Turkey', 'Turkmenistan', 'Tuvalu', 'Uganda', 'Ukraine', 'United Arab Emirates', 'United Kingdom', 'United States', 'Uruguay', 'Uzbekistan', 'Vanuatu', 'Vatican City', 'Venezuela', 'Vietnam', 'Yemen', 'Zambia', 'Zimbabwe'], 'locations': ['AFG', 'ALB', 'DZA', 'ASM', 'AND', 'AGO', 'AIA', 'ATA', 'ATG', 'ARG', 'ARM', 'ABW', 'AUS', 'AUT', 'AZE', 'BHS', 'BGD', 'BRB', 'BLR', 'BEL', 'BLZ', 'BMU', 'BTN', 'BOL', 'BIH', 'BWA', 'BVT', 'BRA', 'BGR', 'BFA', 'BDI', 'KHM', 'CAN', 'CYM', 'CHL', 'CHN', 'COL', 'COG', 'CRI', 'HRV', 'CUB', 'CYP', 'CZE', 'DNK', 'DOM', 'TLS', 'ECU', 'EGY', 'SLV', 'GNQ', 'EST', 'ETH', 'FLK', 'FRO', 'FJI', 'FIN', 'FRA', 'GUF', 'GEO', 'DEU', 'GHA', 'GIB', 'GRC', 'GRL', 'GUM', 'GTM', 'GGY', 'HTI', 'HMD', 'HND', 'HKG', 'HUN', 'ISL', 'IND', 'IDN', 'IRN', 'IRQ', 'IRL', 'IMN', 'ISR', 'ITA', 'CIV', 'JAM', 'JPN', 'JEY', 'JOR', 'KAZ', 'KEN', 'XKX', 'KGZ', 'LAO', 'LVA', 'LBN', 'LSO', 'LIE', 'LTU', 'LUX', 'MAC', 'MKD', 'MYS', 'MLT', 'FLK', 'MHL', 'MRT', 'MUS', 'MEX', 'FSM', 'MDA', 'MCO', 'MNG', 'MNE', 'MSR', 'MAR', 'MOZ', 'NAM', 'NPL', 'NLD', 'NCL', 'NZL', 'NIC', 'NGA', 'NFK', 'PRK', 'MNP', 'NOR', 'OMN', 'PAK', 'PSE', 'PAN', 'PNG', 'PRY', 'PER', 'PHL', 'POL', 'PRT', 'PRI', 'ROU', 'RUS', 'RWA', 'SHN', 'LCA', 'VCT', 'SMR', 'SAU', 'SRB', 'SGP', 'SXM', 'SVK', 'SVK', 'SVN', 'SLB', 'ZAF', 'SGS', 'KOR', 'ESP', 'LKA', 'SDN', 'SJM', 'SWE', 'CHE', 'SYR', 'TWN', 'TJK', 'TZA', 'THA', 'TGO', 'TKL', 'TTO', 'TUN', 'TUR', 'TKM', 'TUV', 'UGA', 'UKR', 'ARE', 'GBR', 'USA', 'URY', 'UZB', 'VUT', 'VAT', 'VEN', 'VNM', 'YEM', 'ZMB', 'ZWE'], 'name': '', 'z': [0.0, 0.0, 0.0, 0.0, 0.0, 0.0, 0.0, 0.0, 0.0, 0.0, 0.0, 0.0, 4.635541283864391, 3.744568359974525, 0.0, 0.0, 0.0, 0.0, 0.0, 5.7341535725325, 0.0, 0.0, 0.0, 2.6867780658266702, 0.0, 0.0, 0.0, 3.339103251866361, 0.0, 0.0, 0.0, 0.0, 6.513678817837981, 0.0, 1.86579751375684, 1.339704417860061, 0.0, 0.0, 0.0, 4.107473853663893, 0.0, 0.0, 2.1759524420606797, 7.57622453113171, 0.0, 0.0, 0.0, 0.0, 2.240490963198251, 0.0, 3.642289510854107, 0.0, 0.0, 5.1616343797611695, 0.0, 6.150010838408278, 3.7375996906584317, 0.0, 0.0, 5.924671896530633, 0.0, 0.0, 0.0, 0.0, 0.0, 0.0, 0.0, 0.0, 0.0, 0.0, 0.0, 1.07734015339257, 0.0, 0.0, 0.0, 0.0, 0.0, 4.66085909184868, 0.0, 0.0, 5.051398549740169, 0.0, 0.0, 1.9528088907464698, 0.0, 0.0, 0.0, 0.0, 0.0, 0.0, 0.0, 0.0, 0.0, 0.0, 0.0, 0.0, 2.271262621865005, 0.0, 0.0, 0.0, 0.0, 0.0, 0.0, 0.0, 0.0, 1.5473437826383056, 0.0, 0.0, 0.0, 0.0, 0.0, 0.0, 0.0, 0.0, 0.0, 0.0, 5.9040526093278975, 0.0, 3.4752354261909404, 0.0, 0.0, 0.0, 0.0, 0.0, 5.596952451019015, 0.0, 0.0, 0.0, 0.7206652094538374, 0.0, 0.0, 0.0, 0.0, 3.2745647307287893, 0.9719796377347436, 0.0, 1.07734015339257, 0.0, 0.0, 0.0, 0.0, 0.0, 0.0, 0.0, 0.0, 0.0, 0.0, 0.0, 0.0, 0.8541966020783602, 0.0, 0.0, 0.0, 0.0, 3.3799252463866156, 0.0, 0.0, 0.0, 6.414878233093888, 4.391526158065096, 0.0, 2.1759524420606797, 0.0, 0.0, 2.5124246786818927, 0.0, 0.0, 1.07734015339257, 0.0, 0.9719796377347436, 0.0, 0.0, 0.0, 0.0, 0.0, 6.644156772975614, 8.0341712700213, 0.0, 0.0, 0.0, 0.0, 1.07734015339257, 0.0, 0.0, 0.0, 0.0], 'type': 'choropleth'}], 'name': '2007'}, {'data': [{'coloraxis': 'coloraxis', 'geo': 'geo', 'hovertemplate': '<b>%{hovertext}</b><br><br>period=2008<br>iso_code=%{location}<br>score=%{z}<extra></extra>', 'hovertext': ['Afghanistan', 'Albania', 'Algeria', 'American Samoa', 'Andorra', 'Angola', 'Anguilla', 'Antarctica', 'Antigua and Barbuda', 'Argentina', 'Armenia', 'Aruba', 'Australia', 'Austria', 'Azerbaijan', 'Bahamas', 'Bangladesh', 'Barbados', 'Belarus', 'Belgium', 'Belize', 'Bermuda', 'Bhutan', 'Bolivia', 'Bosnia and Herzegovina', 'Botswana', 'Bouvet Island', 'Brazil', 'Bulgaria', 'Burkina Faso', 'Burundi', 'Cambodia', 'Canada', 'Cayman Islands', 'Chile', 'China', 'Colombia', 'Congo', 'Costa Rica', 'Croatia', 'Cuba', 'Cyprus', 'Czech Republic', 'Denmark', 'Dominican Republic', 'East Timor', 'Ecuador', 'Egypt', 'El Salvador', 'Equatorial Guinea', 'Estonia', 'Ethiopia', 'Falkland Islands', 'Faroe Islands', 'Fiji Islands', 'Finland', 'France', 'French Guiana', 'Georgia', 'Germany', 'Ghana', 'Gibraltar', 'Greece', 'Greenland', 'Guam', 'Guatemala', 'Guernsey', 'Haiti', 'Heard and McDonald Islands', 'Honduras', 'Hong Kong', 'Hungary', 'Iceland', 'India', 'Indonesia', 'Iran', 'Iraq', 'Ireland', 'Isle of Man', 'Israel', 'Italy', 'Ivory Coast', 'Jamaica', 'Japan', 'Jersey', 'Jordan', 'Kazakhstan', 'Kenya', 'Kosovo', 'Kyrgyzstan', 'Laos', 'Latvia', 'Lebanon', 'Lesotho', 'Liechtenstein', 'Lithuania', 'Luxembourg', 'Macau', 'Macedonia', 'Malaysia', 'Malta', 'Malvinas', 'Marshall Islands', 'Mauritania', 'Mauritius', 'Mexico', 'Micronesia', 'Moldova', 'Monaco', 'Mongolia', 'Montenegro', 'Montserrat', 'Morocco', 'Mozambique', 'Namibia', 'Nepal', 'Netherlands', 'New Caledonia', 'New Zealand', 'Nicaragua', 'Nigeria', 'Norfolk Island', 'North Korea', 'Northern Mariana Islands', 'Norway', 'Oman', 'Pakistan', 'Palestine', 'Panama', 'Papua New Guinea', 'Paraguay', 'Peru', 'Philippines', 'Poland', 'Portugal', 'Puerto Rico', 'Romania', 'Russia', 'Rwanda', 'Saint Helena', 'Saint Lucia', 'Saint Vincent and The Grenadines', 'San Marino', 'Saudi Arabia', 'Serbia', 'Singapore', 'Sint Maarten', 'Slovak Republic', 'Slovakia', 'Slovenia', 'Solomon Islands', 'South Africa', 'South Georgia and South Sandwich Islands', 'South Korea', 'Spain', 'Sri Lanka', 'Sudan', 'Svalbard and Jan Mayen Islands', 'Sweden', 'Switzerland', 'Syria', 'Taiwan', 'Tajikistan', 'Tanzania', 'Thailand', 'Togo', 'Tokelau', 'Trinidad and Tobago', 'Tunisia', 'Turkey', 'Turkmenistan', 'Tuvalu', 'Uganda', 'Ukraine', 'United Arab Emirates', 'United Kingdom', 'United States', 'Uruguay', 'Uzbekistan', 'Vanuatu', 'Vatican City', 'Venezuela', 'Vietnam', 'Yemen', 'Zambia', 'Zimbabwe'], 'locations': ['AFG', 'ALB', 'DZA', 'ASM', 'AND', 'AGO', 'AIA', 'ATA', 'ATG', 'ARG', 'ARM', 'ABW', 'AUS', 'AUT', 'AZE', 'BHS', 'BGD', 'BRB', 'BLR', 'BEL', 'BLZ', 'BMU', 'BTN', 'BOL', 'BIH', 'BWA', 'BVT', 'BRA', 'BGR', 'BFA', 'BDI', 'KHM', 'CAN', 'CYM', 'CHL', 'CHN', 'COL', 'COG', 'CRI', 'HRV', 'CUB', 'CYP', 'CZE', 'DNK', 'DOM', 'TLS', 'ECU', 'EGY', 'SLV', 'GNQ', 'EST', 'ETH', 'FLK', 'FRO', 'FJI', 'FIN', 'FRA', 'GUF', 'GEO', 'DEU', 'GHA', 'GIB', 'GRC', 'GRL', 'GUM', 'GTM', 'GGY', 'HTI', 'HMD', 'HND', 'HKG', 'HUN', 'ISL', 'IND', 'IDN', 'IRN', 'IRQ', 'IRL', 'IMN', 'ISR', 'ITA', 'CIV', 'JAM', 'JPN', 'JEY', 'JOR', 'KAZ', 'KEN', 'XKX', 'KGZ', 'LAO', 'LVA', 'LBN', 'LSO', 'LIE', 'LTU', 'LUX', 'MAC', 'MKD', 'MYS', 'MLT', 'FLK', 'MHL', 'MRT', 'MUS', 'MEX', 'FSM', 'MDA', 'MCO', 'MNG', 'MNE', 'MSR', 'MAR', 'MOZ', 'NAM', 'NPL', 'NLD', 'NCL', 'NZL', 'NIC', 'NGA', 'NFK', 'PRK', 'MNP', 'NOR', 'OMN', 'PAK', 'PSE', 'PAN', 'PNG', 'PRY', 'PER', 'PHL', 'POL', 'PRT', 'PRI', 'ROU', 'RUS', 'RWA', 'SHN', 'LCA', 'VCT', 'SMR', 'SAU', 'SRB', 'SGP', 'SXM', 'SVK', 'SVK', 'SVN', 'SLB', 'ZAF', 'SGS', 'KOR', 'ESP', 'LKA', 'SDN', 'SJM', 'SWE', 'CHE', 'SYR', 'TWN', 'TJK', 'TZA', 'THA', 'TGO', 'TKL', 'TTO', 'TUN', 'TUR', 'TKM', 'TUV', 'UGA', 'UKR', 'ARE', 'GBR', 'USA', 'URY', 'UZB', 'VUT', 'VAT', 'VEN', 'VNM', 'YEM', 'ZMB', 'ZWE'], 'name': '', 'z': [0.0, 0.0, 0.0, 0.0, 1.3162353914509413, 0.0, 0.0, 0.0, 0.0, 0.0, 0.0, 0.0, 4.407277844809258, 0.0, 0.0, 0.0, 0.0, 0.0, 0.0, 6.34573916985158, 0.0, 0.0, 0.0, 0.9797631548297285, 0.0, 0.0, 0.0, 3.6469913614116836, 0.0, 0.0, 0.0, 0.0, 6.8433943304278255, 0.0, 0.4689375310637378, 0.0, 0.0, 0.0, 0.0, 4.712659494360439, 0.0, 0.9797631548297285, 2.4148476801190513, 7.340547363409522, 0.0, 0.0, 0.0, 0.0, 2.4148476801190513, 0.0, 4.2939491595022545, 0.0, 0.0, 4.494289221798887, 0.0, 6.321140010838212, 4.420181249645165, 0.0, 0.0, 5.084058047904997, 0.0, 0.0, 0.0, 0.0, 0.0, 0.0, 0.0, 0.0, 0.0, 0.0, 0.0, 4.1324991771933846, 1.3162353914509413, 0.0, 0.0, 0.0, 0.0, 5.70715097354207, 0.0, 2.702529752570832, 4.601433859250215, 0.0, 0.0, 4.286649857020643, 0.0, 0.0, 0.0, 0.0, 0.0, 0.0, 0.0, 0.0, 0.0, 0.0, 0.0, 0.9797631548297285, 2.4613676957539443, 0.0, 0.0, 0.0, 0.0, 0.0, 0.0, 0.0, 0.0, 2.4148476801190513, 0.0, 0.0, 0.0, 0.0, 0.0, 0.0, 0.0, 2.0783754434978383, 0.0, 0.0, 5.899744080657854, 0.0, 1.1620847116236832, 0.0, 0.0, 0.0, 0.0, 0.0, 4.83838538353076, 0.0, 0.0, 0.0, 1.3162353914509413, 0.0, 0.0, 0.0, 0.0, 3.902924735548884, 2.589201067263829, 0.0, 0.0, 0.0, 0.0, 0.0, 0.0, 0.0, 0.0, 0.0, 0.0, 0.0, 0.0, 0.0, 0.0, 0.0, 0.0, 0.0, 0.0, 0.0, 3.924202133996169, 0.0, 0.0, 0.0, 5.297251268366039, 5.267479110032369, 0.0, 0.0, 0.0, 0.0, 0.0, 0.0, 0.0, 0.0, 0.0, 0.0, 0.0, 0.0, 0.0, 0.0, 0.0, 6.86252828501437, 8.079790321458988, 0.0, 0.0, 0.0, 0.0, 0.4689375310637378, 0.0, 0.0, 0.0, 0.0], 'type': 'choropleth'}], 'name': '2008'}, {'data': [{'coloraxis': 'coloraxis', 'geo': 'geo', 'hovertemplate': '<b>%{hovertext}</b><br><br>period=2009<br>iso_code=%{location}<br>score=%{z}<extra></extra>', 'hovertext': ['Afghanistan', 'Albania', 'Algeria', 'American Samoa', 'Andorra', 'Angola', 'Anguilla', 'Antarctica', 'Antigua and Barbuda', 'Argentina', 'Armenia', 'Aruba', 'Australia', 'Austria', 'Azerbaijan', 'Bahamas', 'Bangladesh', 'Barbados', 'Belarus', 'Belgium', 'Belize', 'Bermuda', 'Bhutan', 'Bolivia', 'Bosnia and Herzegovina', 'Botswana', 'Bouvet Island', 'Brazil', 'Bulgaria', 'Burkina Faso', 'Burundi', 'Cambodia', 'Canada', 'Cayman Islands', 'Chile', 'China', 'Colombia', 'Congo', 'Costa Rica', 'Croatia', 'Cuba', 'Cyprus', 'Czech Republic', 'Denmark', 'Dominican Republic', 'East Timor', 'Ecuador', 'Egypt', 'El Salvador', 'Equatorial Guinea', 'Estonia', 'Ethiopia', 'Falkland Islands', 'Faroe Islands', 'Fiji Islands', 'Finland', 'France', 'French Guiana', 'Georgia', 'Germany', 'Ghana', 'Gibraltar', 'Greece', 'Greenland', 'Guam', 'Guatemala', 'Guernsey', 'Haiti', 'Heard and McDonald Islands', 'Honduras', 'Hong Kong', 'Hungary', 'Iceland', 'India', 'Indonesia', 'Iran', 'Iraq', 'Ireland', 'Isle of Man', 'Israel', 'Italy', 'Ivory Coast', 'Jamaica', 'Japan', 'Jersey', 'Jordan', 'Kazakhstan', 'Kenya', 'Kosovo', 'Kyrgyzstan', 'Laos', 'Latvia', 'Lebanon', 'Lesotho', 'Liechtenstein', 'Lithuania', 'Luxembourg', 'Macau', 'Macedonia', 'Malaysia', 'Malta', 'Malvinas', 'Marshall Islands', 'Mauritania', 'Mauritius', 'Mexico', 'Micronesia', 'Moldova', 'Monaco', 'Mongolia', 'Montenegro', 'Montserrat', 'Morocco', 'Mozambique', 'Namibia', 'Nepal', 'Netherlands', 'New Caledonia', 'New Zealand', 'Nicaragua', 'Nigeria', 'Norfolk Island', 'North Korea', 'Northern Mariana Islands', 'Norway', 'Oman', 'Pakistan', 'Palestine', 'Panama', 'Papua New Guinea', 'Paraguay', 'Peru', 'Philippines', 'Poland', 'Portugal', 'Puerto Rico', 'Romania', 'Russia', 'Rwanda', 'Saint Helena', 'Saint Lucia', 'Saint Vincent and The Grenadines', 'San Marino', 'Saudi Arabia', 'Serbia', 'Singapore', 'Sint Maarten', 'Slovak Republic', 'Slovakia', 'Slovenia', 'Solomon Islands', 'South Africa', 'South Georgia and South Sandwich Islands', 'South Korea', 'Spain', 'Sri Lanka', 'Sudan', 'Svalbard and Jan Mayen Islands', 'Sweden', 'Switzerland', 'Syria', 'Taiwan', 'Tajikistan', 'Tanzania', 'Thailand', 'Togo', 'Tokelau', 'Trinidad and Tobago', 'Tunisia', 'Turkey', 'Turkmenistan', 'Tuvalu', 'Uganda', 'Ukraine', 'United Arab Emirates', 'United Kingdom', 'United States', 'Uruguay', 'Uzbekistan', 'Vanuatu', 'Vatican City', 'Venezuela', 'Vietnam', 'Yemen', 'Zambia', 'Zimbabwe'], 'locations': ['AFG', 'ALB', 'DZA', 'ASM', 'AND', 'AGO', 'AIA', 'ATA', 'ATG', 'ARG', 'ARM', 'ABW', 'AUS', 'AUT', 'AZE', 'BHS', 'BGD', 'BRB', 'BLR', 'BEL', 'BLZ', 'BMU', 'BTN', 'BOL', 'BIH', 'BWA', 'BVT', 'BRA', 'BGR', 'BFA', 'BDI', 'KHM', 'CAN', 'CYM', 'CHL', 'CHN', 'COL', 'COG', 'CRI', 'HRV', 'CUB', 'CYP', 'CZE', 'DNK', 'DOM', 'TLS', 'ECU', 'EGY', 'SLV', 'GNQ', 'EST', 'ETH', 'FLK', 'FRO', 'FJI', 'FIN', 'FRA', 'GUF', 'GEO', 'DEU', 'GHA', 'GIB', 'GRC', 'GRL', 'GUM', 'GTM', 'GGY', 'HTI', 'HMD', 'HND', 'HKG', 'HUN', 'ISL', 'IND', 'IDN', 'IRN', 'IRQ', 'IRL', 'IMN', 'ISR', 'ITA', 'CIV', 'JAM', 'JPN', 'JEY', 'JOR', 'KAZ', 'KEN', 'XKX', 'KGZ', 'LAO', 'LVA', 'LBN', 'LSO', 'LIE', 'LTU', 'LUX', 'MAC', 'MKD', 'MYS', 'MLT', 'FLK', 'MHL', 'MRT', 'MUS', 'MEX', 'FSM', 'MDA', 'MCO', 'MNG', 'MNE', 'MSR', 'MAR', 'MOZ', 'NAM', 'NPL', 'NLD', 'NCL', 'NZL', 'NIC', 'NGA', 'NFK', 'PRK', 'MNP', 'NOR', 'OMN', 'PAK', 'PSE', 'PAN', 'PNG', 'PRY', 'PER', 'PHL', 'POL', 'PRT', 'PRI', 'ROU', 'RUS', 'RWA', 'SHN', 'LCA', 'VCT', 'SMR', 'SAU', 'SRB', 'SGP', 'SXM', 'SVK', 'SVK', 'SVN', 'SLB', 'ZAF', 'SGS', 'KOR', 'ESP', 'LKA', 'SDN', 'SJM', 'SWE', 'CHE', 'SYR', 'TWN', 'TJK', 'TZA', 'THA', 'TGO', 'TKL', 'TTO', 'TUN', 'TUR', 'TKM', 'TUV', 'UGA', 'UKR', 'ARE', 'GBR', 'USA', 'URY', 'UZB', 'VUT', 'VAT', 'VEN', 'VNM', 'YEM', 'ZMB', 'ZWE'], 'name': '', 'z': [0.0, 0.0, 0.0, 0.0, 0.0, 0.0, 0.0, 0.0, 0.0, 0.0, 0.0, 0.0, 4.354897967285629, 2.8350722135412156, 0.0, 0.0, 0.0, 0.0, 0.0, 5.635831812747694, 0.0, 0.0, 0.0, 0.0, 0.0, 0.0, 0.0, 3.549421601751764, 0.0, 0.0, 0.0, 0.0, 7.294059889351225, 0.0, 1.2256343011071154, 0.0, 0.0, 0.0, 0.0, 5.319978863329216, 0.0, 0.0, 2.083084532958337, 7.24422751560335, 0.0, 0.0, 0.0, 0.0, 1.7646308018398025, 0.0, 1.7646308018398025, 0.0, 0.0, 4.444510125975317, 0.0, 5.502300420123171, 4.521471167111445, 0.0, 0.0, 5.131926631826277, 0.0, 0.0, 3.097436478008707, 0.0, 0.0, 0.0, 0.0, 0.0, 0.0, 0.0, 0.0, 2.8350722135412156, 1.071483621279857, 0.0, 0.0, 0.0, 0.0, 5.093854683876868, 0.0, 2.9686036061657384, 5.009823935025376, 0.0, 0.0, 4.147258602507384, 0.0, 0.0, 0.0, 0.0, 0.0, 0.0, 0.0, 0.0, 0.0, 0.0, 0.0, 0.8891620644859025, 0.0, 0.0, 0.0, 0.0, 0.0, 0.0, 0.0, 0.0, 0.0, 1.1515263289533935, 0.0, 0.0, 0.0, 0.0, 0.0, 0.0, 0.0, 0.0, 0.0, 0.0, 5.481247010925339, 0.0, 2.7297116978833893, 0.0, 0.0, 0.0, 0.0, 0.0, 6.393273344013036, 0.0, 0.0, 0.0, 0.0, 0.0, 0.0, 0.0, 0.0, 3.181696821626447, 2.250138617621503, 0.0, 0.6660185131716928, 0.0, 0.0, 0.0, 0.0, 0.0, 0.0, 0.0, 0.0, 0.0, 0.0, 1.4769487293880215, 0.0, 0.0, 0.0, 0.0, 0.0, 0.0, 3.2309678706332297, 0.0, 0.0, 0.0, 5.984138507015909, 5.232967486339587, 0.0, 2.457777982399748, 0.0, 0.0, 0.0, 0.0, 0.0, 0.8891620644859025, 0.0, 2.083084532958337, 0.0, 0.0, 0.0, 0.0, 0.0, 6.838762407495185, 8.078707090214984, 0.0, 0.0, 0.0, 0.0, 3.2687081986160766, 0.0, 0.0, 0.0, 0.0], 'type': 'choropleth'}], 'name': '2009'}, {'data': [{'coloraxis': 'coloraxis', 'geo': 'geo', 'hovertemplate': '<b>%{hovertext}</b><br><br>period=2010<br>iso_code=%{location}<br>score=%{z}<extra></extra>', 'hovertext': ['Afghanistan', 'Albania', 'Algeria', 'American Samoa', 'Andorra', 'Angola', 'Anguilla', 'Antarctica', 'Antigua and Barbuda', 'Argentina', 'Armenia', 'Aruba', 'Australia', 'Austria', 'Azerbaijan', 'Bahamas', 'Bangladesh', 'Barbados', 'Belarus', 'Belgium', 'Belize', 'Bermuda', 'Bhutan', 'Bolivia', 'Bosnia and Herzegovina', 'Botswana', 'Bouvet Island', 'Brazil', 'Bulgaria', 'Burkina Faso', 'Burundi', 'Cambodia', 'Canada', 'Cayman Islands', 'Chile', 'China', 'Colombia', 'Congo', 'Costa Rica', 'Croatia', 'Cuba', 'Cyprus', 'Czech Republic', 'Denmark', 'Dominican Republic', 'East Timor', 'Ecuador', 'Egypt', 'El Salvador', 'Equatorial Guinea', 'Estonia', 'Ethiopia', 'Falkland Islands', 'Faroe Islands', 'Fiji Islands', 'Finland', 'France', 'French Guiana', 'Georgia', 'Germany', 'Ghana', 'Gibraltar', 'Greece', 'Greenland', 'Guam', 'Guatemala', 'Guernsey', 'Haiti', 'Heard and McDonald Islands', 'Honduras', 'Hong Kong', 'Hungary', 'Iceland', 'India', 'Indonesia', 'Iran', 'Iraq', 'Ireland', 'Isle of Man', 'Israel', 'Italy', 'Ivory Coast', 'Jamaica', 'Japan', 'Jersey', 'Jordan', 'Kazakhstan', 'Kenya', 'Kosovo', 'Kyrgyzstan', 'Laos', 'Latvia', 'Lebanon', 'Lesotho', 'Liechtenstein', 'Lithuania', 'Luxembourg', 'Macau', 'Macedonia', 'Malaysia', 'Malta', 'Malvinas', 'Marshall Islands', 'Mauritania', 'Mauritius', 'Mexico', 'Micronesia', 'Moldova', 'Monaco', 'Mongolia', 'Montenegro', 'Montserrat', 'Morocco', 'Mozambique', 'Namibia', 'Nepal', 'Netherlands', 'New Caledonia', 'New Zealand', 'Nicaragua', 'Nigeria', 'Norfolk Island', 'North Korea', 'Northern Mariana Islands', 'Norway', 'Oman', 'Pakistan', 'Palestine', 'Panama', 'Papua New Guinea', 'Paraguay', 'Peru', 'Philippines', 'Poland', 'Portugal', 'Puerto Rico', 'Romania', 'Russia', 'Rwanda', 'Saint Helena', 'Saint Lucia', 'Saint Vincent and The Grenadines', 'San Marino', 'Saudi Arabia', 'Serbia', 'Singapore', 'Sint Maarten', 'Slovak Republic', 'Slovakia', 'Slovenia', 'Solomon Islands', 'South Africa', 'South Georgia and South Sandwich Islands', 'South Korea', 'Spain', 'Sri Lanka', 'Sudan', 'Svalbard and Jan Mayen Islands', 'Sweden', 'Switzerland', 'Syria', 'Taiwan', 'Tajikistan', 'Tanzania', 'Thailand', 'Togo', 'Tokelau', 'Trinidad and Tobago', 'Tunisia', 'Turkey', 'Turkmenistan', 'Tuvalu', 'Uganda', 'Ukraine', 'United Arab Emirates', 'United Kingdom', 'United States', 'Uruguay', 'Uzbekistan', 'Vanuatu', 'Vatican City', 'Venezuela', 'Vietnam', 'Yemen', 'Zambia', 'Zimbabwe'], 'locations': ['AFG', 'ALB', 'DZA', 'ASM', 'AND', 'AGO', 'AIA', 'ATA', 'ATG', 'ARG', 'ARM', 'ABW', 'AUS', 'AUT', 'AZE', 'BHS', 'BGD', 'BRB', 'BLR', 'BEL', 'BLZ', 'BMU', 'BTN', 'BOL', 'BIH', 'BWA', 'BVT', 'BRA', 'BGR', 'BFA', 'BDI', 'KHM', 'CAN', 'CYM', 'CHL', 'CHN', 'COL', 'COG', 'CRI', 'HRV', 'CUB', 'CYP', 'CZE', 'DNK', 'DOM', 'TLS', 'ECU', 'EGY', 'SLV', 'GNQ', 'EST', 'ETH', 'FLK', 'FRO', 'FJI', 'FIN', 'FRA', 'GUF', 'GEO', 'DEU', 'GHA', 'GIB', 'GRC', 'GRL', 'GUM', 'GTM', 'GGY', 'HTI', 'HMD', 'HND', 'HKG', 'HUN', 'ISL', 'IND', 'IDN', 'IRN', 'IRQ', 'IRL', 'IMN', 'ISR', 'ITA', 'CIV', 'JAM', 'JPN', 'JEY', 'JOR', 'KAZ', 'KEN', 'XKX', 'KGZ', 'LAO', 'LVA', 'LBN', 'LSO', 'LIE', 'LTU', 'LUX', 'MAC', 'MKD', 'MYS', 'MLT', 'FLK', 'MHL', 'MRT', 'MUS', 'MEX', 'FSM', 'MDA', 'MCO', 'MNG', 'MNE', 'MSR', 'MAR', 'MOZ', 'NAM', 'NPL', 'NLD', 'NCL', 'NZL', 'NIC', 'NGA', 'NFK', 'PRK', 'MNP', 'NOR', 'OMN', 'PAK', 'PSE', 'PAN', 'PNG', 'PRY', 'PER', 'PHL', 'POL', 'PRT', 'PRI', 'ROU', 'RUS', 'RWA', 'SHN', 'LCA', 'VCT', 'SMR', 'SAU', 'SRB', 'SGP', 'SXM', 'SVK', 'SVK', 'SVN', 'SLB', 'ZAF', 'SGS', 'KOR', 'ESP', 'LKA', 'SDN', 'SJM', 'SWE', 'CHE', 'SYR', 'TWN', 'TJK', 'TZA', 'THA', 'TGO', 'TKL', 'TTO', 'TUN', 'TUR', 'TKM', 'TUV', 'UGA', 'UKR', 'ARE', 'GBR', 'USA', 'URY', 'UZB', 'VUT', 'VAT', 'VEN', 'VNM', 'YEM', 'ZMB', 'ZWE'], 'name': '', 'z': [0.0, 0.0, 0.0, 0.0, 0.6537341782031103, 0.0, 0.0, 0.548373662545284, 0.0, 0.0, 0.0, 0.0, 3.698256615926533, 3.6886871649103825, 0.0, 0.0, 0.0, 0.0, 0.0, 5.752990663952894, 0.0, 0.9160984426706014, 0.0, 0.0, 0.0, 0.0, 0.0, 3.2186835356646473, 0.0, 0.0, 0.0, 0.0, 7.3538500924070025, 0.0, 0.0, 0.0, 0.0, 0.0, 0.0, 3.9270981883553806, 0.0, 0.0, 2.62781520422512, 8.40115829040796, 0.0, 0.0, 0.0, 0.0, 0.9902064148243231, 0.0, 2.7819658840523784, 0.0, 0.0, 2.9154972766769007, 0.0, 5.102250554145825, 6.469058027592219, 0.0, 0.0, 5.228445156706493, 0.0, 0.0, 2.62781520422512, 0.0, 0.0, 0.0, 0.0, 0.0, 0.0, 0.0, 0.0, 3.3881016876226937, 0.0, 0.0, 0.0, 0.0, 0.0, 3.544105936099275, 0.0, 3.744776631561426, 4.6202453689153264, 0.0, 0.0, 4.134974267538802, 0.0, 0.0, 0.0, 0.0, 0.0, 0.0, 0.0, 0.0, 0.0, 0.0, 0.0, 0.0, 1.6092456232305465, 0.0, 0.0, 0.0, 0.0, 0.0, 0.0, 0.0, 0.0, 2.2223500961169553, 0.0, 0.0, 0.8360557349970648, 0.0, 0.0, 0.0, 0.0, 0.0, 0.0, 0.0, 5.372233049498205, 0.0, 0.0, 0.0, 0.0, 0.0, 0.0, 0.0, 6.10047154986942, 0.0, 0.0, 0.0, 0.0, 0.0, 0.0, 0.0, 0.0, 2.6949545070627483, 1.75234646687122, 0.0, 0.0, 0.0, 0.0, 0.0, 0.0, 0.0, 0.0, 0.0, 0.0, 0.1429085544371195, 0.0, 2.7819658840523784, 0.0, 2.302392803790492, 0.0, 0.0, 0.0, 0.0, 3.823419758880539, 0.0, 0.0, 0.0, 4.850936125864918, 5.899705064378938, 0.0, 0.0, 0.0, 0.0, 2.376500775944214, 0.0, 0.0, 0.0, 0.0, 0.0, 0.0, 0.0, 0.0, 0.0, 0.0, 5.787176901560913, 8.052398047110879, 0.0, 0.0, 0.0, 0.0, 1.3956715229324876, 0.0, 0.0, 0.0, 0.0], 'type': 'choropleth'}], 'name': '2010'}, {'data': [{'coloraxis': 'coloraxis', 'geo': 'geo', 'hovertemplate': '<b>%{hovertext}</b><br><br>period=2011<br>iso_code=%{location}<br>score=%{z}<extra></extra>', 'hovertext': ['Afghanistan', 'Albania', 'Algeria', 'American Samoa', 'Andorra', 'Angola', 'Anguilla', 'Antarctica', 'Antigua and Barbuda', 'Argentina', 'Armenia', 'Aruba', 'Australia', 'Austria', 'Azerbaijan', 'Bahamas', 'Bangladesh', 'Barbados', 'Belarus', 'Belgium', 'Belize', 'Bermuda', 'Bhutan', 'Bolivia', 'Bosnia and Herzegovina', 'Botswana', 'Bouvet Island', 'Brazil', 'Bulgaria', 'Burkina Faso', 'Burundi', 'Cambodia', 'Canada', 'Cayman Islands', 'Chile', 'China', 'Colombia', 'Congo', 'Costa Rica', 'Croatia', 'Cuba', 'Cyprus', 'Czech Republic', 'Denmark', 'Dominican Republic', 'East Timor', 'Ecuador', 'Egypt', 'El Salvador', 'Equatorial Guinea', 'Estonia', 'Ethiopia', 'Falkland Islands', 'Faroe Islands', 'Fiji Islands', 'Finland', 'France', 'French Guiana', 'Georgia', 'Germany', 'Ghana', 'Gibraltar', 'Greece', 'Greenland', 'Guam', 'Guatemala', 'Guernsey', 'Haiti', 'Heard and McDonald Islands', 'Honduras', 'Hong Kong', 'Hungary', 'Iceland', 'India', 'Indonesia', 'Iran', 'Iraq', 'Ireland', 'Isle of Man', 'Israel', 'Italy', 'Ivory Coast', 'Jamaica', 'Japan', 'Jersey', 'Jordan', 'Kazakhstan', 'Kenya', 'Kosovo', 'Kyrgyzstan', 'Laos', 'Latvia', 'Lebanon', 'Lesotho', 'Liechtenstein', 'Lithuania', 'Luxembourg', 'Macau', 'Macedonia', 'Malaysia', 'Malta', 'Malvinas', 'Marshall Islands', 'Mauritania', 'Mauritius', 'Mexico', 'Micronesia', 'Moldova', 'Monaco', 'Mongolia', 'Montenegro', 'Montserrat', 'Morocco', 'Mozambique', 'Namibia', 'Nepal', 'Netherlands', 'New Caledonia', 'New Zealand', 'Nicaragua', 'Nigeria', 'Norfolk Island', 'North Korea', 'Northern Mariana Islands', 'Norway', 'Oman', 'Pakistan', 'Palestine', 'Panama', 'Papua New Guinea', 'Paraguay', 'Peru', 'Philippines', 'Poland', 'Portugal', 'Puerto Rico', 'Romania', 'Russia', 'Rwanda', 'Saint Helena', 'Saint Lucia', 'Saint Vincent and The Grenadines', 'San Marino', 'Saudi Arabia', 'Serbia', 'Singapore', 'Sint Maarten', 'Slovak Republic', 'Slovakia', 'Slovenia', 'Solomon Islands', 'South Africa', 'South Georgia and South Sandwich Islands', 'South Korea', 'Spain', 'Sri Lanka', 'Sudan', 'Svalbard and Jan Mayen Islands', 'Sweden', 'Switzerland', 'Syria', 'Taiwan', 'Tajikistan', 'Tanzania', 'Thailand', 'Togo', 'Tokelau', 'Trinidad and Tobago', 'Tunisia', 'Turkey', 'Turkmenistan', 'Tuvalu', 'Uganda', 'Ukraine', 'United Arab Emirates', 'United Kingdom', 'United States', 'Uruguay', 'Uzbekistan', 'Vanuatu', 'Vatican City', 'Venezuela', 'Vietnam', 'Yemen', 'Zambia', 'Zimbabwe'], 'locations': ['AFG', 'ALB', 'DZA', 'ASM', 'AND', 'AGO', 'AIA', 'ATA', 'ATG', 'ARG', 'ARM', 'ABW', 'AUS', 'AUT', 'AZE', 'BHS', 'BGD', 'BRB', 'BLR', 'BEL', 'BLZ', 'BMU', 'BTN', 'BOL', 'BIH', 'BWA', 'BVT', 'BRA', 'BGR', 'BFA', 'BDI', 'KHM', 'CAN', 'CYM', 'CHL', 'CHN', 'COL', 'COG', 'CRI', 'HRV', 'CUB', 'CYP', 'CZE', 'DNK', 'DOM', 'TLS', 'ECU', 'EGY', 'SLV', 'GNQ', 'EST', 'ETH', 'FLK', 'FRO', 'FJI', 'FIN', 'FRA', 'GUF', 'GEO', 'DEU', 'GHA', 'GIB', 'GRC', 'GRL', 'GUM', 'GTM', 'GGY', 'HTI', 'HMD', 'HND', 'HKG', 'HUN', 'ISL', 'IND', 'IDN', 'IRN', 'IRQ', 'IRL', 'IMN', 'ISR', 'ITA', 'CIV', 'JAM', 'JPN', 'JEY', 'JOR', 'KAZ', 'KEN', 'XKX', 'KGZ', 'LAO', 'LVA', 'LBN', 'LSO', 'LIE', 'LTU', 'LUX', 'MAC', 'MKD', 'MYS', 'MLT', 'FLK', 'MHL', 'MRT', 'MUS', 'MEX', 'FSM', 'MDA', 'MCO', 'MNG', 'MNE', 'MSR', 'MAR', 'MOZ', 'NAM', 'NPL', 'NLD', 'NCL', 'NZL', 'NIC', 'NGA', 'NFK', 'PRK', 'MNP', 'NOR', 'OMN', 'PAK', 'PSE', 'PAN', 'PNG', 'PRY', 'PER', 'PHL', 'POL', 'PRT', 'PRI', 'ROU', 'RUS', 'RWA', 'SHN', 'LCA', 'VCT', 'SMR', 'SAU', 'SRB', 'SGP', 'SXM', 'SVK', 'SVK', 'SVN', 'SLB', 'ZAF', 'SGS', 'KOR', 'ESP', 'LKA', 'SDN', 'SJM', 'SWE', 'CHE', 'SYR', 'TWN', 'TJK', 'TZA', 'THA', 'TGO', 'TKL', 'TTO', 'TUN', 'TUR', 'TKM', 'TUV', 'UGA', 'UKR', 'ARE', 'GBR', 'USA', 'URY', 'UZB', 'VUT', 'VAT', 'VEN', 'VNM', 'YEM', 'ZMB', 'ZWE'], 'name': '', 'z': [0.0, 0.0, 0.0, 0.0, 0.0, 0.0, 0.0, 0.0, 0.0, 0.0, 0.0, 0.0, 4.3162388941358785, 1.2598819987654526, 0.0, 0.0, 0.0, 0.0, 0.0, 5.78438428168609, 0.0, 2.379113574636298, 0.0, 0.0, 0.0, 0.0, 0.0, 2.3993162819538174, 0.0, 0.0, 0.0, 0.0, 6.4611376524703585, 0.0, 0.0, 0.0, 0.0, 0.0, 0.0, 5.42169048645423, 0.0, 1.1263506061409299, 2.8310986983793556, 7.847776306931574, 1.4830255500796623, 0.0, 0.0, 0.0, 1.1263506061409299, 0.0, 2.844002103215263, 0.0, 0.0, 3.7654079357561887, 0.0, 5.212326918692514, 6.706080432127152, 0.0, 0.0, 6.540544430074768, 0.0, 0.0, 3.450137906785579, 0.0, 0.0, 0.0, 0.0, 0.0, 0.0, 0.0, 0.0, 2.630428002917204, 0.0, 0.0, 0.0, 0.0, 0.0, 4.70986954459704, 0.0, 3.3700951991120425, 4.667309930178244, 0.0, 0.0, 1.8884906581878267, 0.0, 0.0, 0.0, 0.0, 0.0, 0.0, 0.0, 0.0, 0.0, 0.0, 0.0, 0.0, 2.3584942874335626, 0.0, 0.0, 0.0, 0.0, 0.0, 0.0, 0.0, 0.0, 0.0, 0.0, 1.377665034421836, 0.0, 0.0, 0.0, 0.0, 0.0, 0.0, 0.0, 0.0, 6.0316253845793595, 0.0, 2.6616805464213087, 0.0, 0.0, 0.0, 1.8884906581878267, 0.0, 6.308134156433015, 0.0, 0.0, 0.0, 0.0, 0.0, 0.0, 0.0, 0.0, 3.450137906785579, 1.8884906581878267, 0.0, 1.1263506061409299, 0.8851885493240419, 0.0, 0.0, 0.0, 0.0, 0.0, 0.0, 0.0, 0.0, 0.0, 3.0516414679935076, 0.0, 1.5783357298839873, 0.0, 0.4332034255809845, 0.0, 0.0, 4.350924452123769, 0.0, 0.0, 0.0, 5.805169475152167, 5.267215183997924, 0.0, 0.5667348182055073, 0.0, 0.0, 3.3700951991120425, 0.0, 0.0, 0.0, 0.0, 0.0, 0.0, 0.0, 0.0, 0.27905274575372635, 0.0, 6.224473354360302, 7.830414759735673, 0.0, 0.0, 0.0, 0.0, 0.5667348182055073, 0.0, 0.0, 0.0, 0.0], 'type': 'choropleth'}], 'name': '2011'}, {'data': [{'coloraxis': 'coloraxis', 'geo': 'geo', 'hovertemplate': '<b>%{hovertext}</b><br><br>period=2012<br>iso_code=%{location}<br>score=%{z}<extra></extra>', 'hovertext': ['Afghanistan', 'Albania', 'Algeria', 'American Samoa', 'Andorra', 'Angola', 'Anguilla', 'Antarctica', 'Antigua and Barbuda', 'Argentina', 'Armenia', 'Aruba', 'Australia', 'Austria', 'Azerbaijan', 'Bahamas', 'Bangladesh', 'Barbados', 'Belarus', 'Belgium', 'Belize', 'Bermuda', 'Bhutan', 'Bolivia', 'Bosnia and Herzegovina', 'Botswana', 'Bouvet Island', 'Brazil', 'Bulgaria', 'Burkina Faso', 'Burundi', 'Cambodia', 'Canada', 'Cayman Islands', 'Chile', 'China', 'Colombia', 'Congo', 'Costa Rica', 'Croatia', 'Cuba', 'Cyprus', 'Czech Republic', 'Denmark', 'Dominican Republic', 'East Timor', 'Ecuador', 'Egypt', 'El Salvador', 'Equatorial Guinea', 'Estonia', 'Ethiopia', 'Falkland Islands', 'Faroe Islands', 'Fiji Islands', 'Finland', 'France', 'French Guiana', 'Georgia', 'Germany', 'Ghana', 'Gibraltar', 'Greece', 'Greenland', 'Guam', 'Guatemala', 'Guernsey', 'Haiti', 'Heard and McDonald Islands', 'Honduras', 'Hong Kong', 'Hungary', 'Iceland', 'India', 'Indonesia', 'Iran', 'Iraq', 'Ireland', 'Isle of Man', 'Israel', 'Italy', 'Ivory Coast', 'Jamaica', 'Japan', 'Jersey', 'Jordan', 'Kazakhstan', 'Kenya', 'Kosovo', 'Kyrgyzstan', 'Laos', 'Latvia', 'Lebanon', 'Lesotho', 'Liechtenstein', 'Lithuania', 'Luxembourg', 'Macau', 'Macedonia', 'Malaysia', 'Malta', 'Malvinas', 'Marshall Islands', 'Mauritania', 'Mauritius', 'Mexico', 'Micronesia', 'Moldova', 'Monaco', 'Mongolia', 'Montenegro', 'Montserrat', 'Morocco', 'Mozambique', 'Namibia', 'Nepal', 'Netherlands', 'New Caledonia', 'New Zealand', 'Nicaragua', 'Nigeria', 'Norfolk Island', 'North Korea', 'Northern Mariana Islands', 'Norway', 'Oman', 'Pakistan', 'Palestine', 'Panama', 'Papua New Guinea', 'Paraguay', 'Peru', 'Philippines', 'Poland', 'Portugal', 'Puerto Rico', 'Romania', 'Russia', 'Rwanda', 'Saint Helena', 'Saint Lucia', 'Saint Vincent and The Grenadines', 'San Marino', 'Saudi Arabia', 'Serbia', 'Singapore', 'Sint Maarten', 'Slovak Republic', 'Slovakia', 'Slovenia', 'Solomon Islands', 'South Africa', 'South Georgia and South Sandwich Islands', 'South Korea', 'Spain', 'Sri Lanka', 'Sudan', 'Svalbard and Jan Mayen Islands', 'Sweden', 'Switzerland', 'Syria', 'Taiwan', 'Tajikistan', 'Tanzania', 'Thailand', 'Togo', 'Tokelau', 'Trinidad and Tobago', 'Tunisia', 'Turkey', 'Turkmenistan', 'Tuvalu', 'Uganda', 'Ukraine', 'United Arab Emirates', 'United Kingdom', 'United States', 'Uruguay', 'Uzbekistan', 'Vanuatu', 'Vatican City', 'Venezuela', 'Vietnam', 'Yemen', 'Zambia', 'Zimbabwe'], 'locations': ['AFG', 'ALB', 'DZA', 'ASM', 'AND', 'AGO', 'AIA', 'ATA', 'ATG', 'ARG', 'ARM', 'ABW', 'AUS', 'AUT', 'AZE', 'BHS', 'BGD', 'BRB', 'BLR', 'BEL', 'BLZ', 'BMU', 'BTN', 'BOL', 'BIH', 'BWA', 'BVT', 'BRA', 'BGR', 'BFA', 'BDI', 'KHM', 'CAN', 'CYM', 'CHL', 'CHN', 'COL', 'COG', 'CRI', 'HRV', 'CUB', 'CYP', 'CZE', 'DNK', 'DOM', 'TLS', 'ECU', 'EGY', 'SLV', 'GNQ', 'EST', 'ETH', 'FLK', 'FRO', 'FJI', 'FIN', 'FRA', 'GUF', 'GEO', 'DEU', 'GHA', 'GIB', 'GRC', 'GRL', 'GUM', 'GTM', 'GGY', 'HTI', 'HMD', 'HND', 'HKG', 'HUN', 'ISL', 'IND', 'IDN', 'IRN', 'IRQ', 'IRL', 'IMN', 'ISR', 'ITA', 'CIV', 'JAM', 'JPN', 'JEY', 'JOR', 'KAZ', 'KEN', 'XKX', 'KGZ', 'LAO', 'LVA', 'LBN', 'LSO', 'LIE', 'LTU', 'LUX', 'MAC', 'MKD', 'MYS', 'MLT', 'FLK', 'MHL', 'MRT', 'MUS', 'MEX', 'FSM', 'MDA', 'MCO', 'MNG', 'MNE', 'MSR', 'MAR', 'MOZ', 'NAM', 'NPL', 'NLD', 'NCL', 'NZL', 'NIC', 'NGA', 'NFK', 'PRK', 'MNP', 'NOR', 'OMN', 'PAK', 'PSE', 'PAN', 'PNG', 'PRY', 'PER', 'PHL', 'POL', 'PRT', 'PRI', 'ROU', 'RUS', 'RWA', 'SHN', 'LCA', 'VCT', 'SMR', 'SAU', 'SRB', 'SGP', 'SXM', 'SVK', 'SVK', 'SVN', 'SLB', 'ZAF', 'SGS', 'KOR', 'ESP', 'LKA', 'SDN', 'SJM', 'SWE', 'CHE', 'SYR', 'TWN', 'TJK', 'TZA', 'THA', 'TGO', 'TKL', 'TTO', 'TUN', 'TUR', 'TKM', 'TUV', 'UGA', 'UKR', 'ARE', 'GBR', 'USA', 'URY', 'UZB', 'VUT', 'VAT', 'VEN', 'VNM', 'YEM', 'ZMB', 'ZWE'], 'name': '', 'z': [0.0, 0.0, 0.0, 0.0, 0.0, 0.0, 0.0, 0.0, 0.0, -0.03191386324553076, 0.0, 0.0, 4.003590198953637, 1.934198993127302, 0.0, 0.0, 0.0, 0.0, 0.3247610806932017, 5.216612838799491, 0.0, 1.113218441057472, 0.0, 0.0, 0.0, 0.0, 0.0, 1.7598456059825243, 0.0, 0.0, 0.0, 1.2002298180471016, 6.275403633280929, 0.0, 1.893376998607047, 0.0, 0.0, 0.0, 0.0, 4.388646435430593, 0.0, 2.9274507661375857, 3.359714067400474, 7.871946257729296, 0.10161752937899189, 0.0, 0.0, 0.0, 0.0, 0.0, 3.87437846747363, 0.0, 0.0, 3.369283518416625, 0.0, 4.978721430850725, 5.873058652509008, 0.0, 0.0, 6.15135098461095, 0.0, 0.0, 2.904977910285527, 0.0, 0.0, 0.0, 0.0, 0.0, 0.0, 0.0, 0.0, 3.2532846045537425, 1.3180128537034852, 0.0, 0.0, 0.0, 0.0, 3.8569867247617613, 0.0, 2.858457894650634, 4.6942089331602235, 0.0, 0.0, 3.6920569106796757, 0.0, 0.0, 0.0, 0.0, 0.0, 0.0, 0.0, 0.0, 0.0, 0.0, 0.0, -0.18606454307278897, 1.017908261253147, 0.0, 0.0, 2.858457894650634, 0.0, 0.0, 0.0, 0.0, 0.0, 1.8288384774694757, 0.0, 0.0, 0.0, 0.0, 0.0, 0.0, 0.0, 0.0, 0.0, 0.0, 6.632495157104877, 0.0, 4.2950529942453235, 0.0, 0.0, 0.0, 0.0, 0.0, 6.186116942454163, 0.0, 0.0, 0.0, 0.0, 0.0, 0.0, 0.0, 0.0, 4.997589915155108, 3.2151328385893665, 0.0, 2.521985658029421, 0.9125477455953206, 0.0, 0.0, 0.0, 0.0, 0.0, 0.0, 0.0, 0.5871253451606927, 0.0, 1.4233733693613113, 0.0, 3.4248533695714354, 0.0, 2.1165205499212565, 0.0, 0.0, 3.972818540286883, 0.0, 0.0, 0.0, 6.52201954078028, 5.234470456199497, 0.0, 0.3247610806932017, 0.0, 0.0, 3.9934378274896187, 0.0, 0.0, 0.0, 0.0, 0.0, 0.0, 0.0, 0.0, 1.6857376338288026, 0.0, 6.150761188073652, 7.63457567464867, -0.03191386324553076, 0.0, 0.0, 0.0, 1.7598456059825243, 0.0, 0.0, 0.0, 0.0], 'type': 'choropleth'}], 'name': '2012'}, {'data': [{'coloraxis': 'coloraxis', 'geo': 'geo', 'hovertemplate': '<b>%{hovertext}</b><br><br>period=2013<br>iso_code=%{location}<br>score=%{z}<extra></extra>', 'hovertext': ['Afghanistan', 'Albania', 'Algeria', 'American Samoa', 'Andorra', 'Angola', 'Anguilla', 'Antarctica', 'Antigua and Barbuda', 'Argentina', 'Armenia', 'Aruba', 'Australia', 'Austria', 'Azerbaijan', 'Bahamas', 'Bangladesh', 'Barbados', 'Belarus', 'Belgium', 'Belize', 'Bermuda', 'Bhutan', 'Bolivia', 'Bosnia and Herzegovina', 'Botswana', 'Bouvet Island', 'Brazil', 'Bulgaria', 'Burkina Faso', 'Burundi', 'Cambodia', 'Canada', 'Cayman Islands', 'Chile', 'China', 'Colombia', 'Congo', 'Costa Rica', 'Croatia', 'Cuba', 'Cyprus', 'Czech Republic', 'Denmark', 'Dominican Republic', 'East Timor', 'Ecuador', 'Egypt', 'El Salvador', 'Equatorial Guinea', 'Estonia', 'Ethiopia', 'Falkland Islands', 'Faroe Islands', 'Fiji Islands', 'Finland', 'France', 'French Guiana', 'Georgia', 'Germany', 'Ghana', 'Gibraltar', 'Greece', 'Greenland', 'Guam', 'Guatemala', 'Guernsey', 'Haiti', 'Heard and McDonald Islands', 'Honduras', 'Hong Kong', 'Hungary', 'Iceland', 'India', 'Indonesia', 'Iran', 'Iraq', 'Ireland', 'Isle of Man', 'Israel', 'Italy', 'Ivory Coast', 'Jamaica', 'Japan', 'Jersey', 'Jordan', 'Kazakhstan', 'Kenya', 'Kosovo', 'Kyrgyzstan', 'Laos', 'Latvia', 'Lebanon', 'Lesotho', 'Liechtenstein', 'Lithuania', 'Luxembourg', 'Macau', 'Macedonia', 'Malaysia', 'Malta', 'Malvinas', 'Marshall Islands', 'Mauritania', 'Mauritius', 'Mexico', 'Micronesia', 'Moldova', 'Monaco', 'Mongolia', 'Montenegro', 'Montserrat', 'Morocco', 'Mozambique', 'Namibia', 'Nepal', 'Netherlands', 'New Caledonia', 'New Zealand', 'Nicaragua', 'Nigeria', 'Norfolk Island', 'North Korea', 'Northern Mariana Islands', 'Norway', 'Oman', 'Pakistan', 'Palestine', 'Panama', 'Papua New Guinea', 'Paraguay', 'Peru', 'Philippines', 'Poland', 'Portugal', 'Puerto Rico', 'Romania', 'Russia', 'Rwanda', 'Saint Helena', 'Saint Lucia', 'Saint Vincent and The Grenadines', 'San Marino', 'Saudi Arabia', 'Serbia', 'Singapore', 'Sint Maarten', 'Slovak Republic', 'Slovakia', 'Slovenia', 'Solomon Islands', 'South Africa', 'South Georgia and South Sandwich Islands', 'South Korea', 'Spain', 'Sri Lanka', 'Sudan', 'Svalbard and Jan Mayen Islands', 'Sweden', 'Switzerland', 'Syria', 'Taiwan', 'Tajikistan', 'Tanzania', 'Thailand', 'Togo', 'Tokelau', 'Trinidad and Tobago', 'Tunisia', 'Turkey', 'Turkmenistan', 'Tuvalu', 'Uganda', 'Ukraine', 'United Arab Emirates', 'United Kingdom', 'United States', 'Uruguay', 'Uzbekistan', 'Vanuatu', 'Vatican City', 'Venezuela', 'Vietnam', 'Yemen', 'Zambia', 'Zimbabwe'], 'locations': ['AFG', 'ALB', 'DZA', 'ASM', 'AND', 'AGO', 'AIA', 'ATA', 'ATG', 'ARG', 'ARM', 'ABW', 'AUS', 'AUT', 'AZE', 'BHS', 'BGD', 'BRB', 'BLR', 'BEL', 'BLZ', 'BMU', 'BTN', 'BOL', 'BIH', 'BWA', 'BVT', 'BRA', 'BGR', 'BFA', 'BDI', 'KHM', 'CAN', 'CYM', 'CHL', 'CHN', 'COL', 'COG', 'CRI', 'HRV', 'CUB', 'CYP', 'CZE', 'DNK', 'DOM', 'TLS', 'ECU', 'EGY', 'SLV', 'GNQ', 'EST', 'ETH', 'FLK', 'FRO', 'FJI', 'FIN', 'FRA', 'GUF', 'GEO', 'DEU', 'GHA', 'GIB', 'GRC', 'GRL', 'GUM', 'GTM', 'GGY', 'HTI', 'HMD', 'HND', 'HKG', 'HUN', 'ISL', 'IND', 'IDN', 'IRN', 'IRQ', 'IRL', 'IMN', 'ISR', 'ITA', 'CIV', 'JAM', 'JPN', 'JEY', 'JOR', 'KAZ', 'KEN', 'XKX', 'KGZ', 'LAO', 'LVA', 'LBN', 'LSO', 'LIE', 'LTU', 'LUX', 'MAC', 'MKD', 'MYS', 'MLT', 'FLK', 'MHL', 'MRT', 'MUS', 'MEX', 'FSM', 'MDA', 'MCO', 'MNG', 'MNE', 'MSR', 'MAR', 'MOZ', 'NAM', 'NPL', 'NLD', 'NCL', 'NZL', 'NIC', 'NGA', 'NFK', 'PRK', 'MNP', 'NOR', 'OMN', 'PAK', 'PSE', 'PAN', 'PNG', 'PRY', 'PER', 'PHL', 'POL', 'PRT', 'PRI', 'ROU', 'RUS', 'RWA', 'SHN', 'LCA', 'VCT', 'SMR', 'SAU', 'SRB', 'SGP', 'SXM', 'SVK', 'SVK', 'SVN', 'SLB', 'ZAF', 'SGS', 'KOR', 'ESP', 'LKA', 'SDN', 'SJM', 'SWE', 'CHE', 'SYR', 'TWN', 'TJK', 'TZA', 'THA', 'TGO', 'TKL', 'TTO', 'TUN', 'TUR', 'TKM', 'TUV', 'UGA', 'UKR', 'ARE', 'GBR', 'USA', 'URY', 'UZB', 'VUT', 'VAT', 'VEN', 'VNM', 'YEM', 'ZMB', 'ZWE'], 'name': '', 'z': [0.0, 0.0, 0.0, 0.0, 0.0, 0.0, 0.0, 0.0, 0.0, 0.0, 0.0, 0.0, 4.536645260227975, 0.7449084206743315, 0.0, 0.0, 0.0, 0.0, 0.6271253850179479, 6.590061848511392, 0.0, 1.2557340444403222, 0.0, 0.0, 0.0, 0.0, 0.0, 3.558319137434368, -0.3537038679937783, 0.0, 0.0, 2.573035534073261, 6.046553577315043, 0.0, 0.0, 0.0, 0.0, 0.0, 0.0, 3.963784245542532, 0.0, 3.38396575028959, 3.6071093016037996, 6.869470238411739, 0.0, 0.0, 0.0, 0.0, 0.0, 0.0, 4.724590074576293, 0.0, 0.0, 2.2112454894677582, 0.0, 6.613891411344376, 6.274337508185755, 0.0, 0.0, 5.906514741680466, 0.0, 0.0, 2.103031904827526, 0.0, 0.0, 0.0, 0.0, 0.0, 0.0, 0.0, 2.616710597575923, 1.879888353513316, 1.3202725655778933, 0.0, 0.0, 0.0, 0.0, 4.207166059097733, 0.0, 4.164454941004683, 4.10451190503765, 0.0, 0.0, 3.9748340817291172, 0.0, 0.0, 1.112633200799649, 0.0, 0.0, 0.0, 0.0, 2.2112454894677587, 0.0, 0.0, 0.0, 1.638726296696428, 2.418884854246003, 0.0, 0.0, 2.8243499623541672, 0.0, 0.0, 0.0, 0.0, 0.0, 1.879888353513316, 0.0, 1.9488812250002674, 0.0, 0.0, 0.0, 0.0, 0.0, 1.543416116892103, 0.0, 0.0, 6.6885823039459655, 0.0, 2.354346333108432, 0.0, 0.0, 0.0, 0.0, 0.0, 6.199754589454594, 0.0, 0.0, 0.0, 1.5922062810615352, 0.0, 0.0, 0.0, 0.0, 4.89682283471791, 3.671647822741371, -0.06602179554199736, 1.879888353513316, 1.805780381359594, 0.0, 0.0, 0.0, 0.0, 0.0, 0.0, 0.41948602023970355, 1.351044224244647, 0.0, 3.584636445751741, 0.0, 3.963784245542532, 0.0, 1.1503735287824959, 0.0, 0.0, 5.024656206227795, 0.0, 0.0, 0.0, 5.417737255136237, 4.513830582461804, 0.0, -0.3537038679937783, 0.0, 0.0, 3.597539850587649, 0.0, 0.0, 0.0, 0.0, 1.543416116892103, 0.0, 0.0, 0.0, 1.438055601234277, 0.0, 6.765662046488845, 7.829227974320627, 0.0, 0.0, 0.0, 0.0, 0.0, 0.0, 0.0, 0.0, 0.0], 'type': 'choropleth'}], 'name': '2013'}, {'data': [{'coloraxis': 'coloraxis', 'geo': 'geo', 'hovertemplate': '<b>%{hovertext}</b><br><br>period=2014<br>iso_code=%{location}<br>score=%{z}<extra></extra>', 'hovertext': ['Afghanistan', 'Albania', 'Algeria', 'American Samoa', 'Andorra', 'Angola', 'Anguilla', 'Antarctica', 'Antigua and Barbuda', 'Argentina', 'Armenia', 'Aruba', 'Australia', 'Austria', 'Azerbaijan', 'Bahamas', 'Bangladesh', 'Barbados', 'Belarus', 'Belgium', 'Belize', 'Bermuda', 'Bhutan', 'Bolivia', 'Bosnia and Herzegovina', 'Botswana', 'Bouvet Island', 'Brazil', 'Bulgaria', 'Burkina Faso', 'Burundi', 'Cambodia', 'Canada', 'Cayman Islands', 'Chile', 'China', 'Colombia', 'Congo', 'Costa Rica', 'Croatia', 'Cuba', 'Cyprus', 'Czech Republic', 'Denmark', 'Dominican Republic', 'East Timor', 'Ecuador', 'Egypt', 'El Salvador', 'Equatorial Guinea', 'Estonia', 'Ethiopia', 'Falkland Islands', 'Faroe Islands', 'Fiji Islands', 'Finland', 'France', 'French Guiana', 'Georgia', 'Germany', 'Ghana', 'Gibraltar', 'Greece', 'Greenland', 'Guam', 'Guatemala', 'Guernsey', 'Haiti', 'Heard and McDonald Islands', 'Honduras', 'Hong Kong', 'Hungary', 'Iceland', 'India', 'Indonesia', 'Iran', 'Iraq', 'Ireland', 'Isle of Man', 'Israel', 'Italy', 'Ivory Coast', 'Jamaica', 'Japan', 'Jersey', 'Jordan', 'Kazakhstan', 'Kenya', 'Kosovo', 'Kyrgyzstan', 'Laos', 'Latvia', 'Lebanon', 'Lesotho', 'Liechtenstein', 'Lithuania', 'Luxembourg', 'Macau', 'Macedonia', 'Malaysia', 'Malta', 'Malvinas', 'Marshall Islands', 'Mauritania', 'Mauritius', 'Mexico', 'Micronesia', 'Moldova', 'Monaco', 'Mongolia', 'Montenegro', 'Montserrat', 'Morocco', 'Mozambique', 'Namibia', 'Nepal', 'Netherlands', 'New Caledonia', 'New Zealand', 'Nicaragua', 'Nigeria', 'Norfolk Island', 'North Korea', 'Northern Mariana Islands', 'Norway', 'Oman', 'Pakistan', 'Palestine', 'Panama', 'Papua New Guinea', 'Paraguay', 'Peru', 'Philippines', 'Poland', 'Portugal', 'Puerto Rico', 'Romania', 'Russia', 'Rwanda', 'Saint Helena', 'Saint Lucia', 'Saint Vincent and The Grenadines', 'San Marino', 'Saudi Arabia', 'Serbia', 'Singapore', 'Sint Maarten', 'Slovak Republic', 'Slovakia', 'Slovenia', 'Solomon Islands', 'South Africa', 'South Georgia and South Sandwich Islands', 'South Korea', 'Spain', 'Sri Lanka', 'Sudan', 'Svalbard and Jan Mayen Islands', 'Sweden', 'Switzerland', 'Syria', 'Taiwan', 'Tajikistan', 'Tanzania', 'Thailand', 'Togo', 'Tokelau', 'Trinidad and Tobago', 'Tunisia', 'Turkey', 'Turkmenistan', 'Tuvalu', 'Uganda', 'Ukraine', 'United Arab Emirates', 'United Kingdom', 'United States', 'Uruguay', 'Uzbekistan', 'Vanuatu', 'Vatican City', 'Venezuela', 'Vietnam', 'Yemen', 'Zambia', 'Zimbabwe'], 'locations': ['AFG', 'ALB', 'DZA', 'ASM', 'AND', 'AGO', 'AIA', 'ATA', 'ATG', 'ARG', 'ARM', 'ABW', 'AUS', 'AUT', 'AZE', 'BHS', 'BGD', 'BRB', 'BLR', 'BEL', 'BLZ', 'BMU', 'BTN', 'BOL', 'BIH', 'BWA', 'BVT', 'BRA', 'BGR', 'BFA', 'BDI', 'KHM', 'CAN', 'CYM', 'CHL', 'CHN', 'COL', 'COG', 'CRI', 'HRV', 'CUB', 'CYP', 'CZE', 'DNK', 'DOM', 'TLS', 'ECU', 'EGY', 'SLV', 'GNQ', 'EST', 'ETH', 'FLK', 'FRO', 'FJI', 'FIN', 'FRA', 'GUF', 'GEO', 'DEU', 'GHA', 'GIB', 'GRC', 'GRL', 'GUM', 'GTM', 'GGY', 'HTI', 'HMD', 'HND', 'HKG', 'HUN', 'ISL', 'IND', 'IDN', 'IRN', 'IRQ', 'IRL', 'IMN', 'ISR', 'ITA', 'CIV', 'JAM', 'JPN', 'JEY', 'JOR', 'KAZ', 'KEN', 'XKX', 'KGZ', 'LAO', 'LVA', 'LBN', 'LSO', 'LIE', 'LTU', 'LUX', 'MAC', 'MKD', 'MYS', 'MLT', 'FLK', 'MHL', 'MRT', 'MUS', 'MEX', 'FSM', 'MDA', 'MCO', 'MNG', 'MNE', 'MSR', 'MAR', 'MOZ', 'NAM', 'NPL', 'NLD', 'NCL', 'NZL', 'NIC', 'NGA', 'NFK', 'PRK', 'MNP', 'NOR', 'OMN', 'PAK', 'PSE', 'PAN', 'PNG', 'PRY', 'PER', 'PHL', 'POL', 'PRT', 'PRI', 'ROU', 'RUS', 'RWA', 'SHN', 'LCA', 'VCT', 'SMR', 'SAU', 'SRB', 'SGP', 'SXM', 'SVK', 'SVK', 'SVN', 'SLB', 'ZAF', 'SGS', 'KOR', 'ESP', 'LKA', 'SDN', 'SJM', 'SWE', 'CHE', 'SYR', 'TWN', 'TJK', 'TZA', 'THA', 'TGO', 'TKL', 'TTO', 'TUN', 'TUR', 'TKM', 'TUV', 'UGA', 'UKR', 'ARE', 'GBR', 'USA', 'URY', 'UZB', 'VUT', 'VAT', 'VEN', 'VNM', 'YEM', 'ZMB', 'ZWE'], 'name': '', 'z': [0.0, 0.0, 0.0, 0.0, 0.0, 0.0, 0.0, 0.0, 0.0, 0.024805118918971192, 0.0, 0.0, 3.657114221544513, 2.153036824768239, 0.0, 0.0, 0.0, 0.0, 0.0, 6.630373639246446, 0.0, 1.3057389643810353, 0.0, 0.0, 0.0, 0.0, 0.0, 3.7577014584496817, 0.7667424636483484, 0.0, 0.0, 0.0, 5.534598231913535, 0.0, 1.6342430313530716, 1.3057389643810355, 0.61259178382109, 0.0, 0.0, 3.8512702359854707, 0.0, 3.827013258339911, 3.5744225056994, 6.3439533966150865, 2.746100546771202, 0.0, 0.2071266757129257, 0.0, 0.0, 0.0, 4.705082777393868, 0.0, 0.0, 0.0, 0.0, 5.1234512903379406, 7.372748942067658, 0.0, 0.0, 6.488770175471275, 0.0, 0.0, 2.915176876815136, 0.0, 0.0, 0.0, 0.0, 0.0, 0.0, 0.0, 2.828165499825506, 2.7720760331744625, 2.3071875045954973, 0.0, 0.0, 0.0, 0.0, 3.833687365427604, -0.08055539673885503, 4.802246525847516, 4.717986182229776, 0.0, 0.0, 2.7328553200211814, 0.0, 0.0, 0.0, 0.0, 0.0, 0.0, 0.0, 1.7475717166600748, 0.0, 0.0, 0.0, 0.2071266757129257, 1.9707152679742843, 0.0, 0.0, 2.3071875045954973, 0.0, 0.0, 0.0, 0.0, 0.0, 0.2071266757129257, 0.0, 1.3057389643810353, 0.0, 0.0, 0.0, 0.0, 0.0, -0.19833843239523855, 0.0, 0.0, 6.77800963805251, 0.0, 2.2865682173927615, 0.0, 0.0, 0.0, 1.0544245361001294, 0.0, 5.551850415075118, 0.0, 0.0, 0.0, 0.0, 0.0, 0.2071266757129257, 0.0, 0.28716938338646225, 4.767996602804438, 4.145466989458446, 0.0, 2.153036824768239, 2.7591726283385545, 0.0, 0.0, 0.0, 0.0, 0.0, 0.0, 1.7112040724891997, 0.61259178382109, 0.0, 3.243680943787172, 0.0, 3.8112649013717714, 0.0, 0.7179522994789165, 0.0, 0.3612773555401841, 5.130750592819552, 0.0, 0.0, 1.7112040724891997, 5.670958480738536, 4.870565769824993, 0.0, 0.0, 0.0, 0.0, 3.331691821109885, 0.0, 0.0, 0.0, 0.0, 1.385781672054572, 0.0, 0.0, 0.0, 2.422700391717342, 0.28716938338646225, 6.5433622622568155, 7.710737827645629, 0.0, 0.0, 0.0, 0.0, 0.0, 0.0, 0.0, 0.0, 0.0], 'type': 'choropleth'}], 'name': '2014'}, {'data': [{'coloraxis': 'coloraxis', 'geo': 'geo', 'hovertemplate': '<b>%{hovertext}</b><br><br>period=2015<br>iso_code=%{location}<br>score=%{z}<extra></extra>', 'hovertext': ['Afghanistan', 'Albania', 'Algeria', 'American Samoa', 'Andorra', 'Angola', 'Anguilla', 'Antarctica', 'Antigua and Barbuda', 'Argentina', 'Armenia', 'Aruba', 'Australia', 'Austria', 'Azerbaijan', 'Bahamas', 'Bangladesh', 'Barbados', 'Belarus', 'Belgium', 'Belize', 'Bermuda', 'Bhutan', 'Bolivia', 'Bosnia and Herzegovina', 'Botswana', 'Bouvet Island', 'Brazil', 'Bulgaria', 'Burkina Faso', 'Burundi', 'Cambodia', 'Canada', 'Cayman Islands', 'Chile', 'China', 'Colombia', 'Congo', 'Costa Rica', 'Croatia', 'Cuba', 'Cyprus', 'Czech Republic', 'Denmark', 'Dominican Republic', 'East Timor', 'Ecuador', 'Egypt', 'El Salvador', 'Equatorial Guinea', 'Estonia', 'Ethiopia', 'Falkland Islands', 'Faroe Islands', 'Fiji Islands', 'Finland', 'France', 'French Guiana', 'Georgia', 'Germany', 'Ghana', 'Gibraltar', 'Greece', 'Greenland', 'Guam', 'Guatemala', 'Guernsey', 'Haiti', 'Heard and McDonald Islands', 'Honduras', 'Hong Kong', 'Hungary', 'Iceland', 'India', 'Indonesia', 'Iran', 'Iraq', 'Ireland', 'Isle of Man', 'Israel', 'Italy', 'Ivory Coast', 'Jamaica', 'Japan', 'Jersey', 'Jordan', 'Kazakhstan', 'Kenya', 'Kosovo', 'Kyrgyzstan', 'Laos', 'Latvia', 'Lebanon', 'Lesotho', 'Liechtenstein', 'Lithuania', 'Luxembourg', 'Macau', 'Macedonia', 'Malaysia', 'Malta', 'Malvinas', 'Marshall Islands', 'Mauritania', 'Mauritius', 'Mexico', 'Micronesia', 'Moldova', 'Monaco', 'Mongolia', 'Montenegro', 'Montserrat', 'Morocco', 'Mozambique', 'Namibia', 'Nepal', 'Netherlands', 'New Caledonia', 'New Zealand', 'Nicaragua', 'Nigeria', 'Norfolk Island', 'North Korea', 'Northern Mariana Islands', 'Norway', 'Oman', 'Pakistan', 'Palestine', 'Panama', 'Papua New Guinea', 'Paraguay', 'Peru', 'Philippines', 'Poland', 'Portugal', 'Puerto Rico', 'Romania', 'Russia', 'Rwanda', 'Saint Helena', 'Saint Lucia', 'Saint Vincent and The Grenadines', 'San Marino', 'Saudi Arabia', 'Serbia', 'Singapore', 'Sint Maarten', 'Slovak Republic', 'Slovakia', 'Slovenia', 'Solomon Islands', 'South Africa', 'South Georgia and South Sandwich Islands', 'South Korea', 'Spain', 'Sri Lanka', 'Sudan', 'Svalbard and Jan Mayen Islands', 'Sweden', 'Switzerland', 'Syria', 'Taiwan', 'Tajikistan', 'Tanzania', 'Thailand', 'Togo', 'Tokelau', 'Trinidad and Tobago', 'Tunisia', 'Turkey', 'Turkmenistan', 'Tuvalu', 'Uganda', 'Ukraine', 'United Arab Emirates', 'United Kingdom', 'United States', 'Uruguay', 'Uzbekistan', 'Vanuatu', 'Vatican City', 'Venezuela', 'Vietnam', 'Yemen', 'Zambia', 'Zimbabwe'], 'locations': ['AFG', 'ALB', 'DZA', 'ASM', 'AND', 'AGO', 'AIA', 'ATA', 'ATG', 'ARG', 'ARM', 'ABW', 'AUS', 'AUT', 'AZE', 'BHS', 'BGD', 'BRB', 'BLR', 'BEL', 'BLZ', 'BMU', 'BTN', 'BOL', 'BIH', 'BWA', 'BVT', 'BRA', 'BGR', 'BFA', 'BDI', 'KHM', 'CAN', 'CYM', 'CHL', 'CHN', 'COL', 'COG', 'CRI', 'HRV', 'CUB', 'CYP', 'CZE', 'DNK', 'DOM', 'TLS', 'ECU', 'EGY', 'SLV', 'GNQ', 'EST', 'ETH', 'FLK', 'FRO', 'FJI', 'FIN', 'FRA', 'GUF', 'GEO', 'DEU', 'GHA', 'GIB', 'GRC', 'GRL', 'GUM', 'GTM', 'GGY', 'HTI', 'HMD', 'HND', 'HKG', 'HUN', 'ISL', 'IND', 'IDN', 'IRN', 'IRQ', 'IRL', 'IMN', 'ISR', 'ITA', 'CIV', 'JAM', 'JPN', 'JEY', 'JOR', 'KAZ', 'KEN', 'XKX', 'KGZ', 'LAO', 'LVA', 'LBN', 'LSO', 'LIE', 'LTU', 'LUX', 'MAC', 'MKD', 'MYS', 'MLT', 'FLK', 'MHL', 'MRT', 'MUS', 'MEX', 'FSM', 'MDA', 'MCO', 'MNG', 'MNE', 'MSR', 'MAR', 'MOZ', 'NAM', 'NPL', 'NLD', 'NCL', 'NZL', 'NIC', 'NGA', 'NFK', 'PRK', 'MNP', 'NOR', 'OMN', 'PAK', 'PSE', 'PAN', 'PNG', 'PRY', 'PER', 'PHL', 'POL', 'PRT', 'PRI', 'ROU', 'RUS', 'RWA', 'SHN', 'LCA', 'VCT', 'SMR', 'SAU', 'SRB', 'SGP', 'SXM', 'SVK', 'SVK', 'SVN', 'SLB', 'ZAF', 'SGS', 'KOR', 'ESP', 'LKA', 'SDN', 'SJM', 'SWE', 'CHE', 'SYR', 'TWN', 'TJK', 'TZA', 'THA', 'TGO', 'TKL', 'TTO', 'TUN', 'TUR', 'TKM', 'TUV', 'UGA', 'UKR', 'ARE', 'GBR', 'USA', 'URY', 'UZB', 'VUT', 'VAT', 'VEN', 'VNM', 'YEM', 'ZMB', 'ZWE'], 'name': '', 'z': [0.0, 0.0, 0.0, 0.0, 0.0, 0.0, 0.0, 0.0, 0.0, 0.0, 0.0, 0.0, 4.1423960162542155, 2.9327574743926026, -0.44596705141749426, 0.0, 0.0, 0.0, 2.725118109614358, 6.219928958054492, 0.0, 0.06485857234849644, 0.0, 0.0, 0.0, 0.0, 0.0, 3.8934999688375913, 0.0, 0.0, 0.0, 0.0, 5.914471495216237, 0.0, 1.3457924178105607, 2.326621670822287, 0.0, 0.0, 0.0, 4.09732773085251, 0.0, 0.4013308089697093, 3.6945186668024617, 6.838968166460715, 0.0, 0.0, 0.0, 0.0, 0.0, 0.0, 4.090210263083645, 0.0, 0.0, 0.0, 0.0, 5.188822551751755, 7.088261274856595, 0.0, 0.0, 6.581791019959339, 0.0, 0.0, 4.709249471489869, 0.0, 0.0, 0.0, 0.0, 0.0, 0.0, 0.0, 3.1739195312094903, 3.009297551514937, 1.713517197935878, 0.0, 0.0, 0.0, 0.0, 2.9772092369634366, 0.0, 4.364861371543787, 4.666020736939049, 0.0, 0.0, 4.064892455099356, 0.0, 0.0, 0.0, 0.0, 0.0, 0.0, 0.0, 3.2003527882776464, 0.0, 0.0, 0.0, 1.9211565627141227, 2.703915901963755, 0.0, 0.0, 3.251211205511137, 0.0, 0.0, 3.099811559055769, 0.0, 0.0, 0.0, 0.0, 2.6450754019408214, 0.0, 0.0, 0.0, 0.0, 0.0, 0.0, 0.0, 0.0, 6.708648305496169, 0.0, 2.645075401940822, 0.0, 0.0, 0.0, 0.0, 0.0, 5.7785913778578655, 0.0, 0.0, 0.0, 0.0, 0.0, 0.0, 0.0, 0.0, 5.155536574118289, 3.8353180134548555, 0.0, 3.0352730379181976, 3.579384639317655, 0.0, 0.0, 0.0, 0.0, 0.0, 0.0, 2.416233829511974, 0.0, 0.24718012914245102, 4.313353814397855, 0.0, 3.7686266389561833, 0.0, 1.9519282213808764, 0.0, 0.0, 5.633966143678096, 0.0, 0.0, 0.0, 6.004503370726682, 5.545497495690488, 0.0, 1.3457924178105607, 0.0, 0.0, 2.92132877856898, 0.0, 0.0, 0.0, 0.0, 1.4999430976378192, 0.0, 0.0, 0.0, 3.0998115590557687, 0.0, 6.22733091635016, 6.451737891711141, 0.0, 0.0, 0.0, 0.0, 0.0, 0.0, 0.0, 0.0, 0.0], 'type': 'choropleth'}], 'name': '2015'}, {'data': [{'coloraxis': 'coloraxis', 'geo': 'geo', 'hovertemplate': '<b>%{hovertext}</b><br><br>period=2016<br>iso_code=%{location}<br>score=%{z}<extra></extra>', 'hovertext': ['Afghanistan', 'Albania', 'Algeria', 'American Samoa', 'Andorra', 'Angola', 'Anguilla', 'Antarctica', 'Antigua and Barbuda', 'Argentina', 'Armenia', 'Aruba', 'Australia', 'Austria', 'Azerbaijan', 'Bahamas', 'Bangladesh', 'Barbados', 'Belarus', 'Belgium', 'Belize', 'Bermuda', 'Bhutan', 'Bolivia', 'Bosnia and Herzegovina', 'Botswana', 'Bouvet Island', 'Brazil', 'Bulgaria', 'Burkina Faso', 'Burundi', 'Cambodia', 'Canada', 'Cayman Islands', 'Chile', 'China', 'Colombia', 'Congo', 'Costa Rica', 'Croatia', 'Cuba', 'Cyprus', 'Czech Republic', 'Denmark', 'Dominican Republic', 'East Timor', 'Ecuador', 'Egypt', 'El Salvador', 'Equatorial Guinea', 'Estonia', 'Ethiopia', 'Falkland Islands', 'Faroe Islands', 'Fiji Islands', 'Finland', 'France', 'French Guiana', 'Georgia', 'Germany', 'Ghana', 'Gibraltar', 'Greece', 'Greenland', 'Guam', 'Guatemala', 'Guernsey', 'Haiti', 'Heard and McDonald Islands', 'Honduras', 'Hong Kong', 'Hungary', 'Iceland', 'India', 'Indonesia', 'Iran', 'Iraq', 'Ireland', 'Isle of Man', 'Israel', 'Italy', 'Ivory Coast', 'Jamaica', 'Japan', 'Jersey', 'Jordan', 'Kazakhstan', 'Kenya', 'Kosovo', 'Kyrgyzstan', 'Laos', 'Latvia', 'Lebanon', 'Lesotho', 'Liechtenstein', 'Lithuania', 'Luxembourg', 'Macau', 'Macedonia', 'Malaysia', 'Malta', 'Malvinas', 'Marshall Islands', 'Mauritania', 'Mauritius', 'Mexico', 'Micronesia', 'Moldova', 'Monaco', 'Mongolia', 'Montenegro', 'Montserrat', 'Morocco', 'Mozambique', 'Namibia', 'Nepal', 'Netherlands', 'New Caledonia', 'New Zealand', 'Nicaragua', 'Nigeria', 'Norfolk Island', 'North Korea', 'Northern Mariana Islands', 'Norway', 'Oman', 'Pakistan', 'Palestine', 'Panama', 'Papua New Guinea', 'Paraguay', 'Peru', 'Philippines', 'Poland', 'Portugal', 'Puerto Rico', 'Romania', 'Russia', 'Rwanda', 'Saint Helena', 'Saint Lucia', 'Saint Vincent and The Grenadines', 'San Marino', 'Saudi Arabia', 'Serbia', 'Singapore', 'Sint Maarten', 'Slovak Republic', 'Slovakia', 'Slovenia', 'Solomon Islands', 'South Africa', 'South Georgia and South Sandwich Islands', 'South Korea', 'Spain', 'Sri Lanka', 'Sudan', 'Svalbard and Jan Mayen Islands', 'Sweden', 'Switzerland', 'Syria', 'Taiwan', 'Tajikistan', 'Tanzania', 'Thailand', 'Togo', 'Tokelau', 'Trinidad and Tobago', 'Tunisia', 'Turkey', 'Turkmenistan', 'Tuvalu', 'Uganda', 'Ukraine', 'United Arab Emirates', 'United Kingdom', 'United States', 'Uruguay', 'Uzbekistan', 'Vanuatu', 'Vatican City', 'Venezuela', 'Vietnam', 'Yemen', 'Zambia', 'Zimbabwe'], 'locations': ['AFG', 'ALB', 'DZA', 'ASM', 'AND', 'AGO', 'AIA', 'ATA', 'ATG', 'ARG', 'ARM', 'ABW', 'AUS', 'AUT', 'AZE', 'BHS', 'BGD', 'BRB', 'BLR', 'BEL', 'BLZ', 'BMU', 'BTN', 'BOL', 'BIH', 'BWA', 'BVT', 'BRA', 'BGR', 'BFA', 'BDI', 'KHM', 'CAN', 'CYM', 'CHL', 'CHN', 'COL', 'COG', 'CRI', 'HRV', 'CUB', 'CYP', 'CZE', 'DNK', 'DOM', 'TLS', 'ECU', 'EGY', 'SLV', 'GNQ', 'EST', 'ETH', 'FLK', 'FRO', 'FJI', 'FIN', 'FRA', 'GUF', 'GEO', 'DEU', 'GHA', 'GIB', 'GRC', 'GRL', 'GUM', 'GTM', 'GGY', 'HTI', 'HMD', 'HND', 'HKG', 'HUN', 'ISL', 'IND', 'IDN', 'IRN', 'IRQ', 'IRL', 'IMN', 'ISR', 'ITA', 'CIV', 'JAM', 'JPN', 'JEY', 'JOR', 'KAZ', 'KEN', 'XKX', 'KGZ', 'LAO', 'LVA', 'LBN', 'LSO', 'LIE', 'LTU', 'LUX', 'MAC', 'MKD', 'MYS', 'MLT', 'FLK', 'MHL', 'MRT', 'MUS', 'MEX', 'FSM', 'MDA', 'MCO', 'MNG', 'MNE', 'MSR', 'MAR', 'MOZ', 'NAM', 'NPL', 'NLD', 'NCL', 'NZL', 'NIC', 'NGA', 'NFK', 'PRK', 'MNP', 'NOR', 'OMN', 'PAK', 'PSE', 'PAN', 'PNG', 'PRY', 'PER', 'PHL', 'POL', 'PRT', 'PRI', 'ROU', 'RUS', 'RWA', 'SHN', 'LCA', 'VCT', 'SMR', 'SAU', 'SRB', 'SGP', 'SXM', 'SVK', 'SVK', 'SVN', 'SLB', 'ZAF', 'SGS', 'KOR', 'ESP', 'LKA', 'SDN', 'SJM', 'SWE', 'CHE', 'SYR', 'TWN', 'TJK', 'TZA', 'THA', 'TGO', 'TKL', 'TTO', 'TUN', 'TUR', 'TKM', 'TUV', 'UGA', 'UKR', 'ARE', 'GBR', 'USA', 'URY', 'UZB', 'VUT', 'VAT', 'VEN', 'VNM', 'YEM', 'ZMB', 'ZWE'], 'name': '', 'z': [0.0, 0.0, 0.0, 0.0, 0.0, 0.0, 0.0, 0.0, 0.0, 1.9467412635660852, 0.0, 0.0, 3.281742330298425, 2.9022527085935215, 0.0, 0.0, 0.0, 0.0, 2.9022527085935215, 6.661110741519169, 0.0, 0.0, 0.0, 0.0, 0.0, 0.0, 0.0, 2.9022527085935215, 0.0, 0.0, 0.0, 0.0, 5.397949065802902, 0.0, 0.6627257515666127, 2.2031707925137614, 0.0, 0.0, 0.0, 3.7537682049249286, 0.0, 0.0, 3.2938149115326945, 6.763044703586677, 2.203170792513762, 0.0, 0.0, 0.0, 0.0, 0.0, 4.359904008495244, 0.0, 0.0, 0.0, 0.0, 5.689890347614079, 8.169714278319905, 0.0, 0.0, 6.392825534540187, 0.0, 0.0, 3.2147717041922417, -0.14820446464971598, 0.0, -0.2817358572742387, 0.0, 0.0, 0.0, 0.0, 2.8027919150628837, 3.9335613153655244, 2.0490201126865033, 0.0, 0.17024926646881866, 0.0, 0.0, 3.019378065830934, 0.0, 4.018460759152011, 4.351605205680549, 0.0, 0.0, 1.7613380402347225, 1.0681908596747771, 0.0, 0.0, 0.0, 0.0, 0.0, 0.0, 2.3367021851382845, 0.0, 0.0, 0.0, 3.0298493656982295, 0.6627257515666126, 0.0, 0.0, 2.90815243072071, 0.0, 0.0, 1.5100236119538162, 0.0, 0.0, 1.9154887200619808, 0.0, 1.3277020551598617, 0.0, 0.0, 0.0, 0.0, 0.0, 0.0, 0.0, 0.0, 6.501427544122184, 0.0, 2.0490201126865033, 0.0, 0.0, 0.0, 0.9504078240183936, 0.0, 5.216602643167153, 0.0, 0.0, 0.0, 0.0, 0.0, 0.0, 0.0, 0.0, 4.179233979739762, 4.649650065167877, 0.0, 2.9763606807472436, 2.90815243072071, 0.0, 0.0, 0.0, 0.0, 0.0, 0.0, 2.416744892811821, 2.3775241796585393, 0.0, 3.812608704947862, 0.0, 2.6996076788276526, 0.0, 2.7351986239303554, 0.0, 1.355872932126558, 5.639459493987188, 0.0, 0.0, 0.0, 5.8752431283113165, 5.563050024845186, 0.0, 2.0490201126865033, 0.0, 0.0, 4.041450277376709, 0.0, 0.0, 0.0, 0.0, 0.0, 0.0, 0.0, 0.0, 1.9620087356968736, 0.0, 6.345171088834682, 6.482478920992656, 0.0, 0.0, 0.0, 0.0, 0.0, 0.0, 0.0, 0.0, 0.0], 'type': 'choropleth'}], 'name': '2016'}, {'data': [{'coloraxis': 'coloraxis', 'geo': 'geo', 'hovertemplate': '<b>%{hovertext}</b><br><br>period=2017<br>iso_code=%{location}<br>score=%{z}<extra></extra>', 'hovertext': ['Afghanistan', 'Albania', 'Algeria', 'American Samoa', 'Andorra', 'Angola', 'Anguilla', 'Antarctica', 'Antigua and Barbuda', 'Argentina', 'Armenia', 'Aruba', 'Australia', 'Austria', 'Azerbaijan', 'Bahamas', 'Bangladesh', 'Barbados', 'Belarus', 'Belgium', 'Belize', 'Bermuda', 'Bhutan', 'Bolivia', 'Bosnia and Herzegovina', 'Botswana', 'Bouvet Island', 'Brazil', 'Bulgaria', 'Burkina Faso', 'Burundi', 'Cambodia', 'Canada', 'Cayman Islands', 'Chile', 'China', 'Colombia', 'Congo', 'Costa Rica', 'Croatia', 'Cuba', 'Cyprus', 'Czech Republic', 'Denmark', 'Dominican Republic', 'East Timor', 'Ecuador', 'Egypt', 'El Salvador', 'Equatorial Guinea', 'Estonia', 'Ethiopia', 'Falkland Islands', 'Faroe Islands', 'Fiji Islands', 'Finland', 'France', 'French Guiana', 'Georgia', 'Germany', 'Ghana', 'Gibraltar', 'Greece', 'Greenland', 'Guam', 'Guatemala', 'Guernsey', 'Haiti', 'Heard and McDonald Islands', 'Honduras', 'Hong Kong', 'Hungary', 'Iceland', 'India', 'Indonesia', 'Iran', 'Iraq', 'Ireland', 'Isle of Man', 'Israel', 'Italy', 'Ivory Coast', 'Jamaica', 'Japan', 'Jersey', 'Jordan', 'Kazakhstan', 'Kenya', 'Kosovo', 'Kyrgyzstan', 'Laos', 'Latvia', 'Lebanon', 'Lesotho', 'Liechtenstein', 'Lithuania', 'Luxembourg', 'Macau', 'Macedonia', 'Malaysia', 'Malta', 'Malvinas', 'Marshall Islands', 'Mauritania', 'Mauritius', 'Mexico', 'Micronesia', 'Moldova', 'Monaco', 'Mongolia', 'Montenegro', 'Montserrat', 'Morocco', 'Mozambique', 'Namibia', 'Nepal', 'Netherlands', 'New Caledonia', 'New Zealand', 'Nicaragua', 'Nigeria', 'Norfolk Island', 'North Korea', 'Northern Mariana Islands', 'Norway', 'Oman', 'Pakistan', 'Palestine', 'Panama', 'Papua New Guinea', 'Paraguay', 'Peru', 'Philippines', 'Poland', 'Portugal', 'Puerto Rico', 'Romania', 'Russia', 'Rwanda', 'Saint Helena', 'Saint Lucia', 'Saint Vincent and The Grenadines', 'San Marino', 'Saudi Arabia', 'Serbia', 'Singapore', 'Sint Maarten', 'Slovak Republic', 'Slovakia', 'Slovenia', 'Solomon Islands', 'South Africa', 'South Georgia and South Sandwich Islands', 'South Korea', 'Spain', 'Sri Lanka', 'Sudan', 'Svalbard and Jan Mayen Islands', 'Sweden', 'Switzerland', 'Syria', 'Taiwan', 'Tajikistan', 'Tanzania', 'Thailand', 'Togo', 'Tokelau', 'Trinidad and Tobago', 'Tunisia', 'Turkey', 'Turkmenistan', 'Tuvalu', 'Uganda', 'Ukraine', 'United Arab Emirates', 'United Kingdom', 'United States', 'Uruguay', 'Uzbekistan', 'Vanuatu', 'Vatican City', 'Venezuela', 'Vietnam', 'Yemen', 'Zambia', 'Zimbabwe'], 'locations': ['AFG', 'ALB', 'DZA', 'ASM', 'AND', 'AGO', 'AIA', 'ATA', 'ATG', 'ARG', 'ARM', 'ABW', 'AUS', 'AUT', 'AZE', 'BHS', 'BGD', 'BRB', 'BLR', 'BEL', 'BLZ', 'BMU', 'BTN', 'BOL', 'BIH', 'BWA', 'BVT', 'BRA', 'BGR', 'BFA', 'BDI', 'KHM', 'CAN', 'CYM', 'CHL', 'CHN', 'COL', 'COG', 'CRI', 'HRV', 'CUB', 'CYP', 'CZE', 'DNK', 'DOM', 'TLS', 'ECU', 'EGY', 'SLV', 'GNQ', 'EST', 'ETH', 'FLK', 'FRO', 'FJI', 'FIN', 'FRA', 'GUF', 'GEO', 'DEU', 'GHA', 'GIB', 'GRC', 'GRL', 'GUM', 'GTM', 'GGY', 'HTI', 'HMD', 'HND', 'HKG', 'HUN', 'ISL', 'IND', 'IDN', 'IRN', 'IRQ', 'IRL', 'IMN', 'ISR', 'ITA', 'CIV', 'JAM', 'JPN', 'JEY', 'JOR', 'KAZ', 'KEN', 'XKX', 'KGZ', 'LAO', 'LVA', 'LBN', 'LSO', 'LIE', 'LTU', 'LUX', 'MAC', 'MKD', 'MYS', 'MLT', 'FLK', 'MHL', 'MRT', 'MUS', 'MEX', 'FSM', 'MDA', 'MCO', 'MNG', 'MNE', 'MSR', 'MAR', 'MOZ', 'NAM', 'NPL', 'NLD', 'NCL', 'NZL', 'NIC', 'NGA', 'NFK', 'PRK', 'MNP', 'NOR', 'OMN', 'PAK', 'PSE', 'PAN', 'PNG', 'PRY', 'PER', 'PHL', 'POL', 'PRT', 'PRI', 'ROU', 'RUS', 'RWA', 'SHN', 'LCA', 'VCT', 'SMR', 'SAU', 'SRB', 'SGP', 'SXM', 'SVK', 'SVK', 'SVN', 'SLB', 'ZAF', 'SGS', 'KOR', 'ESP', 'LKA', 'SDN', 'SJM', 'SWE', 'CHE', 'SYR', 'TWN', 'TJK', 'TZA', 'THA', 'TGO', 'TKL', 'TTO', 'TUN', 'TUR', 'TKM', 'TUV', 'UGA', 'UKR', 'ARE', 'GBR', 'USA', 'URY', 'UZB', 'VUT', 'VAT', 'VEN', 'VNM', 'YEM', 'ZMB', 'ZWE'], 'name': '', 'z': [0.0, 0.0, 0.0, 0.0, 0.0, 0.0, 0.0, 0.0, 0.0, 0.0, 0.0, 0.0, 3.4153791012064665, 1.0640038440429889, 0.0, 0.0, 0.0, 0.0, 3.10707774155195, 7.0981172872983205, 0.0, 0.0, 0.0, 0.0, 0.0, 0.0, 0.0, 2.296147525335621, 0.9898958718892672, 0.0, 0.0, 0.0, 5.084240434111368, 0.0, 0.0, 1.5159889677860463, 0.0, 0.0, 0.0, 4.375589067015458, 0.0, 0.37085666348304364, 3.7430665082719465, 6.3266940329478745, 2.1138259685416667, 0.0, 0.0, 0.0, 0.6221710917639498, 0.0, 3.954375601939154, 0.0, 0.0, 0.37085666348304364, 0.0, 4.132056779176606, 8.232583741307025, 0.0, 0.0, 6.355871886911118, 0.0, 0.0, 0.37085666348304364, 1.6830430524492126, 0.0, 0.0, 0.0, 0.0, 0.0, 0.0, 2.0084654528838404, 3.8630258233509256, 0.0, 0.0, 0.0, 0.0, 0.0, 3.723263880975767, 0.0, 4.734864792654247, 5.124446854589408, 0.0, 0.0, 2.806973149101612, 0.0, 0.0, 0.0, 0.0, 0.0, 0.0, 0.0, 3.387791144687638, 0.0, 0.0, 0.0, 2.7016126334437858, 0.8228417872261011, 0.0, 0.0, 2.4502982051628797, 0.0, 0.0, 0.0, 0.0, 0.0, 2.0084654528838404, 0.0, 2.23160900419805, 0.0, 0.0, 0.0, 0.0, 0.0, 0.0, 0.0, 0.0, 6.687505487438387, 0.0, 1.603000344775676, 0.0, 0.0, 0.0, 0.21670598365578533, 0.0, 4.752883298156926, 0.0, 0.0, 0.0, 0.727531607421776, 0.0, 0.0, 0.0, 0.0, 5.792655086802101, 4.841678796940056, 0.0, 3.554845229350804, 2.5838295977874024, 0.0, 0.0, 0.0, 0.0, 0.0, 0.0, 1.9214540758942107, 0.9098531642157306, 0.0, 3.8802676297854317, 0.0, 2.0885081605573768, 0.0, 3.723263880975767, 0.0, 0.727531607421776, 5.154770584917205, 0.0, 0.0, 0.0, 5.662005540552467, 4.892645240532084, 0.0, 2.9892947058955666, 0.0, 0.0, 1.1975352366675116, 0.0, 0.0, 0.0, 0.0, 0.0, 0.0, 0.0, 0.0, 0.0, 0.0, 7.103578051721499, 6.884298706154118, 0.0, 0.0, 0.0, 0.0, 0.9898958718892672, 0.0, 0.0, 0.0, 0.0], 'type': 'choropleth'}], 'name': '2017'}]}\n"
     ]
    }
   ],
   "source": [
    "f = open('beermap.json')\n",
    "  \n",
    "# returns JSON object as \n",
    "# a dictionary\n",
    "data = json.load(f)\n",
    "  \n",
    "# Closing file\n",
    "f.close()\n",
    "\n",
    "print(data)"
   ]
  },
  {
   "cell_type": "code",
   "execution_count": 13,
   "id": "e44c7ac4",
   "metadata": {},
   "outputs": [
    {
     "data": {
      "text/plain": [
       "'{\"data\":[{\"coloraxis\":\"coloraxis\",\"customdata\":[[\"AGO\",\"2004\",2.0,0.3],[\"AUS\",\"2004\",20.0,1.3],[\"BEL\",\"2004\",12.0,1.08],[\"BOL\",\"2004\",2.0,0.3],[\"CAN\",\"2004\",138.0,2.14],[\"HRV\",\"2004\",15.0,1.18],[\"CZE\",\"2004\",3.0,0.48],[\"DNK\",\"2004\",93.0,1.97],[\"FIN\",\"2004\",10.0,1.0],[\"FRA\",\"2004\",3.0,0.48],[\"DEU\",\"2004\",15.0,1.18],[\"ISL\",\"2004\",2.0,0.3],[\"ITA\",\"2004\",19.0,1.28],[\"JPN\",\"2004\",7.0,0.85],[\"NLD\",\"2004\",28.0,1.45],[\"NOR\",\"2004\",2.0,0.3],[\"POL\",\"2004\",2.0,0.3],[\"KOR\",\"2004\",2.0,0.3],[\"ESP\",\"2004\",5.0,0.7],[\"SWE\",\"2004\",24.0,1.38],[\"CHE\",\"2004\",27.0,1.43],[\"TUR\",\"2004\",2.0,0.3],[\"GBR\",\"2004\",130.0,2.11],[\"USA\",\"2004\",445.0,2.65]],\"geo\":\"geo\",\"hovertemplate\":\"<b>%{hovertext}</b><br><br>distribued beer=%{customdata[2]:.0f}<br>happiness gauge=%{z:.2f}<extra></extra>\",\"hovertext\":[\"Angola\",\"Australia\",\"Belgium\",\"Bolivia\",\"Canada\",\"Croatia\",\"Czech Republic\",\"Denmark\",\"Finland\",\"France\",\"Germany\",\"Iceland\",\"Italy\",\"Japan\",\"Netherlands\",\"Norway\",\"Poland\",\"South Korea\",\"Spain\",\"Sweden\",\"Switzerland\",\"Turkey\",\"United Kingdom\",\"United States\"],\"locations\":[\"AGO\",\"AUS\",\"BEL\",\"BOL\",\"CAN\",\"HRV\",\"CZE\",\"DNK\",\"FIN\",\"FRA\",\"DEU\",\"ISL\",\"ITA\",\"JPN\",\"NLD\",\"NOR\",\"POL\",\"KOR\",\"ESP\",\"SWE\",\"CHE\",\"TUR\",\"GBR\",\"USA\"],\"name\":\"\",\"z\":[0.3,1.3,1.08,0.3,2.14,1.18,0.48,1.97,1.0,0.48,1.18,0.3,1.28,0.85,1.45,0.3,0.3,0.3,0.7,1.38,1.43,0.3,2.11,2.65],\"type\":\"choropleth\"}],\"layout\":{\"template\":{\"data\":{\"histogram2dcontour\":[{\"type\":\"histogram2dcontour\",\"colorbar\":{\"outlinewidth\":0,\"ticks\":\"\"},\"colorscale\":[[0.0,\"#0d0887\"],[0.1111111111111111,\"#46039f\"],[0.2222222222222222,\"#7201a8\"],[0.3333333333333333,\"#9c179e\"],[0.4444444444444444,\"#bd3786\"],[0.5555555555555556,\"#d8576b\"],[0.6666666666666666,\"#ed7953\"],[0.7777777777777778,\"#fb9f3a\"],[0.8888888888888888,\"#fdca26\"],[1.0,\"#f0f921\"]]}],\"choropleth\":[{\"type\":\"choropleth\",\"colorbar\":{\"outlinewidth\":0,\"ticks\":\"\"}}],\"histogram2d\":[{\"type\":\"histogram2d\",\"colorbar\":{\"outlinewidth\":0,\"ticks\":\"\"},\"colorscale\":[[0.0,\"#0d0887\"],[0.1111111111111111,\"#46039f\"],[0.2222222222222222,\"#7201a8\"],[0.3333333333333333,\"#9c179e\"],[0.4444444444444444,\"#bd3786\"],[0.5555555555555556,\"#d8576b\"],[0.6666666666666666,\"#ed7953\"],[0.7777777777777778,\"#fb9f3a\"],[0.8888888888888888,\"#fdca26\"],[1.0,\"#f0f921\"]]}],\"heatmap\":[{\"type\":\"heatmap\",\"colorbar\":{\"outlinewidth\":0,\"ticks\":\"\"},\"colorscale\":[[0.0,\"#0d0887\"],[0.1111111111111111,\"#46039f\"],[0.2222222222222222,\"#7201a8\"],[0.3333333333333333,\"#9c179e\"],[0.4444444444444444,\"#bd3786\"],[0.5555555555555556,\"#d8576b\"],[0.6666666666666666,\"#ed7953\"],[0.7777777777777778,\"#fb9f3a\"],[0.8888888888888888,\"#fdca26\"],[1.0,\"#f0f921\"]]}],\"heatmapgl\":[{\"type\":\"heatmapgl\",\"colorbar\":{\"outlinewidth\":0,\"ticks\":\"\"},\"colorscale\":[[0.0,\"#0d0887\"],[0.1111111111111111,\"#46039f\"],[0.2222222222222222,\"#7201a8\"],[0.3333333333333333,\"#9c179e\"],[0.4444444444444444,\"#bd3786\"],[0.5555555555555556,\"#d8576b\"],[0.6666666666666666,\"#ed7953\"],[0.7777777777777778,\"#fb9f3a\"],[0.8888888888888888,\"#fdca26\"],[1.0,\"#f0f921\"]]}],\"contourcarpet\":[{\"type\":\"contourcarpet\",\"colorbar\":{\"outlinewidth\":0,\"ticks\":\"\"}}],\"contour\":[{\"type\":\"contour\",\"colorbar\":{\"outlinewidth\":0,\"ticks\":\"\"},\"colorscale\":[[0.0,\"#0d0887\"],[0.1111111111111111,\"#46039f\"],[0.2222222222222222,\"#7201a8\"],[0.3333333333333333,\"#9c179e\"],[0.4444444444444444,\"#bd3786\"],[0.5555555555555556,\"#d8576b\"],[0.6666666666666666,\"#ed7953\"],[0.7777777777777778,\"#fb9f3a\"],[0.8888888888888888,\"#fdca26\"],[1.0,\"#f0f921\"]]}],\"surface\":[{\"type\":\"surface\",\"colorbar\":{\"outlinewidth\":0,\"ticks\":\"\"},\"colorscale\":[[0.0,\"#0d0887\"],[0.1111111111111111,\"#46039f\"],[0.2222222222222222,\"#7201a8\"],[0.3333333333333333,\"#9c179e\"],[0.4444444444444444,\"#bd3786\"],[0.5555555555555556,\"#d8576b\"],[0.6666666666666666,\"#ed7953\"],[0.7777777777777778,\"#fb9f3a\"],[0.8888888888888888,\"#fdca26\"],[1.0,\"#f0f921\"]]}],\"mesh3d\":[{\"type\":\"mesh3d\",\"colorbar\":{\"outlinewidth\":0,\"ticks\":\"\"}}],\"scatter\":[{\"fillpattern\":{\"fillmode\":\"overlay\",\"size\":10,\"solidity\":0.2},\"type\":\"scatter\"}],\"parcoords\":[{\"type\":\"parcoords\",\"line\":{\"colorbar\":{\"outlinewidth\":0,\"ticks\":\"\"}}}],\"scatterpolargl\":[{\"type\":\"scatterpolargl\",\"marker\":{\"colorbar\":{\"outlinewidth\":0,\"ticks\":\"\"}}}],\"bar\":[{\"error_x\":{\"color\":\"#2a3f5f\"},\"error_y\":{\"color\":\"#2a3f5f\"},\"marker\":{\"line\":{\"color\":\"#E5ECF6\",\"width\":0.5},\"pattern\":{\"fillmode\":\"overlay\",\"size\":10,\"solidity\":0.2}},\"type\":\"bar\"}],\"scattergeo\":[{\"type\":\"scattergeo\",\"marker\":{\"colorbar\":{\"outlinewidth\":0,\"ticks\":\"\"}}}],\"scatterpolar\":[{\"type\":\"scatterpolar\",\"marker\":{\"colorbar\":{\"outlinewidth\":0,\"ticks\":\"\"}}}],\"histogram\":[{\"marker\":{\"pattern\":{\"fillmode\":\"overlay\",\"size\":10,\"solidity\":0.2}},\"type\":\"histogram\"}],\"scattergl\":[{\"type\":\"scattergl\",\"marker\":{\"colorbar\":{\"outlinewidth\":0,\"ticks\":\"\"}}}],\"scatter3d\":[{\"type\":\"scatter3d\",\"line\":{\"colorbar\":{\"outlinewidth\":0,\"ticks\":\"\"}},\"marker\":{\"colorbar\":{\"outlinewidth\":0,\"ticks\":\"\"}}}],\"scattermapbox\":[{\"type\":\"scattermapbox\",\"marker\":{\"colorbar\":{\"outlinewidth\":0,\"ticks\":\"\"}}}],\"scatterternary\":[{\"type\":\"scatterternary\",\"marker\":{\"colorbar\":{\"outlinewidth\":0,\"ticks\":\"\"}}}],\"scattercarpet\":[{\"type\":\"scattercarpet\",\"marker\":{\"colorbar\":{\"outlinewidth\":0,\"ticks\":\"\"}}}],\"carpet\":[{\"aaxis\":{\"endlinecolor\":\"#2a3f5f\",\"gridcolor\":\"white\",\"linecolor\":\"white\",\"minorgridcolor\":\"white\",\"startlinecolor\":\"#2a3f5f\"},\"baxis\":{\"endlinecolor\":\"#2a3f5f\",\"gridcolor\":\"white\",\"linecolor\":\"white\",\"minorgridcolor\":\"white\",\"startlinecolor\":\"#2a3f5f\"},\"type\":\"carpet\"}],\"table\":[{\"cells\":{\"fill\":{\"color\":\"#EBF0F8\"},\"line\":{\"color\":\"white\"}},\"header\":{\"fill\":{\"color\":\"#C8D4E3\"},\"line\":{\"color\":\"white\"}},\"type\":\"table\"}],\"barpolar\":[{\"marker\":{\"line\":{\"color\":\"#E5ECF6\",\"width\":0.5},\"pattern\":{\"fillmode\":\"overlay\",\"size\":10,\"solidity\":0.2}},\"type\":\"barpolar\"}],\"pie\":[{\"automargin\":true,\"type\":\"pie\"}]},\"layout\":{\"autotypenumbers\":\"strict\",\"colorway\":[\"#636efa\",\"#EF553B\",\"#00cc96\",\"#ab63fa\",\"#FFA15A\",\"#19d3f3\",\"#FF6692\",\"#B6E880\",\"#FF97FF\",\"#FECB52\"],\"font\":{\"color\":\"#2a3f5f\"},\"hovermode\":\"closest\",\"hoverlabel\":{\"align\":\"left\"},\"paper_bgcolor\":\"white\",\"plot_bgcolor\":\"#E5ECF6\",\"polar\":{\"bgcolor\":\"#E5ECF6\",\"angularaxis\":{\"gridcolor\":\"white\",\"linecolor\":\"white\",\"ticks\":\"\"},\"radialaxis\":{\"gridcolor\":\"white\",\"linecolor\":\"white\",\"ticks\":\"\"}},\"ternary\":{\"bgcolor\":\"#E5ECF6\",\"aaxis\":{\"gridcolor\":\"white\",\"linecolor\":\"white\",\"ticks\":\"\"},\"baxis\":{\"gridcolor\":\"white\",\"linecolor\":\"white\",\"ticks\":\"\"},\"caxis\":{\"gridcolor\":\"white\",\"linecolor\":\"white\",\"ticks\":\"\"}},\"coloraxis\":{\"colorbar\":{\"outlinewidth\":0,\"ticks\":\"\"}},\"colorscale\":{\"sequential\":[[0.0,\"#0d0887\"],[0.1111111111111111,\"#46039f\"],[0.2222222222222222,\"#7201a8\"],[0.3333333333333333,\"#9c179e\"],[0.4444444444444444,\"#bd3786\"],[0.5555555555555556,\"#d8576b\"],[0.6666666666666666,\"#ed7953\"],[0.7777777777777778,\"#fb9f3a\"],[0.8888888888888888,\"#fdca26\"],[1.0,\"#f0f921\"]],\"sequentialminus\":[[0.0,\"#0d0887\"],[0.1111111111111111,\"#46039f\"],[0.2222222222222222,\"#7201a8\"],[0.3333333333333333,\"#9c179e\"],[0.4444444444444444,\"#bd3786\"],[0.5555555555555556,\"#d8576b\"],[0.6666666666666666,\"#ed7953\"],[0.7777777777777778,\"#fb9f3a\"],[0.8888888888888888,\"#fdca26\"],[1.0,\"#f0f921\"]],\"diverging\":[[0,\"#8e0152\"],[0.1,\"#c51b7d\"],[0.2,\"#de77ae\"],[0.3,\"#f1b6da\"],[0.4,\"#fde0ef\"],[0.5,\"#f7f7f7\"],[0.6,\"#e6f5d0\"],[0.7,\"#b8e186\"],[0.8,\"#7fbc41\"],[0.9,\"#4d9221\"],[1,\"#276419\"]]},\"xaxis\":{\"gridcolor\":\"white\",\"linecolor\":\"white\",\"ticks\":\"\",\"title\":{\"standoff\":15},\"zerolinecolor\":\"white\",\"automargin\":true,\"zerolinewidth\":2},\"yaxis\":{\"gridcolor\":\"white\",\"linecolor\":\"white\",\"ticks\":\"\",\"title\":{\"standoff\":15},\"zerolinecolor\":\"white\",\"automargin\":true,\"zerolinewidth\":2},\"scene\":{\"xaxis\":{\"backgroundcolor\":\"#E5ECF6\",\"gridcolor\":\"white\",\"linecolor\":\"white\",\"showbackground\":true,\"ticks\":\"\",\"zerolinecolor\":\"white\",\"gridwidth\":2},\"yaxis\":{\"backgroundcolor\":\"#E5ECF6\",\"gridcolor\":\"white\",\"linecolor\":\"white\",\"showbackground\":true,\"ticks\":\"\",\"zerolinecolor\":\"white\",\"gridwidth\":2},\"zaxis\":{\"backgroundcolor\":\"#E5ECF6\",\"gridcolor\":\"white\",\"linecolor\":\"white\",\"showbackground\":true,\"ticks\":\"\",\"zerolinecolor\":\"white\",\"gridwidth\":2}},\"shapedefaults\":{\"line\":{\"color\":\"#2a3f5f\"}},\"annotationdefaults\":{\"arrowcolor\":\"#2a3f5f\",\"arrowhead\":0,\"arrowwidth\":1},\"geo\":{\"bgcolor\":\"white\",\"landcolor\":\"#E5ECF6\",\"subunitcolor\":\"white\",\"showland\":true,\"showlakes\":true,\"lakecolor\":\"white\"},\"title\":{\"x\":0.05},\"mapbox\":{\"style\":\"light\"}}},\"geo\":{\"domain\":{\"x\":[0.0,1.0],\"y\":[0.0,1.0]},\"center\":{},\"projection\":{\"type\":\"natural earth\"}},\"coloraxis\":{\"colorbar\":{\"title\":{\"text\":\"happiness gauge\"}},\"colorscale\":[[0.0,\"rgb(255,245,235)\"],[0.125,\"rgb(254,230,206)\"],[0.25,\"rgb(253,208,162)\"],[0.375,\"rgb(253,174,107)\"],[0.5,\"rgb(253,141,60)\"],[0.625,\"rgb(241,105,19)\"],[0.75,\"rgb(217,72,1)\"],[0.875,\"rgb(166,54,3)\"],[1.0,\"rgb(127,39,4)\"]],\"cmin\":0,\"cmax\":2.78},\"legend\":{\"tracegroupgap\":0},\"title\":{\"text\":\"Distribution brewery in France producing Ale-type beers\",\"xanchor\":\"center\",\"yanchor\":\"top\",\"y\":0.98,\"x\":0.5},\"height\":700,\"width\":900,\"sliders\":[{\"active\":0,\"currentvalue\":{\"prefix\":\"year=\"},\"len\":0.9,\"pad\":{\"b\":10,\"t\":60},\"steps\":[{\"args\":[[\"2004\"],{\"frame\":{\"duration\":0,\"redraw\":true},\"mode\":\"immediate\",\"fromcurrent\":true,\"transition\":{\"duration\":0,\"easing\":\"linear\"}}],\"label\":\"2004\",\"method\":\"animate\"},{\"args\":[[\"2005\"],{\"frame\":{\"duration\":0,\"redraw\":true},\"mode\":\"immediate\",\"fromcurrent\":true,\"transition\":{\"duration\":0,\"easing\":\"linear\"}}],\"label\":\"2005\",\"method\":\"animate\"},{\"args\":[[\"2006\"],{\"frame\":{\"duration\":0,\"redraw\":true},\"mode\":\"immediate\",\"fromcurrent\":true,\"transition\":{\"duration\":0,\"easing\":\"linear\"}}],\"label\":\"2006\",\"method\":\"animate\"},{\"args\":[[\"2007\"],{\"frame\":{\"duration\":0,\"redraw\":true},\"mode\":\"immediate\",\"fromcurrent\":true,\"transition\":{\"duration\":0,\"easing\":\"linear\"}}],\"label\":\"2007\",\"method\":\"animate\"},{\"args\":[[\"2008\"],{\"frame\":{\"duration\":0,\"redraw\":true},\"mode\":\"immediate\",\"fromcurrent\":true,\"transition\":{\"duration\":0,\"easing\":\"linear\"}}],\"label\":\"2008\",\"method\":\"animate\"},{\"args\":[[\"2009\"],{\"frame\":{\"duration\":0,\"redraw\":true},\"mode\":\"immediate\",\"fromcurrent\":true,\"transition\":{\"duration\":0,\"easing\":\"linear\"}}],\"label\":\"2009\",\"method\":\"animate\"},{\"args\":[[\"2010\"],{\"frame\":{\"duration\":0,\"redraw\":true},\"mode\":\"immediate\",\"fromcurrent\":true,\"transition\":{\"duration\":0,\"easing\":\"linear\"}}],\"label\":\"2010\",\"method\":\"animate\"},{\"args\":[[\"2011\"],{\"frame\":{\"duration\":0,\"redraw\":true},\"mode\":\"immediate\",\"fromcurrent\":true,\"transition\":{\"duration\":0,\"easing\":\"linear\"}}],\"label\":\"2011\",\"method\":\"animate\"},{\"args\":[[\"2012\"],{\"frame\":{\"duration\":0,\"redraw\":true},\"mode\":\"immediate\",\"fromcurrent\":true,\"transition\":{\"duration\":0,\"easing\":\"linear\"}}],\"label\":\"2012\",\"method\":\"animate\"},{\"args\":[[\"2013\"],{\"frame\":{\"duration\":0,\"redraw\":true},\"mode\":\"immediate\",\"fromcurrent\":true,\"transition\":{\"duration\":0,\"easing\":\"linear\"}}],\"label\":\"2013\",\"method\":\"animate\"},{\"args\":[[\"2014\"],{\"frame\":{\"duration\":0,\"redraw\":true},\"mode\":\"immediate\",\"fromcurrent\":true,\"transition\":{\"duration\":0,\"easing\":\"linear\"}}],\"label\":\"2014\",\"method\":\"animate\"},{\"args\":[[\"2015\"],{\"frame\":{\"duration\":0,\"redraw\":true},\"mode\":\"immediate\",\"fromcurrent\":true,\"transition\":{\"duration\":0,\"easing\":\"linear\"}}],\"label\":\"2015\",\"method\":\"animate\"},{\"args\":[[\"2016\"],{\"frame\":{\"duration\":0,\"redraw\":true},\"mode\":\"immediate\",\"fromcurrent\":true,\"transition\":{\"duration\":0,\"easing\":\"linear\"}}],\"label\":\"2016\",\"method\":\"animate\"}],\"x\":0.1,\"xanchor\":\"left\",\"y\":0,\"yanchor\":\"top\"}],\"margin\":{\"r\":0,\"t\":3,\"l\":0,\"b\":0},\"updatemenus\":[{\"buttons\":[{\"args\":[{\"geo\":{\"projection\":{\"type\":\"natural earth\"}}}],\"label\":\"natural earth\",\"method\":\"relayout\"},{\"args\":[{\"geo\":{\"projection\":{\"type\":\"equirectangular\"}}}],\"label\":\"equirectangular\",\"method\":\"relayout\"},{\"args\":[{\"geo\":{\"projection\":{\"type\":\"orthographic\"}}}],\"label\":\"orthographic\",\"method\":\"relayout\"},{\"args\":[{\"geo\":{\"projection\":{\"type\":\"mercator\"}}}],\"label\":\"mercator\",\"method\":\"relayout\"}],\"direction\":\"down\",\"pad\":{\"r\":10,\"t\":10},\"showactive\":true,\"type\":\"dropdown\",\"x\":0,\"xanchor\":\"left\",\"y\":1.1,\"yanchor\":\"top\"}]},\"frames\":[{\"data\":[{\"coloraxis\":\"coloraxis\",\"customdata\":[[\"AGO\",\"2004\",2.0,0.3],[\"AUS\",\"2004\",20.0,1.3],[\"BEL\",\"2004\",12.0,1.08],[\"BOL\",\"2004\",2.0,0.3],[\"CAN\",\"2004\",138.0,2.14],[\"HRV\",\"2004\",15.0,1.18],[\"CZE\",\"2004\",3.0,0.48],[\"DNK\",\"2004\",93.0,1.97],[\"FIN\",\"2004\",10.0,1.0],[\"FRA\",\"2004\",3.0,0.48],[\"DEU\",\"2004\",15.0,1.18],[\"ISL\",\"2004\",2.0,0.3],[\"ITA\",\"2004\",19.0,1.28],[\"JPN\",\"2004\",7.0,0.85],[\"NLD\",\"2004\",28.0,1.45],[\"NOR\",\"2004\",2.0,0.3],[\"POL\",\"2004\",2.0,0.3],[\"KOR\",\"2004\",2.0,0.3],[\"ESP\",\"2004\",5.0,0.7],[\"SWE\",\"2004\",24.0,1.38],[\"CHE\",\"2004\",27.0,1.43],[\"TUR\",\"2004\",2.0,0.3],[\"GBR\",\"2004\",130.0,2.11],[\"USA\",\"2004\",445.0,2.65]],\"geo\":\"geo\",\"hovertemplate\":\"<b>%{hovertext}</b><br><br>distribued beer=%{customdata[2]:.0f}<br>happiness gauge=%{z:.2f}<extra></extra>\",\"hovertext\":[\"Angola\",\"Australia\",\"Belgium\",\"Bolivia\",\"Canada\",\"Croatia\",\"Czech Republic\",\"Denmark\",\"Finland\",\"France\",\"Germany\",\"Iceland\",\"Italy\",\"Japan\",\"Netherlands\",\"Norway\",\"Poland\",\"South Korea\",\"Spain\",\"Sweden\",\"Switzerland\",\"Turkey\",\"United Kingdom\",\"United States\"],\"locations\":[\"AGO\",\"AUS\",\"BEL\",\"BOL\",\"CAN\",\"HRV\",\"CZE\",\"DNK\",\"FIN\",\"FRA\",\"DEU\",\"ISL\",\"ITA\",\"JPN\",\"NLD\",\"NOR\",\"POL\",\"KOR\",\"ESP\",\"SWE\",\"CHE\",\"TUR\",\"GBR\",\"USA\"],\"name\":\"\",\"z\":[0.3,1.3,1.08,0.3,2.14,1.18,0.48,1.97,1.0,0.48,1.18,0.3,1.28,0.85,1.45,0.3,0.3,0.3,0.7,1.38,1.43,0.3,2.11,2.65],\"type\":\"choropleth\"}],\"name\":\"2004\"},{\"data\":[{\"coloraxis\":\"coloraxis\",\"customdata\":[[\"AUS\",\"2005\",23.0,1.36],[\"AUT\",\"2005\",13.0,1.11],[\"BEL\",\"2005\",16.0,1.2],[\"CAN\",\"2005\",120.0,2.08],[\"HRV\",\"2005\",2.0,0.3],[\"DNK\",\"2005\",218.0,2.34],[\"FIN\",\"2005\",12.0,1.08],[\"FRA\",\"2005\",8.0,0.9],[\"DEU\",\"2005\",15.0,1.18],[\"IRL\",\"2005\",3.0,0.48],[\"ITA\",\"2005\",12.0,1.08],[\"JPN\",\"2005\",3.0,0.48],[\"LUX\",\"2005\",3.0,0.48],[\"NLD\",\"2005\",16.0,1.2],[\"NZL\",\"2005\",3.0,0.48],[\"NOR\",\"2005\",10.0,1.0],[\"POL\",\"2005\",3.0,0.48],[\"PRT\",\"2005\",3.0,0.48],[\"ZAF\",\"2005\",2.0,0.3],[\"KOR\",\"2005\",2.0,0.3],[\"ESP\",\"2005\",3.0,0.48],[\"SWE\",\"2005\",33.0,1.52],[\"CHE\",\"2005\",10.0,1.0],[\"TWN\",\"2005\",2.0,0.3],[\"THA\",\"2005\",2.0,0.3],[\"GBR\",\"2005\",128.0,2.11],[\"USA\",\"2005\",452.0,2.66]],\"geo\":\"geo\",\"hovertemplate\":\"<b>%{hovertext}</b><br><br>distribued beer=%{customdata[2]:.0f}<br>happiness gauge=%{z:.2f}<extra></extra>\",\"hovertext\":[\"Australia\",\"Austria\",\"Belgium\",\"Canada\",\"Croatia\",\"Denmark\",\"Finland\",\"France\",\"Germany\",\"Ireland\",\"Italy\",\"Japan\",\"Luxembourg\",\"Netherlands\",\"New Zealand\",\"Norway\",\"Poland\",\"Portugal\",\"South Africa\",\"South Korea\",\"Spain\",\"Sweden\",\"Switzerland\",\"Taiwan\",\"Thailand\",\"United Kingdom\",\"United States\"],\"locations\":[\"AUS\",\"AUT\",\"BEL\",\"CAN\",\"HRV\",\"DNK\",\"FIN\",\"FRA\",\"DEU\",\"IRL\",\"ITA\",\"JPN\",\"LUX\",\"NLD\",\"NZL\",\"NOR\",\"POL\",\"PRT\",\"ZAF\",\"KOR\",\"ESP\",\"SWE\",\"CHE\",\"TWN\",\"THA\",\"GBR\",\"USA\"],\"name\":\"\",\"z\":[1.36,1.11,1.2,2.08,0.3,2.34,1.08,0.9,1.18,0.48,1.08,0.48,0.48,1.2,0.48,1.0,0.48,0.48,0.3,0.3,0.48,1.52,1.0,0.3,0.3,2.11,2.66],\"type\":\"choropleth\"}],\"name\":\"2005\"},{\"data\":[{\"coloraxis\":\"coloraxis\",\"customdata\":[[\"AUS\",\"2006\",39.0,1.59],[\"AUT\",\"2006\",3.0,0.48],[\"BEL\",\"2006\",33.0,1.52],[\"BRA\",\"2006\",3.0,0.48],[\"CAN\",\"2006\",102.0,2.01],[\"HRV\",\"2006\",12.0,1.08],[\"DNK\",\"2006\",242.0,2.38],[\"SLV\",\"2006\",3.0,0.48],[\"FIN\",\"2006\",23.0,1.36],[\"FRA\",\"2006\",4.0,0.6],[\"DEU\",\"2006\",21.0,1.32],[\"GRC\",\"2006\",2.0,0.3],[\"IRL\",\"2006\",8.0,0.9],[\"ITA\",\"2006\",5.0,0.7],[\"JPN\",\"2006\",2.0,0.3],[\"MEX\",\"2006\",6.0,0.78],[\"NLD\",\"2006\",22.0,1.34],[\"NZL\",\"2006\",9.0,0.95],[\"NOR\",\"2006\",31.0,1.49],[\"POL\",\"2006\",5.0,0.7],[\"PRT\",\"2006\",3.0,0.48],[\"RUS\",\"2006\",2.0,0.3],[\"SWE\",\"2006\",32.0,1.51],[\"CHE\",\"2006\",18.0,1.26],[\"GBR\",\"2006\",158.0,2.2],[\"USA\",\"2006\",390.0,2.59]],\"geo\":\"geo\",\"hovertemplate\":\"<b>%{hovertext}</b><br><br>distribued beer=%{customdata[2]:.0f}<br>happiness gauge=%{z:.2f}<extra></extra>\",\"hovertext\":[\"Australia\",\"Austria\",\"Belgium\",\"Brazil\",\"Canada\",\"Croatia\",\"Denmark\",\"El Salvador\",\"Finland\",\"France\",\"Germany\",\"Greece\",\"Ireland\",\"Italy\",\"Japan\",\"Mexico\",\"Netherlands\",\"New Zealand\",\"Norway\",\"Poland\",\"Portugal\",\"Russia\",\"Sweden\",\"Switzerland\",\"United Kingdom\",\"United States\"],\"locations\":[\"AUS\",\"AUT\",\"BEL\",\"BRA\",\"CAN\",\"HRV\",\"DNK\",\"SLV\",\"FIN\",\"FRA\",\"DEU\",\"GRC\",\"IRL\",\"ITA\",\"JPN\",\"MEX\",\"NLD\",\"NZL\",\"NOR\",\"POL\",\"PRT\",\"RUS\",\"SWE\",\"CHE\",\"GBR\",\"USA\"],\"name\":\"\",\"z\":[1.59,0.48,1.52,0.48,2.01,1.08,2.38,0.48,1.36,0.6,1.32,0.3,0.9,0.7,0.3,0.78,1.34,0.95,1.49,0.7,0.48,0.3,1.51,1.26,2.2,2.59],\"type\":\"choropleth\"}],\"name\":\"2006\"},{\"data\":[{\"coloraxis\":\"coloraxis\",\"customdata\":[[\"AUS\",\"2007\",13.0,1.11],[\"AUT\",\"2007\",7.0,0.85],[\"BEL\",\"2007\",38.0,1.58],[\"BOL\",\"2007\",2.0,0.3],[\"BRA\",\"2007\",5.0,0.7],[\"CAN\",\"2007\",80.0,1.9],[\"CHL\",\"2007\",2.0,0.3],[\"CHN\",\"2007\",2.0,0.3],[\"HRV\",\"2007\",8.0,0.9],[\"CZE\",\"2007\",2.0,0.3],[\"DNK\",\"2007\",231.0,2.36],[\"SLV\",\"2007\",2.0,0.3],[\"EST\",\"2007\",6.0,0.78],[\"FRO\",\"2007\",22.0,1.34],[\"FIN\",\"2007\",57.0,1.76],[\"FRA\",\"2007\",6.0,0.78],[\"DEU\",\"2007\",45.0,1.65],[\"HUN\",\"2007\",2.0,0.3],[\"IRL\",\"2007\",13.0,1.11],[\"ITA\",\"2007\",20.0,1.3],[\"JPN\",\"2007\",2.0,0.3],[\"LUX\",\"2007\",3.0,0.48],[\"NLD\",\"2007\",45.0,1.65],[\"NZL\",\"2007\",4.0,0.6],[\"NOR\",\"2007\",33.0,1.52],[\"POL\",\"2007\",4.0,0.6],[\"ESP\",\"2007\",5.0,0.7],[\"SWE\",\"2007\",73.0,1.86],[\"CHE\",\"2007\",10.0,1.0],[\"TWN\",\"2007\",2.0,0.3],[\"THA\",\"2007\",3.0,0.48],[\"GBR\",\"2007\",92.0,1.96],[\"USA\",\"2007\",364.0,2.56],[\"VEN\",\"2007\",2.0,0.3]],\"geo\":\"geo\",\"hovertemplate\":\"<b>%{hovertext}</b><br><br>distribued beer=%{customdata[2]:.0f}<br>happiness gauge=%{z:.2f}<extra></extra>\",\"hovertext\":[\"Australia\",\"Austria\",\"Belgium\",\"Bolivia\",\"Brazil\",\"Canada\",\"Chile\",\"China\",\"Croatia\",\"Czech Republic\",\"Denmark\",\"El Salvador\",\"Estonia\",\"Faroe Islands\",\"Finland\",\"France\",\"Germany\",\"Hungary\",\"Ireland\",\"Italy\",\"Japan\",\"Luxembourg\",\"Netherlands\",\"New Zealand\",\"Norway\",\"Poland\",\"Spain\",\"Sweden\",\"Switzerland\",\"Taiwan\",\"Thailand\",\"United Kingdom\",\"United States\",\"Venezuela\"],\"locations\":[\"AUS\",\"AUT\",\"BEL\",\"BOL\",\"BRA\",\"CAN\",\"CHL\",\"CHN\",\"HRV\",\"CZE\",\"DNK\",\"SLV\",\"EST\",\"FRO\",\"FIN\",\"FRA\",\"DEU\",\"HUN\",\"IRL\",\"ITA\",\"JPN\",\"LUX\",\"NLD\",\"NZL\",\"NOR\",\"POL\",\"ESP\",\"SWE\",\"CHE\",\"TWN\",\"THA\",\"GBR\",\"USA\",\"VEN\"],\"name\":\"\",\"z\":[1.11,0.85,1.58,0.3,0.7,1.9,0.3,0.3,0.9,0.3,2.36,0.3,0.78,1.34,1.76,0.78,1.65,0.3,1.11,1.3,0.3,0.48,1.65,0.6,1.52,0.6,0.7,1.86,1.0,0.3,0.48,1.96,2.56,0.3],\"type\":\"choropleth\"}],\"name\":\"2007\"},{\"data\":[{\"coloraxis\":\"coloraxis\",\"customdata\":[[\"AND\",\"2008\",2.0,0.3],[\"AUS\",\"2008\",11.0,1.04],[\"BEL\",\"2008\",71.0,1.85],[\"BRA\",\"2008\",6.0,0.78],[\"CAN\",\"2008\",114.0,2.06],[\"HRV\",\"2008\",15.0,1.18],[\"CYP\",\"2008\",2.0,0.3],[\"CZE\",\"2008\",2.0,0.3],[\"DNK\",\"2008\",188.0,2.27],[\"SLV\",\"2008\",2.0,0.3],[\"EST\",\"2008\",11.0,1.04],[\"FRO\",\"2008\",12.0,1.08],[\"FIN\",\"2008\",69.0,1.84],[\"FRA\",\"2008\",11.0,1.04],[\"DEU\",\"2008\",20.0,1.3],[\"HUN\",\"2008\",9.0,0.95],[\"ISL\",\"2008\",2.0,0.3],[\"IRL\",\"2008\",38.0,1.58],[\"ISR\",\"2008\",3.0,0.48],[\"ITA\",\"2008\",13.0,1.11],[\"JPN\",\"2008\",10.0,1.0],[\"LTU\",\"2008\",2.0,0.3],[\"LUX\",\"2008\",3.0,0.48],[\"MEX\",\"2008\",2.0,0.3],[\"NLD\",\"2008\",45.0,1.65],[\"NOR\",\"2008\",16.0,1.2],[\"PAN\",\"2008\",2.0,0.3],[\"POL\",\"2008\",7.0,0.85],[\"PRT\",\"2008\",2.0,0.3],[\"ESP\",\"2008\",8.0,0.9],[\"SWE\",\"2008\",25.0,1.4],[\"CHE\",\"2008\",24.0,1.38],[\"GBR\",\"2008\",117.0,2.07],[\"USA\",\"2008\",391.0,2.59]],\"geo\":\"geo\",\"hovertemplate\":\"<b>%{hovertext}</b><br><br>distribued beer=%{customdata[2]:.0f}<br>happiness gauge=%{z:.2f}<extra></extra>\",\"hovertext\":[\"Andorra\",\"Australia\",\"Belgium\",\"Brazil\",\"Canada\",\"Croatia\",\"Cyprus\",\"Czech Republic\",\"Denmark\",\"El Salvador\",\"Estonia\",\"Faroe Islands\",\"Finland\",\"France\",\"Germany\",\"Hungary\",\"Iceland\",\"Ireland\",\"Israel\",\"Italy\",\"Japan\",\"Lithuania\",\"Luxembourg\",\"Mexico\",\"Netherlands\",\"Norway\",\"Panama\",\"Poland\",\"Portugal\",\"Spain\",\"Sweden\",\"Switzerland\",\"United Kingdom\",\"United States\"],\"locations\":[\"AND\",\"AUS\",\"BEL\",\"BRA\",\"CAN\",\"HRV\",\"CYP\",\"CZE\",\"DNK\",\"SLV\",\"EST\",\"FRO\",\"FIN\",\"FRA\",\"DEU\",\"HUN\",\"ISL\",\"IRL\",\"ISR\",\"ITA\",\"JPN\",\"LTU\",\"LUX\",\"MEX\",\"NLD\",\"NOR\",\"PAN\",\"POL\",\"PRT\",\"ESP\",\"SWE\",\"CHE\",\"GBR\",\"USA\"],\"name\":\"\",\"z\":[0.3,1.04,1.85,0.78,2.06,1.18,0.3,0.3,2.27,0.3,1.04,1.08,1.84,1.04,1.3,0.95,0.3,1.58,0.48,1.11,1.0,0.3,0.48,0.3,1.65,1.2,0.3,0.85,0.3,0.9,1.4,1.38,2.07,2.59],\"type\":\"choropleth\"}],\"name\":\"2008\"},{\"data\":[{\"coloraxis\":\"coloraxis\",\"customdata\":[[\"AUS\",\"2009\",10.0,1.0],[\"AUT\",\"2009\",4.0,0.6],[\"BEL\",\"2009\",37.0,1.57],[\"BRA\",\"2009\",5.0,0.7],[\"CAN\",\"2009\",185.0,2.27],[\"CHL\",\"2009\",2.0,0.3],[\"HRV\",\"2009\",27.0,1.43],[\"CZE\",\"2009\",2.0,0.3],[\"DNK\",\"2009\",177.0,2.25],[\"EST\",\"2009\",2.0,0.3],[\"FRO\",\"2009\",12.0,1.08],[\"FIN\",\"2009\",32.0,1.51],[\"FRA\",\"2009\",12.0,1.08],[\"DEU\",\"2009\",22.0,1.34],[\"GRC\",\"2009\",4.0,0.6],[\"HUN\",\"2009\",3.0,0.48],[\"IRL\",\"2009\",22.0,1.34],[\"ISR\",\"2009\",4.0,0.6],[\"ITA\",\"2009\",20.0,1.3],[\"JPN\",\"2009\",8.0,0.9],[\"LTU\",\"2009\",2.0,0.3],[\"MEX\",\"2009\",2.0,0.3],[\"NLD\",\"2009\",31.0,1.49],[\"NZL\",\"2009\",3.0,0.48],[\"NOR\",\"2009\",76.0,1.88],[\"POL\",\"2009\",4.0,0.6],[\"PRT\",\"2009\",2.0,0.3],[\"ESP\",\"2009\",4.0,0.6],[\"SWE\",\"2009\",51.0,1.71],[\"CHE\",\"2009\",25.0,1.4],[\"TWN\",\"2009\",3.0,0.48],[\"TUR\",\"2009\",2.0,0.3],[\"GBR\",\"2009\",118.0,2.07],[\"USA\",\"2009\",405.0,2.61],[\"VEN\",\"2009\",4.0,0.6]],\"geo\":\"geo\",\"hovertemplate\":\"<b>%{hovertext}</b><br><br>distribued beer=%{customdata[2]:.0f}<br>happiness gauge=%{z:.2f}<extra></extra>\",\"hovertext\":[\"Australia\",\"Austria\",\"Belgium\",\"Brazil\",\"Canada\",\"Chile\",\"Croatia\",\"Czech Republic\",\"Denmark\",\"Estonia\",\"Faroe Islands\",\"Finland\",\"France\",\"Germany\",\"Greece\",\"Hungary\",\"Ireland\",\"Israel\",\"Italy\",\"Japan\",\"Lithuania\",\"Mexico\",\"Netherlands\",\"New Zealand\",\"Norway\",\"Poland\",\"Portugal\",\"Spain\",\"Sweden\",\"Switzerland\",\"Taiwan\",\"Turkey\",\"United Kingdom\",\"United States\",\"Venezuela\"],\"locations\":[\"AUS\",\"AUT\",\"BEL\",\"BRA\",\"CAN\",\"CHL\",\"HRV\",\"CZE\",\"DNK\",\"EST\",\"FRO\",\"FIN\",\"FRA\",\"DEU\",\"GRC\",\"HUN\",\"IRL\",\"ISR\",\"ITA\",\"JPN\",\"LTU\",\"MEX\",\"NLD\",\"NZL\",\"NOR\",\"POL\",\"PRT\",\"ESP\",\"SWE\",\"CHE\",\"TWN\",\"TUR\",\"GBR\",\"USA\",\"VEN\"],\"name\":\"\",\"z\":[1.0,0.6,1.57,0.7,2.27,0.3,1.43,0.3,2.25,0.3,1.08,1.51,1.08,1.34,0.6,0.48,1.34,0.6,1.3,0.9,0.3,0.3,1.49,0.48,1.88,0.6,0.3,0.6,1.71,1.4,0.48,0.3,2.07,2.61,0.6],\"type\":\"choropleth\"}],\"name\":\"2009\"},{\"data\":[{\"coloraxis\":\"coloraxis\",\"customdata\":[[\"AUS\",\"2010\",6.0,0.78],[\"AUT\",\"2010\",7.0,0.85],[\"BEL\",\"2010\",43.0,1.63],[\"BMU\",\"2010\",2.0,0.3],[\"BRA\",\"2010\",4.0,0.6],[\"CAN\",\"2010\",207.0,2.32],[\"HRV\",\"2010\",8.0,0.9],[\"CZE\",\"2010\",3.0,0.48],[\"DNK\",\"2010\",593.0,2.77],[\"EST\",\"2010\",3.0,0.48],[\"FRO\",\"2010\",4.0,0.6],[\"FIN\",\"2010\",23.0,1.36],[\"FRA\",\"2010\",87.0,1.94],[\"DEU\",\"2010\",26.0,1.41],[\"GRC\",\"2010\",3.0,0.48],[\"HUN\",\"2010\",5.0,0.7],[\"IRL\",\"2010\",5.0,0.7],[\"ISR\",\"2010\",7.0,0.85],[\"ITA\",\"2010\",15.0,1.18],[\"JPN\",\"2010\",10.0,1.0],[\"LUX\",\"2010\",2.0,0.3],[\"MEX\",\"2010\",3.0,0.48],[\"MCO\",\"2010\",2.0,0.3],[\"NLD\",\"2010\",29.0,1.46],[\"NOR\",\"2010\",60.0,1.78],[\"POL\",\"2010\",3.0,0.48],[\"PRT\",\"2010\",2.0,0.3],[\"SVK\",\"2010\",3.0,0.48],[\"SVN\",\"2010\",3.0,0.48],[\"ESP\",\"2010\",7.0,0.85],[\"SWE\",\"2010\",18.0,1.26],[\"CHE\",\"2010\",50.0,1.7],[\"THA\",\"2010\",3.0,0.48],[\"GBR\",\"2010\",44.0,1.64],[\"USA\",\"2010\",415.0,2.62]],\"geo\":\"geo\",\"hovertemplate\":\"<b>%{hovertext}</b><br><br>distribued beer=%{customdata[2]:.0f}<br>happiness gauge=%{z:.2f}<extra></extra>\",\"hovertext\":[\"Australia\",\"Austria\",\"Belgium\",\"Bermuda\",\"Brazil\",\"Canada\",\"Croatia\",\"Czech Republic\",\"Denmark\",\"Estonia\",\"Faroe Islands\",\"Finland\",\"France\",\"Germany\",\"Greece\",\"Hungary\",\"Ireland\",\"Israel\",\"Italy\",\"Japan\",\"Luxembourg\",\"Mexico\",\"Monaco\",\"Netherlands\",\"Norway\",\"Poland\",\"Portugal\",\"Slovak Republic\",\"Slovenia\",\"Spain\",\"Sweden\",\"Switzerland\",\"Thailand\",\"United Kingdom\",\"United States\"],\"locations\":[\"AUS\",\"AUT\",\"BEL\",\"BMU\",\"BRA\",\"CAN\",\"HRV\",\"CZE\",\"DNK\",\"EST\",\"FRO\",\"FIN\",\"FRA\",\"DEU\",\"GRC\",\"HUN\",\"IRL\",\"ISR\",\"ITA\",\"JPN\",\"LUX\",\"MEX\",\"MCO\",\"NLD\",\"NOR\",\"POL\",\"PRT\",\"SVK\",\"SVN\",\"ESP\",\"SWE\",\"CHE\",\"THA\",\"GBR\",\"USA\"],\"name\":\"\",\"z\":[0.78,0.85,1.63,0.3,0.6,2.32,0.9,0.48,2.77,0.48,0.6,1.36,1.94,1.41,0.48,0.7,0.7,0.85,1.18,1.0,0.3,0.48,0.3,1.46,1.78,0.48,0.3,0.48,0.48,0.85,1.26,1.7,0.48,1.64,2.62],\"type\":\"choropleth\"}],\"name\":\"2010\"},{\"data\":[{\"coloraxis\":\"coloraxis\",\"customdata\":[[\"AUS\",\"2011\",13.0,1.11],[\"BEL\",\"2011\",56.0,1.75],[\"BMU\",\"2011\",3.0,0.48],[\"BRA\",\"2011\",2.0,0.3],[\"CAN\",\"2011\",110.0,2.04],[\"HRV\",\"2011\",40.0,1.6],[\"CYP\",\"2011\",2.0,0.3],[\"CZE\",\"2011\",4.0,0.6],[\"DNK\",\"2011\",438.0,2.64],[\"SLV\",\"2011\",2.0,0.3],[\"EST\",\"2011\",4.0,0.6],[\"FRO\",\"2011\",8.0,0.9],[\"FIN\",\"2011\",32.0,1.51],[\"FRA\",\"2011\",141.0,2.15],[\"DEU\",\"2011\",119.0,2.08],[\"GRC\",\"2011\",7.0,0.85],[\"HUN\",\"2011\",3.0,0.48],[\"IRL\",\"2011\",20.0,1.3],[\"ISR\",\"2011\",6.0,0.78],[\"ITA\",\"2011\",19.0,1.28],[\"JPN\",\"2011\",2.0,0.3],[\"LUX\",\"2011\",3.0,0.48],[\"MDA\",\"2011\",2.0,0.3],[\"NLD\",\"2011\",72.0,1.86],[\"NZL\",\"2011\",3.0,0.48],[\"PRK\",\"2011\",3.0,0.48],[\"NOR\",\"2011\",96.0,1.98],[\"POL\",\"2011\",6.0,0.78],[\"PRT\",\"2011\",3.0,0.48],[\"ROU\",\"2011\",2.0,0.3],[\"RUS\",\"2011\",2.0,0.3],[\"SVK\",\"2011\",5.0,0.7],[\"SVN\",\"2011\",2.0,0.3],[\"ESP\",\"2011\",15.0,1.18],[\"SWE\",\"2011\",58.0,1.76],[\"CHE\",\"2011\",34.0,1.53],[\"THA\",\"2011\",7.0,0.85],[\"GBR\",\"2011\",86.0,1.93],[\"USA\",\"2011\",429.0,2.63]],\"geo\":\"geo\",\"hovertemplate\":\"<b>%{hovertext}</b><br><br>distribued beer=%{customdata[2]:.0f}<br>happiness gauge=%{z:.2f}<extra></extra>\",\"hovertext\":[\"Australia\",\"Belgium\",\"Bermuda\",\"Brazil\",\"Canada\",\"Croatia\",\"Cyprus\",\"Czech Republic\",\"Denmark\",\"El Salvador\",\"Estonia\",\"Faroe Islands\",\"Finland\",\"France\",\"Germany\",\"Greece\",\"Hungary\",\"Ireland\",\"Israel\",\"Italy\",\"Japan\",\"Luxembourg\",\"Moldova\",\"Netherlands\",\"New Zealand\",\"North Korea\",\"Norway\",\"Poland\",\"Portugal\",\"Romania\",\"Russia\",\"Slovak Republic\",\"Slovenia\",\"Spain\",\"Sweden\",\"Switzerland\",\"Thailand\",\"United Kingdom\",\"United States\"],\"locations\":[\"AUS\",\"BEL\",\"BMU\",\"BRA\",\"CAN\",\"HRV\",\"CYP\",\"CZE\",\"DNK\",\"SLV\",\"EST\",\"FRO\",\"FIN\",\"FRA\",\"DEU\",\"GRC\",\"HUN\",\"IRL\",\"ISR\",\"ITA\",\"JPN\",\"LUX\",\"MDA\",\"NLD\",\"NZL\",\"PRK\",\"NOR\",\"POL\",\"PRT\",\"ROU\",\"RUS\",\"SVK\",\"SVN\",\"ESP\",\"SWE\",\"CHE\",\"THA\",\"GBR\",\"USA\"],\"name\":\"\",\"z\":[1.11,1.75,0.48,0.3,2.04,1.6,0.3,0.6,2.64,0.3,0.6,0.9,1.51,2.15,2.08,0.85,0.48,1.3,0.78,1.28,0.3,0.48,0.3,1.86,0.48,0.48,1.98,0.78,0.48,0.3,0.3,0.7,0.3,1.18,1.76,1.53,0.85,1.93,2.63],\"type\":\"choropleth\"}],\"name\":\"2011\"},{\"data\":[{\"coloraxis\":\"coloraxis\",\"customdata\":[[\"AUS\",\"2012\",11.0,1.04],[\"AUT\",\"2012\",2.0,0.3],[\"BLR\",\"2012\",2.0,0.3],[\"BEL\",\"2012\",35.0,1.54],[\"BMU\",\"2012\",2.0,0.3],[\"BRA\",\"2012\",2.0,0.3],[\"KHM\",\"2012\",2.0,0.3],[\"CAN\",\"2012\",99.0,2.0],[\"CHL\",\"2012\",2.0,0.3],[\"HRV\",\"2012\",16.0,1.2],[\"CYP\",\"2012\",4.0,0.6],[\"CZE\",\"2012\",7.0,0.85],[\"DNK\",\"2012\",489.0,2.69],[\"EST\",\"2012\",10.0,1.0],[\"FRO\",\"2012\",6.0,0.78],[\"FIN\",\"2012\",28.0,1.45],[\"FRA\",\"2012\",67.0,1.83],[\"DEU\",\"2012\",89.0,1.95],[\"GRC\",\"2012\",4.0,0.6],[\"HUN\",\"2012\",6.0,0.78],[\"IRL\",\"2012\",10.0,1.0],[\"ISR\",\"2012\",4.0,0.6],[\"ITA\",\"2012\",21.0,1.32],[\"JPN\",\"2012\",8.0,0.9],[\"LUX\",\"2012\",2.0,0.3],[\"MYS\",\"2012\",4.0,0.6],[\"MEX\",\"2012\",2.0,0.3],[\"NLD\",\"2012\",143.0,2.16],[\"NZL\",\"2012\",14.0,1.15],[\"NOR\",\"2012\",92.0,1.96],[\"POL\",\"2012\",28.0,1.45],[\"PRT\",\"2012\",6.0,0.78],[\"ROU\",\"2012\",4.0,0.6],[\"SGP\",\"2012\",2.0,0.3],[\"SVK\",\"2012\",2.0,0.3],[\"SVN\",\"2012\",7.0,0.85],[\"ZAF\",\"2012\",3.0,0.48],[\"ESP\",\"2012\",11.0,1.04],[\"SWE\",\"2012\",127.0,2.1],[\"CHE\",\"2012\",36.0,1.56],[\"THA\",\"2012\",11.0,1.04],[\"UKR\",\"2012\",2.0,0.3],[\"GBR\",\"2012\",87.0,1.94],[\"USA\",\"2012\",385.0,2.59],[\"VEN\",\"2012\",2.0,0.3]],\"geo\":\"geo\",\"hovertemplate\":\"<b>%{hovertext}</b><br><br>distribued beer=%{customdata[2]:.0f}<br>happiness gauge=%{z:.2f}<extra></extra>\",\"hovertext\":[\"Australia\",\"Austria\",\"Belarus\",\"Belgium\",\"Bermuda\",\"Brazil\",\"Cambodia\",\"Canada\",\"Chile\",\"Croatia\",\"Cyprus\",\"Czech Republic\",\"Denmark\",\"Estonia\",\"Faroe Islands\",\"Finland\",\"France\",\"Germany\",\"Greece\",\"Hungary\",\"Ireland\",\"Israel\",\"Italy\",\"Japan\",\"Luxembourg\",\"Malaysia\",\"Mexico\",\"Netherlands\",\"New Zealand\",\"Norway\",\"Poland\",\"Portugal\",\"Romania\",\"Singapore\",\"Slovak Republic\",\"Slovenia\",\"South Africa\",\"Spain\",\"Sweden\",\"Switzerland\",\"Thailand\",\"Ukraine\",\"United Kingdom\",\"United States\",\"Venezuela\"],\"locations\":[\"AUS\",\"AUT\",\"BLR\",\"BEL\",\"BMU\",\"BRA\",\"KHM\",\"CAN\",\"CHL\",\"HRV\",\"CYP\",\"CZE\",\"DNK\",\"EST\",\"FRO\",\"FIN\",\"FRA\",\"DEU\",\"GRC\",\"HUN\",\"IRL\",\"ISR\",\"ITA\",\"JPN\",\"LUX\",\"MYS\",\"MEX\",\"NLD\",\"NZL\",\"NOR\",\"POL\",\"PRT\",\"ROU\",\"SGP\",\"SVK\",\"SVN\",\"ZAF\",\"ESP\",\"SWE\",\"CHE\",\"THA\",\"UKR\",\"GBR\",\"USA\",\"VEN\"],\"name\":\"\",\"z\":[1.04,0.3,0.3,1.54,0.3,0.3,0.3,2.0,0.3,1.2,0.6,0.85,2.69,1.0,0.78,1.45,1.83,1.95,0.6,0.78,1.0,0.6,1.32,0.9,0.3,0.6,0.3,2.16,1.15,1.96,1.45,0.78,0.6,0.3,0.3,0.85,0.48,1.04,2.1,1.56,1.04,0.3,1.94,2.59,0.3],\"type\":\"choropleth\"}],\"name\":\"2012\"},{\"data\":[{\"coloraxis\":\"coloraxis\",\"customdata\":[[\"AUS\",\"2013\",19.0,1.28],[\"BEL\",\"2013\",140.0,2.15],[\"BRA\",\"2013\",8.0,0.9],[\"KHM\",\"2013\",3.0,0.48],[\"CAN\",\"2013\",81.0,1.91],[\"HRV\",\"2013\",12.0,1.08],[\"CYP\",\"2013\",7.0,0.85],[\"CZE\",\"2013\",8.0,0.9],[\"DNK\",\"2013\",183.0,2.26],[\"EST\",\"2013\",22.0,1.34],[\"FRO\",\"2013\",2.0,0.3],[\"FIN\",\"2013\",143.0,2.16],[\"FRA\",\"2013\",102.0,2.01],[\"DEU\",\"2013\",71.0,1.85],[\"GRC\",\"2013\",3.0,0.48],[\"HKG\",\"2013\",3.0,0.48],[\"HUN\",\"2013\",2.0,0.3],[\"IRL\",\"2013\",14.0,1.15],[\"ISR\",\"2013\",14.0,1.15],[\"ITA\",\"2013\",12.0,1.08],[\"JPN\",\"2013\",11.0,1.04],[\"KAZ\",\"2013\",2.0,0.3],[\"LVA\",\"2013\",3.0,0.48],[\"LTU\",\"2013\",2.0,0.3],[\"LUX\",\"2013\",3.0,0.48],[\"MYS\",\"2013\",4.0,0.6],[\"MEX\",\"2013\",2.0,0.3],[\"MDA\",\"2013\",2.0,0.3],[\"MOZ\",\"2013\",2.0,0.3],[\"NLD\",\"2013\",154.0,2.19],[\"NZL\",\"2013\",3.0,0.48],[\"NOR\",\"2013\",95.0,1.98],[\"PAN\",\"2013\",2.0,0.3],[\"POL\",\"2013\",26.0,1.41],[\"PRT\",\"2013\",8.0,0.9],[\"ROU\",\"2013\",2.0,0.3],[\"RUS\",\"2013\",2.0,0.3],[\"SRB\",\"2013\",2.0,0.3],[\"SGP\",\"2013\",2.0,0.3],[\"SVK\",\"2013\",8.0,0.9],[\"SVN\",\"2013\",11.0,1.04],[\"ESP\",\"2013\",29.0,1.46],[\"SWE\",\"2013\",44.0,1.64],[\"CHE\",\"2013\",18.0,1.26],[\"THA\",\"2013\",8.0,0.9],[\"TUR\",\"2013\",2.0,0.3],[\"GBR\",\"2013\",165.0,2.22],[\"USA\",\"2013\",479.0,2.68]],\"geo\":\"geo\",\"hovertemplate\":\"<b>%{hovertext}</b><br><br>distribued beer=%{customdata[2]:.0f}<br>happiness gauge=%{z:.2f}<extra></extra>\",\"hovertext\":[\"Australia\",\"Belgium\",\"Brazil\",\"Cambodia\",\"Canada\",\"Croatia\",\"Cyprus\",\"Czech Republic\",\"Denmark\",\"Estonia\",\"Faroe Islands\",\"Finland\",\"France\",\"Germany\",\"Greece\",\"Hong Kong\",\"Hungary\",\"Ireland\",\"Israel\",\"Italy\",\"Japan\",\"Kazakhstan\",\"Latvia\",\"Lithuania\",\"Luxembourg\",\"Malaysia\",\"Mexico\",\"Moldova\",\"Mozambique\",\"Netherlands\",\"New Zealand\",\"Norway\",\"Panama\",\"Poland\",\"Portugal\",\"Romania\",\"Russia\",\"Serbia\",\"Singapore\",\"Slovak Republic\",\"Slovenia\",\"Spain\",\"Sweden\",\"Switzerland\",\"Thailand\",\"Turkey\",\"United Kingdom\",\"United States\"],\"locations\":[\"AUS\",\"BEL\",\"BRA\",\"KHM\",\"CAN\",\"HRV\",\"CYP\",\"CZE\",\"DNK\",\"EST\",\"FRO\",\"FIN\",\"FRA\",\"DEU\",\"GRC\",\"HKG\",\"HUN\",\"IRL\",\"ISR\",\"ITA\",\"JPN\",\"KAZ\",\"LVA\",\"LTU\",\"LUX\",\"MYS\",\"MEX\",\"MDA\",\"MOZ\",\"NLD\",\"NZL\",\"NOR\",\"PAN\",\"POL\",\"PRT\",\"ROU\",\"RUS\",\"SRB\",\"SGP\",\"SVK\",\"SVN\",\"ESP\",\"SWE\",\"CHE\",\"THA\",\"TUR\",\"GBR\",\"USA\"],\"name\":\"\",\"z\":[1.28,2.15,0.9,0.48,1.91,1.08,0.85,0.9,2.26,1.34,0.3,2.16,2.01,1.85,0.48,0.48,0.3,1.15,1.15,1.08,1.04,0.3,0.48,0.3,0.48,0.6,0.3,0.3,0.3,2.19,0.48,1.98,0.3,1.41,0.9,0.3,0.3,0.3,0.3,0.9,1.04,1.46,1.64,1.26,0.9,0.3,2.22,2.68],\"type\":\"choropleth\"}],\"name\":\"2013\"},{\"data\":[{\"coloraxis\":\"coloraxis\",\"customdata\":[[\"ARG\",\"2014\",2.0,0.3],[\"AUS\",\"2014\",8.0,0.9],[\"AUT\",\"2014\",2.0,0.3],[\"BEL\",\"2014\",149.0,2.17],[\"BMU\",\"2014\",2.0,0.3],[\"BRA\",\"2014\",9.0,0.95],[\"CAN\",\"2014\",50.0,1.7],[\"HRV\",\"2014\",10.0,1.0],[\"CYP\",\"2014\",10.0,1.0],[\"CZE\",\"2014\",8.0,0.9],[\"DNK\",\"2014\",112.0,2.05],[\"DOM\",\"2014\",4.0,0.6],[\"EST\",\"2014\",23.0,1.36],[\"FIN\",\"2014\",33.0,1.52],[\"FRA\",\"2014\",312.0,2.49],[\"DEU\",\"2014\",130.0,2.11],[\"GRC\",\"2014\",4.0,0.6],[\"HKG\",\"2014\",4.0,0.6],[\"HUN\",\"2014\",4.0,0.6],[\"ISL\",\"2014\",3.0,0.48],[\"IRL\",\"2014\",10.0,1.0],[\"ISR\",\"2014\",25.0,1.4],[\"ITA\",\"2014\",23.0,1.36],[\"JPN\",\"2014\",3.0,0.48],[\"LVA\",\"2014\",2.0,0.3],[\"LUX\",\"2014\",2.0,0.3],[\"MYS\",\"2014\",3.0,0.48],[\"MEX\",\"2014\",2.0,0.3],[\"MDA\",\"2014\",2.0,0.3],[\"NLD\",\"2014\",173.0,2.24],[\"NZL\",\"2014\",3.0,0.48],[\"PRK\",\"2014\",2.0,0.3],[\"NOR\",\"2014\",51.0,1.71],[\"PRY\",\"2014\",2.0,0.3],[\"PHL\",\"2014\",2.0,0.3],[\"POL\",\"2014\",24.0,1.38],[\"PRT\",\"2014\",14.0,1.15],[\"ROU\",\"2014\",3.0,0.48],[\"RUS\",\"2014\",4.0,0.6],[\"SRB\",\"2014\",2.0,0.3],[\"SVK\",\"2014\",6.0,0.78],[\"SVN\",\"2014\",10.0,1.0],[\"ZAF\",\"2014\",2.0,0.3],[\"KOR\",\"2014\",2.0,0.3],[\"ESP\",\"2014\",33.0,1.52],[\"SJM\",\"2014\",2.0,0.3],[\"SWE\",\"2014\",58.0,1.76],[\"CHE\",\"2014\",26.0,1.41],[\"THA\",\"2014\",6.0,0.78],[\"TUR\",\"2014\",2.0,0.3],[\"UKR\",\"2014\",3.0,0.48],[\"ARE\",\"2014\",2.0,0.3],[\"GBR\",\"2014\",136.0,2.13],[\"USA\",\"2014\",436.0,2.64]],\"geo\":\"geo\",\"hovertemplate\":\"<b>%{hovertext}</b><br><br>distribued beer=%{customdata[2]:.0f}<br>happiness gauge=%{z:.2f}<extra></extra>\",\"hovertext\":[\"Argentina\",\"Australia\",\"Austria\",\"Belgium\",\"Bermuda\",\"Brazil\",\"Canada\",\"Croatia\",\"Cyprus\",\"Czech Republic\",\"Denmark\",\"Dominican Republic\",\"Estonia\",\"Finland\",\"France\",\"Germany\",\"Greece\",\"Hong Kong\",\"Hungary\",\"Iceland\",\"Ireland\",\"Israel\",\"Italy\",\"Japan\",\"Latvia\",\"Luxembourg\",\"Malaysia\",\"Mexico\",\"Moldova\",\"Netherlands\",\"New Zealand\",\"North Korea\",\"Norway\",\"Paraguay\",\"Philippines\",\"Poland\",\"Portugal\",\"Romania\",\"Russia\",\"Serbia\",\"Slovak Republic\",\"Slovenia\",\"South Africa\",\"South Korea\",\"Spain\",\"Svalbard and Jan Mayen Islands\",\"Sweden\",\"Switzerland\",\"Thailand\",\"Turkey\",\"Ukraine\",\"United Arab Emirates\",\"United Kingdom\",\"United States\"],\"locations\":[\"ARG\",\"AUS\",\"AUT\",\"BEL\",\"BMU\",\"BRA\",\"CAN\",\"HRV\",\"CYP\",\"CZE\",\"DNK\",\"DOM\",\"EST\",\"FIN\",\"FRA\",\"DEU\",\"GRC\",\"HKG\",\"HUN\",\"ISL\",\"IRL\",\"ISR\",\"ITA\",\"JPN\",\"LVA\",\"LUX\",\"MYS\",\"MEX\",\"MDA\",\"NLD\",\"NZL\",\"PRK\",\"NOR\",\"PRY\",\"PHL\",\"POL\",\"PRT\",\"ROU\",\"RUS\",\"SRB\",\"SVK\",\"SVN\",\"ZAF\",\"KOR\",\"ESP\",\"SJM\",\"SWE\",\"CHE\",\"THA\",\"TUR\",\"UKR\",\"ARE\",\"GBR\",\"USA\"],\"name\":\"\",\"z\":[0.3,0.9,0.3,2.17,0.3,0.95,1.7,1.0,1.0,0.9,2.05,0.6,1.36,1.52,2.49,2.11,0.6,0.6,0.6,0.48,1.0,1.4,1.36,0.48,0.3,0.3,0.48,0.3,0.3,2.24,0.48,0.3,1.71,0.3,0.3,1.38,1.15,0.48,0.6,0.3,0.78,1.0,0.3,0.3,1.52,0.3,1.76,1.41,0.78,0.3,0.48,0.3,2.13,2.64],\"type\":\"choropleth\"}],\"name\":\"2014\"},{\"data\":[{\"coloraxis\":\"coloraxis\",\"customdata\":[[\"AUS\",\"2015\",13.0,1.11],[\"AUT\",\"2015\",5.0,0.7],[\"BLR\",\"2015\",4.0,0.6],[\"BEL\",\"2015\",100.0,2.0],[\"BRA\",\"2015\",10.0,1.0],[\"CAN\",\"2015\",73.0,1.86],[\"CHN\",\"2015\",3.0,0.48],[\"HRV\",\"2015\",12.0,1.08],[\"CZE\",\"2015\",10.0,1.0],[\"DNK\",\"2015\",185.0,2.27],[\"EST\",\"2015\",12.0,1.08],[\"FIN\",\"2015\",36.0,1.56],[\"FRA\",\"2015\",236.0,2.37],[\"DEU\",\"2015\",142.0,2.15],[\"GRC\",\"2015\",23.0,1.36],[\"HKG\",\"2015\",6.0,0.78],[\"HUN\",\"2015\",4.0,0.6],[\"ISL\",\"2015\",2.0,0.3],[\"IRL\",\"2015\",4.0,0.6],[\"ISR\",\"2015\",17.0,1.23],[\"ITA\",\"2015\",22.0,1.34],[\"JPN\",\"2015\",12.0,1.08],[\"LVA\",\"2015\",5.0,0.7],[\"LTU\",\"2015\",2.0,0.3],[\"LUX\",\"2015\",5.0,0.7],[\"MYS\",\"2015\",6.0,0.78],[\"MHL\",\"2015\",5.0,0.7],[\"MDA\",\"2015\",3.0,0.48],[\"NLD\",\"2015\",162.0,2.21],[\"NZL\",\"2015\",4.0,0.6],[\"NOR\",\"2015\",64.0,1.81],[\"POL\",\"2015\",36.0,1.56],[\"PRT\",\"2015\",10.0,1.0],[\"ROU\",\"2015\",6.0,0.78],[\"RUS\",\"2015\",9.0,0.95],[\"SRB\",\"2015\",3.0,0.48],[\"SXM\",\"2015\",2.0,0.3],[\"SVK\",\"2015\",15.0,1.18],[\"SVN\",\"2015\",10.0,1.0],[\"ZAF\",\"2015\",3.0,0.48],[\"ESP\",\"2015\",56.0,1.75],[\"SWE\",\"2015\",81.0,1.91],[\"CHE\",\"2015\",51.0,1.71],[\"TWN\",\"2015\",2.0,0.3],[\"THA\",\"2015\",5.0,0.7],[\"TUR\",\"2015\",2.0,0.3],[\"UKR\",\"2015\",6.0,0.78],[\"GBR\",\"2015\",100.0,2.0],[\"USA\",\"2015\",125.0,2.1]],\"geo\":\"geo\",\"hovertemplate\":\"<b>%{hovertext}</b><br><br>distribued beer=%{customdata[2]:.0f}<br>happiness gauge=%{z:.2f}<extra></extra>\",\"hovertext\":[\"Australia\",\"Austria\",\"Belarus\",\"Belgium\",\"Brazil\",\"Canada\",\"China\",\"Croatia\",\"Czech Republic\",\"Denmark\",\"Estonia\",\"Finland\",\"France\",\"Germany\",\"Greece\",\"Hong Kong\",\"Hungary\",\"Iceland\",\"Ireland\",\"Israel\",\"Italy\",\"Japan\",\"Latvia\",\"Lithuania\",\"Luxembourg\",\"Malaysia\",\"Marshall Islands\",\"Moldova\",\"Netherlands\",\"New Zealand\",\"Norway\",\"Poland\",\"Portugal\",\"Romania\",\"Russia\",\"Serbia\",\"Sint Maarten\",\"Slovak Republic\",\"Slovenia\",\"South Africa\",\"Spain\",\"Sweden\",\"Switzerland\",\"Taiwan\",\"Thailand\",\"Turkey\",\"Ukraine\",\"United Kingdom\",\"United States\"],\"locations\":[\"AUS\",\"AUT\",\"BLR\",\"BEL\",\"BRA\",\"CAN\",\"CHN\",\"HRV\",\"CZE\",\"DNK\",\"EST\",\"FIN\",\"FRA\",\"DEU\",\"GRC\",\"HKG\",\"HUN\",\"ISL\",\"IRL\",\"ISR\",\"ITA\",\"JPN\",\"LVA\",\"LTU\",\"LUX\",\"MYS\",\"MHL\",\"MDA\",\"NLD\",\"NZL\",\"NOR\",\"POL\",\"PRT\",\"ROU\",\"RUS\",\"SRB\",\"SXM\",\"SVK\",\"SVN\",\"ZAF\",\"ESP\",\"SWE\",\"CHE\",\"TWN\",\"THA\",\"TUR\",\"UKR\",\"GBR\",\"USA\"],\"name\":\"\",\"z\":[1.11,0.7,0.6,2.0,1.0,1.86,0.48,1.08,1.0,2.27,1.08,1.56,2.37,2.15,1.36,0.78,0.6,0.3,0.6,1.23,1.34,1.08,0.7,0.3,0.7,0.78,0.7,0.48,2.21,0.6,1.81,1.56,1.0,0.78,0.95,0.48,0.3,1.18,1.0,0.48,1.75,1.91,1.71,0.3,0.7,0.3,0.78,2.0,2.1],\"type\":\"choropleth\"}],\"name\":\"2015\"},{\"data\":[{\"coloraxis\":\"coloraxis\",\"customdata\":[[\"ARG\",\"2016\",2.0,0.3],[\"AUS\",\"2016\",6.0,0.78],[\"AUT\",\"2016\",4.0,0.6],[\"BLR\",\"2016\",4.0,0.6],[\"BEL\",\"2016\",134.0,2.13],[\"BRA\",\"2016\",4.0,0.6],[\"CAN\",\"2016\",38.0,1.58],[\"CHN\",\"2016\",3.0,0.48],[\"HRV\",\"2016\",8.0,0.9],[\"CZE\",\"2016\",5.0,0.7],[\"DNK\",\"2016\",149.0,2.17],[\"DOM\",\"2016\",3.0,0.48],[\"EST\",\"2016\",15.0,1.18],[\"FIN\",\"2016\",52.0,1.72],[\"FRA\",\"2016\",606.0,2.78],[\"DEU\",\"2016\",104.0,2.02],[\"GRC\",\"2016\",5.0,0.7],[\"HKG\",\"2016\",4.0,0.6],[\"HUN\",\"2016\",9.0,0.95],[\"ISL\",\"2016\",3.0,0.48],[\"IDN\",\"2016\",2.0,0.3],[\"IRL\",\"2016\",4.0,0.6],[\"ISR\",\"2016\",10.0,1.0],[\"ITA\",\"2016\",14.0,1.15],[\"JPN\",\"2016\",2.0,0.3],[\"LVA\",\"2016\",3.0,0.48],[\"LTU\",\"2016\",4.0,0.6],[\"MYS\",\"2016\",4.0,0.6],[\"MHL\",\"2016\",2.0,0.3],[\"MEX\",\"2016\",2.0,0.3],[\"NLD\",\"2016\",115.0,2.06],[\"NZL\",\"2016\",3.0,0.48],[\"PRK\",\"2016\",2.0,0.3],[\"NOR\",\"2016\",32.0,1.51],[\"POL\",\"2016\",12.0,1.08],[\"PRT\",\"2016\",18.0,1.26],[\"ROU\",\"2016\",4.0,0.6],[\"RUS\",\"2016\",4.0,0.6],[\"SRB\",\"2016\",3.0,0.48],[\"SGP\",\"2016\",2.0,0.3],[\"SVK\",\"2016\",9.0,0.95],[\"SVN\",\"2016\",3.0,0.48],[\"ZAF\",\"2016\",4.0,0.6],[\"KOR\",\"2016\",2.0,0.3],[\"ESP\",\"2016\",49.0,1.69],[\"SWE\",\"2016\",62.0,1.79],[\"CHE\",\"2016\",46.0,1.66],[\"TWN\",\"2016\",3.0,0.48],[\"THA\",\"2016\",11.0,1.04],[\"UKR\",\"2016\",3.0,0.48],[\"GBR\",\"2016\",98.0,1.99],[\"USA\",\"2016\",112.0,2.05]],\"geo\":\"geo\",\"hovertemplate\":\"<b>%{hovertext}</b><br><br>distribued beer=%{customdata[2]:.0f}<br>happiness gauge=%{z:.2f}<extra></extra>\",\"hovertext\":[\"Argentina\",\"Australia\",\"Austria\",\"Belarus\",\"Belgium\",\"Brazil\",\"Canada\",\"China\",\"Croatia\",\"Czech Republic\",\"Denmark\",\"Dominican Republic\",\"Estonia\",\"Finland\",\"France\",\"Germany\",\"Greece\",\"Hong Kong\",\"Hungary\",\"Iceland\",\"Indonesia\",\"Ireland\",\"Israel\",\"Italy\",\"Japan\",\"Latvia\",\"Lithuania\",\"Malaysia\",\"Marshall Islands\",\"Mexico\",\"Netherlands\",\"New Zealand\",\"North Korea\",\"Norway\",\"Poland\",\"Portugal\",\"Romania\",\"Russia\",\"Serbia\",\"Singapore\",\"Slovak Republic\",\"Slovenia\",\"South Africa\",\"South Korea\",\"Spain\",\"Sweden\",\"Switzerland\",\"Taiwan\",\"Thailand\",\"Ukraine\",\"United Kingdom\",\"United States\"],\"locations\":[\"ARG\",\"AUS\",\"AUT\",\"BLR\",\"BEL\",\"BRA\",\"CAN\",\"CHN\",\"HRV\",\"CZE\",\"DNK\",\"DOM\",\"EST\",\"FIN\",\"FRA\",\"DEU\",\"GRC\",\"HKG\",\"HUN\",\"ISL\",\"IDN\",\"IRL\",\"ISR\",\"ITA\",\"JPN\",\"LVA\",\"LTU\",\"MYS\",\"MHL\",\"MEX\",\"NLD\",\"NZL\",\"PRK\",\"NOR\",\"POL\",\"PRT\",\"ROU\",\"RUS\",\"SRB\",\"SGP\",\"SVK\",\"SVN\",\"ZAF\",\"KOR\",\"ESP\",\"SWE\",\"CHE\",\"TWN\",\"THA\",\"UKR\",\"GBR\",\"USA\"],\"name\":\"\",\"z\":[0.3,0.78,0.6,0.6,2.13,0.6,1.58,0.48,0.9,0.7,2.17,0.48,1.18,1.72,2.78,2.02,0.7,0.6,0.95,0.48,0.3,0.6,1.0,1.15,0.3,0.48,0.6,0.6,0.3,0.3,2.06,0.48,0.3,1.51,1.08,1.26,0.6,0.6,0.48,0.3,0.95,0.48,0.6,0.3,1.69,1.79,1.66,0.48,1.04,0.48,1.99,2.05],\"type\":\"choropleth\"}],\"name\":\"2016\"}]}'"
      ]
     },
     "execution_count": 13,
     "metadata": {},
     "output_type": "execute_result"
    }
   ],
   "source": [
    "f1.to_json()"
   ]
  }
 ],
 "metadata": {
  "kernelspec": {
   "display_name": "Python 3",
   "language": "python",
   "name": "python3"
  },
  "language_info": {
   "codemirror_mode": {
    "name": "ipython",
    "version": 3
   },
   "file_extension": ".py",
   "mimetype": "text/x-python",
   "name": "python",
   "nbconvert_exporter": "python",
   "pygments_lexer": "ipython3",
   "version": "3.8.3rc1"
  }
 },
 "nbformat": 4,
 "nbformat_minor": 5
}
